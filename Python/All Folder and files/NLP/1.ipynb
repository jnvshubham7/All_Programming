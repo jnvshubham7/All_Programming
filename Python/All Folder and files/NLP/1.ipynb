{
 "cells": [
  {
   "cell_type": "code",
   "execution_count": 1,
   "metadata": {},
   "outputs": [
    {
     "ename": "SyntaxError",
     "evalue": "invalid syntax (624970606.py, line 29)",
     "output_type": "error",
     "traceback": [
      "\u001b[1;36m  Input \u001b[1;32mIn [1]\u001b[1;36m\u001b[0m\n\u001b[1;33m    positive_review = imdb.get_word_index()[word]+3 for word in positive_review.lower().split() if word in imdb.get_word_index()]\u001b[0m\n\u001b[1;37m                                                    ^\u001b[0m\n\u001b[1;31mSyntaxError\u001b[0m\u001b[1;31m:\u001b[0m invalid syntax\n"
     ]
    }
   ],
   "source": [
    "import numpy as np\n",
    "from tensorflow.keras.datasets import imdb\n",
    "from tensorflow.keras.models import Sequential\n",
    "from tensorflow.keras.layers import LSTM, Dense, Embedding\n",
    "from tensorflow.keras.preprocessing import sequence\n",
    "\n",
    "max_features = 5000\n",
    "(x_train, y_train), (x_test, y_test) = imdb.load_data(num_words=max_features)\n",
    "\n",
    "max_len = 500\n",
    "x_train = sequence.pad_sequences(x_train, maxlen=max_len)\n",
    "x_test = sequence.pad_sequences(x_test, maxlen=max_len)\n",
    "\n",
    "model = Sequential()\n",
    "model.add(Embedding(max_features, 128, input_length=max_len))\n",
    "model.add(LSTM(128, dropout=0.2, recurrent_dropout=0.2))\n",
    "model.add(Dense(1, activation='sigmoid'))\n",
    "\n",
    "model.compile(loss='binary_crossentropy', optimizer='adam', metrics=['accuracy'])\n",
    "\n",
    "model.fit(x_train, y_train, validation_data=(x_test, y_test), epochs=3, batch_size=64)\n",
    "\n",
    "scores = model.evaluate(x_test, y_test, verbose=0)\n",
    "print(\"Accuracy: %.2f%%\" % (scores[1]*100))\n",
    "\n",
    "positive_review = \"I loved this movie! The acting was amazing and the plot kept me engaged the whole time.\"\n",
    "negative_review = \"This movie was terrible. The acting was wooden and the plot was boring.\"\n",
    "\n",
    "positive_review = imdb.get_word_index()[word]+3 for word in positive_review.lower().split() if word in imdb.get_word_index()]\n",
    "negative_review = [imdb.get_word_index()[word]+3 for word in negative_review.lower().split() if word in imdb.get_word_index()]\n",
    "\n",
    "positive_review = sequence.pad_sequences([positive_review], maxlen=max_len)\n",
    "negative_review = sequence.pad_sequences([negative_review], maxlen=max_len)\n",
    "\n",
    "print(\"Positive review sentiment score: %.2f\" % model.predict(positive_review)[0][0])\n",
    "print(\"Negative review sentiment score: %.2f\" % model.predict(negative_review)[0][0])\n"
   ]
  }
 ],
 "metadata": {
  "kernelspec": {
   "display_name": "Python 3",
   "language": "python",
   "name": "python3"
  },
  "language_info": {
   "codemirror_mode": {
    "name": "ipython",
    "version": 3
   },
   "file_extension": ".py",
   "mimetype": "text/x-python",
   "name": "python",
   "nbconvert_exporter": "python",
   "pygments_lexer": "ipython3",
   "version": "3.9.1"
  },
  "orig_nbformat": 4
 },
 "nbformat": 4,
 "nbformat_minor": 2
}
