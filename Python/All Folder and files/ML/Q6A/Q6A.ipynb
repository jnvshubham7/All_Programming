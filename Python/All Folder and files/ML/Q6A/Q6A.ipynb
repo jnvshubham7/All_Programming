{
 "cells": [
  {
   "cell_type": "markdown",
   "id": "790883f7",
   "metadata": {
    "id": "790883f7"
   },
   "source": [
    "### Design a housing price predictor taking only floor area (plot size), number of bedrooms, and number of bathrooms into considerations. Out of total 546 data , you may take 70% for designing the predictor and 30% for validating the design. The predictor design should be done using the following methods\n",
    "\n",
    "### a) Normal equations  with  and without regularization and compare their performances in terms of % error in prediction."
   ]
  },
  {
   "cell_type": "code",
   "execution_count": 7,
   "id": "ff1bad82",
   "metadata": {
    "colab": {
     "base_uri": "https://localhost:8080/",
     "height": 414
    },
    "id": "ff1bad82",
    "outputId": "6838b030-b558-48c2-dc13-2f87899afdaf"
   },
   "outputs": [
    {
     "data": {
      "text/html": [
       "<div>\n",
       "<style scoped>\n",
       "    .dataframe tbody tr th:only-of-type {\n",
       "        vertical-align: middle;\n",
       "    }\n",
       "\n",
       "    .dataframe tbody tr th {\n",
       "        vertical-align: top;\n",
       "    }\n",
       "\n",
       "    .dataframe thead th {\n",
       "        text-align: right;\n",
       "    }\n",
       "</style>\n",
       "<table border=\"1\" class=\"dataframe\">\n",
       "  <thead>\n",
       "    <tr style=\"text-align: right;\">\n",
       "      <th></th>\n",
       "      <th>price</th>\n",
       "      <th>lotsize</th>\n",
       "      <th>bedrooms</th>\n",
       "      <th>bathrms</th>\n",
       "      <th>stories</th>\n",
       "      <th>driveway</th>\n",
       "      <th>recroom</th>\n",
       "      <th>fullbase</th>\n",
       "      <th>gashw</th>\n",
       "      <th>airco</th>\n",
       "      <th>garagepl</th>\n",
       "      <th>prefarea</th>\n",
       "    </tr>\n",
       "  </thead>\n",
       "  <tbody>\n",
       "    <tr>\n",
       "      <th>0</th>\n",
       "      <td>42000.0</td>\n",
       "      <td>5850</td>\n",
       "      <td>3</td>\n",
       "      <td>1</td>\n",
       "      <td>2</td>\n",
       "      <td>yes</td>\n",
       "      <td>no</td>\n",
       "      <td>yes</td>\n",
       "      <td>no</td>\n",
       "      <td>no</td>\n",
       "      <td>1</td>\n",
       "      <td>no</td>\n",
       "    </tr>\n",
       "    <tr>\n",
       "      <th>1</th>\n",
       "      <td>38500.0</td>\n",
       "      <td>4000</td>\n",
       "      <td>2</td>\n",
       "      <td>1</td>\n",
       "      <td>1</td>\n",
       "      <td>yes</td>\n",
       "      <td>no</td>\n",
       "      <td>no</td>\n",
       "      <td>no</td>\n",
       "      <td>no</td>\n",
       "      <td>0</td>\n",
       "      <td>no</td>\n",
       "    </tr>\n",
       "    <tr>\n",
       "      <th>2</th>\n",
       "      <td>49500.0</td>\n",
       "      <td>3060</td>\n",
       "      <td>3</td>\n",
       "      <td>1</td>\n",
       "      <td>1</td>\n",
       "      <td>yes</td>\n",
       "      <td>no</td>\n",
       "      <td>no</td>\n",
       "      <td>no</td>\n",
       "      <td>no</td>\n",
       "      <td>0</td>\n",
       "      <td>no</td>\n",
       "    </tr>\n",
       "    <tr>\n",
       "      <th>3</th>\n",
       "      <td>60500.0</td>\n",
       "      <td>6650</td>\n",
       "      <td>3</td>\n",
       "      <td>1</td>\n",
       "      <td>2</td>\n",
       "      <td>yes</td>\n",
       "      <td>yes</td>\n",
       "      <td>no</td>\n",
       "      <td>no</td>\n",
       "      <td>no</td>\n",
       "      <td>0</td>\n",
       "      <td>no</td>\n",
       "    </tr>\n",
       "    <tr>\n",
       "      <th>4</th>\n",
       "      <td>61000.0</td>\n",
       "      <td>6360</td>\n",
       "      <td>2</td>\n",
       "      <td>1</td>\n",
       "      <td>1</td>\n",
       "      <td>yes</td>\n",
       "      <td>no</td>\n",
       "      <td>no</td>\n",
       "      <td>no</td>\n",
       "      <td>no</td>\n",
       "      <td>0</td>\n",
       "      <td>no</td>\n",
       "    </tr>\n",
       "    <tr>\n",
       "      <th>...</th>\n",
       "      <td>...</td>\n",
       "      <td>...</td>\n",
       "      <td>...</td>\n",
       "      <td>...</td>\n",
       "      <td>...</td>\n",
       "      <td>...</td>\n",
       "      <td>...</td>\n",
       "      <td>...</td>\n",
       "      <td>...</td>\n",
       "      <td>...</td>\n",
       "      <td>...</td>\n",
       "      <td>...</td>\n",
       "    </tr>\n",
       "    <tr>\n",
       "      <th>541</th>\n",
       "      <td>91500.0</td>\n",
       "      <td>4800</td>\n",
       "      <td>3</td>\n",
       "      <td>2</td>\n",
       "      <td>4</td>\n",
       "      <td>yes</td>\n",
       "      <td>yes</td>\n",
       "      <td>no</td>\n",
       "      <td>no</td>\n",
       "      <td>yes</td>\n",
       "      <td>0</td>\n",
       "      <td>no</td>\n",
       "    </tr>\n",
       "    <tr>\n",
       "      <th>542</th>\n",
       "      <td>94000.0</td>\n",
       "      <td>6000</td>\n",
       "      <td>3</td>\n",
       "      <td>2</td>\n",
       "      <td>4</td>\n",
       "      <td>yes</td>\n",
       "      <td>no</td>\n",
       "      <td>no</td>\n",
       "      <td>no</td>\n",
       "      <td>yes</td>\n",
       "      <td>0</td>\n",
       "      <td>no</td>\n",
       "    </tr>\n",
       "    <tr>\n",
       "      <th>543</th>\n",
       "      <td>103000.0</td>\n",
       "      <td>6000</td>\n",
       "      <td>3</td>\n",
       "      <td>2</td>\n",
       "      <td>4</td>\n",
       "      <td>yes</td>\n",
       "      <td>yes</td>\n",
       "      <td>no</td>\n",
       "      <td>no</td>\n",
       "      <td>yes</td>\n",
       "      <td>1</td>\n",
       "      <td>no</td>\n",
       "    </tr>\n",
       "    <tr>\n",
       "      <th>544</th>\n",
       "      <td>105000.0</td>\n",
       "      <td>6000</td>\n",
       "      <td>3</td>\n",
       "      <td>2</td>\n",
       "      <td>2</td>\n",
       "      <td>yes</td>\n",
       "      <td>yes</td>\n",
       "      <td>no</td>\n",
       "      <td>no</td>\n",
       "      <td>yes</td>\n",
       "      <td>1</td>\n",
       "      <td>no</td>\n",
       "    </tr>\n",
       "    <tr>\n",
       "      <th>545</th>\n",
       "      <td>105000.0</td>\n",
       "      <td>6000</td>\n",
       "      <td>3</td>\n",
       "      <td>1</td>\n",
       "      <td>2</td>\n",
       "      <td>yes</td>\n",
       "      <td>no</td>\n",
       "      <td>no</td>\n",
       "      <td>no</td>\n",
       "      <td>yes</td>\n",
       "      <td>1</td>\n",
       "      <td>no</td>\n",
       "    </tr>\n",
       "  </tbody>\n",
       "</table>\n",
       "<p>546 rows × 12 columns</p>\n",
       "</div>"
      ],
      "text/plain": [
       "        price  lotsize  bedrooms  bathrms  stories driveway recroom fullbase  \\\n",
       "0     42000.0     5850         3        1        2      yes      no      yes   \n",
       "1     38500.0     4000         2        1        1      yes      no       no   \n",
       "2     49500.0     3060         3        1        1      yes      no       no   \n",
       "3     60500.0     6650         3        1        2      yes     yes       no   \n",
       "4     61000.0     6360         2        1        1      yes      no       no   \n",
       "..        ...      ...       ...      ...      ...      ...     ...      ...   \n",
       "541   91500.0     4800         3        2        4      yes     yes       no   \n",
       "542   94000.0     6000         3        2        4      yes      no       no   \n",
       "543  103000.0     6000         3        2        4      yes     yes       no   \n",
       "544  105000.0     6000         3        2        2      yes     yes       no   \n",
       "545  105000.0     6000         3        1        2      yes      no       no   \n",
       "\n",
       "    gashw airco  garagepl prefarea  \n",
       "0      no    no         1       no  \n",
       "1      no    no         0       no  \n",
       "2      no    no         0       no  \n",
       "3      no    no         0       no  \n",
       "4      no    no         0       no  \n",
       "..    ...   ...       ...      ...  \n",
       "541    no   yes         0       no  \n",
       "542    no   yes         0       no  \n",
       "543    no   yes         1       no  \n",
       "544    no   yes         1       no  \n",
       "545    no   yes         1       no  \n",
       "\n",
       "[546 rows x 12 columns]"
      ]
     },
     "execution_count": 7,
     "metadata": {},
     "output_type": "execute_result"
    }
   ],
   "source": [
    "# Whole Assignment will be done using numpy only \n",
    "import numpy as np\n",
    "\n",
    "# pandas is only used to read the csv file since there is no function that allows us to read string data in numpy\n",
    "import pandas as pd\n",
    "\n",
    "#Reading data using pandas\n",
    "data = pd.read_csv('Housing Price data set.csv')\n",
    "data"
   ]
  },
  {
   "cell_type": "markdown",
   "id": "5eaeadb5",
   "metadata": {
    "id": "5eaeadb5"
   },
   "source": [
    "#### Now we will convert the pandas columns into numpy array because we are not allowed to use any other library.\n",
    "#### Note: We will take only those columns into consideration on which we are asked to do prediction."
   ]
  },
  {
   "cell_type": "code",
   "execution_count": 8,
   "id": "144a4377",
   "metadata": {
    "id": "144a4377"
   },
   "outputs": [],
   "source": [
    "''' To convert them into numpy array, \n",
    "first we will take series object using data[column name] \n",
    "and then convert it into list using list() function \n",
    "and then finally we will create the numpy array.'''\n",
    "\n",
    "# Feature Columns\n",
    "PlotSize = np.array(list(data[\"lotsize\"]))\n",
    "Bedrooms = np.array(list(data[\"bedrooms\"]))\n",
    "Bathrooms = np.array(list(data[\"bathrms\"]))\n",
    "\n",
    "#Target Column\n",
    "Price = np.array(list(data[\"price\"]))"
   ]
  },
  {
   "cell_type": "markdown",
   "id": "db91a5fc",
   "metadata": {
    "id": "db91a5fc"
   },
   "source": [
    "# PART 1"
   ]
  },
  {
   "cell_type": "markdown",
   "id": "32ce282d",
   "metadata": {
    "id": "32ce282d"
   },
   "source": [
    "Now we have to create the predictor using normal equation without regularisation.\n",
    "For that we will create a function that will take feature as well as target columns as input and returns the predictor using normal equations.\n",
    "While calling this function we will take care that the data we pass is training data and later we also have to test our data for which we will write a separate function"
   ]
  },
  {
   "cell_type": "code",
   "execution_count": 9,
   "id": "2e41ff77",
   "metadata": {
    "id": "2e41ff77"
   },
   "outputs": [],
   "source": [
    "'''X will be the numpy array of feature columns and Y will be target column'''\n",
    "def LRNormalEquation(X, Y):\n",
    "    '''\n",
    "        So X will be like:\n",
    "        [X1, X2, X3], m=1,\n",
    "        [X1, X2, X3], m=2,\n",
    "        [X1, X2, X3], m=3,\n",
    "        .................\n",
    "    We need X of form:\n",
    "        [1, X1, X2, X3], m=1,\n",
    "        [1, X1, X2, X3], m=2,\n",
    "        [1, X1, X2, X3], m=3,\n",
    "        .................\n",
    "    For that we will simply iterate over X and add 1 over each row\n",
    "    '''\n",
    "    \n",
    "    #Appending 1 at position 0 for every row\n",
    "    X1=[]\n",
    "    for i in range(len(X)):\n",
    "        X1.append(list(np.insert(X[i],0,1)))\n",
    "    X=np.array(X1)\n",
    "    \n",
    "    #Now we have formula for result of model i.e. W = (X^t.X)^-1.X^t.Y, where ^t is transpose and ^-1 is inverse\n",
    "    #Result 1 will store first half part and similarly Result 2 will store the later half\n",
    "    result1=np.dot(X.transpose(),X)\n",
    "    result1=np.linalg.inv(result1)\n",
    "    result2=np.dot(X.transpose(),Y)\n",
    "    result=np.dot(result1,result2)\n",
    "    return result\n",
    "\n",
    "'''To call the function first we have to merge the numpy arrays into 1\n",
    "So this function merges cells so that data for each index becomes as row for that part only'''\n",
    "def mergeCells(cell):\n",
    "    n=len(cell[0])\n",
    "    m=len(cell)\n",
    "    result=np.ones((n,m),dtype=int)\n",
    "    for i in range(n):\n",
    "        for j in range(m):\n",
    "            result[i][j]=cell[j][i]\n",
    "    return result"
   ]
  },
  {
   "cell_type": "markdown",
   "id": "879e6b1d",
   "metadata": {
    "id": "879e6b1d"
   },
   "source": [
    "Now we have to divide our data into testing and trainging where test size will be 30%.\n",
    "For that we will take first 70% for training and rest for testing"
   ]
  },
  {
   "cell_type": "code",
   "execution_count": 10,
   "id": "477b5938",
   "metadata": {
    "colab": {
     "base_uri": "https://localhost:8080/"
    },
    "id": "477b5938",
    "outputId": "63fb3605-2eb6-46f5-c670-1aa11a6fc3dc"
   },
   "outputs": [
    {
     "name": "stdout",
     "output_type": "stream",
     "text": [
      "Model using normal equation without regularization is given below\n",
      "16074 + -1 * PlotSize + 7323 * Bedrooms + 25104 * Bathrooms\n"
     ]
    }
   ],
   "source": [
    "train_size=int(0.7*len(PlotSize))\n",
    "train_X=mergeCells([PlotSize[:train_size], Bedrooms[:train_size], Bathrooms[:train_size]])\n",
    "test_X=mergeCells([PlotSize[train_size:], Bedrooms[train_size:], Bathrooms[train_size:]])\n",
    "train_Y=Price[:train_size]\n",
    "test_Y=Price[train_size:]\n",
    "W=LRNormalEquation(train_X,train_Y)\n",
    "print(\"Model using normal equation without regularization is given below\")\n",
    "print(round(W[0]),\"+\",round(W[1]),\"* PlotSize +\",round(W[2]),\"* Bedrooms +\",round(W[3]),\"* Bathrooms\")"
   ]
  },
  {
   "cell_type": "markdown",
   "id": "c6b2de97",
   "metadata": {
    "id": "c6b2de97"
   },
   "source": [
    "Now we have to predict for testing data. The below predict function will take testing data and W and return the % error."
   ]
  },
  {
   "cell_type": "code",
   "execution_count": 11,
   "id": "b31ec0f8",
   "metadata": {
    "colab": {
     "base_uri": "https://localhost:8080/"
    },
    "id": "b31ec0f8",
    "outputId": "d72b07f8-0b2c-4cce-f9aa-d9961523951b"
   },
   "outputs": [
    {
     "name": "stdout",
     "output_type": "stream",
     "text": [
      "% error in the model on testing data using normal equation without regularzation is 22.42%"
     ]
    }
   ],
   "source": [
    "def predict(X,Y,W):\n",
    "    error=0\n",
    "    for i in range(len(Y)):\n",
    "        predicted=abs(W[0] + W[1]*X[i][0] + W[2]*X[i][1] + W[3]*X[i][2])\n",
    "        actual=abs(Y[i])\n",
    "        error+=abs(actual-predicted)/actual\n",
    "    error=error/len(Y)\n",
    "    error=error*100\n",
    "    return error\n",
    "print(\"% error in the model on testing data using normal equation without regularzation is\",end=\" \")\n",
    "print(round(predict(test_X,test_Y,W),2),end=\"%\")"
   ]
  },
  {
   "cell_type": "markdown",
   "id": "2601821c",
   "metadata": {
    "id": "2601821c"
   },
   "source": [
    "# PART 2"
   ]
  },
  {
   "cell_type": "markdown",
   "id": "8610d172",
   "metadata": {
    "id": "8610d172"
   },
   "source": [
    "Now we have to create the predictor using normal equation with regularisation.\n",
    "For that we will create a function that will take feature as well as target columns as input and returns the predictor using normal equations with regularization.\n",
    "While calling this function we will take care that the data we pass is training data and later we also have to test our data for which we will write a separate function"
   ]
  },
  {
   "cell_type": "code",
   "execution_count": 12,
   "id": "63605b29",
   "metadata": {
    "id": "63605b29"
   },
   "outputs": [],
   "source": [
    "'''X will be the numpy array of feature columns, Y will be target column, and R will be the reguriser value'''\n",
    "def LRNormalEquationRegularization(X, Y, R):\n",
    "    '''\n",
    "        So X will be like:\n",
    "        [X1, X2, X3], m=1,\n",
    "        [X1, X2, X3], m=2,\n",
    "        [X1, X2, X3], m=3,\n",
    "        .................\n",
    "    We need X of form:\n",
    "        [1, X1, X2, X3], m=1,\n",
    "        [1, X1, X2, X3], m=2,\n",
    "        [1, X1, X2, X3], m=3,\n",
    "        .................\n",
    "    For that we will simply iterate over X and add 1 over each row\n",
    "    '''\n",
    "    \n",
    "    '''\n",
    "    Further we need REG defined as below (R is the regulizer value)\n",
    "        [0 0 0 0], m=1.\n",
    "        [0 R 0 0], m=2,\n",
    "        [0 0 R 0], m=3,\n",
    "        ..............\n",
    "    '''\n",
    "    \n",
    "    #Appending 1 at position 0 for every row\n",
    "    X1=[]\n",
    "    for i in range(len(X)):\n",
    "        X1.append(list(np.insert(X[i],0,1)))\n",
    "    X=np.array(X1)\n",
    "    \n",
    "    REG=np.zeros((len(X[0]), len(X[0])),dtype=int)\n",
    "    for i in range(1, len(REG)):\n",
    "        for j in range(1, len(REG)):\n",
    "            if i==j:\n",
    "                REG[i][j]=R\n",
    "                break\n",
    "    \n",
    "    #Now we have formula for result of model i.e. W = (X^t.X + REG)^-1.X^t.Y, where ^t is transpose and ^-1 is inverse    \n",
    "    #Result 1 will store first half part and similarly Result 2 will store the later half\n",
    "    result1=np.dot(X.transpose(),X)\n",
    "    result1=np.add(result1,REG)\n",
    "    result1=np.linalg.inv(result1)\n",
    "    result2=np.dot(X.transpose(),Y)\n",
    "    result=np.dot(result1,result2)\n",
    "    return result"
   ]
  },
  {
   "cell_type": "markdown",
   "id": "e21e0c21",
   "metadata": {
    "id": "e21e0c21"
   },
   "source": [
    "As done for the first part, now we have to divide our data into testing and trainging where test size will be 30%.\n",
    "For that we will take first 70% for training and rest for testing"
   ]
  },
  {
   "cell_type": "code",
   "execution_count": 13,
   "id": "c5764718",
   "metadata": {
    "colab": {
     "base_uri": "https://localhost:8080/"
    },
    "id": "c5764718",
    "outputId": "f1548198-d67c-4668-dbd3-5074a192fd99"
   },
   "outputs": [
    {
     "name": "stdout",
     "output_type": "stream",
     "text": [
      "Model using normal equation with regularization is given below\n",
      "60947 + -2 * PlotSize + 2483 * Bedrooms + 2624 * Bathrooms\n"
     ]
    }
   ],
   "source": [
    "train_size=int(0.7*len(PlotSize))\n",
    "train_X=mergeCells([PlotSize[:train_size], Bedrooms[:train_size], Bathrooms[:train_size]])\n",
    "test_X=mergeCells([PlotSize[train_size:], Bedrooms[train_size:], Bathrooms[train_size:]])\n",
    "train_Y=Price[:train_size]\n",
    "test_Y=Price[train_size:]\n",
    "W=LRNormalEquationRegularization(train_X,train_Y,1000)\n",
    "print(\"Model using normal equation with regularization is given below\")\n",
    "print(round(W[0]),\"+\",round(W[1]),\"* PlotSize +\",round(W[2]),\"* Bedrooms +\",round(W[3]),\"* Bathrooms\")"
   ]
  },
  {
   "cell_type": "markdown",
   "id": "a758e13d",
   "metadata": {
    "id": "a758e13d"
   },
   "source": [
    "Now we have to predict for testing data."
   ]
  },
  {
   "cell_type": "code",
   "execution_count": 14,
   "id": "fb24950c",
   "metadata": {
    "colab": {
     "base_uri": "https://localhost:8080/"
    },
    "id": "fb24950c",
    "outputId": "d1441648-24c5-4781-dc1e-86d6c0a89f24"
   },
   "outputs": [
    {
     "name": "stdout",
     "output_type": "stream",
     "text": [
      "% error in the model on testing data using normal equation with regularization (when R is 1000) is 25.27%"
     ]
    }
   ],
   "source": [
    "print(\"% error in the model on testing data using normal equation with regularization (when R is 1000) is\",end=\" \")\n",
    "print(round(predict(test_X,test_Y,W),2),end=\"%\")"
   ]
  },
  {
   "cell_type": "markdown",
   "id": "31801a1f",
   "metadata": {
    "id": "31801a1f"
   },
   "source": [
    "# CONCLUSION"
   ]
  },
  {
   "cell_type": "code",
   "execution_count": 15,
   "id": "33f0136c",
   "metadata": {
    "colab": {
     "base_uri": "https://localhost:8080/"
    },
    "id": "33f0136c",
    "outputId": "7ec1801e-fd2a-4040-e416-35ff7b5404b2"
   },
   "outputs": [
    {
     "name": "stdout",
     "output_type": "stream",
     "text": [
      "Error in case without regularization is 22.42 %\n",
      "Least error in case of regularizaion is 22.33 %, when R value is 17\n",
      "Normal Equation Model with regularization has less % error as compared to the normal equation model without regularization\n"
     ]
    }
   ],
   "source": [
    "#error in prediction without regularisation is 22.42%\n",
    "error_without_reg=22.42\n",
    "\n",
    "#let us assume this is more good model than that with regularization\n",
    "currentBest=1\n",
    "\n",
    "#We will iterate for -1000 to 1000 as Reg value and cal error\n",
    "#If error in any of them is less then currentBest will be changed\n",
    "\n",
    "error_with_reg=101\n",
    "index=-1000\n",
    "for R in range(-1000,1001):\n",
    "    current_error=predict(test_X,test_Y,LRNormalEquationRegularization(train_X,train_Y,R))\n",
    "    if current_error<error_without_reg:\n",
    "        currentBest=2\n",
    "        if current_error<error_with_reg:\n",
    "            index=R\n",
    "        error_with_reg=min(error_with_reg,current_error)\n",
    "print(\"Error in case without regularization is\",error_without_reg,end=\" %\\n\")\n",
    "print(\"Least error in case of regularizaion is\",round(error_with_reg,2),\"%, when R value is\",index)\n",
    "if currentBest==1:\n",
    "    print(\"Normal Equation Model without regularization has less % error as compared to the normal equation model with regularization\")\n",
    "else:\n",
    "    print(\"Normal Equation Model with regularization has less % error as compared to the normal equation model without regularization\")"
   ]
  }
 ],
 "metadata": {
  "colab": {
   "collapsed_sections": [],
   "name": "IIT2019210_Q6A.ipynb",
   "provenance": []
  },
  "kernelspec": {
   "display_name": "Python 3.9.1 64-bit",
   "language": "python",
   "name": "python3"
  },
  "language_info": {
   "codemirror_mode": {
    "name": "ipython",
    "version": 3
   },
   "file_extension": ".py",
   "mimetype": "text/x-python",
   "name": "python",
   "nbconvert_exporter": "python",
   "pygments_lexer": "ipython3",
   "version": "3.9.1"
  },
  "vscode": {
   "interpreter": {
    "hash": "81794d4967e6c3204c66dcd87b604927b115b27c00565d3d43f05ba2f3a2cb0d"
   }
  }
 },
 "nbformat": 4,
 "nbformat_minor": 5
}
