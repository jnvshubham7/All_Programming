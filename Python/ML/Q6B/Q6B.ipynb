{
 "cells": [
  {
   "cell_type": "markdown",
   "id": "790883f7",
   "metadata": {},
   "source": [
    "### Design a housing price predictor taking only floor area (plot size), number of bedrooms, and number of bathrooms into considerations. Out of total 546 data , you may take 70% for designing the predictor and 30% for validating the design. The predictor design should be done using the following methods\n",
    "\n",
    "### b) Design Predictor using Batch Gradient Descent Algorithm, Stochastic Gradient Algorithm and mini batch Gradient Descent algorithms (determining minibatch size is your choice- here it could be 10, 20, 30 etc.) with and without feature scaling and compare their performances in terms of % error in prediction."
   ]
  },
  {
   "cell_type": "code",
   "execution_count": 20,
   "id": "ff1bad82",
   "metadata": {},
   "outputs": [
    {
     "data": {
      "text/html": [
       "<div>\n",
       "<style scoped>\n",
       "    .dataframe tbody tr th:only-of-type {\n",
       "        vertical-align: middle;\n",
       "    }\n",
       "\n",
       "    .dataframe tbody tr th {\n",
       "        vertical-align: top;\n",
       "    }\n",
       "\n",
       "    .dataframe thead th {\n",
       "        text-align: right;\n",
       "    }\n",
       "</style>\n",
       "<table border=\"1\" class=\"dataframe\">\n",
       "  <thead>\n",
       "    <tr style=\"text-align: right;\">\n",
       "      <th></th>\n",
       "      <th>price</th>\n",
       "      <th>lotsize</th>\n",
       "      <th>bedrooms</th>\n",
       "      <th>bathrms</th>\n",
       "      <th>stories</th>\n",
       "      <th>driveway</th>\n",
       "      <th>recroom</th>\n",
       "      <th>fullbase</th>\n",
       "      <th>gashw</th>\n",
       "      <th>airco</th>\n",
       "      <th>garagepl</th>\n",
       "      <th>prefarea</th>\n",
       "    </tr>\n",
       "  </thead>\n",
       "  <tbody>\n",
       "    <tr>\n",
       "      <th>0</th>\n",
       "      <td>42000.0</td>\n",
       "      <td>5850</td>\n",
       "      <td>3</td>\n",
       "      <td>1</td>\n",
       "      <td>2</td>\n",
       "      <td>yes</td>\n",
       "      <td>no</td>\n",
       "      <td>yes</td>\n",
       "      <td>no</td>\n",
       "      <td>no</td>\n",
       "      <td>1</td>\n",
       "      <td>no</td>\n",
       "    </tr>\n",
       "    <tr>\n",
       "      <th>1</th>\n",
       "      <td>38500.0</td>\n",
       "      <td>4000</td>\n",
       "      <td>2</td>\n",
       "      <td>1</td>\n",
       "      <td>1</td>\n",
       "      <td>yes</td>\n",
       "      <td>no</td>\n",
       "      <td>no</td>\n",
       "      <td>no</td>\n",
       "      <td>no</td>\n",
       "      <td>0</td>\n",
       "      <td>no</td>\n",
       "    </tr>\n",
       "    <tr>\n",
       "      <th>2</th>\n",
       "      <td>49500.0</td>\n",
       "      <td>3060</td>\n",
       "      <td>3</td>\n",
       "      <td>1</td>\n",
       "      <td>1</td>\n",
       "      <td>yes</td>\n",
       "      <td>no</td>\n",
       "      <td>no</td>\n",
       "      <td>no</td>\n",
       "      <td>no</td>\n",
       "      <td>0</td>\n",
       "      <td>no</td>\n",
       "    </tr>\n",
       "    <tr>\n",
       "      <th>3</th>\n",
       "      <td>60500.0</td>\n",
       "      <td>6650</td>\n",
       "      <td>3</td>\n",
       "      <td>1</td>\n",
       "      <td>2</td>\n",
       "      <td>yes</td>\n",
       "      <td>yes</td>\n",
       "      <td>no</td>\n",
       "      <td>no</td>\n",
       "      <td>no</td>\n",
       "      <td>0</td>\n",
       "      <td>no</td>\n",
       "    </tr>\n",
       "    <tr>\n",
       "      <th>4</th>\n",
       "      <td>61000.0</td>\n",
       "      <td>6360</td>\n",
       "      <td>2</td>\n",
       "      <td>1</td>\n",
       "      <td>1</td>\n",
       "      <td>yes</td>\n",
       "      <td>no</td>\n",
       "      <td>no</td>\n",
       "      <td>no</td>\n",
       "      <td>no</td>\n",
       "      <td>0</td>\n",
       "      <td>no</td>\n",
       "    </tr>\n",
       "    <tr>\n",
       "      <th>...</th>\n",
       "      <td>...</td>\n",
       "      <td>...</td>\n",
       "      <td>...</td>\n",
       "      <td>...</td>\n",
       "      <td>...</td>\n",
       "      <td>...</td>\n",
       "      <td>...</td>\n",
       "      <td>...</td>\n",
       "      <td>...</td>\n",
       "      <td>...</td>\n",
       "      <td>...</td>\n",
       "      <td>...</td>\n",
       "    </tr>\n",
       "    <tr>\n",
       "      <th>541</th>\n",
       "      <td>91500.0</td>\n",
       "      <td>4800</td>\n",
       "      <td>3</td>\n",
       "      <td>2</td>\n",
       "      <td>4</td>\n",
       "      <td>yes</td>\n",
       "      <td>yes</td>\n",
       "      <td>no</td>\n",
       "      <td>no</td>\n",
       "      <td>yes</td>\n",
       "      <td>0</td>\n",
       "      <td>no</td>\n",
       "    </tr>\n",
       "    <tr>\n",
       "      <th>542</th>\n",
       "      <td>94000.0</td>\n",
       "      <td>6000</td>\n",
       "      <td>3</td>\n",
       "      <td>2</td>\n",
       "      <td>4</td>\n",
       "      <td>yes</td>\n",
       "      <td>no</td>\n",
       "      <td>no</td>\n",
       "      <td>no</td>\n",
       "      <td>yes</td>\n",
       "      <td>0</td>\n",
       "      <td>no</td>\n",
       "    </tr>\n",
       "    <tr>\n",
       "      <th>543</th>\n",
       "      <td>103000.0</td>\n",
       "      <td>6000</td>\n",
       "      <td>3</td>\n",
       "      <td>2</td>\n",
       "      <td>4</td>\n",
       "      <td>yes</td>\n",
       "      <td>yes</td>\n",
       "      <td>no</td>\n",
       "      <td>no</td>\n",
       "      <td>yes</td>\n",
       "      <td>1</td>\n",
       "      <td>no</td>\n",
       "    </tr>\n",
       "    <tr>\n",
       "      <th>544</th>\n",
       "      <td>105000.0</td>\n",
       "      <td>6000</td>\n",
       "      <td>3</td>\n",
       "      <td>2</td>\n",
       "      <td>2</td>\n",
       "      <td>yes</td>\n",
       "      <td>yes</td>\n",
       "      <td>no</td>\n",
       "      <td>no</td>\n",
       "      <td>yes</td>\n",
       "      <td>1</td>\n",
       "      <td>no</td>\n",
       "    </tr>\n",
       "    <tr>\n",
       "      <th>545</th>\n",
       "      <td>105000.0</td>\n",
       "      <td>6000</td>\n",
       "      <td>3</td>\n",
       "      <td>1</td>\n",
       "      <td>2</td>\n",
       "      <td>yes</td>\n",
       "      <td>no</td>\n",
       "      <td>no</td>\n",
       "      <td>no</td>\n",
       "      <td>yes</td>\n",
       "      <td>1</td>\n",
       "      <td>no</td>\n",
       "    </tr>\n",
       "  </tbody>\n",
       "</table>\n",
       "<p>546 rows × 12 columns</p>\n",
       "</div>"
      ],
      "text/plain": [
       "        price  lotsize  bedrooms  bathrms  stories driveway recroom fullbase  \\\n",
       "0     42000.0     5850         3        1        2      yes      no      yes   \n",
       "1     38500.0     4000         2        1        1      yes      no       no   \n",
       "2     49500.0     3060         3        1        1      yes      no       no   \n",
       "3     60500.0     6650         3        1        2      yes     yes       no   \n",
       "4     61000.0     6360         2        1        1      yes      no       no   \n",
       "..        ...      ...       ...      ...      ...      ...     ...      ...   \n",
       "541   91500.0     4800         3        2        4      yes     yes       no   \n",
       "542   94000.0     6000         3        2        4      yes      no       no   \n",
       "543  103000.0     6000         3        2        4      yes     yes       no   \n",
       "544  105000.0     6000         3        2        2      yes     yes       no   \n",
       "545  105000.0     6000         3        1        2      yes      no       no   \n",
       "\n",
       "    gashw airco  garagepl prefarea  \n",
       "0      no    no         1       no  \n",
       "1      no    no         0       no  \n",
       "2      no    no         0       no  \n",
       "3      no    no         0       no  \n",
       "4      no    no         0       no  \n",
       "..    ...   ...       ...      ...  \n",
       "541    no   yes         0       no  \n",
       "542    no   yes         0       no  \n",
       "543    no   yes         1       no  \n",
       "544    no   yes         1       no  \n",
       "545    no   yes         1       no  \n",
       "\n",
       "[546 rows x 12 columns]"
      ]
     },
     "execution_count": 20,
     "metadata": {},
     "output_type": "execute_result"
    }
   ],
   "source": [
    "# Whole Assignment will be done using numpy only \n",
    "import numpy as np\n",
    "\n",
    "# pandas is only used to read the csv file since there is no function that allows us to read string data in numpy\n",
    "import pandas as pd\n",
    "\n",
    "#Reading data using pandas\n",
    "data = pd.read_csv('Housing Price data set.csv')\n",
    "data"
   ]
  },
  {
   "cell_type": "markdown",
   "id": "5eaeadb5",
   "metadata": {},
   "source": [
    "#### Now we will convert the pandas columns into numpy array because we are not allowed to use any other library.\n",
    "#### Note: We will take only those columns into consideration on which we are asked to do prediction."
   ]
  },
  {
   "cell_type": "code",
   "execution_count": 21,
   "id": "144a4377",
   "metadata": {},
   "outputs": [],
   "source": [
    "''' To convert them into numpy array, \n",
    "first we will take series object using data[column name] \n",
    "and then convert it into list using list() function \n",
    "and then finally we will create the numpy array.'''\n",
    "\n",
    "# Feature Columns\n",
    "PlotSize = np.array(list(data[\"lotsize\"]))\n",
    "Bedrooms = np.array(list(data[\"bedrooms\"]))\n",
    "Bathrooms = np.array(list(data[\"bathrms\"]))\n",
    "\n",
    "#Target Column\n",
    "Price = np.array(list(data[\"price\"]))"
   ]
  },
  {
   "cell_type": "markdown",
   "id": "57d89968",
   "metadata": {},
   "source": [
    "Approch for preciding in Batch GDA, Stochastic GDA and Mini Batch GDA is similar since in Batch GDA, we take all the samples available for training, whereas in Stochastic GDA, only 1 random sample is taken and in Mini Batch GDA, a random set of batch( like 10 or 20 or 40 or 100 and so on..) is taken"
   ]
  },
  {
   "cell_type": "markdown",
   "id": "7307b3f6",
   "metadata": {},
   "source": [
    "### Now we will not write separate functions for all. Instead we will be writing a single function that take sample size as input and will give the output W. \n",
    "#### 1. For Batch GDA, Sample Size will be 100% (i.e. all samples)\n",
    "#### 2. For Stochastic GDA, Sample Size will be 1\n",
    "#### 3. For Mini Batch GDA, Sample Size will be s (where s will be predefined)"
   ]
  },
  {
   "cell_type": "markdown",
   "id": "db91a5fc",
   "metadata": {},
   "source": [
    "# PART 1"
   ]
  },
  {
   "cell_type": "markdown",
   "id": "32ce282d",
   "metadata": {},
   "source": [
    "Now we have to create the 3 predictors using GDA without feature scaling.\n",
    "For that we will create a function that will take feature as well as target columns as input as well as the sample_size and returns the predictor using GDA alogirthm.\n",
    "The function will also take the alpha (learning rate) as input.\n",
    "While calling this function we will take care that the data we pass is training data and later we also have to test our data for which we will write a separate function"
   ]
  },
  {
   "cell_type": "code",
   "execution_count": 22,
   "id": "2e41ff77",
   "metadata": {},
   "outputs": [],
   "source": [
    "'''\n",
    "1. X will be the numpy array of feature columns and Y will be target column\n",
    "2. In this function we need to W to optimize it further so, we will use normal equation for that.\n",
    "    And for that we have normal equation function from previous part A.\n",
    "'''\n",
    "\n",
    "def GDA(X, Y, learning_rate, sample_size, W):\n",
    "    '''\n",
    "        We have our previous W\n",
    "        For GDA we have \n",
    "        new W = current W - (learning_rate/sample_size)*(∑ ((h(X)-Y).X*) ), note: ∑ is for sample_size\n",
    "        Here, current W will be an numpy array and similarly X* will also be a numpy array\n",
    "    For that we will simply iterate over X and add 1 over each row\n",
    "    '''\n",
    "    \n",
    "    #Added 1 in each row as done in Normal Equation function\n",
    "    X1=[]\n",
    "    for i in range(len(X)):\n",
    "        X1.append(list(np.insert(X[i],0,1)))\n",
    "    X=np.array(X1)\n",
    "    \n",
    "    #Will pick s random samples from np array\n",
    "    total_index=list(range(10))\n",
    "    sample_index=[]\n",
    "    for i in range(10):\n",
    "        sample_index.append(np.random.choice(total_index))\n",
    "        total_index.remove(sample_index[-1])\n",
    "    \n",
    "    #Calculating (∑ ((h(X)-Y).X*) ) and storing it into value and will be used later on\n",
    "    value=np.zeros((len(W)),dtype=int)\n",
    "    for i in range(len(sample_index)):\n",
    "        current_index=sample_index[i]\n",
    "        predicted_value=0\n",
    "        for j in range(len(W)):\n",
    "            predicted_value+=W[j]*X[current_index][j]\n",
    "        original_value=Y[current_index]\n",
    "        result=np.multiply(X[current_index],(predicted_value-original_value))\n",
    "        value=np.add(value,result)\n",
    "    \n",
    "    #We will now overwrite value from (∑ ((h(X)-Y).X*) ) to (∑ ((h(X)-Y).X*) ) * (learning_rate/sample_size)\n",
    "    value=np.multiply(value,learning_rate/sample_size,dtype=float)\n",
    "                                   \n",
    "    #Finally we have to subtract W and value np matrixes and return W as result\n",
    "    W=np.subtract(W,value)                        \n",
    "    return W\n",
    "\n",
    "def LRNormalEquation(X, Y):\n",
    "    X1=[]\n",
    "    for i in range(len(X)):\n",
    "        X1.append(list(np.insert(X[i],0,1)))\n",
    "    X=np.array(X1)\n",
    "    result1=np.dot(X.transpose(),X)\n",
    "    result1=np.linalg.inv(result1)\n",
    "    result2=np.dot(X.transpose(),Y)\n",
    "    result=np.dot(result1,result2)\n",
    "    return result\n",
    "\n",
    "'''To call the function first we have to merge the numpy arrays into 1\n",
    "So this function merges cells so that data for each index becomes as row for that part only'''\n",
    "def mergeCells(cell):\n",
    "    n=len(cell[0])\n",
    "    m=len(cell)\n",
    "    result=np.ones((n,m),dtype=int)\n",
    "    for i in range(n):\n",
    "        for j in range(m):\n",
    "            result[i][j]=cell[j][i]\n",
    "    return result"
   ]
  },
  {
   "cell_type": "markdown",
   "id": "879e6b1d",
   "metadata": {},
   "source": [
    "##### Now we have to divide our data into testing and trainging where test size will be 30%.\n",
    "##### For that we will take first 70% for training and rest for testing\n",
    "\n",
    "##### We also have to predict data for which we can use the same predict function used in part A/"
   ]
  },
  {
   "cell_type": "code",
   "execution_count": 23,
   "id": "477b5938",
   "metadata": {},
   "outputs": [],
   "source": [
    "train_size=int(0.7*len(PlotSize))\n",
    "train_X=mergeCells([PlotSize[:train_size], Bedrooms[:train_size], Bathrooms[:train_size]])\n",
    "test_X=mergeCells([PlotSize[train_size:], Bedrooms[train_size:], Bathrooms[train_size:]])\n",
    "train_Y=Price[:train_size]\n",
    "test_Y=Price[train_size:]\n",
    "\n",
    "def predict(X,Y,W):\n",
    "    error=0\n",
    "    for i in range(len(Y)):\n",
    "        predicted=abs(W[0] + W[1]*X[i][0] + W[2]*X[i][1] + W[3]*X[i][2])\n",
    "        actual=abs(Y[i])\n",
    "        error+=abs(actual-predicted)/actual\n",
    "    error=error/len(Y)\n",
    "    error=error*100\n",
    "    return error"
   ]
  },
  {
   "cell_type": "markdown",
   "id": "c6b2de97",
   "metadata": {},
   "source": [
    "Now we have to predict for testing data. The below predict function will take testing data and W and return the mean squared error."
   ]
  },
  {
   "cell_type": "code",
   "execution_count": 24,
   "id": "0c45e8ec",
   "metadata": {},
   "outputs": [],
   "source": [
    "#Defining epochs and learning rate for 3 algorithms\n",
    "epochs=1000\n",
    "learning_rate=0.0000000001"
   ]
  },
  {
   "cell_type": "markdown",
   "id": "9cfc9eec",
   "metadata": {},
   "source": [
    "#### Batch Gradient Descent Algorithm without feature scaling"
   ]
  },
  {
   "cell_type": "code",
   "execution_count": 25,
   "id": "b31ec0f8",
   "metadata": {},
   "outputs": [
    {
     "name": "stdout",
     "output_type": "stream",
     "text": [
      "Model using Batch GDA without feature scaling is given below\n",
      "16074 + -1 * PlotSize + 7323 * Bedrooms + 25104 * Bathrooms\n",
      "% error in the model on testing data using Batch GDA without feature scaling is 22.2707108021%"
     ]
    }
   ],
   "source": [
    "W=LRNormalEquation(train_X,train_Y)\n",
    "for i in range(epochs):\n",
    "    W=GDA(train_X,train_Y,learning_rate,len(train_Y),W)\n",
    "print(\"Model using Batch GDA without feature scaling is given below\")\n",
    "print(round(W[0]),\"+\",round(W[1]),\"* PlotSize +\",round(W[2]),\"* Bedrooms +\",round(W[3]),\"* Bathrooms\")\n",
    "print(\"% error in the model on testing data using Batch GDA without feature scaling is\",end=\" \")\n",
    "print(round(predict(test_X,test_Y,W),10),end=\"%\")"
   ]
  },
  {
   "cell_type": "markdown",
   "id": "8fc9fae0",
   "metadata": {},
   "source": [
    "#### Stochastic Gradient Descent Algorithm without feature scaling"
   ]
  },
  {
   "cell_type": "code",
   "execution_count": 26,
   "id": "a64711e5",
   "metadata": {},
   "outputs": [
    {
     "name": "stdout",
     "output_type": "stream",
     "text": [
      "Model using Stochastic GDA without feature scaling is given below\n",
      "16074 + -1 * PlotSize + 7323 * Bedrooms + 25104 * Bathrooms\n",
      "% error in the model on testing data using Stochastic GDA without feature scaling is 20.4449580602%"
     ]
    }
   ],
   "source": [
    "W=LRNormalEquation(train_X,train_Y)\n",
    "for i in range(epochs):\n",
    "    W=GDA(train_X,train_Y,learning_rate,1,W)\n",
    "print(\"Model using Stochastic GDA without feature scaling is given below\")\n",
    "print(round(W[0]),\"+\",round(W[1]),\"* PlotSize +\",round(W[2]),\"* Bedrooms +\",round(W[3]),\"* Bathrooms\")\n",
    "print(\"% error in the model on testing data using Stochastic GDA without feature scaling is\",end=\" \")\n",
    "print(round(predict(test_X,test_Y,W),10),end=\"%\")"
   ]
  },
  {
   "cell_type": "markdown",
   "id": "5b7189bb",
   "metadata": {},
   "source": [
    "#### Mini Batch Gradient Descent Algorithm without feature scaling"
   ]
  },
  {
   "cell_type": "code",
   "execution_count": 27,
   "id": "8142d617",
   "metadata": {},
   "outputs": [
    {
     "name": "stdout",
     "output_type": "stream",
     "text": [
      "Model using Mini Batch GDA without feature scaling is given below\n",
      "16074 + -1 * PlotSize + 7323 * Bedrooms + 25104 * Bathrooms\n",
      "% error in the model on testing data using Stochastic GDA without feature scaling is 21.5504635503%"
     ]
    }
   ],
   "source": [
    "batch_size=50\n",
    "W=LRNormalEquation(train_X,train_Y)\n",
    "for each in range(epochs):\n",
    "    W=GDA(train_X,train_Y,learning_rate,batch_size,W)\n",
    "print(\"Model using Mini Batch GDA without feature scaling is given below\")\n",
    "print(round(W[0]),\"+\",round(W[1]),\"* PlotSize +\",round(W[2]),\"* Bedrooms +\",round(W[3]),\"* Bathrooms\")\n",
    "print(\"% error in the model on testing data using Stochastic GDA without feature scaling is\",end=\" \")\n",
    "print(round(predict(test_X,test_Y,W),10),end=\"%\")"
   ]
  },
  {
   "cell_type": "markdown",
   "id": "2601821c",
   "metadata": {},
   "source": [
    "# PART 2"
   ]
  },
  {
   "cell_type": "markdown",
   "id": "8610d172",
   "metadata": {},
   "source": [
    "Now we have to create the 3 predictors using GDA with feature scaling.\n",
    "Since we have to GDA with feature so same functions can be use, we just have to normalize the data and call the functions to make error function more optimal."
   ]
  },
  {
   "cell_type": "code",
   "execution_count": 28,
   "id": "63605b29",
   "metadata": {},
   "outputs": [],
   "source": [
    "#First of all we will normalize the data and then split it.\n",
    "def FeatureScaling(data):\n",
    "    #For every entry in data we have to upadte entry as entry-mean(data)/max(data)-min(data)\n",
    "    meanData=data.mean()\n",
    "    maxData=data.max()\n",
    "    minData=data.min()\n",
    "    for i in range(len(data)):\n",
    "        data[i]=(data[i]-meanData)/(maxData-minData)\n",
    "    return data\n",
    "\n",
    "# We have to take columns as float datatype\n",
    "# Feature Columns\n",
    "PlotSize = np.array(list(data[\"lotsize\"]),dtype=float)\n",
    "Bedrooms = np.array(list(data[\"bedrooms\"]),dtype=float)\n",
    "Bathrooms = np.array(list(data[\"bathrms\"]),dtype=float)\n",
    "\n",
    "#Target Column\n",
    "Price = np.array(list(data[\"price\"]),dtype=float)\n",
    "\n",
    "#We have to scale the feature columns\n",
    "PlotSize = FeatureScaling(PlotSize)\n",
    "Bedrooms = FeatureScaling(Bedrooms)\n",
    "Bathrooms = FeatureScaling(Bathrooms)"
   ]
  },
  {
   "cell_type": "markdown",
   "id": "47485088",
   "metadata": {},
   "source": [
    "The data has been normalized using feature scaling using mean normalization.\n",
    "So, now we just have to call the function"
   ]
  },
  {
   "cell_type": "code",
   "execution_count": 29,
   "id": "6d1834fa",
   "metadata": {},
   "outputs": [],
   "source": [
    "#We also have to upgrade the mergecells function to take make float np array\n",
    "def mergeCells(cell):\n",
    "    n=len(cell[0])\n",
    "    m=len(cell)\n",
    "    result=np.ones((n,m),dtype=float)\n",
    "    for i in range(n):\n",
    "        for j in range(m):\n",
    "            result[i][j]=cell[j][i]\n",
    "    return result\n",
    "\n",
    "train_size=int(0.7*len(PlotSize))\n",
    "train_X=mergeCells([PlotSize[:train_size], Bedrooms[:train_size], Bathrooms[:train_size]])\n",
    "test_X=mergeCells([PlotSize[train_size:], Bedrooms[train_size:], Bathrooms[train_size:]])\n",
    "train_Y=Price[:train_size]\n",
    "test_Y=Price[train_size:]\n",
    "\n",
    "epochs=1000\n",
    "learning_rate=0.0000000001"
   ]
  },
  {
   "cell_type": "markdown",
   "id": "84d458b3",
   "metadata": {},
   "source": [
    "#### Batch Gradient Descent Algorithm with feature scaling"
   ]
  },
  {
   "cell_type": "code",
   "execution_count": 30,
   "id": "dca83b53",
   "metadata": {},
   "outputs": [
    {
     "name": "stdout",
     "output_type": "stream",
     "text": [
      "Model using Batch GDA with feature scaling is given below\n",
      "66486.15 + 86296.23 * PlotSize + 27642.86 * Bedrooms + 57030.05 * Bathrooms\n",
      "% error in the model on testing data using Batch GDA with feature scaling is 18.6664900141%"
     ]
    }
   ],
   "source": [
    "W=LRNormalEquation(train_X,train_Y)\n",
    "for i in range(epochs):\n",
    "    W=GDA(train_X,train_Y,learning_rate,len(train_Y),W)\n",
    "print(\"Model using Batch GDA with feature scaling is given below\")\n",
    "print(round(W[0],2),\"+\",round(W[1],2),\"* PlotSize +\",round(W[2],2),\"* Bedrooms +\",round(W[3],2),\"* Bathrooms\")\n",
    "print(\"% error in the model on testing data using Batch GDA with feature scaling is\",end=\" \")\n",
    "print(round(predict(test_X,test_Y,W),10),end=\"%\")"
   ]
  },
  {
   "cell_type": "markdown",
   "id": "127119ed",
   "metadata": {},
   "source": [
    "#### Stochastic Gradient Descent Algorithm with feature scaling"
   ]
  },
  {
   "cell_type": "code",
   "execution_count": 31,
   "id": "fa7c2bdd",
   "metadata": {},
   "outputs": [
    {
     "name": "stdout",
     "output_type": "stream",
     "text": [
      "Model using Stochastic GDA with feature scaling is given below\n",
      "66486 + 86296 * PlotSize + 27643 * Bedrooms + 57030 * Bathrooms\n",
      "% error in the model on testing data using Stochastic GDA with feature scaling is 18.666489842%"
     ]
    }
   ],
   "source": [
    "W=LRNormalEquation(train_X,train_Y)\n",
    "for i in range(epochs):\n",
    "    W=GDA(train_X,train_Y,learning_rate,1,W)\n",
    "print(\"Model using Stochastic GDA with feature scaling is given below\")\n",
    "print(round(W[0]),\"+\",round(W[1]),\"* PlotSize +\",round(W[2]),\"* Bedrooms +\",round(W[3]),\"* Bathrooms\")\n",
    "print(\"% error in the model on testing data using Stochastic GDA with feature scaling is\",end=\" \")\n",
    "print(round(predict(test_X,test_Y,W),10),end=\"%\")"
   ]
  },
  {
   "cell_type": "markdown",
   "id": "5d7bbd61",
   "metadata": {},
   "source": [
    "#### Mini Batch Gradient Descent Algorithm with feature scaling"
   ]
  },
  {
   "cell_type": "code",
   "execution_count": 32,
   "id": "1e10bd04",
   "metadata": {},
   "outputs": [
    {
     "name": "stdout",
     "output_type": "stream",
     "text": [
      "Model using Mini Batch GDA with feature scaling is given below\n",
      "66486 + 86296 * PlotSize + 27643 * Bedrooms + 57030 * Bathrooms\n",
      "% error in the model on testing data using Stochastic GDA with feature scaling is 18.6664900111%"
     ]
    }
   ],
   "source": [
    "batch_size=50\n",
    "W=LRNormalEquation(train_X,train_Y)\n",
    "for each in range(epochs):\n",
    "    W=GDA(train_X,train_Y,learning_rate,batch_size,W)\n",
    "print(\"Model using Mini Batch GDA with feature scaling is given below\")\n",
    "print(round(W[0]),\"+\",round(W[1]),\"* PlotSize +\",round(W[2]),\"* Bedrooms +\",round(W[3]),\"* Bathrooms\")\n",
    "print(\"% error in the model on testing data using Stochastic GDA with feature scaling is\",end=\" \")\n",
    "print(round(predict(test_X,test_Y,W),10),end=\"%\")"
   ]
  },
  {
   "cell_type": "markdown",
   "id": "31801a1f",
   "metadata": {},
   "source": [
    "# CONCLUSION"
   ]
  },
  {
   "cell_type": "markdown",
   "id": "a5e4cfbb",
   "metadata": {},
   "source": [
    "##### We have % errors for GDA with and without feature scaling\n",
    "\n",
    "##### % Error for Batch GDA without Feature Scaling = 22.2707108021%\n",
    "##### % Error for Stochastic GDA without Feature Scaling = 20.4449580602%\n",
    "##### % Error for Mini Batch GDA without Feature Scaling = 21.5504635503%\n",
    "\n",
    "##### % Error for Batch GDA with Feature Scaling = 18.6664900141%\n",
    "##### % Error for Stochastic GDA with Feature Scaling = 18.666489842%\n",
    "##### % Error for Mini Batch GDA with Feature Scaling = 18.6664900111%\n",
    "\n",
    "### 1.) % error is less when the data is normalized.\n",
    "### 2.) % error is minimum in stochastic GDA and maximum in batch GDA. % error in mini batch GDA is in between that of both. \n",
    "\n",
    "##### The arrangement becomes:\n",
    "\n",
    "## % error : GDA with Feature Scaling < GDA without Feature Scaling\n",
    "## % error : Stochistic GDA < Mini Batch GDA < Batch GDA\n",
    "\n",
    "# Maximum Error : 22.2707108021%\n",
    "# Minimum Error : 18.666489842%\n",
    "\n",
    "\n",
    "\n",
    "#### Note: I have taken learning_rate=0.0000000001, epochs=1000 and batch_size as 50 for minibatch GDA."
   ]
  }
 ],
 "metadata": {
  "kernelspec": {
   "display_name": "Python 3.9.1 64-bit",
   "language": "python",
   "name": "python3"
  },
  "language_info": {
   "codemirror_mode": {
    "name": "ipython",
    "version": 3
   },
   "file_extension": ".py",
   "mimetype": "text/x-python",
   "name": "python",
   "nbconvert_exporter": "python",
   "pygments_lexer": "ipython3",
   "version": "3.9.1"
  },
  "vscode": {
   "interpreter": {
    "hash": "81794d4967e6c3204c66dcd87b604927b115b27c00565d3d43f05ba2f3a2cb0d"
   }
  }
 },
 "nbformat": 4,
 "nbformat_minor": 5
}
