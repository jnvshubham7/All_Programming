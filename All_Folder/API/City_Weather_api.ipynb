{
  "cells": [
    {
      "cell_type": "code",
      "execution_count": 11,
      "metadata": {
        "colab": {
          "base_uri": "https://localhost:8080/"
        },
        "id": "gdTfV1_5-Rdm",
        "outputId": "5a31b91b-9aff-4e49-fd8d-29a92b22e8e9"
      },
      "outputs": [
        {
          "ename": "SyntaxError",
          "evalue": "invalid syntax (2614160325.py, line 52)",
          "output_type": "error",
          "traceback": [
            "\u001b[1;36m  Input \u001b[1;32mIn [11]\u001b[1;36m\u001b[0m\n\u001b[1;33m    // Assume that you have imported the necessary packages for HTTP requests\u001b[0m\n\u001b[1;37m    ^\u001b[0m\n\u001b[1;31mSyntaxError\u001b[0m\u001b[1;31m:\u001b[0m invalid syntax\n"
          ]
        }
      ],
      "source": [
        "# Maximum Transfer\n",
        "\n",
        "import requests\n",
        "\n",
        "base_url = \"https://jsonmock.hackerrank.com/api/transactions\"\n",
        "\n",
        "name = \"Bob Martin\"\n",
        "city = \"Bourg\"\n",
        "\n",
        "param1 = {\"userName\": name}\n",
        "res = requests.get(url=base_url, params=param1)\n",
        "data = res.json()\n",
        "\n",
        "total_pages = data[\"total_pages\"]\n",
        "current_page = data[\"page\"]\n",
        "transactions = data[\"data\"]\n",
        "ans1 = 0.0\n",
        "ans2 = 0.0\n",
        "#current_page=1\n",
        "while current_page <= total_pages:\n",
        "  param1 = {\"userName\": name,\"page\":current_page}\n",
        "  # param1[\"page\"] = current_page\n",
        "  res = requests.get(url=base_url, params=param1)\n",
        "  data = res.json()\n",
        "  transactions.extend(data[\"data\"])\n",
        "\n",
        "\n",
        "  for transaction in transactions:\n",
        "   if transaction[\"location\"][\"city\"] == city:\n",
        "     if transaction[\"txnType\"] == \"credit\":\n",
        "      amount = float(transaction[\"amount\"].replace(\"$\", \"\").replace(\",\", \"\"))\n",
        "      if ans1 < amount:\n",
        "       ans1 = amount\n",
        "     elif transaction[\"txnType\"] == \"debit\":\n",
        "      amount = float(transaction[\"amount\"].replace(\"$\", \"\").replace(\",\", \"\"))\n",
        "      if ans2 < amount:\n",
        "       ans2 = amount\n",
        "  current_page+=1\n",
        "print(ans1)\n",
        "print(ans2)"
      ]
    },
    {
      "cell_type": "code",
      "execution_count": 3,
      "metadata": {
        "colab": {
          "base_uri": "https://localhost:8080/"
        },
        "id": "vVrUDkpGIqNi",
        "outputId": "51a7098b-7169-4f5b-99a7-46f8befb9dda"
      },
      "outputs": [
        {
          "name": "stdout",
          "output_type": "stream",
          "text": [
            "['Bahrain,1359800', 'Palestine,4682467', 'Singapore,5469700', 'Philippines,101920000', 'Indonesia,255461700', 'India,1275840000', 'China,1371590000']\n"
          ]
        }
      ],
      "source": [
        "#Countries by region\n",
        "\n",
        "\n",
        "import requests\n",
        "baseurl=\"https://jsonmock.hackerrank.com/api/countries/search\"\n",
        "response=requests.get(baseurl)\n",
        "data=response.json()\n",
        "total=data[\"total_pages\"]\n",
        "i=1\n",
        "lst={}\n",
        "ret=[]\n",
        "region=\"Asia\"\n",
        "keyword=\"in\"\n",
        "while i<=total:\n",
        "  param={\"region\":region,\"page\":i}\n",
        "  response=requests.get(baseurl,params=param)\n",
        "  data=response.json()\n",
        "  temp=data[\"data\"]\n",
        "  for j in temp:\n",
        "    if keyword.lower() in j[\"name\"].lower():\n",
        "      lst[j[\"name\"]]=j[\"population\"]\n",
        "  i=i+1\n",
        "\n",
        "lst=sorted(lst.items(),key=lambda kv : (kv[1],kv[0]))\n",
        "for i,j in lst:\n",
        "  cur=str(i)+','+str(j)\n",
        "  ret.append(cur)\n",
        "print(ret)"
      ]
    },
    {
      "cell_type": "code",
      "execution_count": 4,
      "metadata": {
        "colab": {
          "base_uri": "https://localhost:8080/"
        },
        "id": "c1n9Uu1SMqS6",
        "outputId": "2626ac14-c91e-4080-9ab1-5d3632bd60a9"
      },
      "outputs": [
        {
          "name": "stdout",
          "output_type": "stream",
          "text": [
            "['(2010 HX107)', '(2010 NG1)', '398188 (2010 LE15)', '(2010 PW58)', '(2010 JE87)', '(2010 DJ77)', '(2010 EX11)', '(2010 OF101)', '(2010 GV147)', '365449 (2010 NJ1)', '365424 (2010 KX7)', '(2010 NY65)', '(2010 TK7)']\n"
          ]
        }
      ],
      "source": [
        "#Asteroid\n",
        "\n",
        "\n",
        "import requests\n",
        "year=2010\n",
        "baseurl=\"https://jsonmock.hackerrank.com/api/asteroids/search\"\n",
        "response=requests.get(baseurl)\n",
        "data=response.json()\n",
        "total=data[\"total_pages\"]\n",
        "i=1\n",
        "lst={}\n",
        "ret=[]\n",
        "#print(data[\"data\"])\n",
        "orbit_class=\"aten\"\n",
        "while i<=total:\n",
        "  param={\"page\":i}\n",
        "  response=requests.get(baseurl,params=param)\n",
        "  data=response.json()\n",
        "  tmp=data[\"data\"]\n",
        "  for j in tmp:\n",
        "    if str(year)==j[\"discovery_date\"][:4] and orbit_class.lower() in j[\"orbit_class\"].lower():\n",
        "      if j[\"period_yr\"]==None:\n",
        "        j[\"period_yr\"]=1\n",
        "      else:\n",
        "        j[\"period_yr\"]=float(j[\"period_yr\"])\n",
        "      lst[j[\"designation\"]]=j[\"period_yr\"]\n",
        "  i=i+1\n",
        "\n",
        "lst=sorted(lst.items(),key=lambda kv : (kv[1],kv[0]))\n",
        "for i,j in lst:\n",
        "  ret.append(i)\n",
        "print(ret)"
      ]
    },
    {
      "cell_type": "code",
      "execution_count": 5,
      "metadata": {
        "colab": {
          "base_uri": "https://localhost:8080/"
        },
        "id": "muQ3gtehNFgx",
        "outputId": "6958b05c-aa48-4a89-9db9-e506fc44b6d6"
      },
      "outputs": [
        {
          "name": "stdout",
          "output_type": "stream",
          "text": [
            "Game of Thrones\n"
          ]
        }
      ],
      "source": [
        "#Genre\n",
        "\n",
        "\n",
        "import requests\n",
        "genre=\"venture\"\n",
        "baseurl=\"https://jsonmock.hackerrank.com/api/tvseries\"\n",
        "response=requests.get(baseurl)\n",
        "data=response.json()\n",
        "total=data[\"total_pages\"]\n",
        "i=1\n",
        "maxi=0\n",
        "res=\"\"\n",
        "#print(data)\n",
        "lst={}\n",
        "while i<=total:\n",
        "  param={\"page\":i}\n",
        "  response=requests.get(baseurl,params=param)\n",
        "  data=response.json()\n",
        "  tmp=data[\"data\"]\n",
        "  for j in tmp:\n",
        "    if genre.lower() in j[\"genre\"].lower():\n",
        "      if maxi<j[\"imdb_rating\"]:\n",
        "        maxi=j[\"imdb_rating\"]\n",
        "        res=j[\"name\"]\n",
        "      elif maxi==j[\"imdb_rating\"]:\n",
        "        if(res>j[\"name\"]):\n",
        "          res=j[\"name\"]\n",
        "  i=i+1\n",
        "\n",
        "print(res)"
      ]
    },
    {
      "cell_type": "code",
      "execution_count": 6,
      "metadata": {
        "colab": {
          "base_uri": "https://localhost:8080/"
        },
        "id": "KEN06dFKQQwZ",
        "outputId": "bca34f80-c378-4d61-9269-f14bf80a8e15"
      },
      "outputs": [
        {
          "name": "stdout",
          "output_type": "stream",
          "text": [
            "Massachusetts Institute of Technology (MIT)\n"
          ]
        }
      ],
      "source": [
        "#University Rank By Country\n",
        "\n",
        "\n",
        "import requests\n",
        "country=\"United States\"\n",
        "param={\"country\":country,\"page\":1}\n",
        "baseurl=\"https://jsonmock.hackerrank.com/api/universities\"\n",
        "response=requests.get(baseurl,params=param)\n",
        "data=response.json()\n",
        "total=data[\"total_pages\"]\n",
        "i=1\n",
        "ans=1000\n",
        "ress=\"\"\n",
        "#print(data)\n",
        "\n",
        "while i<=total:\n",
        "  param={\"country\":country,\"page\":i}\n",
        "  res=requests.get(baseurl,params=param)\n",
        "  data=res.json()\n",
        "  temp=data[\"data\"]\n",
        "  for j in temp:\n",
        "    if int(j[\"rank_display\"])<ans:\n",
        "      ress=j[\"university\"]\n",
        "      ans=int(j[\"rank_display\"])\n",
        "  i=i+1\n",
        "\n",
        "print(ress)"
      ]
    },
    {
      "cell_type": "code",
      "execution_count": 7,
      "metadata": {
        "colab": {
          "base_uri": "https://localhost:8080/"
        },
        "id": "KUpnkNTmTKVe",
        "outputId": "db47f110-5c0a-46a2-fce8-d20a93abea8f"
      },
      "outputs": [
        {
          "name": "stdout",
          "output_type": "stream",
          "text": [
            "35\n"
          ]
        }
      ],
      "source": [
        "#football_matches\n",
        "\n",
        "\n",
        "import requests\n",
        "year=2011\n",
        "team=\"Barcelona\"\n",
        "param={\"year\":year,\"team1\":team,\"page\":1}\n",
        "baseurl=\"https://jsonmock.hackerrank.com/api/football_matches\"\n",
        "response=requests.get(baseurl,params=param)\n",
        "data=response.json()\n",
        "total=data[\"total_pages\"]\n",
        "sum=0\n",
        "i=1\n",
        "while i<=total:\n",
        "  param={\"year\":year,\"team1\":team,\"page\":i}\n",
        "  response=requests.get(baseurl,params=param)\n",
        "  data=response.json()\n",
        "  temp=data[\"data\"]\n",
        "  for j in temp:\n",
        "    sum=sum+int(j[\"team1goals\"])\n",
        "  i=i+1\n",
        "\n",
        "i=1\n",
        "\n",
        "param={\"year\":year,\"team2\":team,\"page\":1}\n",
        "baseurl=\"https://jsonmock.hackerrank.com/api/football_matches\"\n",
        "response=requests.get(baseurl,params=param)\n",
        "data=response.json()\n",
        "total=data[\"total_pages\"]\n",
        "\n",
        "while i<=total:\n",
        "  param={\"year\":year,\"team2\":team,\"page\":i}\n",
        "  response=requests.get(baseurl,params=param)\n",
        "  data=response.json()\n",
        "  temp=data[\"data\"]\n",
        "  for j in temp:\n",
        "    sum=sum+int(j[\"team2goals\"])\n",
        "  i=i+1\n",
        "\n",
        "print(sum)"
      ]
    },
    {
      "cell_type": "code",
      "execution_count": 8,
      "metadata": {
        "colab": {
          "base_uri": "https://localhost:8080/"
        },
        "id": "tk6a1eWeM75w",
        "outputId": "c312a7b0-347b-4629-d75f-739d80eed63e"
      },
      "outputs": [
        {
          "name": "stdout",
          "output_type": "stream",
          "text": [
            "['Cafe Juanita', 'Cafe Munir', 'Flechazo', 'Vanilla Sky', 'The Shambles', 'Stories', 'Big Pitcher', 'The Black Pearl', 'Truffles', 'TBC Sky Lounge', 'The Pump House', 'JuneBaby', 'Brew and Barbeque - A Microbrewery Pub', 'Simon Says Brew Works', 'Communiti', 'Asia Kitchen By Mainland China', 'Addo', 'The Pallet', 'Hammered', 'Sidewalk - The Garden Bar', 'Brooks and Bonds Brewery', 'Toit', \"AB's - Absolute Barbecues\", 'Frelard Tamales', \"Xi'an Noodles\", 'Levitate Brewery and Kitchen', 'XOOX Brewmill', 'The Globe Grub', 'The Bier Library', 'Vapour Brewpub and Diner', \"AB's - Absolute Barbecues\", 'Off The Rez Cafe', 'Barbeque Nation', 'The Boozy Griffin', 'The Reservoire', 'The Big Barbeque']\n"
          ]
        }
      ],
      "source": [
        "#Relevant Food Outlets\n",
        "\n",
        "\n",
        "\n",
        "import requests\n",
        "city=\"Seattle\"\n",
        "cost=200\n",
        "param={\"city\":city,\"page\":1}\n",
        "baseurl=\"https://jsonmock.hackerrank.com/api/food_outlets\"\n",
        "response=requests.get(baseurl,params=param)\n",
        "data=response.json()\n",
        "total=data[\"total_pages\"]\n",
        "res=[]\n",
        "i=1\n",
        "while i<=total:\n",
        "  param={\"city\":city,\"page\":i}\n",
        "  response=requests.get(baseurl,params=param)\n",
        "  data=response.json()\n",
        "  temp=data[\"data\"]\n",
        "  for j in temp:\n",
        "    if j[\"estimated_cost\"]<=cost:\n",
        "      res.append(j[\"name\"])\n",
        "  i=i+1\n",
        "\n",
        "print(res)"
      ]
    },
    {
      "cell_type": "code",
      "execution_count": 9,
      "metadata": {
        "id": "ZTsm5fc2JKsW"
      },
      "outputs": [
        {
          "name": "stdout",
          "output_type": "stream",
          "text": [
            "99\n"
          ]
        }
      ],
      "source": [
        "#Fit Rate 2022 and similar question PulseRate\n",
        "\n",
        "\n",
        "import requests\n",
        "param={\"page\":1}\n",
        "baseurl=\"https://jsonmock.hackerrank.com/api/medical_records\"\n",
        "response=requests.get(baseurl,params=param)\n",
        "data=response.json()\n",
        "total=data[\"total_pages\"]\n",
        "cnt=0\n",
        "lower=120\n",
        "higher=160\n",
        "i=1\n",
        "while i<=total:\n",
        "  param={\"page\":i}\n",
        "  response=requests.get(baseurl,params=param)\n",
        "  data=response.json()\n",
        "  temp=data[\"data\"]\n",
        "  for records in temp:\n",
        "    sam=records[\"vitals\"][\"bloodPressureDiastole\"]\n",
        "    if lower<=sam:\n",
        "      if sam<=higher:\n",
        "        cnt=cnt+1\n",
        "  i=i+1\n",
        "\n",
        "print(cnt)"
      ]
    },
    {
      "cell_type": "code",
      "execution_count": 10,
      "metadata": {
        "id": "KPeq7Da1KBFo"
      },
      "outputs": [
        {
          "name": "stdout",
          "output_type": "stream",
          "text": [
            "['Dallas,12,2,5', 'Dallupura,10,9,14', 'Vallejo,1,24,56']\n"
          ]
        }
      ],
      "source": [
        "#City_Weather Station\n",
        "\n",
        "import requests\n",
        "name=\"all\"\n",
        "param={\"name\":name,\"page\":i}\n",
        "baseurl=\"https://jsonmock.hackerrank.com/api/weather/search?page=1\"\n",
        "response=requests.get(baseurl,params=param)\n",
        "data=response.json()\n",
        "total=data[\"total_pages\"]\n",
        "ret=[]\n",
        "i=1\n",
        "while i<=total:\n",
        "  param={\"name\":name,\"page\":i}\n",
        "  response=requests.get(baseurl,params=param)\n",
        "  data=response.json()\n",
        "  temp=data[\"data\"]\n",
        "  for records in temp:\n",
        "    cur=records[\"name\"]\n",
        "    cur=cur+\",\"\n",
        "    cur=cur+records[\"weather\"].replace(\" degree\",\"\")\n",
        "    cur=cur+\",\"\n",
        "    cur=cur+records[\"status\"][0].replace(\"Kmph\",\"\").replace(\"Wind: \",\"\")\n",
        "    cur=cur+\",\"\n",
        "    cur=cur+records[\"status\"][1].replace(\"%\",\"\").replace(\"Humidity: \",\"\")\n",
        "    ret.append(cur)\n",
        "  i=i+1\n",
        "\n",
        "print(ret)"
      ]
    }
  ],
  "metadata": {
    "colab": {
      "provenance": []
    },
    "kernelspec": {
      "display_name": "Python 3",
      "name": "python3"
    },
    "language_info": {
      "codemirror_mode": {
        "name": "ipython",
        "version": 3
      },
      "file_extension": ".py",
      "mimetype": "text/x-python",
      "name": "python",
      "nbconvert_exporter": "python",
      "pygments_lexer": "ipython3",
      "version": "3.9.1"
    }
  },
  "nbformat": 4,
  "nbformat_minor": 0
}
