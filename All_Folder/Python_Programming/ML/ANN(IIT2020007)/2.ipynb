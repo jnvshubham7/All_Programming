{
 "cells": [
  {
   "cell_type": "code",
   "execution_count": 1,
   "metadata": {},
   "outputs": [
    {
     "name": "stdout",
     "output_type": "stream",
     "text": [
      "\n",
      "Model Output: \n",
      "[[0.96880357]\n",
      " [0.97006602]\n",
      " [0.0276506 ]\n",
      " [0.07224591]]\n",
      "\n",
      "Actual Answer\n",
      "[[1.]\n",
      " [1.]\n",
      " [0.]\n",
      " [0.]]\n"
     ]
    }
   ],
   "source": [
    "# Submitted by Shubham Kumar Bhokta (IIT2020007)\n",
    "\n",
    "\n",
    "import numpy as np\n",
    "\n",
    "def getscaleddata():\n",
    "    X_train = np.array([[1,0,0], [1,0,1], [1,1,0], [1,1,1]])\n",
    "    X_test = np.array([[1, 0, 0.03], [1, 0, 0.0], [1, 1, 0 ], [1, 1, 0.2]])\n",
    "    Y_train = np.array([[1], [0], [0], [1]])\n",
    "    Y_test = np.array([[1.], [1.], [0.], [0.]])\n",
    "    return X_train, Y_train, X_test, Y_test\n",
    "\n",
    "def sigmoid(x):\n",
    "    y = 1 + np.exp(-x)\n",
    "    y = 1 / y\n",
    "    return y\n",
    "\n",
    "def forward(X_training, wt1, wt2):\n",
    "    temp = np.matmul(X_training, wt1)\n",
    "    zee1 = sigmoid(temp)\n",
    "    zee1 = np.concatenate((np.ones((len(zee1), 1)), zee1), axis=1)\n",
    "    zee2 = sigmoid(np.matmul(zee1, wt2))\n",
    "    return temp, zee1, zee2\n",
    "\n",
    "def predict(X_test, w1, w2):\n",
    "    temp, zee1, zee2 = forward(X_test, w1, w2)\n",
    "    return zee2\n",
    "\n",
    "def propagate(X, zee1, zee2, y, w2, temp):\n",
    "    dif2 = zee2 - y\n",
    "    D2 = np.matmul(zee1.T, dif2)\n",
    "    D1 = np.matmul(X.T, (dif2.dot( w2[1:, :].T )) * sigmoid(temp) * (1 - sigmoid(temp)))\n",
    "    return D1, D2\n",
    "\n",
    "def updateWeights(D1, D2, alpha, m, w1, w2):\n",
    "    dw1 = alpha * (1 / m) * D1\n",
    "    w1 = w1 - dw1\n",
    "    change_in_w2 = alpha * (1 / m) * D2\n",
    "    w2 = w2 - change_in_w2\n",
    "    return w1, w2\n",
    "\n",
    "def test(X_test, y_test, w1, w2):\n",
    "    outp = predict(X_test, w1, w2)\n",
    "    print(\"\\nModel Output: \")\n",
    "    print((outp))\n",
    "    print(\"\\nActual Answer\")\n",
    "    print(y_test)\n",
    "\n",
    "def getweights(X, y, alpha = 0.05, epochs = 10000):\n",
    "    w1, w2 = np.random.randn(3,5), np.random.randn(6,1)\n",
    "    for i in range(epochs):\n",
    "        temp, zee1, zee2 = forward(X, w1, w2)\n",
    "        D1, D2 = propagate(X, zee1, zee2, y, w2, temp)\n",
    "        w1, w2 = updateWeights(D1, D2, alpha, len(X), w1, w2)\n",
    "    return w1, w2\n",
    "\n",
    "X_train, Y_train, X_test, Y_test = getscaleddata()\n",
    "w1, w2 = getweights(X_train, Y_train, 0.5, 1000)\n",
    "test(X_test, Y_test, w1, w2)"
   ]
  }
 ],
 "metadata": {
  "kernelspec": {
   "display_name": "Python 3.9.1 64-bit",
   "language": "python",
   "name": "python3"
  },
  "language_info": {
   "codemirror_mode": {
    "name": "ipython",
    "version": 3
   },
   "file_extension": ".py",
   "mimetype": "text/x-python",
   "name": "python",
   "nbconvert_exporter": "python",
   "pygments_lexer": "ipython3",
   "version": "3.9.1 (tags/v3.9.1:1e5d33e, Dec  7 2020, 17:08:21) [MSC v.1927 64 bit (AMD64)]"
  },
  "orig_nbformat": 4,
  "vscode": {
   "interpreter": {
    "hash": "81794d4967e6c3204c66dcd87b604927b115b27c00565d3d43f05ba2f3a2cb0d"
   }
  }
 },
 "nbformat": 4,
 "nbformat_minor": 2
}
