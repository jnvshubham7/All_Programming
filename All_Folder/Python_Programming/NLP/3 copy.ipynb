{
 "cells": [
  {
   "cell_type": "code",
   "execution_count": null,
   "metadata": {},
   "outputs": [],
   "source": []
  },
  {
   "cell_type": "markdown",
   "metadata": {},
   "source": []
  },
  {
   "attachments": {},
   "cell_type": "markdown",
   "metadata": {},
   "source": [
    "# 1"
   ]
  },
  {
   "cell_type": "markdown",
   "metadata": {},
   "source": []
  },
  {
   "cell_type": "markdown",
   "metadata": {},
   "source": [
    "## One Hot Encoding of text\n",
    "\n",
    "This implements one hot encoding. \n",
    " \n",
    "In real world projects one mostly uses scikit -learn’s implementation of one hot encoding"
   ]
  },
  {
   "cell_type": "code",
   "execution_count": 47,
   "metadata": {},
   "outputs": [
    {
     "name": "stdout",
     "output_type": "stream",
     "text": [
      "Collecting scikit-learn==0.21.3\n",
      "  Using cached scikit-learn-0.21.3.tar.gz (12.2 MB)\n",
      "  Preparing metadata (setup.py): started\n",
      "  Preparing metadata (setup.py): finished with status 'done'\n",
      "Requirement already satisfied: numpy>=1.11.0 in c:\\python39\\lib\\site-packages (from scikit-learn==0.21.3) (1.23.2)\n",
      "Requirement already satisfied: scipy>=0.17.0 in c:\\python39\\lib\\site-packages (from scikit-learn==0.21.3) (1.9.1)\n",
      "Requirement already satisfied: joblib>=0.11 in c:\\python39\\lib\\site-packages (from scikit-learn==0.21.3) (1.2.0)\n",
      "Building wheels for collected packages: scikit-learn\n",
      "  Building wheel for scikit-learn (setup.py): started\n",
      "  Building wheel for scikit-learn (setup.py): finished with status 'error'\n",
      "  Running setup.py clean for scikit-learn\n",
      "Failed to build scikit-learn\n",
      "Installing collected packages: scikit-learn\n",
      "  Attempting uninstall: scikit-learn\n",
      "    Found existing installation: scikit-learn 1.1.2\n",
      "    Uninstalling scikit-learn-1.1.2:\n",
      "      Successfully uninstalled scikit-learn-1.1.2\n",
      "  Running setup.py install for scikit-learn: started\n",
      "  Running setup.py install for scikit-learn: finished with status 'error'\n",
      "  Rolling back uninstall of scikit-learn\n",
      "  Moving to c:\\python39\\lib\\site-packages\\scikit_learn-1.1.2.dist-info\\\n",
      "   from C:\\Python39\\Lib\\site-packages\\~cikit_learn-1.1.2.dist-info\n",
      "  Moving to c:\\python39\\lib\\site-packages\\sklearn\\\n",
      "   from C:\\Python39\\Lib\\site-packages\\~klearn\n"
     ]
    },
    {
     "name": "stderr",
     "output_type": "stream",
     "text": [
      "  error: subprocess-exited-with-error\n",
      "  \n",
      "  × python setup.py bdist_wheel did not run successfully.\n",
      "  │ exit code: 1\n",
      "  ╰─> [40 lines of output]\n",
      "      Partial import of sklearn during the build process.\n",
      "      C:\\Users\\Shubham\\AppData\\Local\\Temp\\pip-install-ti0xkg3f\\scikit-learn_20eb67429b04439f9805f36b5699be39\\setup.py:122: DeprecationWarning:\n",
      "      \n",
      "        `numpy.distutils` is deprecated since NumPy 1.23.0, as a result\n",
      "        of the deprecation of `distutils` itself. It will be removed for\n",
      "        Python >= 3.12. For older Python versions it will remain present.\n",
      "        It is recommended to use `setuptools < 60.0` for those Python versions.\n",
      "        For more details, see:\n",
      "          https://numpy.org/devdocs/reference/distutils_status_migration.html\n",
      "      \n",
      "      \n",
      "        from numpy.distutils.command.build_ext import build_ext  # noqa\n",
      "      Traceback (most recent call last):\n",
      "        File \"<string>\", line 2, in <module>\n",
      "        File \"<pip-setuptools-caller>\", line 34, in <module>\n",
      "        File \"C:\\Users\\Shubham\\AppData\\Local\\Temp\\pip-install-ti0xkg3f\\scikit-learn_20eb67429b04439f9805f36b5699be39\\setup.py\", line 290, in <module>\n",
      "          setup_package()\n",
      "        File \"C:\\Users\\Shubham\\AppData\\Local\\Temp\\pip-install-ti0xkg3f\\scikit-learn_20eb67429b04439f9805f36b5699be39\\setup.py\", line 286, in setup_package\n",
      "          setup(**metadata)\n",
      "        File \"C:\\Python39\\lib\\site-packages\\numpy\\distutils\\core.py\", line 135, in setup\n",
      "          config = configuration()\n",
      "        File \"C:\\Users\\Shubham\\AppData\\Local\\Temp\\pip-install-ti0xkg3f\\scikit-learn_20eb67429b04439f9805f36b5699be39\\setup.py\", line 174, in configuration\n",
      "          config.add_subpackage('sklearn')\n",
      "        File \"C:\\Python39\\lib\\site-packages\\numpy\\distutils\\misc_util.py\", line 1050, in add_subpackage\n",
      "          config_list = self.get_subpackage(subpackage_name, subpackage_path,\n",
      "        File \"C:\\Python39\\lib\\site-packages\\numpy\\distutils\\misc_util.py\", line 1016, in get_subpackage\n",
      "          config = self._get_configuration_from_setup_py(\n",
      "        File \"C:\\Python39\\lib\\site-packages\\numpy\\distutils\\misc_util.py\", line 958, in _get_configuration_from_setup_py\n",
      "          config = setup_module.configuration(*args)\n",
      "        File \"sklearn\\setup.py\", line 62, in configuration\n",
      "          config.add_subpackage('utils')\n",
      "        File \"C:\\Python39\\lib\\site-packages\\numpy\\distutils\\misc_util.py\", line 1050, in add_subpackage\n",
      "          config_list = self.get_subpackage(subpackage_name, subpackage_path,\n",
      "        File \"C:\\Python39\\lib\\site-packages\\numpy\\distutils\\misc_util.py\", line 1016, in get_subpackage\n",
      "          config = self._get_configuration_from_setup_py(\n",
      "        File \"C:\\Python39\\lib\\site-packages\\numpy\\distutils\\misc_util.py\", line 958, in _get_configuration_from_setup_py\n",
      "          config = setup_module.configuration(*args)\n",
      "        File \"sklearn\\utils\\setup.py\", line 8, in configuration\n",
      "          from Cython import Tempita\n",
      "      ModuleNotFoundError: No module named 'Cython'\n",
      "      [end of output]\n",
      "  \n",
      "  note: This error originates from a subprocess, and is likely not a problem with pip.\n",
      "  ERROR: Failed building wheel for scikit-learn\n",
      "  error: subprocess-exited-with-error\n",
      "  \n",
      "  × Running setup.py install for scikit-learn did not run successfully.\n",
      "  │ exit code: 1\n",
      "  ╰─> [40 lines of output]\n",
      "      Partial import of sklearn during the build process.\n",
      "      C:\\Users\\Shubham\\AppData\\Local\\Temp\\pip-install-ti0xkg3f\\scikit-learn_20eb67429b04439f9805f36b5699be39\\setup.py:122: DeprecationWarning:\n",
      "      \n",
      "        `numpy.distutils` is deprecated since NumPy 1.23.0, as a result\n",
      "        of the deprecation of `distutils` itself. It will be removed for\n",
      "        Python >= 3.12. For older Python versions it will remain present.\n",
      "        It is recommended to use `setuptools < 60.0` for those Python versions.\n",
      "        For more details, see:\n",
      "          https://numpy.org/devdocs/reference/distutils_status_migration.html\n",
      "      \n",
      "      \n",
      "        from numpy.distutils.command.build_ext import build_ext  # noqa\n",
      "      Traceback (most recent call last):\n",
      "        File \"<string>\", line 2, in <module>\n",
      "        File \"<pip-setuptools-caller>\", line 34, in <module>\n",
      "        File \"C:\\Users\\Shubham\\AppData\\Local\\Temp\\pip-install-ti0xkg3f\\scikit-learn_20eb67429b04439f9805f36b5699be39\\setup.py\", line 290, in <module>\n",
      "          setup_package()\n",
      "        File \"C:\\Users\\Shubham\\AppData\\Local\\Temp\\pip-install-ti0xkg3f\\scikit-learn_20eb67429b04439f9805f36b5699be39\\setup.py\", line 286, in setup_package\n",
      "          setup(**metadata)\n",
      "        File \"C:\\Python39\\lib\\site-packages\\numpy\\distutils\\core.py\", line 135, in setup\n",
      "          config = configuration()\n",
      "        File \"C:\\Users\\Shubham\\AppData\\Local\\Temp\\pip-install-ti0xkg3f\\scikit-learn_20eb67429b04439f9805f36b5699be39\\setup.py\", line 174, in configuration\n",
      "          config.add_subpackage('sklearn')\n",
      "        File \"C:\\Python39\\lib\\site-packages\\numpy\\distutils\\misc_util.py\", line 1050, in add_subpackage\n",
      "          config_list = self.get_subpackage(subpackage_name, subpackage_path,\n",
      "        File \"C:\\Python39\\lib\\site-packages\\numpy\\distutils\\misc_util.py\", line 1016, in get_subpackage\n",
      "          config = self._get_configuration_from_setup_py(\n",
      "        File \"C:\\Python39\\lib\\site-packages\\numpy\\distutils\\misc_util.py\", line 958, in _get_configuration_from_setup_py\n",
      "          config = setup_module.configuration(*args)\n",
      "        File \"sklearn\\setup.py\", line 62, in configuration\n",
      "          config.add_subpackage('utils')\n",
      "        File \"C:\\Python39\\lib\\site-packages\\numpy\\distutils\\misc_util.py\", line 1050, in add_subpackage\n",
      "          config_list = self.get_subpackage(subpackage_name, subpackage_path,\n",
      "        File \"C:\\Python39\\lib\\site-packages\\numpy\\distutils\\misc_util.py\", line 1016, in get_subpackage\n",
      "          config = self._get_configuration_from_setup_py(\n",
      "        File \"C:\\Python39\\lib\\site-packages\\numpy\\distutils\\misc_util.py\", line 958, in _get_configuration_from_setup_py\n",
      "          config = setup_module.configuration(*args)\n",
      "        File \"sklearn\\utils\\setup.py\", line 8, in configuration\n",
      "          from Cython import Tempita\n",
      "      ModuleNotFoundError: No module named 'Cython'\n",
      "      [end of output]\n",
      "  \n",
      "  note: This error originates from a subprocess, and is likely not a problem with pip.\n",
      "error: legacy-install-failure\n",
      "\n",
      "× Encountered error while trying to install package.\n",
      "╰─> scikit-learn\n",
      "\n",
      "note: This is an issue with the package mentioned above, not pip.\n",
      "hint: See above for output from the failure.\n"
     ]
    }
   ],
   "source": [
    "# To install only the requirements of this notebook, uncomment the lines below and run this cell\n",
    "\n",
    "# ===========================\n",
    "\n",
    "!pip install scikit-learn==0.21.3\n",
    "\n",
    "# ==========================="
   ]
  },
  {
   "cell_type": "code",
   "execution_count": 48,
   "metadata": {},
   "outputs": [],
   "source": [
    "# To install the requirements for the entire chapter, uncomment the lines below and run this cell\n",
    "\n",
    "# ===========================\n",
    "\n",
    "# try :\n",
    "#     import google.colab\n",
    "#     !curl https://raw.githubusercontent.com/practical-nlp/practical-nlp/master/Ch3/ch3-requirements.txt | xargs -n 1 -L 1 pip install\n",
    "# except ModuleNotFoundError :\n",
    "#     !pip install -r \"ch3-requirements.txt\"\n",
    "\n",
    "# ==========================="
   ]
  },
  {
   "cell_type": "code",
   "execution_count": 49,
   "metadata": {},
   "outputs": [
    {
     "data": {
      "text/plain": [
       "['dog bites man', 'man bites dog', 'dog eats meat', 'man eats food']"
      ]
     },
     "execution_count": 49,
     "metadata": {},
     "output_type": "execute_result"
    }
   ],
   "source": [
    "documents = [\"Dog bites man.\", \"Man bites dog.\", \"Dog eats meat.\", \"Man eats food.\"]\n",
    "processed_docs = [doc.lower().replace(\".\",\"\") for doc in documents]\n",
    "processed_docs"
   ]
  },
  {
   "cell_type": "code",
   "execution_count": 50,
   "metadata": {},
   "outputs": [
    {
     "name": "stdout",
     "output_type": "stream",
     "text": [
      "{'dog': 1, 'bites': 2, 'man': 3, 'eats': 4, 'meat': 5, 'food': 6}\n"
     ]
    }
   ],
   "source": [
    "#Build the vocabulary\n",
    "vocab = {}\n",
    "count = 0\n",
    "for doc in processed_docs:\n",
    "    for word in doc.split():\n",
    "        if word not in vocab:\n",
    "            count = count +1\n",
    "            vocab[word] = count\n",
    "print(vocab)"
   ]
  },
  {
   "cell_type": "code",
   "execution_count": 51,
   "metadata": {},
   "outputs": [],
   "source": [
    "#Get one hot representation for any string based on this vocabulary. \n",
    "#If the word exists in the vocabulary, its representation is returned. \n",
    "#If not, a list of zeroes is returned for that word. \n",
    "def get_onehot_vector(somestring):\n",
    "    onehot_encoded = []\n",
    "    for word in somestring.split():\n",
    "        temp = [0]*len(vocab)\n",
    "        if word in vocab:\n",
    "            temp[vocab[word]-1] = 1 # -1 is to take care of the fact indexing in array starts from 0 and not 1\n",
    "        onehot_encoded.append(temp)\n",
    "    return onehot_encoded"
   ]
  },
  {
   "cell_type": "code",
   "execution_count": 52,
   "metadata": {},
   "outputs": [
    {
     "name": "stdout",
     "output_type": "stream",
     "text": [
      "man bites dog\n"
     ]
    },
    {
     "data": {
      "text/plain": [
       "[[0, 0, 1, 0, 0, 0], [0, 1, 0, 0, 0, 0], [1, 0, 0, 0, 0, 0]]"
      ]
     },
     "execution_count": 52,
     "metadata": {},
     "output_type": "execute_result"
    }
   ],
   "source": [
    "print(processed_docs[1])\n",
    "get_onehot_vector(processed_docs[1]) #one hot representation for a text from our corpus."
   ]
  },
  {
   "cell_type": "code",
   "execution_count": 53,
   "metadata": {},
   "outputs": [
    {
     "data": {
      "text/plain": [
       "[[0, 0, 1, 0, 0, 0],\n",
       " [0, 0, 0, 0, 0, 0],\n",
       " [1, 0, 0, 0, 0, 0],\n",
       " [0, 0, 0, 0, 0, 0],\n",
       " [0, 0, 0, 0, 0, 0]]"
      ]
     },
     "execution_count": 53,
     "metadata": {},
     "output_type": "execute_result"
    }
   ],
   "source": [
    "get_onehot_vector(\"man and dog are good\") \n",
    "#one hot representation for a random text, using the above vocabulary"
   ]
  },
  {
   "cell_type": "code",
   "execution_count": 54,
   "metadata": {},
   "outputs": [
    {
     "data": {
      "text/plain": [
       "[[0, 0, 1, 0, 0, 0],\n",
       " [0, 0, 0, 0, 0, 0],\n",
       " [0, 0, 1, 0, 0, 0],\n",
       " [0, 0, 0, 0, 0, 0],\n",
       " [0, 0, 0, 0, 0, 0]]"
      ]
     },
     "execution_count": 54,
     "metadata": {},
     "output_type": "execute_result"
    }
   ],
   "source": [
    "get_onehot_vector(\"man and man are good\") "
   ]
  },
  {
   "cell_type": "markdown",
   "metadata": {},
   "source": [
    "## One-hot encoding using scikit -learn\n",
    "##### We encode our corpus as a one-hot numeric array using scikit-learn's OneHotEncoder.\n",
    "##### We will demostrate:\n",
    "\n",
    "*   One Hot Encoding: In one-hot encoding, each word w in corpus vocabulary is given a unique integer id wid that is between 1 and |V|, where V is the set of corpus vocab. Each word is then represented by a V-dimensional binary vector of 0s and 1s.\n",
    "\n",
    "*   Label Encoding: In Label Encoding, each word w in our corpus is converted into a numeric value between 0 and n-1 (where n refers to number of unique words in our corpus).\n",
    "\n",
    "##### Link for the official documentation of both can be found [here](https://scikit-learn.org/stable/modules/generated/sklearn.preprocessing.OneHotEncoder.html) and [here](https://scikit-learn.org/stable/modules/generated/sklearn.preprocessing.LabelEncoder.html) respectively.\n",
    "\n",
    "\n",
    "\n",
    "\n",
    "\n",
    "\n"
   ]
  },
  {
   "cell_type": "code",
   "execution_count": 55,
   "metadata": {},
   "outputs": [],
   "source": [
    "S1 = 'dog bites man'\n",
    "S2 = 'man bites dog'\n",
    "S3 = 'dog eats meat'\n",
    "S4 = 'man eats food'"
   ]
  },
  {
   "cell_type": "code",
   "execution_count": 56,
   "metadata": {},
   "outputs": [
    {
     "name": "stdout",
     "output_type": "stream",
     "text": [
      "The data:  ['dog', 'bites', 'man', 'man', 'bites', 'dog', 'dog', 'eats', 'meat', 'man', 'eats', 'food']\n",
      "Label Encoded: [1 0 4 4 0 1 1 2 5 4 2 3]\n",
      "Onehot Encoded Matrix:\n",
      " [[1. 0. 1. 0. 0. 0. 1. 0.]\n",
      " [0. 1. 1. 0. 1. 0. 0. 0.]\n",
      " [1. 0. 0. 1. 0. 0. 0. 1.]\n",
      " [0. 1. 0. 1. 0. 1. 0. 0.]]\n"
     ]
    }
   ],
   "source": [
    "from sklearn.preprocessing import LabelEncoder, OneHotEncoder\n",
    "\n",
    "data = [S1.split(), S2.split(), S3.split(), S4.split()]\n",
    "values = data[0]+data[1]+data[2]+data[3]\n",
    "print(\"The data: \",values)\n",
    "\n",
    "#Label Encoding\n",
    "label_encoder = LabelEncoder()\n",
    "integer_encoded = label_encoder.fit_transform(values)\n",
    "print(\"Label Encoded:\",integer_encoded)\n",
    "\n",
    "#One-Hot Encoding\n",
    "onehot_encoder = OneHotEncoder()\n",
    "onehot_encoded = onehot_encoder.fit_transform(data).toarray()\n",
    "print(\"Onehot Encoded Matrix:\\n\",onehot_encoded)\n"
   ]
  },
  {
   "cell_type": "markdown",
   "metadata": {},
   "source": []
  },
  {
   "attachments": {},
   "cell_type": "markdown",
   "metadata": {},
   "source": [
    "# 2"
   ]
  },
  {
   "cell_type": "markdown",
   "metadata": {},
   "source": []
  },
  {
   "cell_type": "markdown",
   "metadata": {},
   "source": [
    "## Bag of Words\n",
    "\n",
    "In the last notebook, we saw how to get the one hot encoding representation for our toy corpus. In this notebook we will see how to use bag of words representation for the same data.."
   ]
  },
  {
   "cell_type": "markdown",
   "metadata": {},
   "source": [
    "## One Hot Encoding of text\n",
    "\n",
    "This implements one hot encoding. \n",
    " \n",
    "In real world projects one mostly uses scikit -learn’s implementation of one hot encoding"
   ]
  },
  {
   "cell_type": "code",
   "execution_count": 57,
   "metadata": {},
   "outputs": [
    {
     "name": "stdout",
     "output_type": "stream",
     "text": [
      "Collecting scikit-learn==0.21.3\n",
      "  Using cached scikit-learn-0.21.3.tar.gz (12.2 MB)\n",
      "  Preparing metadata (setup.py): started\n",
      "  Preparing metadata (setup.py): finished with status 'done'\n",
      "Requirement already satisfied: numpy>=1.11.0 in c:\\python39\\lib\\site-packages (from scikit-learn==0.21.3) (1.23.2)\n",
      "Requirement already satisfied: scipy>=0.17.0 in c:\\python39\\lib\\site-packages (from scikit-learn==0.21.3) (1.9.1)\n",
      "Requirement already satisfied: joblib>=0.11 in c:\\python39\\lib\\site-packages (from scikit-learn==0.21.3) (1.2.0)\n",
      "Building wheels for collected packages: scikit-learn\n",
      "  Building wheel for scikit-learn (setup.py): started\n",
      "  Building wheel for scikit-learn (setup.py): finished with status 'error'\n",
      "  Running setup.py clean for scikit-learn\n",
      "Failed to build scikit-learn\n",
      "Installing collected packages: scikit-learn\n",
      "  Attempting uninstall: scikit-learn\n",
      "    Found existing installation: scikit-learn 1.1.2\n",
      "    Uninstalling scikit-learn-1.1.2:\n",
      "      Successfully uninstalled scikit-learn-1.1.2\n",
      "  Running setup.py install for scikit-learn: started\n",
      "  Running setup.py install for scikit-learn: finished with status 'error'\n",
      "  Rolling back uninstall of scikit-learn\n",
      "  Moving to c:\\python39\\lib\\site-packages\\scikit_learn-1.1.2.dist-info\\\n",
      "   from C:\\Python39\\Lib\\site-packages\\~cikit_learn-1.1.2.dist-info\n",
      "  Moving to c:\\python39\\lib\\site-packages\\sklearn\\\n",
      "   from C:\\Python39\\Lib\\site-packages\\~klearn\n"
     ]
    },
    {
     "name": "stderr",
     "output_type": "stream",
     "text": [
      "  error: subprocess-exited-with-error\n",
      "  \n",
      "  × python setup.py bdist_wheel did not run successfully.\n",
      "  │ exit code: 1\n",
      "  ╰─> [40 lines of output]\n",
      "      Partial import of sklearn during the build process.\n",
      "      C:\\Users\\Shubham\\AppData\\Local\\Temp\\pip-install-4do2666m\\scikit-learn_9900f6918d84409098269f9306fa4a59\\setup.py:122: DeprecationWarning:\n",
      "      \n",
      "        `numpy.distutils` is deprecated since NumPy 1.23.0, as a result\n",
      "        of the deprecation of `distutils` itself. It will be removed for\n",
      "        Python >= 3.12. For older Python versions it will remain present.\n",
      "        It is recommended to use `setuptools < 60.0` for those Python versions.\n",
      "        For more details, see:\n",
      "          https://numpy.org/devdocs/reference/distutils_status_migration.html\n",
      "      \n",
      "      \n",
      "        from numpy.distutils.command.build_ext import build_ext  # noqa\n",
      "      Traceback (most recent call last):\n",
      "        File \"<string>\", line 2, in <module>\n",
      "        File \"<pip-setuptools-caller>\", line 34, in <module>\n",
      "        File \"C:\\Users\\Shubham\\AppData\\Local\\Temp\\pip-install-4do2666m\\scikit-learn_9900f6918d84409098269f9306fa4a59\\setup.py\", line 290, in <module>\n",
      "          setup_package()\n",
      "        File \"C:\\Users\\Shubham\\AppData\\Local\\Temp\\pip-install-4do2666m\\scikit-learn_9900f6918d84409098269f9306fa4a59\\setup.py\", line 286, in setup_package\n",
      "          setup(**metadata)\n",
      "        File \"C:\\Python39\\lib\\site-packages\\numpy\\distutils\\core.py\", line 135, in setup\n",
      "          config = configuration()\n",
      "        File \"C:\\Users\\Shubham\\AppData\\Local\\Temp\\pip-install-4do2666m\\scikit-learn_9900f6918d84409098269f9306fa4a59\\setup.py\", line 174, in configuration\n",
      "          config.add_subpackage('sklearn')\n",
      "        File \"C:\\Python39\\lib\\site-packages\\numpy\\distutils\\misc_util.py\", line 1050, in add_subpackage\n",
      "          config_list = self.get_subpackage(subpackage_name, subpackage_path,\n",
      "        File \"C:\\Python39\\lib\\site-packages\\numpy\\distutils\\misc_util.py\", line 1016, in get_subpackage\n",
      "          config = self._get_configuration_from_setup_py(\n",
      "        File \"C:\\Python39\\lib\\site-packages\\numpy\\distutils\\misc_util.py\", line 958, in _get_configuration_from_setup_py\n",
      "          config = setup_module.configuration(*args)\n",
      "        File \"sklearn\\setup.py\", line 62, in configuration\n",
      "          config.add_subpackage('utils')\n",
      "        File \"C:\\Python39\\lib\\site-packages\\numpy\\distutils\\misc_util.py\", line 1050, in add_subpackage\n",
      "          config_list = self.get_subpackage(subpackage_name, subpackage_path,\n",
      "        File \"C:\\Python39\\lib\\site-packages\\numpy\\distutils\\misc_util.py\", line 1016, in get_subpackage\n",
      "          config = self._get_configuration_from_setup_py(\n",
      "        File \"C:\\Python39\\lib\\site-packages\\numpy\\distutils\\misc_util.py\", line 958, in _get_configuration_from_setup_py\n",
      "          config = setup_module.configuration(*args)\n",
      "        File \"sklearn\\utils\\setup.py\", line 8, in configuration\n",
      "          from Cython import Tempita\n",
      "      ModuleNotFoundError: No module named 'Cython'\n",
      "      [end of output]\n",
      "  \n",
      "  note: This error originates from a subprocess, and is likely not a problem with pip.\n",
      "  ERROR: Failed building wheel for scikit-learn\n",
      "  error: subprocess-exited-with-error\n",
      "  \n",
      "  × Running setup.py install for scikit-learn did not run successfully.\n",
      "  │ exit code: 1\n",
      "  ╰─> [40 lines of output]\n",
      "      Partial import of sklearn during the build process.\n",
      "      C:\\Users\\Shubham\\AppData\\Local\\Temp\\pip-install-4do2666m\\scikit-learn_9900f6918d84409098269f9306fa4a59\\setup.py:122: DeprecationWarning:\n",
      "      \n",
      "        `numpy.distutils` is deprecated since NumPy 1.23.0, as a result\n",
      "        of the deprecation of `distutils` itself. It will be removed for\n",
      "        Python >= 3.12. For older Python versions it will remain present.\n",
      "        It is recommended to use `setuptools < 60.0` for those Python versions.\n",
      "        For more details, see:\n",
      "          https://numpy.org/devdocs/reference/distutils_status_migration.html\n",
      "      \n",
      "      \n",
      "        from numpy.distutils.command.build_ext import build_ext  # noqa\n",
      "      Traceback (most recent call last):\n",
      "        File \"<string>\", line 2, in <module>\n",
      "        File \"<pip-setuptools-caller>\", line 34, in <module>\n",
      "        File \"C:\\Users\\Shubham\\AppData\\Local\\Temp\\pip-install-4do2666m\\scikit-learn_9900f6918d84409098269f9306fa4a59\\setup.py\", line 290, in <module>\n",
      "          setup_package()\n",
      "        File \"C:\\Users\\Shubham\\AppData\\Local\\Temp\\pip-install-4do2666m\\scikit-learn_9900f6918d84409098269f9306fa4a59\\setup.py\", line 286, in setup_package\n",
      "          setup(**metadata)\n",
      "        File \"C:\\Python39\\lib\\site-packages\\numpy\\distutils\\core.py\", line 135, in setup\n",
      "          config = configuration()\n",
      "        File \"C:\\Users\\Shubham\\AppData\\Local\\Temp\\pip-install-4do2666m\\scikit-learn_9900f6918d84409098269f9306fa4a59\\setup.py\", line 174, in configuration\n",
      "          config.add_subpackage('sklearn')\n",
      "        File \"C:\\Python39\\lib\\site-packages\\numpy\\distutils\\misc_util.py\", line 1050, in add_subpackage\n",
      "          config_list = self.get_subpackage(subpackage_name, subpackage_path,\n",
      "        File \"C:\\Python39\\lib\\site-packages\\numpy\\distutils\\misc_util.py\", line 1016, in get_subpackage\n",
      "          config = self._get_configuration_from_setup_py(\n",
      "        File \"C:\\Python39\\lib\\site-packages\\numpy\\distutils\\misc_util.py\", line 958, in _get_configuration_from_setup_py\n",
      "          config = setup_module.configuration(*args)\n",
      "        File \"sklearn\\setup.py\", line 62, in configuration\n",
      "          config.add_subpackage('utils')\n",
      "        File \"C:\\Python39\\lib\\site-packages\\numpy\\distutils\\misc_util.py\", line 1050, in add_subpackage\n",
      "          config_list = self.get_subpackage(subpackage_name, subpackage_path,\n",
      "        File \"C:\\Python39\\lib\\site-packages\\numpy\\distutils\\misc_util.py\", line 1016, in get_subpackage\n",
      "          config = self._get_configuration_from_setup_py(\n",
      "        File \"C:\\Python39\\lib\\site-packages\\numpy\\distutils\\misc_util.py\", line 958, in _get_configuration_from_setup_py\n",
      "          config = setup_module.configuration(*args)\n",
      "        File \"sklearn\\utils\\setup.py\", line 8, in configuration\n",
      "          from Cython import Tempita\n",
      "      ModuleNotFoundError: No module named 'Cython'\n",
      "      [end of output]\n",
      "  \n",
      "  note: This error originates from a subprocess, and is likely not a problem with pip.\n",
      "error: legacy-install-failure\n",
      "\n",
      "× Encountered error while trying to install package.\n",
      "╰─> scikit-learn\n",
      "\n",
      "note: This is an issue with the package mentioned above, not pip.\n",
      "hint: See above for output from the failure.\n"
     ]
    }
   ],
   "source": [
    "# To install only the requirements of this notebook, uncomment the lines below and run this cell\n",
    "\n",
    "# ===========================\n",
    "\n",
    "!pip install scikit-learn==0.21.3\n",
    "\n",
    "# ==========================="
   ]
  },
  {
   "cell_type": "code",
   "execution_count": 58,
   "metadata": {},
   "outputs": [],
   "source": [
    "# To install the requirements for the entire chapter, uncomment the lines below and run this cell\n",
    "\n",
    "# ===========================\n",
    "\n",
    "# try :\n",
    "#     import google.colab\n",
    "#     !curl https://raw.githubusercontent.com/practical-nlp/practical-nlp/master/Ch3/ch3-requirements.txt | xargs -n 1 -L 1 pip install\n",
    "# except ModuleNotFoundError :\n",
    "#     !pip install -r \"ch3-requirements.txt\"\n",
    "\n",
    "# ==========================="
   ]
  },
  {
   "cell_type": "code",
   "execution_count": 59,
   "metadata": {},
   "outputs": [
    {
     "data": {
      "text/plain": [
       "['dog bites man', 'man bites dog', 'dog eats meat', 'man eats food']"
      ]
     },
     "execution_count": 59,
     "metadata": {},
     "output_type": "execute_result"
    }
   ],
   "source": [
    "documents = [\"Dog bites man.\", \"Man bites dog.\", \"Dog eats meat.\", \"Man eats food.\"]\n",
    "processed_docs = [doc.lower().replace(\".\",\"\") for doc in documents]\n",
    "processed_docs"
   ]
  },
  {
   "cell_type": "code",
   "execution_count": 60,
   "metadata": {},
   "outputs": [
    {
     "name": "stdout",
     "output_type": "stream",
     "text": [
      "{'dog': 1, 'bites': 2, 'man': 3, 'eats': 4, 'meat': 5, 'food': 6}\n"
     ]
    }
   ],
   "source": [
    "#Build the vocabulary\n",
    "vocab = {}\n",
    "count = 0\n",
    "for doc in processed_docs:\n",
    "    for word in doc.split():\n",
    "        if word not in vocab:\n",
    "            count = count +1\n",
    "            vocab[word] = count\n",
    "print(vocab)"
   ]
  },
  {
   "cell_type": "code",
   "execution_count": 61,
   "metadata": {},
   "outputs": [],
   "source": [
    "#Get one hot representation for any string based on this vocabulary. \n",
    "#If the word exists in the vocabulary, its representation is returned. \n",
    "#If not, a list of zeroes is returned for that word. \n",
    "def get_onehot_vector(somestring):\n",
    "    onehot_encoded = []\n",
    "    for word in somestring.split():\n",
    "        temp = [0]*len(vocab)\n",
    "        if word in vocab:\n",
    "            temp[vocab[word]-1] = 1 # -1 is to take care of the fact indexing in array starts from 0 and not 1\n",
    "        onehot_encoded.append(temp)\n",
    "    return onehot_encoded"
   ]
  },
  {
   "cell_type": "code",
   "execution_count": 62,
   "metadata": {},
   "outputs": [
    {
     "name": "stdout",
     "output_type": "stream",
     "text": [
      "man bites dog\n"
     ]
    },
    {
     "data": {
      "text/plain": [
       "[[0, 0, 1, 0, 0, 0], [0, 1, 0, 0, 0, 0], [1, 0, 0, 0, 0, 0]]"
      ]
     },
     "execution_count": 62,
     "metadata": {},
     "output_type": "execute_result"
    }
   ],
   "source": [
    "print(processed_docs[1])\n",
    "get_onehot_vector(processed_docs[1]) #one hot representation for a text from our corpus."
   ]
  },
  {
   "cell_type": "code",
   "execution_count": 63,
   "metadata": {},
   "outputs": [
    {
     "data": {
      "text/plain": [
       "[[0, 0, 1, 0, 0, 0],\n",
       " [0, 0, 0, 0, 0, 0],\n",
       " [1, 0, 0, 0, 0, 0],\n",
       " [0, 0, 0, 0, 0, 0],\n",
       " [0, 0, 0, 0, 0, 0]]"
      ]
     },
     "execution_count": 63,
     "metadata": {},
     "output_type": "execute_result"
    }
   ],
   "source": [
    "get_onehot_vector(\"man and dog are good\") \n",
    "#one hot representation for a random text, using the above vocabulary"
   ]
  },
  {
   "cell_type": "code",
   "execution_count": 64,
   "metadata": {},
   "outputs": [
    {
     "data": {
      "text/plain": [
       "[[0, 0, 1, 0, 0, 0],\n",
       " [0, 0, 0, 0, 0, 0],\n",
       " [0, 0, 1, 0, 0, 0],\n",
       " [0, 0, 0, 0, 0, 0],\n",
       " [0, 0, 0, 0, 0, 0]]"
      ]
     },
     "execution_count": 64,
     "metadata": {},
     "output_type": "execute_result"
    }
   ],
   "source": [
    "get_onehot_vector(\"man and man are good\") "
   ]
  },
  {
   "cell_type": "markdown",
   "metadata": {},
   "source": [
    "## One-hot encoding using scikit -learn\n",
    "##### We encode our corpus as a one-hot numeric array using scikit-learn's OneHotEncoder.\n",
    "##### We will demostrate:\n",
    "\n",
    "*   One Hot Encoding: In one-hot encoding, each word w in corpus vocabulary is given a unique integer id wid that is between 1 and |V|, where V is the set of corpus vocab. Each word is then represented by a V-dimensional binary vector of 0s and 1s.\n",
    "\n",
    "*   Label Encoding: In Label Encoding, each word w in our corpus is converted into a numeric value between 0 and n-1 (where n refers to number of unique words in our corpus).\n",
    "\n",
    "##### Link for the official documentation of both can be found [here](https://scikit-learn.org/stable/modules/generated/sklearn.preprocessing.OneHotEncoder.html) and [here](https://scikit-learn.org/stable/modules/generated/sklearn.preprocessing.LabelEncoder.html) respectively.\n",
    "\n",
    "\n",
    "\n",
    "\n",
    "\n",
    "\n"
   ]
  },
  {
   "cell_type": "code",
   "execution_count": 65,
   "metadata": {},
   "outputs": [],
   "source": [
    "S1 = 'dog bites man'\n",
    "S2 = 'man bites dog'\n",
    "S3 = 'dog eats meat'\n",
    "S4 = 'man eats food'"
   ]
  },
  {
   "cell_type": "code",
   "execution_count": 66,
   "metadata": {},
   "outputs": [
    {
     "name": "stdout",
     "output_type": "stream",
     "text": [
      "The data:  ['dog', 'bites', 'man', 'man', 'bites', 'dog', 'dog', 'eats', 'meat', 'man', 'eats', 'food']\n",
      "Label Encoded: [1 0 4 4 0 1 1 2 5 4 2 3]\n",
      "Onehot Encoded Matrix:\n",
      " [[1. 0. 1. 0. 0. 0. 1. 0.]\n",
      " [0. 1. 1. 0. 1. 0. 0. 0.]\n",
      " [1. 0. 0. 1. 0. 0. 0. 1.]\n",
      " [0. 1. 0. 1. 0. 1. 0. 0.]]\n"
     ]
    }
   ],
   "source": [
    "from sklearn.preprocessing import LabelEncoder, OneHotEncoder\n",
    "\n",
    "data = [S1.split(), S2.split(), S3.split(), S4.split()]\n",
    "values = data[0]+data[1]+data[2]+data[3]\n",
    "print(\"The data: \",values)\n",
    "\n",
    "#Label Encoding\n",
    "label_encoder = LabelEncoder()\n",
    "integer_encoded = label_encoder.fit_transform(values)\n",
    "print(\"Label Encoded:\",integer_encoded)\n",
    "\n",
    "#One-Hot Encoding\n",
    "onehot_encoder = OneHotEncoder()\n",
    "onehot_encoded = onehot_encoder.fit_transform(data).toarray()\n",
    "print(\"Onehot Encoded Matrix:\\n\",onehot_encoded)\n"
   ]
  },
  {
   "cell_type": "code",
   "execution_count": 67,
   "metadata": {},
   "outputs": [
    {
     "name": "stdout",
     "output_type": "stream",
     "text": [
      "Collecting scikit-learn==0.21.3\n",
      "  Using cached scikit-learn-0.21.3.tar.gz (12.2 MB)\n",
      "  Preparing metadata (setup.py): started\n",
      "  Preparing metadata (setup.py): finished with status 'done'\n",
      "Requirement already satisfied: numpy>=1.11.0 in c:\\python39\\lib\\site-packages (from scikit-learn==0.21.3) (1.23.2)\n",
      "Requirement already satisfied: scipy>=0.17.0 in c:\\python39\\lib\\site-packages (from scikit-learn==0.21.3) (1.9.1)\n",
      "Requirement already satisfied: joblib>=0.11 in c:\\python39\\lib\\site-packages (from scikit-learn==0.21.3) (1.2.0)\n",
      "Building wheels for collected packages: scikit-learn\n",
      "  Building wheel for scikit-learn (setup.py): started\n",
      "  Building wheel for scikit-learn (setup.py): finished with status 'error'\n",
      "  Running setup.py clean for scikit-learn\n",
      "Failed to build scikit-learn\n",
      "Installing collected packages: scikit-learn\n",
      "  Attempting uninstall: scikit-learn\n",
      "    Found existing installation: scikit-learn 1.1.2\n",
      "    Uninstalling scikit-learn-1.1.2:\n",
      "      Successfully uninstalled scikit-learn-1.1.2\n",
      "  Running setup.py install for scikit-learn: started\n",
      "  Running setup.py install for scikit-learn: finished with status 'error'\n",
      "  Rolling back uninstall of scikit-learn\n",
      "  Moving to c:\\python39\\lib\\site-packages\\scikit_learn-1.1.2.dist-info\\\n",
      "   from C:\\Python39\\Lib\\site-packages\\~cikit_learn-1.1.2.dist-info\n",
      "  Moving to c:\\python39\\lib\\site-packages\\sklearn\\\n",
      "   from C:\\Python39\\Lib\\site-packages\\~klearn\n"
     ]
    },
    {
     "name": "stderr",
     "output_type": "stream",
     "text": [
      "  error: subprocess-exited-with-error\n",
      "  \n",
      "  × python setup.py bdist_wheel did not run successfully.\n",
      "  │ exit code: 1\n",
      "  ╰─> [40 lines of output]\n",
      "      Partial import of sklearn during the build process.\n",
      "      C:\\Users\\Shubham\\AppData\\Local\\Temp\\pip-install-2t_ud6n1\\scikit-learn_06749d9e6ae94dc9a98b0f80bca67842\\setup.py:122: DeprecationWarning:\n",
      "      \n",
      "        `numpy.distutils` is deprecated since NumPy 1.23.0, as a result\n",
      "        of the deprecation of `distutils` itself. It will be removed for\n",
      "        Python >= 3.12. For older Python versions it will remain present.\n",
      "        It is recommended to use `setuptools < 60.0` for those Python versions.\n",
      "        For more details, see:\n",
      "          https://numpy.org/devdocs/reference/distutils_status_migration.html\n",
      "      \n",
      "      \n",
      "        from numpy.distutils.command.build_ext import build_ext  # noqa\n",
      "      Traceback (most recent call last):\n",
      "        File \"<string>\", line 2, in <module>\n",
      "        File \"<pip-setuptools-caller>\", line 34, in <module>\n",
      "        File \"C:\\Users\\Shubham\\AppData\\Local\\Temp\\pip-install-2t_ud6n1\\scikit-learn_06749d9e6ae94dc9a98b0f80bca67842\\setup.py\", line 290, in <module>\n",
      "          setup_package()\n",
      "        File \"C:\\Users\\Shubham\\AppData\\Local\\Temp\\pip-install-2t_ud6n1\\scikit-learn_06749d9e6ae94dc9a98b0f80bca67842\\setup.py\", line 286, in setup_package\n",
      "          setup(**metadata)\n",
      "        File \"C:\\Python39\\lib\\site-packages\\numpy\\distutils\\core.py\", line 135, in setup\n",
      "          config = configuration()\n",
      "        File \"C:\\Users\\Shubham\\AppData\\Local\\Temp\\pip-install-2t_ud6n1\\scikit-learn_06749d9e6ae94dc9a98b0f80bca67842\\setup.py\", line 174, in configuration\n",
      "          config.add_subpackage('sklearn')\n",
      "        File \"C:\\Python39\\lib\\site-packages\\numpy\\distutils\\misc_util.py\", line 1050, in add_subpackage\n",
      "          config_list = self.get_subpackage(subpackage_name, subpackage_path,\n",
      "        File \"C:\\Python39\\lib\\site-packages\\numpy\\distutils\\misc_util.py\", line 1016, in get_subpackage\n",
      "          config = self._get_configuration_from_setup_py(\n",
      "        File \"C:\\Python39\\lib\\site-packages\\numpy\\distutils\\misc_util.py\", line 958, in _get_configuration_from_setup_py\n",
      "          config = setup_module.configuration(*args)\n",
      "        File \"sklearn\\setup.py\", line 62, in configuration\n",
      "          config.add_subpackage('utils')\n",
      "        File \"C:\\Python39\\lib\\site-packages\\numpy\\distutils\\misc_util.py\", line 1050, in add_subpackage\n",
      "          config_list = self.get_subpackage(subpackage_name, subpackage_path,\n",
      "        File \"C:\\Python39\\lib\\site-packages\\numpy\\distutils\\misc_util.py\", line 1016, in get_subpackage\n",
      "          config = self._get_configuration_from_setup_py(\n",
      "        File \"C:\\Python39\\lib\\site-packages\\numpy\\distutils\\misc_util.py\", line 958, in _get_configuration_from_setup_py\n",
      "          config = setup_module.configuration(*args)\n",
      "        File \"sklearn\\utils\\setup.py\", line 8, in configuration\n",
      "          from Cython import Tempita\n",
      "      ModuleNotFoundError: No module named 'Cython'\n",
      "      [end of output]\n",
      "  \n",
      "  note: This error originates from a subprocess, and is likely not a problem with pip.\n",
      "  ERROR: Failed building wheel for scikit-learn\n",
      "  error: subprocess-exited-with-error\n",
      "  \n",
      "  × Running setup.py install for scikit-learn did not run successfully.\n",
      "  │ exit code: 1\n",
      "  ╰─> [40 lines of output]\n",
      "      Partial import of sklearn during the build process.\n",
      "      C:\\Users\\Shubham\\AppData\\Local\\Temp\\pip-install-2t_ud6n1\\scikit-learn_06749d9e6ae94dc9a98b0f80bca67842\\setup.py:122: DeprecationWarning:\n",
      "      \n",
      "        `numpy.distutils` is deprecated since NumPy 1.23.0, as a result\n",
      "        of the deprecation of `distutils` itself. It will be removed for\n",
      "        Python >= 3.12. For older Python versions it will remain present.\n",
      "        It is recommended to use `setuptools < 60.0` for those Python versions.\n",
      "        For more details, see:\n",
      "          https://numpy.org/devdocs/reference/distutils_status_migration.html\n",
      "      \n",
      "      \n",
      "        from numpy.distutils.command.build_ext import build_ext  # noqa\n",
      "      Traceback (most recent call last):\n",
      "        File \"<string>\", line 2, in <module>\n",
      "        File \"<pip-setuptools-caller>\", line 34, in <module>\n",
      "        File \"C:\\Users\\Shubham\\AppData\\Local\\Temp\\pip-install-2t_ud6n1\\scikit-learn_06749d9e6ae94dc9a98b0f80bca67842\\setup.py\", line 290, in <module>\n",
      "          setup_package()\n",
      "        File \"C:\\Users\\Shubham\\AppData\\Local\\Temp\\pip-install-2t_ud6n1\\scikit-learn_06749d9e6ae94dc9a98b0f80bca67842\\setup.py\", line 286, in setup_package\n",
      "          setup(**metadata)\n",
      "        File \"C:\\Python39\\lib\\site-packages\\numpy\\distutils\\core.py\", line 135, in setup\n",
      "          config = configuration()\n",
      "        File \"C:\\Users\\Shubham\\AppData\\Local\\Temp\\pip-install-2t_ud6n1\\scikit-learn_06749d9e6ae94dc9a98b0f80bca67842\\setup.py\", line 174, in configuration\n",
      "          config.add_subpackage('sklearn')\n",
      "        File \"C:\\Python39\\lib\\site-packages\\numpy\\distutils\\misc_util.py\", line 1050, in add_subpackage\n",
      "          config_list = self.get_subpackage(subpackage_name, subpackage_path,\n",
      "        File \"C:\\Python39\\lib\\site-packages\\numpy\\distutils\\misc_util.py\", line 1016, in get_subpackage\n",
      "          config = self._get_configuration_from_setup_py(\n",
      "        File \"C:\\Python39\\lib\\site-packages\\numpy\\distutils\\misc_util.py\", line 958, in _get_configuration_from_setup_py\n",
      "          config = setup_module.configuration(*args)\n",
      "        File \"sklearn\\setup.py\", line 62, in configuration\n",
      "          config.add_subpackage('utils')\n",
      "        File \"C:\\Python39\\lib\\site-packages\\numpy\\distutils\\misc_util.py\", line 1050, in add_subpackage\n",
      "          config_list = self.get_subpackage(subpackage_name, subpackage_path,\n",
      "        File \"C:\\Python39\\lib\\site-packages\\numpy\\distutils\\misc_util.py\", line 1016, in get_subpackage\n",
      "          config = self._get_configuration_from_setup_py(\n",
      "        File \"C:\\Python39\\lib\\site-packages\\numpy\\distutils\\misc_util.py\", line 958, in _get_configuration_from_setup_py\n",
      "          config = setup_module.configuration(*args)\n",
      "        File \"sklearn\\utils\\setup.py\", line 8, in configuration\n",
      "          from Cython import Tempita\n",
      "      ModuleNotFoundError: No module named 'Cython'\n",
      "      [end of output]\n",
      "  \n",
      "  note: This error originates from a subprocess, and is likely not a problem with pip.\n",
      "error: legacy-install-failure\n",
      "\n",
      "× Encountered error while trying to install package.\n",
      "╰─> scikit-learn\n",
      "\n",
      "note: This is an issue with the package mentioned above, not pip.\n",
      "hint: See above for output from the failure.\n"
     ]
    }
   ],
   "source": [
    "# To install only the requirements of this notebook, uncomment the lines below and run this cell\n",
    "\n",
    "# ===========================\n",
    "\n",
    "!pip install scikit-learn==0.21.3\n",
    "\n",
    "# ==========================="
   ]
  },
  {
   "cell_type": "code",
   "execution_count": 68,
   "metadata": {},
   "outputs": [],
   "source": [
    "# To install the requirements for the entire chapter, uncomment the lines below and run this cell\n",
    "\n",
    "# ===========================\n",
    "\n",
    "# try :\n",
    "#     import google.colab\n",
    "#     !curl https://raw.githubusercontent.com/practical-nlp/practical-nlp/master/Ch3/ch3-requirements.txt | xargs -n 1 -L 1 pip install\n",
    "# except ModuleNotFoundError :\n",
    "#     !pip install -r \"ch3-requirements.txt\"\n",
    "\n",
    "# ==========================="
   ]
  },
  {
   "cell_type": "code",
   "execution_count": 69,
   "metadata": {},
   "outputs": [
    {
     "data": {
      "text/plain": [
       "['dog bites man', 'man bites dog', 'dog eats meat', 'man eats food']"
      ]
     },
     "execution_count": 69,
     "metadata": {},
     "output_type": "execute_result"
    }
   ],
   "source": [
    "documents = [\"Dog bites man.\", \"Man bites dog.\", \"Dog eats meat.\", \"Man eats food.\"] #Same as the earlier notebook\n",
    "processed_docs = [doc.lower().replace(\".\",\"\") for doc in documents]\n",
    "processed_docs"
   ]
  },
  {
   "cell_type": "markdown",
   "metadata": {},
   "source": [
    "Now, let's do the main task of finding bag of words representation. We will use CountVectorizer from sklearn. "
   ]
  },
  {
   "cell_type": "code",
   "execution_count": 70,
   "metadata": {},
   "outputs": [
    {
     "name": "stdout",
     "output_type": "stream",
     "text": [
      "Our corpus:  ['dog bites man', 'man bites dog', 'dog eats meat', 'man eats food']\n",
      "Our vocabulary:  {'dog': 1, 'bites': 0, 'man': 4, 'eats': 2, 'meat': 5, 'food': 3}\n",
      "BoW representation for 'dog bites man':  [[1 1 0 0 1 0]]\n",
      "BoW representation for 'man bites dog:  [[1 1 0 0 1 0]]\n",
      "Bow representation for 'dog and dog are friends': [[0 2 0 0 0 0]]\n"
     ]
    }
   ],
   "source": [
    "from sklearn.feature_extraction.text import CountVectorizer\n",
    "\n",
    "#look at the documents list\n",
    "print(\"Our corpus: \", processed_docs)\n",
    "\n",
    "count_vect = CountVectorizer()\n",
    "#Build a BOW representation for the corpus\n",
    "bow_rep = count_vect.fit_transform(processed_docs)\n",
    "\n",
    "#Look at the vocabulary mapping\n",
    "print(\"Our vocabulary: \", count_vect.vocabulary_)\n",
    "\n",
    "#see the BOW rep for first 2 documents\n",
    "print(\"BoW representation for 'dog bites man': \", bow_rep[0].toarray())\n",
    "print(\"BoW representation for 'man bites dog: \",bow_rep[1].toarray())\n",
    "\n",
    "#Get the representation using this vocabulary, for a new text\n",
    "temp = count_vect.transform([\"dog and dog are friends\"])\n",
    "print(\"Bow representation for 'dog and dog are friends':\", temp.toarray())"
   ]
  },
  {
   "cell_type": "markdown",
   "metadata": {},
   "source": [
    "In the above code, we represented the text considering the frequency of words into account. However, sometimes, we don't care about frequency much, but only want to know whether a word appeared in a text or not. That is, each document is represented as a vector of 0s and 1s. We will use the option binary=True in CountVectorizer for this purpose. "
   ]
  },
  {
   "cell_type": "code",
   "execution_count": 71,
   "metadata": {},
   "outputs": [
    {
     "name": "stdout",
     "output_type": "stream",
     "text": [
      "Bow representation for 'dog and dog are friends': [[0 1 0 0 0 0]]\n"
     ]
    }
   ],
   "source": [
    "#BoW with binary vectors\n",
    "count_vect = CountVectorizer(binary=True)\n",
    "count_vect.fit(processed_docs)\n",
    "temp = count_vect.transform([\"dog and dog are friends\"])\n",
    "print(\"Bow representation for 'dog and dog are friends':\", temp.toarray())"
   ]
  },
  {
   "cell_type": "markdown",
   "metadata": {},
   "source": [
    "We will see how we can use BoW representation for Text Classification later in Chapter 4. "
   ]
  },
  {
   "cell_type": "markdown",
   "metadata": {},
   "source": []
  },
  {
   "attachments": {},
   "cell_type": "markdown",
   "metadata": {},
   "source": [
    "# 3"
   ]
  },
  {
   "cell_type": "markdown",
   "metadata": {},
   "source": []
  },
  {
   "cell_type": "markdown",
   "metadata": {},
   "source": [
    "## Bag of N-Grams\n",
    "\n",
    "##### One hot encoding, BoW and TF-IDF treat words as independent units. There is no notion of phrases or word ordering. Bag of Ngrams (BoN) approach tries to remedy this. It does so by breaking text into chunks of n countigous words/tokens. This can help us capture some context, which earlier approaches could not do. Let us see how it works using the same toy corpus we used in earlier examples. "
   ]
  },
  {
   "cell_type": "code",
   "execution_count": 72,
   "metadata": {},
   "outputs": [
    {
     "name": "stdout",
     "output_type": "stream",
     "text": [
      "Collecting scikit-learn==0.21.3"
     ]
    },
    {
     "name": "stderr",
     "output_type": "stream",
     "text": [
      "  error: subprocess-exited-with-error\n",
      "  \n",
      "  × python setup.py bdist_wheel did not run successfully.\n",
      "  │ exit code: 1\n",
      "  ╰─> [40 lines of output]\n",
      "      Partial import of sklearn during the build process.\n",
      "      C:\\Users\\Shubham\\AppData\\Local\\Temp\\pip-install-t3sn3geh\\scikit-learn_a2ea6b33fc71465cae3a01288544abd4\\setup.py:122: DeprecationWarning:\n",
      "      \n",
      "        `numpy.distutils` is deprecated since NumPy 1.23.0, as a result\n",
      "        of the deprecation of `distutils` itself. It will be removed for\n",
      "        Python >= 3.12. For older Python versions it will remain present.\n",
      "        It is recommended to use `setuptools < 60.0` for those Python versions.\n",
      "        For more details, see:\n",
      "          https://numpy.org/devdocs/reference/distutils_status_migration.html\n",
      "      \n",
      "      \n",
      "        from numpy.distutils.command.build_ext import build_ext  # noqa\n",
      "      Traceback (most recent call last):\n",
      "        File \"<string>\", line 2, in <module>\n",
      "        File \"<pip-setuptools-caller>\", line 34, in <module>\n",
      "        File \"C:\\Users\\Shubham\\AppData\\Local\\Temp\\pip-install-t3sn3geh\\scikit-learn_a2ea6b33fc71465cae3a01288544abd4\\setup.py\", line 290, in <module>\n",
      "          setup_package()\n",
      "        File \"C:\\Users\\Shubham\\AppData\\Local\\Temp\\pip-install-t3sn3geh\\scikit-learn_a2ea6b33fc71465cae3a01288544abd4\\setup.py\", line 286, in setup_package\n",
      "          setup(**metadata)\n",
      "        File \"C:\\Python39\\lib\\site-packages\\numpy\\distutils\\core.py\", line 135, in setup\n",
      "          config = configuration()\n",
      "        File \"C:\\Users\\Shubham\\AppData\\Local\\Temp\\pip-install-t3sn3geh\\scikit-learn_a2ea6b33fc71465cae3a01288544abd4\\setup.py\", line 174, in configuration\n",
      "          config.add_subpackage('sklearn')\n",
      "        File \"C:\\Python39\\lib\\site-packages\\numpy\\distutils\\misc_util.py\", line 1050, in add_subpackage\n",
      "          config_list = self.get_subpackage(subpackage_name, subpackage_path,\n",
      "        File \"C:\\Python39\\lib\\site-packages\\numpy\\distutils\\misc_util.py\", line 1016, in get_subpackage\n",
      "          config = self._get_configuration_from_setup_py(\n",
      "        File \"C:\\Python39\\lib\\site-packages\\numpy\\distutils\\misc_util.py\", line 958, in _get_configuration_from_setup_py\n",
      "          config = setup_module.configuration(*args)\n",
      "        File \"sklearn\\setup.py\", line 62, in configuration\n",
      "          config.add_subpackage('utils')\n",
      "        File \"C:\\Python39\\lib\\site-packages\\numpy\\distutils\\misc_util.py\", line 1050, in add_subpackage\n",
      "          config_list = self.get_subpackage(subpackage_name, subpackage_path,\n",
      "        File \"C:\\Python39\\lib\\site-packages\\numpy\\distutils\\misc_util.py\", line 1016, in get_subpackage\n",
      "          config = self._get_configuration_from_setup_py(\n",
      "        File \"C:\\Python39\\lib\\site-packages\\numpy\\distutils\\misc_util.py\", line 958, in _get_configuration_from_setup_py\n",
      "          config = setup_module.configuration(*args)\n",
      "        File \"sklearn\\utils\\setup.py\", line 8, in configuration\n",
      "          from Cython import Tempita\n",
      "      ModuleNotFoundError: No module named 'Cython'\n",
      "      [end of output]\n",
      "  \n",
      "  note: This error originates from a subprocess, and is likely not a problem with pip.\n",
      "  ERROR: Failed building wheel for scikit-learn\n",
      "  error: subprocess-exited-with-error\n",
      "  \n",
      "  × Running setup.py install for scikit-learn did not run successfully.\n",
      "  │ exit code: 1\n",
      "  ╰─> [40 lines of output]\n",
      "      Partial import of sklearn during the build process.\n",
      "      C:\\Users\\Shubham\\AppData\\Local\\Temp\\pip-install-t3sn3geh\\scikit-learn_a2ea6b33fc71465cae3a01288544abd4\\setup.py:122: DeprecationWarning:\n",
      "      \n",
      "        `numpy.distutils` is deprecated since NumPy 1.23.0, as a result\n",
      "        of the deprecation of `distutils` itself. It will be removed for\n",
      "        Python >= 3.12. For older Python versions it will remain present.\n",
      "        It is recommended to use `setuptools < 60.0` for those Python versions.\n",
      "        For more details, see:\n",
      "          https://numpy.org/devdocs/reference/distutils_status_migration.html\n",
      "      \n",
      "      \n",
      "        from numpy.distutils.command.build_ext import build_ext  # noqa\n",
      "      Traceback (most recent call last):\n",
      "        File \"<string>\", line 2, in <module>\n",
      "        File \"<pip-setuptools-caller>\", line 34, in <module>\n",
      "        File \"C:\\Users\\Shubham\\AppData\\Local\\Temp\\pip-install-t3sn3geh\\scikit-learn_a2ea6b33fc71465cae3a01288544abd4\\setup.py\", line 290, in <module>\n",
      "          setup_package()\n",
      "        File \"C:\\Users\\Shubham\\AppData\\Local\\Temp\\pip-install-t3sn3geh\\scikit-learn_a2ea6b33fc71465cae3a01288544abd4\\setup.py\", line 286, in setup_package\n",
      "          setup(**metadata)\n",
      "        File \"C:\\Python39\\lib\\site-packages\\numpy\\distutils\\core.py\", line 135, in setup\n",
      "          config = configuration()\n",
      "        File \"C:\\Users\\Shubham\\AppData\\Local\\Temp\\pip-install-t3sn3geh\\scikit-learn_a2ea6b33fc71465cae3a01288544abd4\\setup.py\", line 174, in configuration\n",
      "          config.add_subpackage('sklearn')\n",
      "        File \"C:\\Python39\\lib\\site-packages\\numpy\\distutils\\misc_util.py\", line 1050, in add_subpackage\n",
      "          config_list = self.get_subpackage(subpackage_name, subpackage_path,\n",
      "        File \"C:\\Python39\\lib\\site-packages\\numpy\\distutils\\misc_util.py\", line 1016, in get_subpackage\n",
      "          config = self._get_configuration_from_setup_py(\n",
      "        File \"C:\\Python39\\lib\\site-packages\\numpy\\distutils\\misc_util.py\", line 958, in _get_configuration_from_setup_py\n",
      "          config = setup_module.configuration(*args)\n",
      "        File \"sklearn\\setup.py\", line 62, in configuration\n",
      "          config.add_subpackage('utils')\n",
      "        File \"C:\\Python39\\lib\\site-packages\\numpy\\distutils\\misc_util.py\", line 1050, in add_subpackage\n",
      "          config_list = self.get_subpackage(subpackage_name, subpackage_path,\n",
      "        File \"C:\\Python39\\lib\\site-packages\\numpy\\distutils\\misc_util.py\", line 1016, in get_subpackage\n",
      "          config = self._get_configuration_from_setup_py(\n",
      "        File \"C:\\Python39\\lib\\site-packages\\numpy\\distutils\\misc_util.py\", line 958, in _get_configuration_from_setup_py\n",
      "          config = setup_module.configuration(*args)\n",
      "        File \"sklearn\\utils\\setup.py\", line 8, in configuration\n",
      "          from Cython import Tempita\n",
      "      ModuleNotFoundError: No module named 'Cython'\n",
      "      [end of output]\n",
      "  \n",
      "  note: This error originates from a subprocess, and is likely not a problem with pip.\n",
      "error: legacy-install-failure\n",
      "\n",
      "× Encountered error while trying to install package.\n",
      "╰─> scikit-learn\n",
      "\n",
      "note: This is an issue with the package mentioned above, not pip.\n",
      "hint: See above for output from the failure.\n"
     ]
    },
    {
     "name": "stdout",
     "output_type": "stream",
     "text": [
      "\n",
      "  Using cached scikit-learn-0.21.3.tar.gz (12.2 MB)\n",
      "  Preparing metadata (setup.py): started\n",
      "  Preparing metadata (setup.py): finished with status 'done'\n",
      "Requirement already satisfied: numpy>=1.11.0 in c:\\python39\\lib\\site-packages (from scikit-learn==0.21.3) (1.23.2)\n",
      "Requirement already satisfied: scipy>=0.17.0 in c:\\python39\\lib\\site-packages (from scikit-learn==0.21.3) (1.9.1)\n",
      "Requirement already satisfied: joblib>=0.11 in c:\\python39\\lib\\site-packages (from scikit-learn==0.21.3) (1.2.0)\n",
      "Building wheels for collected packages: scikit-learn\n",
      "  Building wheel for scikit-learn (setup.py): started\n",
      "  Building wheel for scikit-learn (setup.py): finished with status 'error'\n",
      "  Running setup.py clean for scikit-learn\n",
      "Failed to build scikit-learn\n",
      "Installing collected packages: scikit-learn\n",
      "  Attempting uninstall: scikit-learn\n",
      "    Found existing installation: scikit-learn 1.1.2\n",
      "    Uninstalling scikit-learn-1.1.2:\n",
      "      Successfully uninstalled scikit-learn-1.1.2\n",
      "  Running setup.py install for scikit-learn: started\n",
      "  Running setup.py install for scikit-learn: finished with status 'error'\n",
      "  Rolling back uninstall of scikit-learn\n",
      "  Moving to c:\\python39\\lib\\site-packages\\scikit_learn-1.1.2.dist-info\\\n",
      "   from C:\\Python39\\Lib\\site-packages\\~cikit_learn-1.1.2.dist-info\n",
      "  Moving to c:\\python39\\lib\\site-packages\\sklearn\\\n",
      "   from C:\\Python39\\Lib\\site-packages\\~klearn\n"
     ]
    }
   ],
   "source": [
    "# To install only the requirements of this notebook, uncomment the lines below and run this cell\n",
    "\n",
    "# ===========================\n",
    "\n",
    "!pip install scikit-learn==0.21.3\n",
    "\n",
    "# ==========================="
   ]
  },
  {
   "cell_type": "code",
   "execution_count": 73,
   "metadata": {},
   "outputs": [],
   "source": [
    "# To install the requirements for the entire chapter, uncomment the lines below and run this cell\n",
    "\n",
    "# ===========================\n",
    "\n",
    "# try :\n",
    "#     import google.colab\n",
    "#     !curl https://raw.githubusercontent.com/practical-nlp/practical-nlp/master/Ch3/ch3-requirements.txt | xargs -n 1 -L 1 pip install\n",
    "# except ModuleNotFoundError :\n",
    "#     !pip install -r \"ch3-requirements.txt\"\n",
    "\n",
    "# ==========================="
   ]
  },
  {
   "cell_type": "code",
   "execution_count": 74,
   "metadata": {},
   "outputs": [
    {
     "data": {
      "text/plain": [
       "['dog bites man', 'man bites dog', 'dog eats meat', 'man eats food']"
      ]
     },
     "execution_count": 74,
     "metadata": {},
     "output_type": "execute_result"
    }
   ],
   "source": [
    "#our corpus\n",
    "documents = [\"Dog bites man.\", \"Man bites dog.\", \"Dog eats meat.\", \"Man eats food.\"]\n",
    "\n",
    "processed_docs = [doc.lower().replace(\".\",\"\") for doc in documents]\n",
    "processed_docs"
   ]
  },
  {
   "cell_type": "markdown",
   "metadata": {},
   "source": [
    "##### CountVectorizer, which we used for BoW, can be used for getting a Bag of N-grams representation as well, using its ngram_range argument. The code snippet below shows how: "
   ]
  },
  {
   "cell_type": "code",
   "execution_count": 75,
   "metadata": {},
   "outputs": [
    {
     "name": "stdout",
     "output_type": "stream",
     "text": [
      "Our vocabulary:  {'dog': 3, 'bites': 0, 'man': 12, 'dog bites': 4, 'bites man': 2, 'dog bites man': 5, 'man bites': 13, 'bites dog': 1, 'man bites dog': 14, 'eats': 8, 'meat': 17, 'dog eats': 6, 'eats meat': 10, 'dog eats meat': 7, 'food': 11, 'man eats': 15, 'eats food': 9, 'man eats food': 16}\n",
      "BoW representation for 'dog bites man':  [[1 0 1 1 1 1 0 0 0 0 0 0 1 0 0 0 0 0]]\n",
      "BoW representation for 'man bites dog:  [[1 1 0 1 0 0 0 0 0 0 0 0 1 1 1 0 0 0]]\n",
      "Bow representation for 'dog and dog are friends': [[0 0 0 2 0 0 0 0 0 0 0 0 0 0 0 0 0 0]]\n"
     ]
    }
   ],
   "source": [
    "from sklearn.feature_extraction.text import CountVectorizer\n",
    "\n",
    "#Ngram vectorization example with count vectorizer and uni, bi, trigrams\n",
    "count_vect = CountVectorizer(ngram_range=(1,3))\n",
    "\n",
    "#Build a BOW representation for the corpus\n",
    "bow_rep = count_vect.fit_transform(processed_docs)\n",
    "\n",
    "#Look at the vocabulary mapping\n",
    "print(\"Our vocabulary: \", count_vect.vocabulary_)\n",
    "\n",
    "#see the BOW rep for first 2 documents\n",
    "print(\"BoW representation for 'dog bites man': \", bow_rep[0].toarray())\n",
    "print(\"BoW representation for 'man bites dog: \",bow_rep[1].toarray())\n",
    "\n",
    "#Get the representation using this vocabulary, for a new text\n",
    "temp = count_vect.transform([\"dog and dog are friends\"])\n",
    "\n",
    "print(\"Bow representation for 'dog and dog are friends':\", temp.toarray())"
   ]
  },
  {
   "cell_type": "markdown",
   "metadata": {},
   "source": [
    "##### Note that the number of features (and hence the size of the feature vector) increased a lot for the same data, compared to the ther single word based representations!!"
   ]
  },
  {
   "cell_type": "markdown",
   "metadata": {},
   "source": []
  },
  {
   "attachments": {},
   "cell_type": "markdown",
   "metadata": {},
   "source": [
    "# 4"
   ]
  },
  {
   "cell_type": "markdown",
   "metadata": {},
   "source": []
  },
  {
   "cell_type": "markdown",
   "metadata": {},
   "source": [
    "## TF-IDF\n",
    "\n",
    "In all the other approaches we saw so far, all the words in the text are treated equally important. There is no notion of some words in the document being more important than others. TF-IDF addresses this issue. It aims to quantify the importance of a given word relative to other words in the document and in the corpus. It was commonly used representation scheme for information retrieval systems, for extracting relevant documents from a corpus for given text query. \n",
    "\n",
    "This notebook shows a simple example of how to get the TF-IDF representation of a document using sklearn's TfidfVectorizer. "
   ]
  },
  {
   "cell_type": "code",
   "execution_count": 76,
   "metadata": {},
   "outputs": [
    {
     "name": "stdout",
     "output_type": "stream",
     "text": [
      "Collecting scikit-learn==0.21.3\n",
      "  Using cached scikit-learn-0.21.3.tar.gz (12.2 MB)\n",
      "  Preparing metadata (setup.py): started\n",
      "  Preparing metadata (setup.py): finished with status 'done'\n",
      "Requirement already satisfied: numpy>=1.11.0 in c:\\python39\\lib\\site-packages (from scikit-learn==0.21.3) (1.23.2)\n",
      "Requirement already satisfied: scipy>=0.17.0 in c:\\python39\\lib\\site-packages (from scikit-learn==0.21.3) (1.9.1)\n",
      "Requirement already satisfied: joblib>=0.11 in c:\\python39\\lib\\site-packages (from scikit-learn==0.21.3) (1.2.0)\n",
      "Building wheels for collected packages: scikit-learn\n",
      "  Building wheel for scikit-learn (setup.py): started\n",
      "  Building wheel for scikit-learn (setup.py): finished with status 'error'\n",
      "  Running setup.py clean for scikit-learn\n",
      "Failed to build scikit-learn\n",
      "Installing collected packages: scikit-learn\n",
      "  Attempting uninstall: scikit-learn\n",
      "    Found existing installation: scikit-learn 1.1.2\n",
      "    Uninstalling scikit-learn-1.1.2:\n",
      "      Successfully uninstalled scikit-learn-1.1.2\n",
      "  Running setup.py install for scikit-learn: started\n",
      "  Running setup.py install for scikit-learn: finished with status 'error'\n",
      "  Rolling back uninstall of scikit-learn\n",
      "  Moving to c:\\python39\\lib\\site-packages\\scikit_learn-1.1.2.dist-info\\\n",
      "   from C:\\Python39\\Lib\\site-packages\\~cikit_learn-1.1.2.dist-info\n",
      "  Moving to c:\\python39\\lib\\site-packages\\sklearn\\\n",
      "   from C:\\Python39\\Lib\\site-packages\\~klearn\n"
     ]
    },
    {
     "name": "stderr",
     "output_type": "stream",
     "text": [
      "  error: subprocess-exited-with-error\n",
      "  \n",
      "  × python setup.py bdist_wheel did not run successfully.\n",
      "  │ exit code: 1\n",
      "  ╰─> [40 lines of output]\n",
      "      Partial import of sklearn during the build process.\n",
      "      C:\\Users\\Shubham\\AppData\\Local\\Temp\\pip-install-xhfg_kvo\\scikit-learn_eb81fd5855544baf8461069d736ffa39\\setup.py:122: DeprecationWarning:\n",
      "      \n",
      "        `numpy.distutils` is deprecated since NumPy 1.23.0, as a result\n",
      "        of the deprecation of `distutils` itself. It will be removed for\n",
      "        Python >= 3.12. For older Python versions it will remain present.\n",
      "        It is recommended to use `setuptools < 60.0` for those Python versions.\n",
      "        For more details, see:\n",
      "          https://numpy.org/devdocs/reference/distutils_status_migration.html\n",
      "      \n",
      "      \n",
      "        from numpy.distutils.command.build_ext import build_ext  # noqa\n",
      "      Traceback (most recent call last):\n",
      "        File \"<string>\", line 2, in <module>\n",
      "        File \"<pip-setuptools-caller>\", line 34, in <module>\n",
      "        File \"C:\\Users\\Shubham\\AppData\\Local\\Temp\\pip-install-xhfg_kvo\\scikit-learn_eb81fd5855544baf8461069d736ffa39\\setup.py\", line 290, in <module>\n",
      "          setup_package()\n",
      "        File \"C:\\Users\\Shubham\\AppData\\Local\\Temp\\pip-install-xhfg_kvo\\scikit-learn_eb81fd5855544baf8461069d736ffa39\\setup.py\", line 286, in setup_package\n",
      "          setup(**metadata)\n",
      "        File \"C:\\Python39\\lib\\site-packages\\numpy\\distutils\\core.py\", line 135, in setup\n",
      "          config = configuration()\n",
      "        File \"C:\\Users\\Shubham\\AppData\\Local\\Temp\\pip-install-xhfg_kvo\\scikit-learn_eb81fd5855544baf8461069d736ffa39\\setup.py\", line 174, in configuration\n",
      "          config.add_subpackage('sklearn')\n",
      "        File \"C:\\Python39\\lib\\site-packages\\numpy\\distutils\\misc_util.py\", line 1050, in add_subpackage\n",
      "          config_list = self.get_subpackage(subpackage_name, subpackage_path,\n",
      "        File \"C:\\Python39\\lib\\site-packages\\numpy\\distutils\\misc_util.py\", line 1016, in get_subpackage\n",
      "          config = self._get_configuration_from_setup_py(\n",
      "        File \"C:\\Python39\\lib\\site-packages\\numpy\\distutils\\misc_util.py\", line 958, in _get_configuration_from_setup_py\n",
      "          config = setup_module.configuration(*args)\n",
      "        File \"sklearn\\setup.py\", line 62, in configuration\n",
      "          config.add_subpackage('utils')\n",
      "        File \"C:\\Python39\\lib\\site-packages\\numpy\\distutils\\misc_util.py\", line 1050, in add_subpackage\n",
      "          config_list = self.get_subpackage(subpackage_name, subpackage_path,\n",
      "        File \"C:\\Python39\\lib\\site-packages\\numpy\\distutils\\misc_util.py\", line 1016, in get_subpackage\n",
      "          config = self._get_configuration_from_setup_py(\n",
      "        File \"C:\\Python39\\lib\\site-packages\\numpy\\distutils\\misc_util.py\", line 958, in _get_configuration_from_setup_py\n",
      "          config = setup_module.configuration(*args)\n",
      "        File \"sklearn\\utils\\setup.py\", line 8, in configuration\n",
      "          from Cython import Tempita\n",
      "      ModuleNotFoundError: No module named 'Cython'\n",
      "      [end of output]\n",
      "  \n",
      "  note: This error originates from a subprocess, and is likely not a problem with pip.\n",
      "  ERROR: Failed building wheel for scikit-learn\n",
      "  error: subprocess-exited-with-error\n",
      "  \n",
      "  × Running setup.py install for scikit-learn did not run successfully.\n",
      "  │ exit code: 1\n",
      "  ╰─> [40 lines of output]\n",
      "      Partial import of sklearn during the build process.\n",
      "      C:\\Users\\Shubham\\AppData\\Local\\Temp\\pip-install-xhfg_kvo\\scikit-learn_eb81fd5855544baf8461069d736ffa39\\setup.py:122: DeprecationWarning:\n",
      "      \n",
      "        `numpy.distutils` is deprecated since NumPy 1.23.0, as a result\n",
      "        of the deprecation of `distutils` itself. It will be removed for\n",
      "        Python >= 3.12. For older Python versions it will remain present.\n",
      "        It is recommended to use `setuptools < 60.0` for those Python versions.\n",
      "        For more details, see:\n",
      "          https://numpy.org/devdocs/reference/distutils_status_migration.html\n",
      "      \n",
      "      \n",
      "        from numpy.distutils.command.build_ext import build_ext  # noqa\n",
      "      Traceback (most recent call last):\n",
      "        File \"<string>\", line 2, in <module>\n",
      "        File \"<pip-setuptools-caller>\", line 34, in <module>\n",
      "        File \"C:\\Users\\Shubham\\AppData\\Local\\Temp\\pip-install-xhfg_kvo\\scikit-learn_eb81fd5855544baf8461069d736ffa39\\setup.py\", line 290, in <module>\n",
      "          setup_package()\n",
      "        File \"C:\\Users\\Shubham\\AppData\\Local\\Temp\\pip-install-xhfg_kvo\\scikit-learn_eb81fd5855544baf8461069d736ffa39\\setup.py\", line 286, in setup_package\n",
      "          setup(**metadata)\n",
      "        File \"C:\\Python39\\lib\\site-packages\\numpy\\distutils\\core.py\", line 135, in setup\n",
      "          config = configuration()\n",
      "        File \"C:\\Users\\Shubham\\AppData\\Local\\Temp\\pip-install-xhfg_kvo\\scikit-learn_eb81fd5855544baf8461069d736ffa39\\setup.py\", line 174, in configuration\n",
      "          config.add_subpackage('sklearn')\n",
      "        File \"C:\\Python39\\lib\\site-packages\\numpy\\distutils\\misc_util.py\", line 1050, in add_subpackage\n",
      "          config_list = self.get_subpackage(subpackage_name, subpackage_path,\n",
      "        File \"C:\\Python39\\lib\\site-packages\\numpy\\distutils\\misc_util.py\", line 1016, in get_subpackage\n",
      "          config = self._get_configuration_from_setup_py(\n",
      "        File \"C:\\Python39\\lib\\site-packages\\numpy\\distutils\\misc_util.py\", line 958, in _get_configuration_from_setup_py\n",
      "          config = setup_module.configuration(*args)\n",
      "        File \"sklearn\\setup.py\", line 62, in configuration\n",
      "          config.add_subpackage('utils')\n",
      "        File \"C:\\Python39\\lib\\site-packages\\numpy\\distutils\\misc_util.py\", line 1050, in add_subpackage\n",
      "          config_list = self.get_subpackage(subpackage_name, subpackage_path,\n",
      "        File \"C:\\Python39\\lib\\site-packages\\numpy\\distutils\\misc_util.py\", line 1016, in get_subpackage\n",
      "          config = self._get_configuration_from_setup_py(\n",
      "        File \"C:\\Python39\\lib\\site-packages\\numpy\\distutils\\misc_util.py\", line 958, in _get_configuration_from_setup_py\n",
      "          config = setup_module.configuration(*args)\n",
      "        File \"sklearn\\utils\\setup.py\", line 8, in configuration\n",
      "          from Cython import Tempita\n",
      "      ModuleNotFoundError: No module named 'Cython'\n",
      "      [end of output]\n",
      "  \n",
      "  note: This error originates from a subprocess, and is likely not a problem with pip.\n",
      "error: legacy-install-failure\n",
      "\n",
      "× Encountered error while trying to install package.\n",
      "╰─> scikit-learn\n",
      "\n",
      "note: This is an issue with the package mentioned above, not pip.\n",
      "hint: See above for output from the failure.\n"
     ]
    }
   ],
   "source": [
    "# To install only the requirements of this notebook, uncomment the lines below and run this cell\n",
    "\n",
    "# ===========================\n",
    "\n",
    "!pip install scikit-learn==0.21.3\n",
    "\n",
    "# ==========================="
   ]
  },
  {
   "cell_type": "code",
   "execution_count": 77,
   "metadata": {},
   "outputs": [],
   "source": [
    "# To install the requirements for the entire chapter, uncomment the lines below and run this cell\n",
    "\n",
    "# ===========================\n",
    "\n",
    "# try :\n",
    "#     import google.colab\n",
    "#     !curl https://raw.githubusercontent.com/practical-nlp/practical-nlp/master/Ch3/ch3-requirements.txt | xargs -n 1 -L 1 pip install\n",
    "# except ModuleNotFoundError :\n",
    "#     !pip install -r \"ch3-requirements.txt\"\n",
    "\n",
    "# ==========================="
   ]
  },
  {
   "cell_type": "code",
   "execution_count": 78,
   "metadata": {},
   "outputs": [
    {
     "data": {
      "text/plain": [
       "['dog bites man', 'man bites dog', 'dog eats meat', 'man eats food']"
      ]
     },
     "execution_count": 78,
     "metadata": {},
     "output_type": "execute_result"
    }
   ],
   "source": [
    "documents = [\"Dog bites man.\", \"Man bites dog.\", \"Dog eats meat.\", \"Man eats food.\"]\n",
    "processed_docs = [doc.lower().replace(\".\",\"\") for doc in documents]\n",
    "processed_docs"
   ]
  },
  {
   "cell_type": "code",
   "execution_count": 79,
   "metadata": {},
   "outputs": [
    {
     "name": "stdout",
     "output_type": "stream",
     "text": [
      "IDF for all words in the vocabulary [1.51082562 1.22314355 1.51082562 1.91629073 1.22314355 1.91629073]\n",
      "----------\n",
      "All words in the vocabulary ['bites', 'dog', 'eats', 'food', 'man', 'meat']\n",
      "----------\n",
      "TFIDF representation for all documents in our corpus\n",
      " [[0.65782931 0.53256952 0.         0.         0.53256952 0.        ]\n",
      " [0.65782931 0.53256952 0.         0.         0.53256952 0.        ]\n",
      " [0.         0.44809973 0.55349232 0.         0.         0.70203482]\n",
      " [0.         0.         0.55349232 0.70203482 0.44809973 0.        ]]\n",
      "----------\n",
      "Tfidf representation for 'dog and man are friends':\n",
      " [[0.         0.70710678 0.         0.         0.70710678 0.        ]]\n"
     ]
    },
    {
     "name": "stderr",
     "output_type": "stream",
     "text": [
      "c:\\Python39\\lib\\site-packages\\sklearn\\utils\\deprecation.py:87: FutureWarning: Function get_feature_names is deprecated; get_feature_names is deprecated in 1.0 and will be removed in 1.2. Please use get_feature_names_out instead.\n",
      "  warnings.warn(msg, category=FutureWarning)\n"
     ]
    }
   ],
   "source": [
    "from sklearn.feature_extraction.text import TfidfVectorizer\n",
    "\n",
    "tfidf = TfidfVectorizer()\n",
    "bow_rep_tfidf = tfidf.fit_transform(processed_docs)\n",
    "\n",
    "#IDF for all words in the vocabulary\n",
    "print(\"IDF for all words in the vocabulary\",tfidf.idf_)\n",
    "print(\"-\"*10)\n",
    "#All words in the vocabulary.\n",
    "print(\"All words in the vocabulary\",tfidf.get_feature_names())\n",
    "print(\"-\"*10)\n",
    "\n",
    "#TFIDF representation for all documents in our corpus \n",
    "print(\"TFIDF representation for all documents in our corpus\\n\",bow_rep_tfidf.toarray()) \n",
    "print(\"-\"*10)\n",
    "\n",
    "temp = tfidf.transform([\"dog and man are friends\"])\n",
    "print(\"Tfidf representation for 'dog and man are friends':\\n\", temp.toarray())"
   ]
  },
  {
   "cell_type": "markdown",
   "metadata": {},
   "source": [
    "We will see how this representation can be used for text classification later in chapter 4! "
   ]
  },
  {
   "cell_type": "markdown",
   "metadata": {},
   "source": []
  },
  {
   "attachments": {},
   "cell_type": "markdown",
   "metadata": {},
   "source": [
    "# 5"
   ]
  },
  {
   "cell_type": "markdown",
   "metadata": {},
   "source": []
  },
  {
   "cell_type": "markdown",
   "metadata": {},
   "source": [
    "In this notebook, let us see how we can represent text using pre-trained word embedding models. \n",
    "\n",
    "# 1. Using a pre-trained word2vec model\n",
    "\n",
    "Let us take an example of a pre-trained word2vec model, and how we can use it to look for most similar words. We will use the Google News vectors embeddings.\n",
    "https://drive.google.com/file/d/0B7XkCwpI5KDYNlNUTTlSS21pQmM\n",
    "\n",
    "A few other pre-trained word embedding models, and details on the means to access them through gensim can be found in:\n",
    "https://github.com/RaRe-Technologies/gensim-data"
   ]
  },
  {
   "cell_type": "code",
   "execution_count": 80,
   "metadata": {},
   "outputs": [
    {
     "name": "stdout",
     "output_type": "stream",
     "text": [
      "Collecting scikit-learn==0.21.3\n",
      "  Using cached scikit-learn-0.21.3.tar.gz (12.2 MB)\n",
      "  Preparing metadata (setup.py): started\n",
      "  Preparing metadata (setup.py): finished with status 'done'\n",
      "Requirement already satisfied: numpy>=1.11.0 in c:\\python39\\lib\\site-packages (from scikit-learn==0.21.3) (1.23.2)\n",
      "Requirement already satisfied: scipy>=0.17.0 in c:\\python39\\lib\\site-packages (from scikit-learn==0.21.3) (1.9.1)\n",
      "Requirement already satisfied: joblib>=0.11 in c:\\python39\\lib\\site-packages (from scikit-learn==0.21.3) (1.2.0)\n",
      "Building wheels for collected packages: scikit-learn\n",
      "  Building wheel for scikit-learn (setup.py): started\n",
      "  Building wheel for scikit-learn (setup.py): finished with status 'error'\n",
      "  Running setup.py clean for scikit-learn\n",
      "Failed to build scikit-learn\n",
      "Installing collected packages: scikit-learn\n",
      "  Attempting uninstall: scikit-learn\n",
      "    Found existing installation: scikit-learn 1.1.2\n",
      "    Uninstalling scikit-learn-1.1.2:\n",
      "      Successfully uninstalled scikit-learn-1.1.2\n",
      "  Running setup.py install for scikit-learn: started\n",
      "  Running setup.py install for scikit-learn: finished with status 'error'\n",
      "  Rolling back uninstall of scikit-learn\n",
      "  Moving to c:\\python39\\lib\\site-packages\\scikit_learn-1.1.2.dist-info\\\n",
      "   from C:\\Python39\\Lib\\site-packages\\~cikit_learn-1.1.2.dist-info\n",
      "  Moving to c:\\python39\\lib\\site-packages\\sklearn\\\n",
      "   from C:\\Python39\\Lib\\site-packages\\~klearn\n"
     ]
    },
    {
     "name": "stderr",
     "output_type": "stream",
     "text": [
      "  error: subprocess-exited-with-error\n",
      "  \n",
      "  × python setup.py bdist_wheel did not run successfully.\n",
      "  │ exit code: 1\n",
      "  ╰─> [40 lines of output]\n",
      "      Partial import of sklearn during the build process.\n",
      "      C:\\Users\\Shubham\\AppData\\Local\\Temp\\pip-install-6otlf7kr\\scikit-learn_377f2e9e9f4c46d99a0a0176d759898d\\setup.py:122: DeprecationWarning:\n",
      "      \n",
      "        `numpy.distutils` is deprecated since NumPy 1.23.0, as a result\n",
      "        of the deprecation of `distutils` itself. It will be removed for\n",
      "        Python >= 3.12. For older Python versions it will remain present.\n",
      "        It is recommended to use `setuptools < 60.0` for those Python versions.\n",
      "        For more details, see:\n",
      "          https://numpy.org/devdocs/reference/distutils_status_migration.html\n",
      "      \n",
      "      \n",
      "        from numpy.distutils.command.build_ext import build_ext  # noqa\n",
      "      Traceback (most recent call last):\n",
      "        File \"<string>\", line 2, in <module>\n",
      "        File \"<pip-setuptools-caller>\", line 34, in <module>\n",
      "        File \"C:\\Users\\Shubham\\AppData\\Local\\Temp\\pip-install-6otlf7kr\\scikit-learn_377f2e9e9f4c46d99a0a0176d759898d\\setup.py\", line 290, in <module>\n",
      "          setup_package()\n",
      "        File \"C:\\Users\\Shubham\\AppData\\Local\\Temp\\pip-install-6otlf7kr\\scikit-learn_377f2e9e9f4c46d99a0a0176d759898d\\setup.py\", line 286, in setup_package\n",
      "          setup(**metadata)\n",
      "        File \"C:\\Python39\\lib\\site-packages\\numpy\\distutils\\core.py\", line 135, in setup\n",
      "          config = configuration()\n",
      "        File \"C:\\Users\\Shubham\\AppData\\Local\\Temp\\pip-install-6otlf7kr\\scikit-learn_377f2e9e9f4c46d99a0a0176d759898d\\setup.py\", line 174, in configuration\n",
      "          config.add_subpackage('sklearn')\n",
      "        File \"C:\\Python39\\lib\\site-packages\\numpy\\distutils\\misc_util.py\", line 1050, in add_subpackage\n",
      "          config_list = self.get_subpackage(subpackage_name, subpackage_path,\n",
      "        File \"C:\\Python39\\lib\\site-packages\\numpy\\distutils\\misc_util.py\", line 1016, in get_subpackage\n",
      "          config = self._get_configuration_from_setup_py(\n",
      "        File \"C:\\Python39\\lib\\site-packages\\numpy\\distutils\\misc_util.py\", line 958, in _get_configuration_from_setup_py\n",
      "          config = setup_module.configuration(*args)\n",
      "        File \"sklearn\\setup.py\", line 62, in configuration\n",
      "          config.add_subpackage('utils')\n",
      "        File \"C:\\Python39\\lib\\site-packages\\numpy\\distutils\\misc_util.py\", line 1050, in add_subpackage\n",
      "          config_list = self.get_subpackage(subpackage_name, subpackage_path,\n",
      "        File \"C:\\Python39\\lib\\site-packages\\numpy\\distutils\\misc_util.py\", line 1016, in get_subpackage\n",
      "          config = self._get_configuration_from_setup_py(\n",
      "        File \"C:\\Python39\\lib\\site-packages\\numpy\\distutils\\misc_util.py\", line 958, in _get_configuration_from_setup_py\n",
      "          config = setup_module.configuration(*args)\n",
      "        File \"sklearn\\utils\\setup.py\", line 8, in configuration\n",
      "          from Cython import Tempita\n",
      "      ModuleNotFoundError: No module named 'Cython'\n",
      "      [end of output]\n",
      "  \n",
      "  note: This error originates from a subprocess, and is likely not a problem with pip.\n",
      "  ERROR: Failed building wheel for scikit-learn\n",
      "  error: subprocess-exited-with-error\n",
      "  \n",
      "  × Running setup.py install for scikit-learn did not run successfully.\n",
      "  │ exit code: 1\n",
      "  ╰─> [40 lines of output]\n",
      "      Partial import of sklearn during the build process.\n",
      "      C:\\Users\\Shubham\\AppData\\Local\\Temp\\pip-install-6otlf7kr\\scikit-learn_377f2e9e9f4c46d99a0a0176d759898d\\setup.py:122: DeprecationWarning:\n",
      "      \n",
      "        `numpy.distutils` is deprecated since NumPy 1.23.0, as a result\n",
      "        of the deprecation of `distutils` itself. It will be removed for\n",
      "        Python >= 3.12. For older Python versions it will remain present.\n",
      "        It is recommended to use `setuptools < 60.0` for those Python versions.\n",
      "        For more details, see:\n",
      "          https://numpy.org/devdocs/reference/distutils_status_migration.html\n",
      "      \n",
      "      \n",
      "        from numpy.distutils.command.build_ext import build_ext  # noqa\n",
      "      Traceback (most recent call last):\n",
      "        File \"<string>\", line 2, in <module>\n",
      "        File \"<pip-setuptools-caller>\", line 34, in <module>\n",
      "        File \"C:\\Users\\Shubham\\AppData\\Local\\Temp\\pip-install-6otlf7kr\\scikit-learn_377f2e9e9f4c46d99a0a0176d759898d\\setup.py\", line 290, in <module>\n",
      "          setup_package()\n",
      "        File \"C:\\Users\\Shubham\\AppData\\Local\\Temp\\pip-install-6otlf7kr\\scikit-learn_377f2e9e9f4c46d99a0a0176d759898d\\setup.py\", line 286, in setup_package\n",
      "          setup(**metadata)\n",
      "        File \"C:\\Python39\\lib\\site-packages\\numpy\\distutils\\core.py\", line 135, in setup\n",
      "          config = configuration()\n",
      "        File \"C:\\Users\\Shubham\\AppData\\Local\\Temp\\pip-install-6otlf7kr\\scikit-learn_377f2e9e9f4c46d99a0a0176d759898d\\setup.py\", line 174, in configuration\n",
      "          config.add_subpackage('sklearn')\n",
      "        File \"C:\\Python39\\lib\\site-packages\\numpy\\distutils\\misc_util.py\", line 1050, in add_subpackage\n",
      "          config_list = self.get_subpackage(subpackage_name, subpackage_path,\n",
      "        File \"C:\\Python39\\lib\\site-packages\\numpy\\distutils\\misc_util.py\", line 1016, in get_subpackage\n",
      "          config = self._get_configuration_from_setup_py(\n",
      "        File \"C:\\Python39\\lib\\site-packages\\numpy\\distutils\\misc_util.py\", line 958, in _get_configuration_from_setup_py\n",
      "          config = setup_module.configuration(*args)\n",
      "        File \"sklearn\\setup.py\", line 62, in configuration\n",
      "          config.add_subpackage('utils')\n",
      "        File \"C:\\Python39\\lib\\site-packages\\numpy\\distutils\\misc_util.py\", line 1050, in add_subpackage\n",
      "          config_list = self.get_subpackage(subpackage_name, subpackage_path,\n",
      "        File \"C:\\Python39\\lib\\site-packages\\numpy\\distutils\\misc_util.py\", line 1016, in get_subpackage\n",
      "          config = self._get_configuration_from_setup_py(\n",
      "        File \"C:\\Python39\\lib\\site-packages\\numpy\\distutils\\misc_util.py\", line 958, in _get_configuration_from_setup_py\n",
      "          config = setup_module.configuration(*args)\n",
      "        File \"sklearn\\utils\\setup.py\", line 8, in configuration\n",
      "          from Cython import Tempita\n",
      "      ModuleNotFoundError: No module named 'Cython'\n",
      "      [end of output]\n",
      "  \n",
      "  note: This error originates from a subprocess, and is likely not a problem with pip.\n",
      "error: legacy-install-failure\n",
      "\n",
      "× Encountered error while trying to install package.\n",
      "╰─> scikit-learn\n",
      "\n",
      "note: This is an issue with the package mentioned above, not pip.\n",
      "hint: See above for output from the failure.\n"
     ]
    },
    {
     "name": "stdout",
     "output_type": "stream",
     "text": [
      "Requirement already satisfied: wget==3.2 in c:\\python39\\lib\\site-packages (3.2)\n",
      "Requirement already satisfied: gensim==3.6.0 in c:\\python39\\lib\\site-packages (3.6.0)\n",
      "Requirement already satisfied: smart-open>=1.2.1 in c:\\python39\\lib\\site-packages (from gensim==3.6.0) (6.3.0)\n",
      "Requirement already satisfied: scipy>=0.18.1 in c:\\python39\\lib\\site-packages (from gensim==3.6.0) (1.9.1)\n",
      "Requirement already satisfied: numpy>=1.11.3 in c:\\python39\\lib\\site-packages (from gensim==3.6.0) (1.23.2)\n",
      "Requirement already satisfied: six>=1.5.0 in c:\\python39\\lib\\site-packages (from gensim==3.6.0) (1.16.0)\n",
      "Requirement already satisfied: psutil==5.4.8 in c:\\python39\\lib\\site-packages (5.4.8)\n",
      "Collecting spacy==2.2.4\n",
      "  Using cached spacy-2.2.4.tar.gz (6.1 MB)\n",
      "  Installing build dependencies: started\n",
      "  Installing build dependencies: finished with status 'error'\n"
     ]
    },
    {
     "name": "stderr",
     "output_type": "stream",
     "text": [
      "  error: subprocess-exited-with-error\n",
      "  \n",
      "  × pip subprocess to install build dependencies did not run successfully.\n",
      "  │ exit code: 1\n",
      "  ╰─> [114 lines of output]\n",
      "      Collecting setuptools\n",
      "        Using cached setuptools-67.6.0-py3-none-any.whl (1.1 MB)\n",
      "      Collecting wheel\n",
      "        Using cached wheel-0.40.0-py3-none-any.whl (64 kB)\n",
      "      Collecting cython>=0.25\n",
      "        Using cached Cython-0.29.33-py2.py3-none-any.whl (987 kB)\n",
      "      Collecting cymem<2.1.0,>=2.0.2\n",
      "        Using cached cymem-2.0.7-cp39-cp39-win_amd64.whl (30 kB)\n",
      "      Collecting preshed<3.1.0,>=3.0.2\n",
      "        Using cached preshed-3.0.8-cp39-cp39-win_amd64.whl (96 kB)\n",
      "      Collecting murmurhash<1.1.0,>=0.28.0\n",
      "        Using cached murmurhash-1.0.9-cp39-cp39-win_amd64.whl (18 kB)\n",
      "      Collecting thinc==7.4.0\n",
      "        Using cached thinc-7.4.0-cp39-none-win_amd64.whl\n",
      "      Collecting plac<1.2.0,>=0.9.6\n",
      "        Using cached plac-1.1.3-py2.py3-none-any.whl (20 kB)\n",
      "      Collecting srsly<1.1.0,>=0.0.6\n",
      "        Using cached srsly-1.0.6-cp39-cp39-win_amd64.whl (198 kB)\n",
      "      Collecting catalogue<1.1.0,>=0.0.7\n",
      "        Using cached catalogue-1.0.2-py2.py3-none-any.whl (16 kB)\n",
      "      Collecting tqdm<5.0.0,>=4.10.0\n",
      "        Using cached tqdm-4.65.0-py3-none-any.whl (77 kB)\n",
      "      Collecting numpy>=1.7.0\n",
      "        Using cached numpy-1.24.2-cp39-cp39-win_amd64.whl (14.9 MB)\n",
      "      Collecting wasabi<1.1.0,>=0.0.9\n",
      "        Using cached wasabi-0.10.1-py3-none-any.whl (26 kB)\n",
      "      Collecting blis<0.5.0,>=0.4.0\n",
      "        Using cached blis-0.4.1.tar.gz (1.8 MB)\n",
      "        Preparing metadata (setup.py): started\n",
      "        Preparing metadata (setup.py): finished with status 'done'\n",
      "      Collecting colorama\n",
      "        Using cached colorama-0.4.6-py2.py3-none-any.whl (25 kB)\n",
      "      Building wheels for collected packages: blis\n",
      "        Building wheel for blis (setup.py): started\n",
      "        Building wheel for blis (setup.py): finished with status 'error'\n",
      "        error: subprocess-exited-with-error\n",
      "      \n",
      "        Ã— python setup.py bdist_wheel did not run successfully.\n",
      "        â”‚ exit code: 1\n",
      "        â•°â”€> [25 lines of output]\n",
      "            BLIS_COMPILER? None\n",
      "            running bdist_wheel\n",
      "            running build\n",
      "            running build_py\n",
      "            creating build\n",
      "            creating build\\lib.win-amd64-3.9\n",
      "            creating build\\lib.win-amd64-3.9\\blis\n",
      "            copying blis\\about.py -> build\\lib.win-amd64-3.9\\blis\n",
      "            copying blis\\benchmark.py -> build\\lib.win-amd64-3.9\\blis\n",
      "            copying blis\\__init__.py -> build\\lib.win-amd64-3.9\\blis\n",
      "            creating build\\lib.win-amd64-3.9\\blis\\tests\n",
      "            copying blis\\tests\\common.py -> build\\lib.win-amd64-3.9\\blis\\tests\n",
      "            copying blis\\tests\\test_dotv.py -> build\\lib.win-amd64-3.9\\blis\\tests\n",
      "            copying blis\\tests\\test_gemm.py -> build\\lib.win-amd64-3.9\\blis\\tests\n",
      "            copying blis\\tests\\__init__.py -> build\\lib.win-amd64-3.9\\blis\\tests\n",
      "            copying blis\\cy.pyx -> build\\lib.win-amd64-3.9\\blis\n",
      "            copying blis\\py.pyx -> build\\lib.win-amd64-3.9\\blis\n",
      "            copying blis\\cy.pxd -> build\\lib.win-amd64-3.9\\blis\n",
      "            copying blis\\__init__.pxd -> build\\lib.win-amd64-3.9\\blis\n",
      "            running build_ext\n",
      "            msvc\n",
      "            py_compiler msvc\n",
      "            {'APPVEYOR_REPO_COMMIT_AUTHOR': 'Matthew Honnibal', 'LIB': 'C:\\\\Program Files (x86)\\\\Microsoft Visual Studio 14.0\\\\VC\\\\LIB\\\\amd64;C:\\\\Program Files (x86)\\\\Microsoft Visual Studio 14.0\\\\VC\\\\ATLMFC\\\\LIB\\\\amd64;C:\\\\Program Files (x86)\\\\Windows Kits\\\\10\\\\lib\\\\10.0.14393.0\\\\ucrt\\\\x64;C:\\\\Program Files (x86)\\\\Windows Kits\\\\NETFXSDK\\\\4.6.1\\\\lib\\\\um\\\\x64;C:\\\\Program Files (x86)\\\\Windows Kits\\\\10\\\\lib\\\\10.0.14393.0\\\\um\\\\x64;', 'VS100COMNTOOLS': 'c:\\\\Program Files (x86)\\\\Microsoft Visual Studio 10.0\\\\Common7\\\\Tools\\\\', 'APPVEYOR_PROJECT_NAME': 'cython-blis', 'AVVM_DOWNLOAD_URL': 'https://appveyordownloads.blob.core.windows.net/avvm', 'GIT_LFS_PATH': 'C:\\\\Program Files\\\\Git LFS', 'MSYSTEM_CHOST': 'x86_64-pc-msys', 'APPVEYOR_REPO_COMMIT_AUTHOR_EMAIL': 'honnibal+gh@gmail.com', 'WINDOWSSDK_EXECUTABLEPATH_X64': 'C:\\\\Program Files (x86)\\\\Microsoft SDKs\\\\Windows\\\\v10.0A\\\\bin\\\\NETFX 4.6.1 Tools\\\\x64\\\\', 'SYSTEMROOT': 'C:\\\\windows', 'LASTEXITCODE': '0', 'CHOCOLATEYLASTPATHUPDATE': 'Sun Feb  3 19:40:40 2019', 'INFOPATH': 'C:\\\\Program Files\\\\Git\\\\usr\\\\local\\\\info;C:\\\\Program Files\\\\Git\\\\usr\\\\share\\\\info;C:\\\\Program Files\\\\Git\\\\usr\\\\info;C:\\\\Program Files\\\\Git\\\\share\\\\info', 'SHELL': 'C:\\\\Program Files\\\\Git\\\\usr\\\\bin\\\\bash.exe', 'MSYSTEM_CARCH': 'x86_64', 'MSYS2_PATH_TYPE': 'inherit', 'MANPATH': 'C:\\\\Program Files\\\\Git\\\\usr\\\\local\\\\man;C:\\\\Program Files\\\\Git\\\\usr\\\\share\\\\man;C:\\\\Program Files\\\\Git\\\\usr\\\\man;C:\\\\Program Files\\\\Git\\\\share\\\\man', 'JAVA_HOME': 'C:\\\\Progra~1\\\\Java\\\\jdk1.8.0', 'CI_WINDOWS': 'True', 'APPVEYOR_BUILD_AGENT_HYPERV_NIC_CONFIGURED': 'true', 'WINDOWSLIBPATH': 'C:\\\\Program Files (x86)\\\\Windows Kits\\\\10\\\\UnionMetadata;C:\\\\Program Files (x86)\\\\Windows Kits\\\\10\\\\References', 'COMSPEC': 'C:\\\\windows\\\\system32\\\\cmd.exe', 'WINDIR': 'C:\\\\windows', 'RANLIB': 'echo', 'APPVEYOR_REPO_COMMIT': '8bbf4b332e237459bb8f45dc9414b3049a202939', 'VS90COMNTOOLS': 'C:\\\\Program Files (x86)\\\\Microsoft Visual Studio 9.0\\\\Common7\\\\Tools\\\\', 'ENABLENUGETPACKAGERESTORE': 'true', 'SESSIONNAME': 'Console', 'CONFIG_SITE': 'C:/Program Files/Git/etc/config.site', 'HOMEDRIVE': 'C:', 'SYSTEMDRIVE': 'C:', 'HOSTNAME': 'APPVYR-WIN', 'APPVEYOR': 'True', 'FRAMEWORKVERSION64': 'v4.0.30319', 'PROCESSOR_LEVEL': '6', 'OS': 'Windows_NT', 'FSHARPINSTALLDIR': 'C:\\\\Program Files (x86)\\\\Microsoft SDKs\\\\F#\\\\4.0\\\\Framework\\\\v4.0\\\\', 'WINDOWSSDK_EXECUTABLEPATH_X86': 'C:\\\\Program Files (x86)\\\\Microsoft SDKs\\\\Windows\\\\v10.0A\\\\bin\\\\NETFX 4.6.1 Tools\\\\', 'GOROOT': 'C:\\\\go', 'APPVEYOR_BUILD_WORKER_IMAGE': 'Visual Studio 2015', 'CI_LINUX': 'False', 'UCRTVERSION': '10.0.14393.0', 'APPVEYOR_API_URL': 'http://localhost:1033/', 'TEMP': 'C:\\\\Users\\\\appveyor\\\\AppData\\\\Local\\\\Temp\\\\1', 'SHLVL': '1', 'APPVEYOR_REPO_NAME': 'explosion/cython-blis', 'COMMONPROGRAMFILES(X86)': 'C:\\\\Program Files (x86)\\\\Common Files', 'APR_ICONV_PATH': 'C:\\\\Program Files (x86)\\\\Subversion\\\\iconv', 'HOMEPATH': '\\\\Users\\\\appveyor', 'VISUALSTUDIOVERSION': '14.0', 'M2_HOME': 'C:\\\\Program Files (x86)\\\\Apache\\\\Maven', 'WINDOWSSDKDIR': 'C:\\\\Program Files (x86)\\\\Windows Kits\\\\10\\\\', 'FRAMEWORKDIR64': 'c:\\\\Windows\\\\Microsoft.NET\\\\Framework64', 'LOGONSERVER': '\\\\\\\\APPVYR-WIN', 'APPVEYOR_JOB_ID': 'wp7dj9edlg7t43xq', 'PKG_CONFIG_PATH': 'C:\\\\Program Files\\\\Git\\\\usr\\\\lib\\\\pkgconfig;C:\\\\Program Files\\\\Git\\\\usr\\\\share\\\\pkgconfig;C:\\\\Program Files\\\\Git\\\\lib\\\\pkgconfig', 'APPVEYOR_REPO_PROVIDER': 'gitHub', '_': 'C:/Python27/python', 'APPVEYOR_URL': 'https://ci.appveyor.com', 'OPENSSL_CONF': 'C:\\\\OpenSSL-Win32\\\\bin\\\\openssl.cfg', 'APPDATA': 'C:\\\\Users\\\\appveyor\\\\AppData\\\\Roaming', 'APPVEYOR_REPO_BRANCH': 'update-blis', 'APPVEYOR_BUILD_ID': '23072639', 'WIX': 'C:\\\\Program Files (x86)\\\\WiX Toolset v3.11\\\\', 'FRAMEWORKVERSION': 'v4.0.30319', 'TMP': 'C:\\\\Users\\\\appveyor\\\\AppData\\\\Local\\\\Temp\\\\1', 'COMPUTERNAME': 'APPVYR-WIN', 'VS110COMNTOOLS': 'C:\\\\Program Files (x86)\\\\Microsoft Visual Studio 11.0\\\\Common7\\\\Tools\\\\', 'WINDOWSSDKLIBVERSION': '10.0.14393.0\\\\', 'USERDOMAIN': 'APPVYR-WIN', 'VSSDK120INSTALL': 'C:\\\\Program Files (x86)\\\\Microsoft Visual Studio 12.0\\\\VSSDK\\\\', 'ORIGINAL_TMP': 'C:/Users/appveyor/AppData/Local/Temp/1', 'COMMONPROGRAMFILES': 'C:\\\\Program Files (x86)\\\\Common Files', 'VSSDK140INSTALL': 'C:\\\\Program Files (x86)\\\\Microsoft Visual Studio 14.0\\\\VSSDK\\\\', 'HOME': 'C:\\\\Users\\\\appveyor', 'LANG': 'en_US.UTF-8', 'CODECONTRACTSINSTALLDIR': 'C:\\\\Program Files (x86)\\\\Microsoft\\\\Contracts\\\\', 'FRAMEWORK40VERSION': 'v4.0', 'MSYSTEM_PREFIX': 'C:/Program Files/Git/usr', 'PROCESSOR_ARCHITECTURE': 'x86', 'CHOCOLATEYINSTALL': 'C:\\\\ProgramData\\\\chocolatey', 'ALLUSERSPROFILE': 'C:\\\\ProgramData', 'TMPDIR': 'C:\\\\Users\\\\appveyor\\\\AppData\\\\Local\\\\Temp\\\\1', 'APPVEYOR_BUILD_NUMBER': '483', 'FRAMEWORKDIR': 'c:\\\\Windows\\\\Microsoft.NET\\\\Framework64', 'PROGRAMW6432': 'C:\\\\Program Files', 'USERNAME': 'appveyor', 'CI': 'True', 'PROMPT': '$P$G', 'APPVEYOR_REPO_COMMIT_TIMESTAMP': '2019-03-14T13:33:06.0000000Z', 'CC': 'clang', 'USERDOMAIN_ROAMINGPROFILE': 'APPVYR-WIN', 'PATHEXT': '.COM;.EXE;.BAT;.CMD;.VBS;.VBE;.JS;.JSE;.WSF;.WSH;.MSC;.PY;.CPL', 'ORIGINAL_TEMP': 'C:/Users/appveyor/AppData/Local/Temp/1', 'APPVEYOR_BUILD_FOLDER': 'C:\\\\projects\\\\cython-blis-h674r', 'XUNIT20': 'C:\\\\Tools\\\\xUnit20', 'APPVEYOR_PROJECT_ID': '484208', 'NUMBER_OF_PROCESSORS': '2', 'ERLANG_HOME': 'C:\\\\Program Files\\\\erl9.2', 'PROCESSOR_ARCHITEW6432': 'AMD64', 'PUBLIC': 'C:\\\\Users\\\\Public', 'WINDOWSSDKVERSION': '10.0.14393.0\\\\', 'USERPROFILE': 'C:\\\\Users\\\\appveyor', 'PSMODULEPATH': 'C:\\\\Users\\\\appveyor\\\\Documents\\\\WindowsPowerShell\\\\Modules;C:\\\\Users\\\\appveyor\\\\Documents\\\\WindowsPowerShell\\\\Modules;C:\\\\Program Files\\\\WindowsPowerShell\\\\Modules;C:\\\\Windows\\\\system32\\\\WindowsPowerShell\\\\v1.0\\\\Modules;C:\\\\Program Files (x86)\\\\Microsoft SQL Server\\\\110\\\\Tools\\\\PowerShell\\\\Modules;C:\\\\Program Files (x86)\\\\Microsoft SQL Server\\\\120\\\\Tools\\\\PowerShell\\\\Modules;C:\\\\Program Files\\\\AppVeyor\\\\BuildAgent\\\\Modules;C:\\\\Program Files (x86)\\\\Microsoft SQL Server\\\\130\\\\Tools\\\\PowerShell\\\\Modules;C:\\\\Program Files (x86)\\\\AWS Tools\\\\PowerShell;C:\\\\Program Files (x86)\\\\Microsoft SDKs\\\\Azure\\\\PowerShell\\\\ResourceManager\\\\AzureResourceManager;C:\\\\Program Files (x86)\\\\Microsoft SDKs\\\\Azure\\\\PowerShell\\\\ServiceManagement;C:\\\\Program Files (x86)\\\\Microsoft SDKs\\\\Azure\\\\PowerShell\\\\Storage;C:\\\\Program Files (x86)\\\\Microsoft SQL Server\\\\140\\\\Tools\\\\PowerShell\\\\Modules;c:\\\\Program Files (x86)\\\\Microsoft SQL Server\\\\130\\\\Tools\\\\PowerShell\\\\Modules\\\\', 'VS140COMNTOOLS': 'C:\\\\Program Files (x86)\\\\Microsoft Visual Studio 14.0\\\\Common7\\\\Tools\\\\', 'APPVEYOR_REPO_TAG': 'false', 'APPVEYOR_PROJECT_SLUG': 'cython-blis-h674r', 'LIBPATH': 'c:\\\\Windows\\\\Microsoft.NET\\\\Framework64\\\\v4.0.30319;C:\\\\Program Files (x86)\\\\Microsoft Visual Studio 14.0\\\\VC\\\\LIB\\\\amd64;C:\\\\Program Files (x86)\\\\Microsoft Visual Studio 14.0\\\\VC\\\\ATLMFC\\\\LIB\\\\amd64;C:\\\\Program Files (x86)\\\\Windows Kits\\\\10\\\\UnionMetadata;C:\\\\Program Files (x86)\\\\Windows Kits\\\\10\\\\References;C:\\\\Program Files (x86)\\\\Microsoft SDKs\\\\Windows Kits\\\\10\\\\ExtensionSDKs\\\\Microsoft.VCLibs\\\\14.0\\\\References\\\\CommonConfiguration\\\\neutral;', 'ORIGINAL_PATH': 'C:\\\\Program Files (x86)\\\\Microsoft Visual Studio 14.0\\\\Common7\\\\IDE\\\\CommonExtensions\\\\Microsoft\\\\TestWindow;C:\\\\Program Files (x86)\\\\MSBuild\\\\14.0\\\\bin\\\\amd64;C:\\\\Program Files (x86)\\\\Microsoft Visual Studio 14.0\\\\VC\\\\BIN\\\\amd64;C:\\\\Windows\\\\Microsoft.NET\\\\Framework64\\\\v4.0.30319;C:\\\\Program Files (x86)\\\\Microsoft Visual Studio 14.0\\\\VC\\\\VCPackages;C:\\\\Program Files (x86)\\\\Microsoft Visual Studio 14.0\\\\Common7\\\\IDE;C:\\\\Program Files (x86)\\\\Microsoft Visual Studio 14.0\\\\Common7\\\\Tools;C:\\\\Program Files (x86)\\\\HTML Help Workshop;C:\\\\Program Files (x86)\\\\Microsoft Visual Studio 14.0\\\\Team Tools\\\\Performance Tools\\\\x64;C:\\\\Program Files (x86)\\\\Microsoft Visual Studio 14.0\\\\Team Tools\\\\Performance Tools;C:\\\\Program Files (x86)\\\\Windows Kits\\\\10\\\\bin\\\\x64;C:\\\\Program Files (x86)\\\\Windows Kits\\\\10\\\\bin\\\\x86;C:\\\\Program Files (x86)\\\\Microsoft SDKs\\\\Windows\\\\v10.0A\\\\bin\\\\NETFX 4.6.1 Tools\\\\x64;C:\\\\Program Files\\\\LLVM\\\\bin;C:\\\\msys64\\\\mingw64\\\\bin;C:\\\\msys64\\\\bin;C:\\\\Program Files (x86)\\\\Microsoft SDKs\\\\Azure\\\\CLI2\\\\wbin;C:\\\\Perl\\\\site\\\\bin;C:\\\\Perl\\\\bin;C:\\\\Windows\\\\system32;C:\\\\Windows;C:\\\\Windows\\\\System32\\\\Wbem;C:\\\\Windows\\\\System32\\\\WindowsPowerShell\\\\v1.0;C:\\\\Program Files\\\\7-Zip;C:\\\\Program Files\\\\Microsoft\\\\Web Platform Installer;C:\\\\Tools\\\\GitVersion;C:\\\\Tools\\\\PsTools;C:\\\\Program Files\\\\Git LFS;C:\\\\Program Files (x86)\\\\Subversion\\\\bin;C:\\\\Program Files\\\\Microsoft SQL Server\\\\120\\\\Tools\\\\Binn;C:\\\\Program Files\\\\Microsoft SQL Server\\\\Client SDK\\\\ODBC\\\\110\\\\Tools\\\\Binn;C:\\\\Program Files (x86)\\\\Microsoft SQL Server\\\\120\\\\Tools\\\\Binn;C:\\\\Program Files\\\\Microsoft SQL Server\\\\120\\\\DTS\\\\Binn;C:\\\\Program Files (x86)\\\\Microsoft SQL Server\\\\120\\\\Tools\\\\Binn\\\\ManagementStudio;C:\\\\Tools\\\\WebDriver;C:\\\\Program Files (x86)\\\\Microsoft SDKs\\\\TypeScript\\\\1.4;C:\\\\Program Files (x86)\\\\Microsoft Visual Studio 12.0\\\\Common7\\\\IDE\\\\PrivateAssemblies;C:\\\\Program Files (x86)\\\\Microsoft SDKs\\\\Azure\\\\CLI\\\\wbin;C:\\\\Ruby193\\\\bin;C:\\\\Tools\\\\NUnit\\\\bin;C:\\\\Tools\\\\xUnit;C:\\\\Tools\\\\MSpec;C:\\\\Tools\\\\Coverity\\\\bin;C:\\\\Program Files (x86)\\\\CMake\\\\bin;C:\\\\go\\\\bin;C:\\\\Program Files\\\\Java\\\\jdk1.8.0\\\\bin;C:\\\\Python27;C:\\\\Program Files\\\\nodejs;C:\\\\Program Files (x86)\\\\iojs;C:\\\\Program Files\\\\iojs;C:\\\\Program Files\\\\Microsoft SQL Server\\\\130\\\\Tools\\\\Binn;C:\\\\Program Files (x86)\\\\MSBuild\\\\14.0\\\\Bin;C:\\\\Tools\\\\NuGet;C:\\\\Program Files (x86)\\\\Microsoft Visual Studio 14.0\\\\Common7\\\\IDE\\\\CommonExtensions\\\\Microsoft\\\\TestWindow;C:\\\\Program Files\\\\Microsoft DNX\\\\Dnvm;C:\\\\Program Files\\\\Microsoft SQL Server\\\\Client SDK\\\\ODBC\\\\130\\\\Tools\\\\Binn;C:\\\\Program Files (x86)\\\\Microsoft SQL Server\\\\130\\\\Tools\\\\Binn;C:\\\\Program Files (x86)\\\\Microsoft SQL Server\\\\130\\\\DTS\\\\Binn;C:\\\\Program Files\\\\Microsoft SQL Server\\\\130\\\\DTS\\\\Binn;C:\\\\Program Files (x86)\\\\Microsoft SQL Server\\\\110\\\\DTS\\\\Binn;C:\\\\Program Files (x86)\\\\Microsoft SQL Server\\\\120\\\\DTS\\\\Binn;C:\\\\Program Files (x86)\\\\Apache\\\\Maven\\\\bin;C:\\\\Python27\\\\Scripts;C:\\\\Tools\\\\NUnit3;C:\\\\Program Files\\\\Mercurial;C:\\\\Program Files\\\\dotnet;C:\\\\Tools\\\\curl\\\\bin;C:\\\\Program Files\\\\Amazon\\\\AWSCLI;C:\\\\Program Files (x86)\\\\Microsoft SQL Server\\\\140\\\\DTS\\\\Binn;C:\\\\Program Files (x86)\\\\Microsoft Visual Studio 14.0\\\\Common7\\\\IDE\\\\Extensions\\\\Microsoft\\\\SQLDB\\\\DAC\\\\140;C:\\\\Tools\\\\vcpkg;C:\\\\Program Files (x86)\\\\Microsoft SQL Server\\\\140\\\\Tools\\\\Binn;C:\\\\Program Files\\\\Microsoft SQL Server\\\\140\\\\Tools\\\\Binn;C:\\\\Program Files\\\\Microsoft SQL Server\\\\140\\\\DTS\\\\Binn;C:\\\\Program Files\\\\erl9.2\\\\bin;C:\\\\Program Files (x86)\\\\NSIS;C:\\\\Tools\\\\Octopus;C:\\\\Program Files\\\\Git\\\\cmd;C:\\\\Program Files\\\\Git\\\\usr\\\\bin;C:\\\\Program Files\\\\Microsoft Service Fabric\\\\bin\\\\Fabric\\\\Fabric.Code;C:\\\\Program Files\\\\Microsoft SDKs\\\\Service Fabric\\\\Tools\\\\ServiceFabricLocalClusterManager;C:\\\\Program Files\\\\LLVM\\\\bin;C:\\\\Program Files (x86)\\\\Yarn\\\\bin;C:\\\\Users\\\\appveyor\\\\AppData\\\\Roaming\\\\npm;C:\\\\Program Files\\\\PowerShell\\\\6;C:\\\\Program Files (x86)\\\\nodejs;C:\\\\ProgramData\\\\chocolatey\\\\bin;C:\\\\Users\\\\appveyor\\\\.dotnet\\\\tools;C:\\\\Users\\\\appveyor\\\\AppData\\\\Local\\\\Yarn\\\\bin;C:\\\\Users\\\\appveyor\\\\AppData\\\\Roaming\\\\npm;C:\\\\Program Files\\\\AppVeyor\\\\BuildAgent;C:\\\\blis\\\\lib', 'PROCESSOR_IDENTIFIER': 'Intel64 Family 6 Model 63 Stepping 2, GenuineIntel', 'COMMANDPROMPTTYPE': 'Native', 'PROGRAMFILES': 'C:\\\\Program Files (x86)', 'PROCESSOR_REVISION': '3f02', 'MAVEN_HOME': 'C:\\\\Program Files (x86)\\\\Apache\\\\Maven', 'PATH': 'C:\\\\Users\\\\appveyor\\\\bin;C:\\\\Program Files\\\\Git\\\\usr\\\\local\\\\bin;C:\\\\Program Files\\\\Git\\\\usr\\\\bin;C:\\\\Program Files\\\\Git\\\\usr\\\\bin;C:\\\\Program Files\\\\Git\\\\opt\\\\bin;C:\\\\Program Files (x86)\\\\Microsoft Visual Studio 14.0\\\\Common7\\\\IDE\\\\CommonExtensions\\\\Microsoft\\\\TestWindow;C:\\\\Program Files (x86)\\\\MSBuild\\\\14.0\\\\bin\\\\amd64;C:\\\\Program Files (x86)\\\\Microsoft Visual Studio 14.0\\\\VC\\\\BIN\\\\amd64;C:\\\\Windows\\\\Microsoft.NET\\\\Framework64\\\\v4.0.30319;C:\\\\Program Files (x86)\\\\Microsoft Visual Studio 14.0\\\\VC\\\\VCPackages;C:\\\\Program Files (x86)\\\\Microsoft Visual Studio 14.0\\\\Common7\\\\IDE;C:\\\\Program Files (x86)\\\\Microsoft Visual Studio 14.0\\\\Common7\\\\Tools;C:\\\\Program Files (x86)\\\\HTML Help Workshop;C:\\\\Program Files (x86)\\\\Microsoft Visual Studio 14.0\\\\Team Tools\\\\Performance Tools\\\\x64;C:\\\\Program Files (x86)\\\\Microsoft Visual Studio 14.0\\\\Team Tools\\\\Performance Tools;C:\\\\Program Files (x86)\\\\Windows Kits\\\\10\\\\bin\\\\x64;C:\\\\Program Files (x86)\\\\Windows Kits\\\\10\\\\bin\\\\x86;C:\\\\Program Files (x86)\\\\Microsoft SDKs\\\\Windows\\\\v10.0A\\\\bin\\\\NETFX 4.6.1 Tools\\\\x64;C:\\\\Program Files\\\\LLVM\\\\bin;C:\\\\msys64\\\\mingw64\\\\bin;C:\\\\msys64\\\\bin;C:\\\\Program Files (x86)\\\\Microsoft SDKs\\\\Azure\\\\CLI2\\\\wbin;C:\\\\Perl\\\\site\\\\bin;C:\\\\Perl\\\\bin;C:\\\\Windows\\\\system32;C:\\\\Windows;C:\\\\Windows\\\\System32\\\\Wbem;C:\\\\Windows\\\\System32\\\\WindowsPowerShell\\\\v1.0;C:\\\\Program Files\\\\7-Zip;C:\\\\Program Files\\\\Microsoft\\\\Web Platform Installer;C:\\\\Tools\\\\GitVersion;C:\\\\Tools\\\\PsTools;C:\\\\Program Files\\\\Git LFS;C:\\\\Program Files (x86)\\\\Subversion\\\\bin;C:\\\\Program Files\\\\Microsoft SQL Server\\\\120\\\\Tools\\\\Binn;C:\\\\Program Files\\\\Microsoft SQL Server\\\\Client SDK\\\\ODBC\\\\110\\\\Tools\\\\Binn;C:\\\\Program Files (x86)\\\\Microsoft SQL Server\\\\120\\\\Tools\\\\Binn;C:\\\\Program Files\\\\Microsoft SQL Server\\\\120\\\\DTS\\\\Binn;C:\\\\Program Files (x86)\\\\Microsoft SQL Server\\\\120\\\\Tools\\\\Binn\\\\ManagementStudio;C:\\\\Tools\\\\WebDriver;C:\\\\Program Files (x86)\\\\Microsoft SDKs\\\\TypeScript\\\\1.4;C:\\\\Program Files (x86)\\\\Microsoft Visual Studio 12.0\\\\Common7\\\\IDE\\\\PrivateAssemblies;C:\\\\Program Files (x86)\\\\Microsoft SDKs\\\\Azure\\\\CLI\\\\wbin;C:\\\\Ruby193\\\\bin;C:\\\\Tools\\\\NUnit\\\\bin;C:\\\\Tools\\\\xUnit;C:\\\\Tools\\\\MSpec;C:\\\\Tools\\\\Coverity\\\\bin;C:\\\\Program Files (x86)\\\\CMake\\\\bin;C:\\\\go\\\\bin;C:\\\\Program Files\\\\Java\\\\jdk1.8.0\\\\bin;C:\\\\Python27;C:\\\\Program Files\\\\nodejs;C:\\\\Program Files (x86)\\\\iojs;C:\\\\Program Files\\\\iojs;C:\\\\Program Files\\\\Microsoft SQL Server\\\\130\\\\Tools\\\\Binn;C:\\\\Program Files (x86)\\\\MSBuild\\\\14.0\\\\Bin;C:\\\\Tools\\\\NuGet;C:\\\\Program Files (x86)\\\\Microsoft Visual Studio 14.0\\\\Common7\\\\IDE\\\\CommonExtensions\\\\Microsoft\\\\TestWindow;C:\\\\Program Files\\\\Microsoft DNX\\\\Dnvm;C:\\\\Program Files\\\\Microsoft SQL Server\\\\Client SDK\\\\ODBC\\\\130\\\\Tools\\\\Binn;C:\\\\Program Files (x86)\\\\Microsoft SQL Server\\\\130\\\\Tools\\\\Binn;C:\\\\Program Files (x86)\\\\Microsoft SQL Server\\\\130\\\\DTS\\\\Binn;C:\\\\Program Files\\\\Microsoft SQL Server\\\\130\\\\DTS\\\\Binn;C:\\\\Program Files (x86)\\\\Microsoft SQL Server\\\\110\\\\DTS\\\\Binn;C:\\\\Program Files (x86)\\\\Microsoft SQL Server\\\\120\\\\DTS\\\\Binn;C:\\\\Program Files (x86)\\\\Apache\\\\Maven\\\\bin;C:\\\\Python27\\\\Scripts;C:\\\\Tools\\\\NUnit3;C:\\\\Program Files\\\\Mercurial;C:\\\\Program Files\\\\dotnet;C:\\\\Tools\\\\curl\\\\bin;C:\\\\Program Files\\\\Amazon\\\\AWSCLI;C:\\\\Program Files (x86)\\\\Microsoft SQL Server\\\\140\\\\DTS\\\\Binn;C:\\\\Program Files (x86)\\\\Microsoft Visual Studio 14.0\\\\Common7\\\\IDE\\\\Extensions\\\\Microsoft\\\\SQLDB\\\\DAC\\\\140;C:\\\\Tools\\\\vcpkg;C:\\\\Program Files (x86)\\\\Microsoft SQL Server\\\\140\\\\Tools\\\\Binn;C:\\\\Program Files\\\\Microsoft SQL Server\\\\140\\\\Tools\\\\Binn;C:\\\\Program Files\\\\Microsoft SQL Server\\\\140\\\\DTS\\\\Binn;C:\\\\Program Files\\\\erl9.2\\\\bin;C:\\\\Program Files (x86)\\\\NSIS;C:\\\\Tools\\\\Octopus;C:\\\\Program Files\\\\Git\\\\cmd;C:\\\\Program Files\\\\Git\\\\usr\\\\bin;C:\\\\Program Files\\\\Microsoft Service Fabric\\\\bin\\\\Fabric\\\\Fabric.Code;C:\\\\Program Files\\\\Microsoft SDKs\\\\Service Fabric\\\\Tools\\\\ServiceFabricLocalClusterManager;C:\\\\Program Files\\\\LLVM\\\\bin;C:\\\\Program Files (x86)\\\\Yarn\\\\bin;C:\\\\Users\\\\appveyor\\\\AppData\\\\Roaming\\\\npm;C:\\\\Program Files\\\\PowerShell\\\\6;C:\\\\Program Files (x86)\\\\nodejs;C:\\\\ProgramData\\\\chocolatey\\\\bin;C:\\\\Users\\\\appveyor\\\\.dotnet\\\\tools;C:\\\\Users\\\\appveyor\\\\AppData\\\\Local\\\\Yarn\\\\bin;C:\\\\Users\\\\appveyor\\\\AppData\\\\Roaming\\\\npm;C:\\\\Program Files\\\\AppVeyor\\\\BuildAgent;C:\\\\blis\\\\lib;C:\\\\Program Files\\\\Git\\\\usr\\\\bin\\\\vendor_perl;C:\\\\Program Files\\\\Git\\\\usr\\\\bin\\\\core_perl', 'PROGRAMFILES(X86)': 'C:\\\\Program Files (x86)', 'TERM': 'cygwin', 'PS1': '\\\\[\\\\033]0;$TITLEPREFIX:$PWD\\\\007\\\\]\\\\n\\\\[\\\\033[32m\\\\]\\\\u@\\\\h \\\\[\\\\033[35m\\\\]$MSYSTEM \\\\[\\\\033[33m\\\\]\\\\w\\\\[\\\\033[36m\\\\]`__git_ps1`\\\\[\\\\033[0m\\\\]\\\\n$ ', 'INCLUDE': 'C:\\\\Program Files (x86)\\\\Microsoft Visual Studio 14.0\\\\VC\\\\INCLUDE;C:\\\\Program Files (x86)\\\\Microsoft Visual Studio 14.0\\\\VC\\\\ATLMFC\\\\INCLUDE;C:\\\\Program Files (x86)\\\\Windows Kits\\\\10\\\\include\\\\10.0.14393.0\\\\ucrt;C:\\\\Program Files (x86)\\\\Windows Kits\\\\NETFXSDK\\\\4.6.1\\\\include\\\\um;C:\\\\Program Files (x86)\\\\Windows Kits\\\\10\\\\include\\\\10.0.14393.0\\\\shared;C:\\\\Program Files (x86)\\\\Windows Kits\\\\10\\\\include\\\\10.0.14393.0\\\\um;C:\\\\Program Files (x86)\\\\Windows Kits\\\\10\\\\include\\\\10.0.14393.0\\\\winrt;', 'APPVEYOR_REPO_COMMIT_MESSAGE': 'Fiddle with appveyor', 'VS120COMNTOOLS': 'C:\\\\Program Files (x86)\\\\Microsoft Visual Studio 12.0\\\\Common7\\\\Tools\\\\', 'NETFXSDKDIR': 'C:\\\\Program Files (x86)\\\\Windows Kits\\\\NETFXSDK\\\\4.6.1\\\\', 'VSINSTALLDIR': 'C:\\\\Program Files (x86)\\\\Microsoft Visual Studio 14.0\\\\', 'PLATFORM': 'X64', 'LOCALAPPDATA': 'C:\\\\Users\\\\appveyor\\\\AppData\\\\Local', 'EXTENSIONSDKDIR': 'C:\\\\Program Files (x86)\\\\Microsoft SDKs\\\\Windows Kits\\\\10\\\\ExtensionSDKs', 'APPVEYOR_BUILD_VERSION': '1.0.483', 'APPVEYOR_REPO_SCM': 'git', 'MSYSTEM': 'MSYS', 'PROGRAMDATA': 'C:\\\\ProgramData', 'APPVEYOR_JOB_NUMBER': '1', 'AS': 'llvm-as', 'AR': 'llvm-ar', 'APPVEYOR_ACCOUNT_NAME': 'honnibal', 'FP_NO_HOST_CHECK': 'NO', 'COMMONPROGRAMW6432': 'C:\\\\Program Files\\\\Common Files', 'OLDPWD': 'C:/projects/cython-blis-h674r/flame-blis', 'DXSDK_DIR': 'C:\\\\Program Files (x86)\\\\Microsoft DirectX SDK (June 2010)\\\\', '7ZIP': '\"C:\\\\Program Files\\\\7-Zip\\\\7z.exe\"', 'PWD': 'C:/projects/cython-blis', 'CFLAGS': '-Wno-macro-redefined', 'UNIVERSALCRTSDKDIR': 'C:\\\\Program Files (x86)\\\\Windows Kits\\\\10\\\\', 'VCINSTALLDIR': 'C:\\\\Program Files (x86)\\\\Microsoft Visual Studio 14.0\\\\VC\\\\'}\n",
      "            clang -c C:\\Users\\Shubham\\AppData\\Local\\Temp\\pip-install-17ma82r9\\blis_3408ed064a354946ac7a92c0e6f0ce77\\blis\\_src\\config\\bulldozer\\bli_cntx_init_bulldozer.c -o C:\\Users\\Shubham\\AppData\\Local\\Temp\\tmp4kyi6xld\\bli_cntx_init_bulldozer.o -O3 -std=c99 -D_POSIX_C_SOURCE=200112L -DBLIS_VERSION_STRING=\"0.5.1\" -DBLIS_IS_BUILDING_LIBRARY -Iinclude\\windows-x86_64 -I.\\frame\\3\\ -I.\\frame\\ind\\ukernels\\ -I.\\frame\\1m\\ -I.\\frame\\1f\\ -I.\\frame\\1\\ -I.\\frame\\include -IC:\\Users\\Shubham\\AppData\\Local\\Temp\\pip-install-17ma82r9\\blis_3408ed064a354946ac7a92c0e6f0ce77\\blis\\_src\\include\\windows-x86_64\n",
      "            error: [WinError 2] The system cannot find the file specified\n",
      "            [end of output]\n",
      "      \n",
      "        note: This error originates from a subprocess, and is likely not a problem with pip.\n",
      "        ERROR: Failed building wheel for blis\n",
      "        Running setup.py clean for blis\n",
      "      Failed to build blis\n",
      "      Installing collected packages: wasabi, plac, cymem, wheel, srsly, setuptools, numpy, murmurhash, cython, colorama, catalogue, tqdm, preshed, blis, thinc\n",
      "        Running setup.py install for blis: started\n",
      "        Running setup.py install for blis: finished with status 'error'\n",
      "        error: subprocess-exited-with-error\n",
      "      \n",
      "        Ã— Running setup.py install for blis did not run successfully.\n",
      "        â”‚ exit code: 1\n",
      "        â•°â”€> [25 lines of output]\n",
      "            BLIS_COMPILER? None\n",
      "            running install\n",
      "            running build\n",
      "            running build_py\n",
      "            creating build\n",
      "            creating build\\lib.win-amd64-3.9\n",
      "            creating build\\lib.win-amd64-3.9\\blis\n",
      "            copying blis\\about.py -> build\\lib.win-amd64-3.9\\blis\n",
      "            copying blis\\benchmark.py -> build\\lib.win-amd64-3.9\\blis\n",
      "            copying blis\\__init__.py -> build\\lib.win-amd64-3.9\\blis\n",
      "            creating build\\lib.win-amd64-3.9\\blis\\tests\n",
      "            copying blis\\tests\\common.py -> build\\lib.win-amd64-3.9\\blis\\tests\n",
      "            copying blis\\tests\\test_dotv.py -> build\\lib.win-amd64-3.9\\blis\\tests\n",
      "            copying blis\\tests\\test_gemm.py -> build\\lib.win-amd64-3.9\\blis\\tests\n",
      "            copying blis\\tests\\__init__.py -> build\\lib.win-amd64-3.9\\blis\\tests\n",
      "            copying blis\\cy.pyx -> build\\lib.win-amd64-3.9\\blis\n",
      "            copying blis\\py.pyx -> build\\lib.win-amd64-3.9\\blis\n",
      "            copying blis\\cy.pxd -> build\\lib.win-amd64-3.9\\blis\n",
      "            copying blis\\__init__.pxd -> build\\lib.win-amd64-3.9\\blis\n",
      "            running build_ext\n",
      "            msvc\n",
      "            py_compiler msvc\n",
      "            {'APPVEYOR_REPO_COMMIT_AUTHOR': 'Matthew Honnibal', 'LIB': 'C:\\\\Program Files (x86)\\\\Microsoft Visual Studio 14.0\\\\VC\\\\LIB\\\\amd64;C:\\\\Program Files (x86)\\\\Microsoft Visual Studio 14.0\\\\VC\\\\ATLMFC\\\\LIB\\\\amd64;C:\\\\Program Files (x86)\\\\Windows Kits\\\\10\\\\lib\\\\10.0.14393.0\\\\ucrt\\\\x64;C:\\\\Program Files (x86)\\\\Windows Kits\\\\NETFXSDK\\\\4.6.1\\\\lib\\\\um\\\\x64;C:\\\\Program Files (x86)\\\\Windows Kits\\\\10\\\\lib\\\\10.0.14393.0\\\\um\\\\x64;', 'VS100COMNTOOLS': 'c:\\\\Program Files (x86)\\\\Microsoft Visual Studio 10.0\\\\Common7\\\\Tools\\\\', 'APPVEYOR_PROJECT_NAME': 'cython-blis', 'AVVM_DOWNLOAD_URL': 'https://appveyordownloads.blob.core.windows.net/avvm', 'GIT_LFS_PATH': 'C:\\\\Program Files\\\\Git LFS', 'MSYSTEM_CHOST': 'x86_64-pc-msys', 'APPVEYOR_REPO_COMMIT_AUTHOR_EMAIL': 'honnibal+gh@gmail.com', 'WINDOWSSDK_EXECUTABLEPATH_X64': 'C:\\\\Program Files (x86)\\\\Microsoft SDKs\\\\Windows\\\\v10.0A\\\\bin\\\\NETFX 4.6.1 Tools\\\\x64\\\\', 'SYSTEMROOT': 'C:\\\\windows', 'LASTEXITCODE': '0', 'CHOCOLATEYLASTPATHUPDATE': 'Sun Feb  3 19:40:40 2019', 'INFOPATH': 'C:\\\\Program Files\\\\Git\\\\usr\\\\local\\\\info;C:\\\\Program Files\\\\Git\\\\usr\\\\share\\\\info;C:\\\\Program Files\\\\Git\\\\usr\\\\info;C:\\\\Program Files\\\\Git\\\\share\\\\info', 'SHELL': 'C:\\\\Program Files\\\\Git\\\\usr\\\\bin\\\\bash.exe', 'MSYSTEM_CARCH': 'x86_64', 'MSYS2_PATH_TYPE': 'inherit', 'MANPATH': 'C:\\\\Program Files\\\\Git\\\\usr\\\\local\\\\man;C:\\\\Program Files\\\\Git\\\\usr\\\\share\\\\man;C:\\\\Program Files\\\\Git\\\\usr\\\\man;C:\\\\Program Files\\\\Git\\\\share\\\\man', 'JAVA_HOME': 'C:\\\\Progra~1\\\\Java\\\\jdk1.8.0', 'CI_WINDOWS': 'True', 'APPVEYOR_BUILD_AGENT_HYPERV_NIC_CONFIGURED': 'true', 'WINDOWSLIBPATH': 'C:\\\\Program Files (x86)\\\\Windows Kits\\\\10\\\\UnionMetadata;C:\\\\Program Files (x86)\\\\Windows Kits\\\\10\\\\References', 'COMSPEC': 'C:\\\\windows\\\\system32\\\\cmd.exe', 'WINDIR': 'C:\\\\windows', 'RANLIB': 'echo', 'APPVEYOR_REPO_COMMIT': '8bbf4b332e237459bb8f45dc9414b3049a202939', 'VS90COMNTOOLS': 'C:\\\\Program Files (x86)\\\\Microsoft Visual Studio 9.0\\\\Common7\\\\Tools\\\\', 'ENABLENUGETPACKAGERESTORE': 'true', 'SESSIONNAME': 'Console', 'CONFIG_SITE': 'C:/Program Files/Git/etc/config.site', 'HOMEDRIVE': 'C:', 'SYSTEMDRIVE': 'C:', 'HOSTNAME': 'APPVYR-WIN', 'APPVEYOR': 'True', 'FRAMEWORKVERSION64': 'v4.0.30319', 'PROCESSOR_LEVEL': '6', 'OS': 'Windows_NT', 'FSHARPINSTALLDIR': 'C:\\\\Program Files (x86)\\\\Microsoft SDKs\\\\F#\\\\4.0\\\\Framework\\\\v4.0\\\\', 'WINDOWSSDK_EXECUTABLEPATH_X86': 'C:\\\\Program Files (x86)\\\\Microsoft SDKs\\\\Windows\\\\v10.0A\\\\bin\\\\NETFX 4.6.1 Tools\\\\', 'GOROOT': 'C:\\\\go', 'APPVEYOR_BUILD_WORKER_IMAGE': 'Visual Studio 2015', 'CI_LINUX': 'False', 'UCRTVERSION': '10.0.14393.0', 'APPVEYOR_API_URL': 'http://localhost:1033/', 'TEMP': 'C:\\\\Users\\\\appveyor\\\\AppData\\\\Local\\\\Temp\\\\1', 'SHLVL': '1', 'APPVEYOR_REPO_NAME': 'explosion/cython-blis', 'COMMONPROGRAMFILES(X86)': 'C:\\\\Program Files (x86)\\\\Common Files', 'APR_ICONV_PATH': 'C:\\\\Program Files (x86)\\\\Subversion\\\\iconv', 'HOMEPATH': '\\\\Users\\\\appveyor', 'VISUALSTUDIOVERSION': '14.0', 'M2_HOME': 'C:\\\\Program Files (x86)\\\\Apache\\\\Maven', 'WINDOWSSDKDIR': 'C:\\\\Program Files (x86)\\\\Windows Kits\\\\10\\\\', 'FRAMEWORKDIR64': 'c:\\\\Windows\\\\Microsoft.NET\\\\Framework64', 'LOGONSERVER': '\\\\\\\\APPVYR-WIN', 'APPVEYOR_JOB_ID': 'wp7dj9edlg7t43xq', 'PKG_CONFIG_PATH': 'C:\\\\Program Files\\\\Git\\\\usr\\\\lib\\\\pkgconfig;C:\\\\Program Files\\\\Git\\\\usr\\\\share\\\\pkgconfig;C:\\\\Program Files\\\\Git\\\\lib\\\\pkgconfig', 'APPVEYOR_REPO_PROVIDER': 'gitHub', '_': 'C:/Python27/python', 'APPVEYOR_URL': 'https://ci.appveyor.com', 'OPENSSL_CONF': 'C:\\\\OpenSSL-Win32\\\\bin\\\\openssl.cfg', 'APPDATA': 'C:\\\\Users\\\\appveyor\\\\AppData\\\\Roaming', 'APPVEYOR_REPO_BRANCH': 'update-blis', 'APPVEYOR_BUILD_ID': '23072639', 'WIX': 'C:\\\\Program Files (x86)\\\\WiX Toolset v3.11\\\\', 'FRAMEWORKVERSION': 'v4.0.30319', 'TMP': 'C:\\\\Users\\\\appveyor\\\\AppData\\\\Local\\\\Temp\\\\1', 'COMPUTERNAME': 'APPVYR-WIN', 'VS110COMNTOOLS': 'C:\\\\Program Files (x86)\\\\Microsoft Visual Studio 11.0\\\\Common7\\\\Tools\\\\', 'WINDOWSSDKLIBVERSION': '10.0.14393.0\\\\', 'USERDOMAIN': 'APPVYR-WIN', 'VSSDK120INSTALL': 'C:\\\\Program Files (x86)\\\\Microsoft Visual Studio 12.0\\\\VSSDK\\\\', 'ORIGINAL_TMP': 'C:/Users/appveyor/AppData/Local/Temp/1', 'COMMONPROGRAMFILES': 'C:\\\\Program Files (x86)\\\\Common Files', 'VSSDK140INSTALL': 'C:\\\\Program Files (x86)\\\\Microsoft Visual Studio 14.0\\\\VSSDK\\\\', 'HOME': 'C:\\\\Users\\\\appveyor', 'LANG': 'en_US.UTF-8', 'CODECONTRACTSINSTALLDIR': 'C:\\\\Program Files (x86)\\\\Microsoft\\\\Contracts\\\\', 'FRAMEWORK40VERSION': 'v4.0', 'MSYSTEM_PREFIX': 'C:/Program Files/Git/usr', 'PROCESSOR_ARCHITECTURE': 'x86', 'CHOCOLATEYINSTALL': 'C:\\\\ProgramData\\\\chocolatey', 'ALLUSERSPROFILE': 'C:\\\\ProgramData', 'TMPDIR': 'C:\\\\Users\\\\appveyor\\\\AppData\\\\Local\\\\Temp\\\\1', 'APPVEYOR_BUILD_NUMBER': '483', 'FRAMEWORKDIR': 'c:\\\\Windows\\\\Microsoft.NET\\\\Framework64', 'PROGRAMW6432': 'C:\\\\Program Files', 'USERNAME': 'appveyor', 'CI': 'True', 'PROMPT': '$P$G', 'APPVEYOR_REPO_COMMIT_TIMESTAMP': '2019-03-14T13:33:06.0000000Z', 'CC': 'clang', 'USERDOMAIN_ROAMINGPROFILE': 'APPVYR-WIN', 'PATHEXT': '.COM;.EXE;.BAT;.CMD;.VBS;.VBE;.JS;.JSE;.WSF;.WSH;.MSC;.PY;.CPL', 'ORIGINAL_TEMP': 'C:/Users/appveyor/AppData/Local/Temp/1', 'APPVEYOR_BUILD_FOLDER': 'C:\\\\projects\\\\cython-blis-h674r', 'XUNIT20': 'C:\\\\Tools\\\\xUnit20', 'APPVEYOR_PROJECT_ID': '484208', 'NUMBER_OF_PROCESSORS': '2', 'ERLANG_HOME': 'C:\\\\Program Files\\\\erl9.2', 'PROCESSOR_ARCHITEW6432': 'AMD64', 'PUBLIC': 'C:\\\\Users\\\\Public', 'WINDOWSSDKVERSION': '10.0.14393.0\\\\', 'USERPROFILE': 'C:\\\\Users\\\\appveyor', 'PSMODULEPATH': 'C:\\\\Users\\\\appveyor\\\\Documents\\\\WindowsPowerShell\\\\Modules;C:\\\\Users\\\\appveyor\\\\Documents\\\\WindowsPowerShell\\\\Modules;C:\\\\Program Files\\\\WindowsPowerShell\\\\Modules;C:\\\\Windows\\\\system32\\\\WindowsPowerShell\\\\v1.0\\\\Modules;C:\\\\Program Files (x86)\\\\Microsoft SQL Server\\\\110\\\\Tools\\\\PowerShell\\\\Modules;C:\\\\Program Files (x86)\\\\Microsoft SQL Server\\\\120\\\\Tools\\\\PowerShell\\\\Modules;C:\\\\Program Files\\\\AppVeyor\\\\BuildAgent\\\\Modules;C:\\\\Program Files (x86)\\\\Microsoft SQL Server\\\\130\\\\Tools\\\\PowerShell\\\\Modules;C:\\\\Program Files (x86)\\\\AWS Tools\\\\PowerShell;C:\\\\Program Files (x86)\\\\Microsoft SDKs\\\\Azure\\\\PowerShell\\\\ResourceManager\\\\AzureResourceManager;C:\\\\Program Files (x86)\\\\Microsoft SDKs\\\\Azure\\\\PowerShell\\\\ServiceManagement;C:\\\\Program Files (x86)\\\\Microsoft SDKs\\\\Azure\\\\PowerShell\\\\Storage;C:\\\\Program Files (x86)\\\\Microsoft SQL Server\\\\140\\\\Tools\\\\PowerShell\\\\Modules;c:\\\\Program Files (x86)\\\\Microsoft SQL Server\\\\130\\\\Tools\\\\PowerShell\\\\Modules\\\\', 'VS140COMNTOOLS': 'C:\\\\Program Files (x86)\\\\Microsoft Visual Studio 14.0\\\\Common7\\\\Tools\\\\', 'APPVEYOR_REPO_TAG': 'false', 'APPVEYOR_PROJECT_SLUG': 'cython-blis-h674r', 'LIBPATH': 'c:\\\\Windows\\\\Microsoft.NET\\\\Framework64\\\\v4.0.30319;C:\\\\Program Files (x86)\\\\Microsoft Visual Studio 14.0\\\\VC\\\\LIB\\\\amd64;C:\\\\Program Files (x86)\\\\Microsoft Visual Studio 14.0\\\\VC\\\\ATLMFC\\\\LIB\\\\amd64;C:\\\\Program Files (x86)\\\\Windows Kits\\\\10\\\\UnionMetadata;C:\\\\Program Files (x86)\\\\Windows Kits\\\\10\\\\References;C:\\\\Program Files (x86)\\\\Microsoft SDKs\\\\Windows Kits\\\\10\\\\ExtensionSDKs\\\\Microsoft.VCLibs\\\\14.0\\\\References\\\\CommonConfiguration\\\\neutral;', 'ORIGINAL_PATH': 'C:\\\\Program Files (x86)\\\\Microsoft Visual Studio 14.0\\\\Common7\\\\IDE\\\\CommonExtensions\\\\Microsoft\\\\TestWindow;C:\\\\Program Files (x86)\\\\MSBuild\\\\14.0\\\\bin\\\\amd64;C:\\\\Program Files (x86)\\\\Microsoft Visual Studio 14.0\\\\VC\\\\BIN\\\\amd64;C:\\\\Windows\\\\Microsoft.NET\\\\Framework64\\\\v4.0.30319;C:\\\\Program Files (x86)\\\\Microsoft Visual Studio 14.0\\\\VC\\\\VCPackages;C:\\\\Program Files (x86)\\\\Microsoft Visual Studio 14.0\\\\Common7\\\\IDE;C:\\\\Program Files (x86)\\\\Microsoft Visual Studio 14.0\\\\Common7\\\\Tools;C:\\\\Program Files (x86)\\\\HTML Help Workshop;C:\\\\Program Files (x86)\\\\Microsoft Visual Studio 14.0\\\\Team Tools\\\\Performance Tools\\\\x64;C:\\\\Program Files (x86)\\\\Microsoft Visual Studio 14.0\\\\Team Tools\\\\Performance Tools;C:\\\\Program Files (x86)\\\\Windows Kits\\\\10\\\\bin\\\\x64;C:\\\\Program Files (x86)\\\\Windows Kits\\\\10\\\\bin\\\\x86;C:\\\\Program Files (x86)\\\\Microsoft SDKs\\\\Windows\\\\v10.0A\\\\bin\\\\NETFX 4.6.1 Tools\\\\x64;C:\\\\Program Files\\\\LLVM\\\\bin;C:\\\\msys64\\\\mingw64\\\\bin;C:\\\\msys64\\\\bin;C:\\\\Program Files (x86)\\\\Microsoft SDKs\\\\Azure\\\\CLI2\\\\wbin;C:\\\\Perl\\\\site\\\\bin;C:\\\\Perl\\\\bin;C:\\\\Windows\\\\system32;C:\\\\Windows;C:\\\\Windows\\\\System32\\\\Wbem;C:\\\\Windows\\\\System32\\\\WindowsPowerShell\\\\v1.0;C:\\\\Program Files\\\\7-Zip;C:\\\\Program Files\\\\Microsoft\\\\Web Platform Installer;C:\\\\Tools\\\\GitVersion;C:\\\\Tools\\\\PsTools;C:\\\\Program Files\\\\Git LFS;C:\\\\Program Files (x86)\\\\Subversion\\\\bin;C:\\\\Program Files\\\\Microsoft SQL Server\\\\120\\\\Tools\\\\Binn;C:\\\\Program Files\\\\Microsoft SQL Server\\\\Client SDK\\\\ODBC\\\\110\\\\Tools\\\\Binn;C:\\\\Program Files (x86)\\\\Microsoft SQL Server\\\\120\\\\Tools\\\\Binn;C:\\\\Program Files\\\\Microsoft SQL Server\\\\120\\\\DTS\\\\Binn;C:\\\\Program Files (x86)\\\\Microsoft SQL Server\\\\120\\\\Tools\\\\Binn\\\\ManagementStudio;C:\\\\Tools\\\\WebDriver;C:\\\\Program Files (x86)\\\\Microsoft SDKs\\\\TypeScript\\\\1.4;C:\\\\Program Files (x86)\\\\Microsoft Visual Studio 12.0\\\\Common7\\\\IDE\\\\PrivateAssemblies;C:\\\\Program Files (x86)\\\\Microsoft SDKs\\\\Azure\\\\CLI\\\\wbin;C:\\\\Ruby193\\\\bin;C:\\\\Tools\\\\NUnit\\\\bin;C:\\\\Tools\\\\xUnit;C:\\\\Tools\\\\MSpec;C:\\\\Tools\\\\Coverity\\\\bin;C:\\\\Program Files (x86)\\\\CMake\\\\bin;C:\\\\go\\\\bin;C:\\\\Program Files\\\\Java\\\\jdk1.8.0\\\\bin;C:\\\\Python27;C:\\\\Program Files\\\\nodejs;C:\\\\Program Files (x86)\\\\iojs;C:\\\\Program Files\\\\iojs;C:\\\\Program Files\\\\Microsoft SQL Server\\\\130\\\\Tools\\\\Binn;C:\\\\Program Files (x86)\\\\MSBuild\\\\14.0\\\\Bin;C:\\\\Tools\\\\NuGet;C:\\\\Program Files (x86)\\\\Microsoft Visual Studio 14.0\\\\Common7\\\\IDE\\\\CommonExtensions\\\\Microsoft\\\\TestWindow;C:\\\\Program Files\\\\Microsoft DNX\\\\Dnvm;C:\\\\Program Files\\\\Microsoft SQL Server\\\\Client SDK\\\\ODBC\\\\130\\\\Tools\\\\Binn;C:\\\\Program Files (x86)\\\\Microsoft SQL Server\\\\130\\\\Tools\\\\Binn;C:\\\\Program Files (x86)\\\\Microsoft SQL Server\\\\130\\\\DTS\\\\Binn;C:\\\\Program Files\\\\Microsoft SQL Server\\\\130\\\\DTS\\\\Binn;C:\\\\Program Files (x86)\\\\Microsoft SQL Server\\\\110\\\\DTS\\\\Binn;C:\\\\Program Files (x86)\\\\Microsoft SQL Server\\\\120\\\\DTS\\\\Binn;C:\\\\Program Files (x86)\\\\Apache\\\\Maven\\\\bin;C:\\\\Python27\\\\Scripts;C:\\\\Tools\\\\NUnit3;C:\\\\Program Files\\\\Mercurial;C:\\\\Program Files\\\\dotnet;C:\\\\Tools\\\\curl\\\\bin;C:\\\\Program Files\\\\Amazon\\\\AWSCLI;C:\\\\Program Files (x86)\\\\Microsoft SQL Server\\\\140\\\\DTS\\\\Binn;C:\\\\Program Files (x86)\\\\Microsoft Visual Studio 14.0\\\\Common7\\\\IDE\\\\Extensions\\\\Microsoft\\\\SQLDB\\\\DAC\\\\140;C:\\\\Tools\\\\vcpkg;C:\\\\Program Files (x86)\\\\Microsoft SQL Server\\\\140\\\\Tools\\\\Binn;C:\\\\Program Files\\\\Microsoft SQL Server\\\\140\\\\Tools\\\\Binn;C:\\\\Program Files\\\\Microsoft SQL Server\\\\140\\\\DTS\\\\Binn;C:\\\\Program Files\\\\erl9.2\\\\bin;C:\\\\Program Files (x86)\\\\NSIS;C:\\\\Tools\\\\Octopus;C:\\\\Program Files\\\\Git\\\\cmd;C:\\\\Program Files\\\\Git\\\\usr\\\\bin;C:\\\\Program Files\\\\Microsoft Service Fabric\\\\bin\\\\Fabric\\\\Fabric.Code;C:\\\\Program Files\\\\Microsoft SDKs\\\\Service Fabric\\\\Tools\\\\ServiceFabricLocalClusterManager;C:\\\\Program Files\\\\LLVM\\\\bin;C:\\\\Program Files (x86)\\\\Yarn\\\\bin;C:\\\\Users\\\\appveyor\\\\AppData\\\\Roaming\\\\npm;C:\\\\Program Files\\\\PowerShell\\\\6;C:\\\\Program Files (x86)\\\\nodejs;C:\\\\ProgramData\\\\chocolatey\\\\bin;C:\\\\Users\\\\appveyor\\\\.dotnet\\\\tools;C:\\\\Users\\\\appveyor\\\\AppData\\\\Local\\\\Yarn\\\\bin;C:\\\\Users\\\\appveyor\\\\AppData\\\\Roaming\\\\npm;C:\\\\Program Files\\\\AppVeyor\\\\BuildAgent;C:\\\\blis\\\\lib', 'PROCESSOR_IDENTIFIER': 'Intel64 Family 6 Model 63 Stepping 2, GenuineIntel', 'COMMANDPROMPTTYPE': 'Native', 'PROGRAMFILES': 'C:\\\\Program Files (x86)', 'PROCESSOR_REVISION': '3f02', 'MAVEN_HOME': 'C:\\\\Program Files (x86)\\\\Apache\\\\Maven', 'PATH': 'C:\\\\Users\\\\appveyor\\\\bin;C:\\\\Program Files\\\\Git\\\\usr\\\\local\\\\bin;C:\\\\Program Files\\\\Git\\\\usr\\\\bin;C:\\\\Program Files\\\\Git\\\\usr\\\\bin;C:\\\\Program Files\\\\Git\\\\opt\\\\bin;C:\\\\Program Files (x86)\\\\Microsoft Visual Studio 14.0\\\\Common7\\\\IDE\\\\CommonExtensions\\\\Microsoft\\\\TestWindow;C:\\\\Program Files (x86)\\\\MSBuild\\\\14.0\\\\bin\\\\amd64;C:\\\\Program Files (x86)\\\\Microsoft Visual Studio 14.0\\\\VC\\\\BIN\\\\amd64;C:\\\\Windows\\\\Microsoft.NET\\\\Framework64\\\\v4.0.30319;C:\\\\Program Files (x86)\\\\Microsoft Visual Studio 14.0\\\\VC\\\\VCPackages;C:\\\\Program Files (x86)\\\\Microsoft Visual Studio 14.0\\\\Common7\\\\IDE;C:\\\\Program Files (x86)\\\\Microsoft Visual Studio 14.0\\\\Common7\\\\Tools;C:\\\\Program Files (x86)\\\\HTML Help Workshop;C:\\\\Program Files (x86)\\\\Microsoft Visual Studio 14.0\\\\Team Tools\\\\Performance Tools\\\\x64;C:\\\\Program Files (x86)\\\\Microsoft Visual Studio 14.0\\\\Team Tools\\\\Performance Tools;C:\\\\Program Files (x86)\\\\Windows Kits\\\\10\\\\bin\\\\x64;C:\\\\Program Files (x86)\\\\Windows Kits\\\\10\\\\bin\\\\x86;C:\\\\Program Files (x86)\\\\Microsoft SDKs\\\\Windows\\\\v10.0A\\\\bin\\\\NETFX 4.6.1 Tools\\\\x64;C:\\\\Program Files\\\\LLVM\\\\bin;C:\\\\msys64\\\\mingw64\\\\bin;C:\\\\msys64\\\\bin;C:\\\\Program Files (x86)\\\\Microsoft SDKs\\\\Azure\\\\CLI2\\\\wbin;C:\\\\Perl\\\\site\\\\bin;C:\\\\Perl\\\\bin;C:\\\\Windows\\\\system32;C:\\\\Windows;C:\\\\Windows\\\\System32\\\\Wbem;C:\\\\Windows\\\\System32\\\\WindowsPowerShell\\\\v1.0;C:\\\\Program Files\\\\7-Zip;C:\\\\Program Files\\\\Microsoft\\\\Web Platform Installer;C:\\\\Tools\\\\GitVersion;C:\\\\Tools\\\\PsTools;C:\\\\Program Files\\\\Git LFS;C:\\\\Program Files (x86)\\\\Subversion\\\\bin;C:\\\\Program Files\\\\Microsoft SQL Server\\\\120\\\\Tools\\\\Binn;C:\\\\Program Files\\\\Microsoft SQL Server\\\\Client SDK\\\\ODBC\\\\110\\\\Tools\\\\Binn;C:\\\\Program Files (x86)\\\\Microsoft SQL Server\\\\120\\\\Tools\\\\Binn;C:\\\\Program Files\\\\Microsoft SQL Server\\\\120\\\\DTS\\\\Binn;C:\\\\Program Files (x86)\\\\Microsoft SQL Server\\\\120\\\\Tools\\\\Binn\\\\ManagementStudio;C:\\\\Tools\\\\WebDriver;C:\\\\Program Files (x86)\\\\Microsoft SDKs\\\\TypeScript\\\\1.4;C:\\\\Program Files (x86)\\\\Microsoft Visual Studio 12.0\\\\Common7\\\\IDE\\\\PrivateAssemblies;C:\\\\Program Files (x86)\\\\Microsoft SDKs\\\\Azure\\\\CLI\\\\wbin;C:\\\\Ruby193\\\\bin;C:\\\\Tools\\\\NUnit\\\\bin;C:\\\\Tools\\\\xUnit;C:\\\\Tools\\\\MSpec;C:\\\\Tools\\\\Coverity\\\\bin;C:\\\\Program Files (x86)\\\\CMake\\\\bin;C:\\\\go\\\\bin;C:\\\\Program Files\\\\Java\\\\jdk1.8.0\\\\bin;C:\\\\Python27;C:\\\\Program Files\\\\nodejs;C:\\\\Program Files (x86)\\\\iojs;C:\\\\Program Files\\\\iojs;C:\\\\Program Files\\\\Microsoft SQL Server\\\\130\\\\Tools\\\\Binn;C:\\\\Program Files (x86)\\\\MSBuild\\\\14.0\\\\Bin;C:\\\\Tools\\\\NuGet;C:\\\\Program Files (x86)\\\\Microsoft Visual Studio 14.0\\\\Common7\\\\IDE\\\\CommonExtensions\\\\Microsoft\\\\TestWindow;C:\\\\Program Files\\\\Microsoft DNX\\\\Dnvm;C:\\\\Program Files\\\\Microsoft SQL Server\\\\Client SDK\\\\ODBC\\\\130\\\\Tools\\\\Binn;C:\\\\Program Files (x86)\\\\Microsoft SQL Server\\\\130\\\\Tools\\\\Binn;C:\\\\Program Files (x86)\\\\Microsoft SQL Server\\\\130\\\\DTS\\\\Binn;C:\\\\Program Files\\\\Microsoft SQL Server\\\\130\\\\DTS\\\\Binn;C:\\\\Program Files (x86)\\\\Microsoft SQL Server\\\\110\\\\DTS\\\\Binn;C:\\\\Program Files (x86)\\\\Microsoft SQL Server\\\\120\\\\DTS\\\\Binn;C:\\\\Program Files (x86)\\\\Apache\\\\Maven\\\\bin;C:\\\\Python27\\\\Scripts;C:\\\\Tools\\\\NUnit3;C:\\\\Program Files\\\\Mercurial;C:\\\\Program Files\\\\dotnet;C:\\\\Tools\\\\curl\\\\bin;C:\\\\Program Files\\\\Amazon\\\\AWSCLI;C:\\\\Program Files (x86)\\\\Microsoft SQL Server\\\\140\\\\DTS\\\\Binn;C:\\\\Program Files (x86)\\\\Microsoft Visual Studio 14.0\\\\Common7\\\\IDE\\\\Extensions\\\\Microsoft\\\\SQLDB\\\\DAC\\\\140;C:\\\\Tools\\\\vcpkg;C:\\\\Program Files (x86)\\\\Microsoft SQL Server\\\\140\\\\Tools\\\\Binn;C:\\\\Program Files\\\\Microsoft SQL Server\\\\140\\\\Tools\\\\Binn;C:\\\\Program Files\\\\Microsoft SQL Server\\\\140\\\\DTS\\\\Binn;C:\\\\Program Files\\\\erl9.2\\\\bin;C:\\\\Program Files (x86)\\\\NSIS;C:\\\\Tools\\\\Octopus;C:\\\\Program Files\\\\Git\\\\cmd;C:\\\\Program Files\\\\Git\\\\usr\\\\bin;C:\\\\Program Files\\\\Microsoft Service Fabric\\\\bin\\\\Fabric\\\\Fabric.Code;C:\\\\Program Files\\\\Microsoft SDKs\\\\Service Fabric\\\\Tools\\\\ServiceFabricLocalClusterManager;C:\\\\Program Files\\\\LLVM\\\\bin;C:\\\\Program Files (x86)\\\\Yarn\\\\bin;C:\\\\Users\\\\appveyor\\\\AppData\\\\Roaming\\\\npm;C:\\\\Program Files\\\\PowerShell\\\\6;C:\\\\Program Files (x86)\\\\nodejs;C:\\\\ProgramData\\\\chocolatey\\\\bin;C:\\\\Users\\\\appveyor\\\\.dotnet\\\\tools;C:\\\\Users\\\\appveyor\\\\AppData\\\\Local\\\\Yarn\\\\bin;C:\\\\Users\\\\appveyor\\\\AppData\\\\Roaming\\\\npm;C:\\\\Program Files\\\\AppVeyor\\\\BuildAgent;C:\\\\blis\\\\lib;C:\\\\Program Files\\\\Git\\\\usr\\\\bin\\\\vendor_perl;C:\\\\Program Files\\\\Git\\\\usr\\\\bin\\\\core_perl', 'PROGRAMFILES(X86)': 'C:\\\\Program Files (x86)', 'TERM': 'cygwin', 'PS1': '\\\\[\\\\033]0;$TITLEPREFIX:$PWD\\\\007\\\\]\\\\n\\\\[\\\\033[32m\\\\]\\\\u@\\\\h \\\\[\\\\033[35m\\\\]$MSYSTEM \\\\[\\\\033[33m\\\\]\\\\w\\\\[\\\\033[36m\\\\]`__git_ps1`\\\\[\\\\033[0m\\\\]\\\\n$ ', 'INCLUDE': 'C:\\\\Program Files (x86)\\\\Microsoft Visual Studio 14.0\\\\VC\\\\INCLUDE;C:\\\\Program Files (x86)\\\\Microsoft Visual Studio 14.0\\\\VC\\\\ATLMFC\\\\INCLUDE;C:\\\\Program Files (x86)\\\\Windows Kits\\\\10\\\\include\\\\10.0.14393.0\\\\ucrt;C:\\\\Program Files (x86)\\\\Windows Kits\\\\NETFXSDK\\\\4.6.1\\\\include\\\\um;C:\\\\Program Files (x86)\\\\Windows Kits\\\\10\\\\include\\\\10.0.14393.0\\\\shared;C:\\\\Program Files (x86)\\\\Windows Kits\\\\10\\\\include\\\\10.0.14393.0\\\\um;C:\\\\Program Files (x86)\\\\Windows Kits\\\\10\\\\include\\\\10.0.14393.0\\\\winrt;', 'APPVEYOR_REPO_COMMIT_MESSAGE': 'Fiddle with appveyor', 'VS120COMNTOOLS': 'C:\\\\Program Files (x86)\\\\Microsoft Visual Studio 12.0\\\\Common7\\\\Tools\\\\', 'NETFXSDKDIR': 'C:\\\\Program Files (x86)\\\\Windows Kits\\\\NETFXSDK\\\\4.6.1\\\\', 'VSINSTALLDIR': 'C:\\\\Program Files (x86)\\\\Microsoft Visual Studio 14.0\\\\', 'PLATFORM': 'X64', 'LOCALAPPDATA': 'C:\\\\Users\\\\appveyor\\\\AppData\\\\Local', 'EXTENSIONSDKDIR': 'C:\\\\Program Files (x86)\\\\Microsoft SDKs\\\\Windows Kits\\\\10\\\\ExtensionSDKs', 'APPVEYOR_BUILD_VERSION': '1.0.483', 'APPVEYOR_REPO_SCM': 'git', 'MSYSTEM': 'MSYS', 'PROGRAMDATA': 'C:\\\\ProgramData', 'APPVEYOR_JOB_NUMBER': '1', 'AS': 'llvm-as', 'AR': 'llvm-ar', 'APPVEYOR_ACCOUNT_NAME': 'honnibal', 'FP_NO_HOST_CHECK': 'NO', 'COMMONPROGRAMW6432': 'C:\\\\Program Files\\\\Common Files', 'OLDPWD': 'C:/projects/cython-blis-h674r/flame-blis', 'DXSDK_DIR': 'C:\\\\Program Files (x86)\\\\Microsoft DirectX SDK (June 2010)\\\\', '7ZIP': '\"C:\\\\Program Files\\\\7-Zip\\\\7z.exe\"', 'PWD': 'C:/projects/cython-blis', 'CFLAGS': '-Wno-macro-redefined', 'UNIVERSALCRTSDKDIR': 'C:\\\\Program Files (x86)\\\\Windows Kits\\\\10\\\\', 'VCINSTALLDIR': 'C:\\\\Program Files (x86)\\\\Microsoft Visual Studio 14.0\\\\VC\\\\'}\n",
      "            clang -c C:\\Users\\Shubham\\AppData\\Local\\Temp\\pip-install-17ma82r9\\blis_3408ed064a354946ac7a92c0e6f0ce77\\blis\\_src\\config\\bulldozer\\bli_cntx_init_bulldozer.c -o C:\\Users\\Shubham\\AppData\\Local\\Temp\\tmpyx9on203\\bli_cntx_init_bulldozer.o -O3 -std=c99 -D_POSIX_C_SOURCE=200112L -DBLIS_VERSION_STRING=\"0.5.1\" -DBLIS_IS_BUILDING_LIBRARY -Iinclude\\windows-x86_64 -I.\\frame\\3\\ -I.\\frame\\ind\\ukernels\\ -I.\\frame\\1m\\ -I.\\frame\\1f\\ -I.\\frame\\1\\ -I.\\frame\\include -IC:\\Users\\Shubham\\AppData\\Local\\Temp\\pip-install-17ma82r9\\blis_3408ed064a354946ac7a92c0e6f0ce77\\blis\\_src\\include\\windows-x86_64\n",
      "            error: [WinError 2] The system cannot find the file specified\n",
      "            [end of output]\n",
      "      \n",
      "        note: This error originates from a subprocess, and is likely not a problem with pip.\n",
      "      error: legacy-install-failure\n",
      "      \n",
      "      Ã— Encountered error while trying to install package.\n",
      "      â•°â”€> blis\n",
      "      \n",
      "      note: This is an issue with the package mentioned above, not pip.\n",
      "      hint: See above for output from the failure.\n",
      "      [end of output]\n",
      "  \n",
      "  note: This error originates from a subprocess, and is likely not a problem with pip.\n",
      "error: subprocess-exited-with-error\n",
      "\n",
      "× pip subprocess to install build dependencies did not run successfully.\n",
      "│ exit code: 1\n",
      "╰─> See above for output.\n",
      "\n",
      "note: This error originates from a subprocess, and is likely not a problem with pip.\n"
     ]
    }
   ],
   "source": [
    "# To install only the requirements of this notebook, uncomment the lines below and run this cell\n",
    "\n",
    "# ===========================\n",
    "\n",
    "!pip install scikit-learn==0.21.3\n",
    "!pip install wget==3.2\n",
    "!pip install gensim==3.6.0\n",
    "!pip install psutil==5.4.8\n",
    "!pip install spacy==2.2.4\n",
    "\n",
    "# ==========================="
   ]
  },
  {
   "cell_type": "code",
   "execution_count": 81,
   "metadata": {},
   "outputs": [],
   "source": [
    "# To install the requirements for the entire chapter, uncomment the lines below and run this cell\n",
    "\n",
    "# ===========================\n",
    "\n",
    "# try :\n",
    "#     import google.colab\n",
    "#     !curl https://raw.githubusercontent.com/practical-nlp/practical-nlp/master/Ch3/ch3-requirements.txt | xargs -n 1 -L 1 pip install\n",
    "# except ModuleNotFoundError :\n",
    "#     !pip install -r \"ch3-requirements.txt\"\n",
    "\n",
    "# ==========================="
   ]
  },
  {
   "cell_type": "code",
   "execution_count": 82,
   "metadata": {},
   "outputs": [
    {
     "ename": "HTTPError",
     "evalue": "HTTP Error 404: Not Found",
     "output_type": "error",
     "traceback": [
      "\u001b[1;31m---------------------------------------------------------------------------\u001b[0m",
      "\u001b[1;31mHTTPError\u001b[0m                                 Traceback (most recent call last)",
      "\u001b[1;32mc:\\Users\\Shubham\\Documents\\GitHub\\Python_Programming\\NLP\\3 copy.ipynb Cell 66\u001b[0m in \u001b[0;36m<cell line: 7>\u001b[1;34m()\u001b[0m\n\u001b[0;32m     <a href='vscode-notebook-cell:/c%3A/Users/Shubham/Documents/GitHub/Python_Programming/NLP/3%20copy.ipynb#Y122sZmlsZQ%3D%3D?line=9'>10</a>\u001b[0m \u001b[39mif\u001b[39;00m \u001b[39mnot\u001b[39;00m os\u001b[39m.\u001b[39mpath\u001b[39m.\u001b[39mexists(\u001b[39m\"\u001b[39m\u001b[39m../Ch2/GoogleNews-vectors-negative300.bin.gz\u001b[39m\u001b[39m\"\u001b[39m):\n\u001b[0;32m     <a href='vscode-notebook-cell:/c%3A/Users/Shubham/Documents/GitHub/Python_Programming/NLP/3%20copy.ipynb#Y122sZmlsZQ%3D%3D?line=10'>11</a>\u001b[0m     \u001b[39mif\u001b[39;00m \u001b[39mnot\u001b[39;00m os\u001b[39m.\u001b[39mpath\u001b[39m.\u001b[39mexists(\u001b[39m\"\u001b[39m\u001b[39mGoogleNews-vectors-negative300.bin.gz\u001b[39m\u001b[39m\"\u001b[39m):\n\u001b[1;32m---> <a href='vscode-notebook-cell:/c%3A/Users/Shubham/Documents/GitHub/Python_Programming/NLP/3%20copy.ipynb#Y122sZmlsZQ%3D%3D?line=11'>12</a>\u001b[0m         wget\u001b[39m.\u001b[39;49mdownload(\u001b[39m\"\u001b[39;49m\u001b[39mhttps://s3.amazonaws.com/dl4j-distribution/GoogleNews-vectors-negative300.bin.gz\u001b[39;49m\u001b[39m\"\u001b[39;49m)\n\u001b[0;32m     <a href='vscode-notebook-cell:/c%3A/Users/Shubham/Documents/GitHub/Python_Programming/NLP/3%20copy.ipynb#Y122sZmlsZQ%3D%3D?line=12'>13</a>\u001b[0m     gn_vec_zip_path \u001b[39m=\u001b[39m \u001b[39m\"\u001b[39m\u001b[39mGoogleNews-vectors-negative300.bin.gz\u001b[39m\u001b[39m\"\u001b[39m\n\u001b[0;32m     <a href='vscode-notebook-cell:/c%3A/Users/Shubham/Documents/GitHub/Python_Programming/NLP/3%20copy.ipynb#Y122sZmlsZQ%3D%3D?line=13'>14</a>\u001b[0m \u001b[39melse\u001b[39;00m:\n",
      "File \u001b[1;32mc:\\Python39\\lib\\site-packages\\wget.py:526\u001b[0m, in \u001b[0;36mdownload\u001b[1;34m(url, out, bar)\u001b[0m\n\u001b[0;32m    524\u001b[0m \u001b[39melse\u001b[39;00m:\n\u001b[0;32m    525\u001b[0m     binurl \u001b[39m=\u001b[39m url\n\u001b[1;32m--> 526\u001b[0m (tmpfile, headers) \u001b[39m=\u001b[39m ulib\u001b[39m.\u001b[39;49murlretrieve(binurl, tmpfile, callback)\n\u001b[0;32m    527\u001b[0m filename \u001b[39m=\u001b[39m detect_filename(url, out, headers)\n\u001b[0;32m    528\u001b[0m \u001b[39mif\u001b[39;00m outdir:\n",
      "File \u001b[1;32mc:\\Python39\\lib\\urllib\\request.py:239\u001b[0m, in \u001b[0;36murlretrieve\u001b[1;34m(url, filename, reporthook, data)\u001b[0m\n\u001b[0;32m    222\u001b[0m \u001b[39m\"\"\"\u001b[39;00m\n\u001b[0;32m    223\u001b[0m \u001b[39mRetrieve a URL into a temporary location on disk.\u001b[39;00m\n\u001b[0;32m    224\u001b[0m \n\u001b[1;32m   (...)\u001b[0m\n\u001b[0;32m    235\u001b[0m \u001b[39mdata file as well as the resulting HTTPMessage object.\u001b[39;00m\n\u001b[0;32m    236\u001b[0m \u001b[39m\"\"\"\u001b[39;00m\n\u001b[0;32m    237\u001b[0m url_type, path \u001b[39m=\u001b[39m _splittype(url)\n\u001b[1;32m--> 239\u001b[0m \u001b[39mwith\u001b[39;00m contextlib\u001b[39m.\u001b[39mclosing(urlopen(url, data)) \u001b[39mas\u001b[39;00m fp:\n\u001b[0;32m    240\u001b[0m     headers \u001b[39m=\u001b[39m fp\u001b[39m.\u001b[39minfo()\n\u001b[0;32m    242\u001b[0m     \u001b[39m# Just return the local path and the \"headers\" for file://\u001b[39;00m\n\u001b[0;32m    243\u001b[0m     \u001b[39m# URLs. No sense in performing a copy unless requested.\u001b[39;00m\n",
      "File \u001b[1;32mc:\\Python39\\lib\\urllib\\request.py:214\u001b[0m, in \u001b[0;36murlopen\u001b[1;34m(url, data, timeout, cafile, capath, cadefault, context)\u001b[0m\n\u001b[0;32m    212\u001b[0m \u001b[39melse\u001b[39;00m:\n\u001b[0;32m    213\u001b[0m     opener \u001b[39m=\u001b[39m _opener\n\u001b[1;32m--> 214\u001b[0m \u001b[39mreturn\u001b[39;00m opener\u001b[39m.\u001b[39;49mopen(url, data, timeout)\n",
      "File \u001b[1;32mc:\\Python39\\lib\\urllib\\request.py:523\u001b[0m, in \u001b[0;36mOpenerDirector.open\u001b[1;34m(self, fullurl, data, timeout)\u001b[0m\n\u001b[0;32m    521\u001b[0m \u001b[39mfor\u001b[39;00m processor \u001b[39min\u001b[39;00m \u001b[39mself\u001b[39m\u001b[39m.\u001b[39mprocess_response\u001b[39m.\u001b[39mget(protocol, []):\n\u001b[0;32m    522\u001b[0m     meth \u001b[39m=\u001b[39m \u001b[39mgetattr\u001b[39m(processor, meth_name)\n\u001b[1;32m--> 523\u001b[0m     response \u001b[39m=\u001b[39m meth(req, response)\n\u001b[0;32m    525\u001b[0m \u001b[39mreturn\u001b[39;00m response\n",
      "File \u001b[1;32mc:\\Python39\\lib\\urllib\\request.py:632\u001b[0m, in \u001b[0;36mHTTPErrorProcessor.http_response\u001b[1;34m(self, request, response)\u001b[0m\n\u001b[0;32m    629\u001b[0m \u001b[39m# According to RFC 2616, \"2xx\" code indicates that the client's\u001b[39;00m\n\u001b[0;32m    630\u001b[0m \u001b[39m# request was successfully received, understood, and accepted.\u001b[39;00m\n\u001b[0;32m    631\u001b[0m \u001b[39mif\u001b[39;00m \u001b[39mnot\u001b[39;00m (\u001b[39m200\u001b[39m \u001b[39m<\u001b[39m\u001b[39m=\u001b[39m code \u001b[39m<\u001b[39m \u001b[39m300\u001b[39m):\n\u001b[1;32m--> 632\u001b[0m     response \u001b[39m=\u001b[39m \u001b[39mself\u001b[39;49m\u001b[39m.\u001b[39;49mparent\u001b[39m.\u001b[39;49merror(\n\u001b[0;32m    633\u001b[0m         \u001b[39m'\u001b[39;49m\u001b[39mhttp\u001b[39;49m\u001b[39m'\u001b[39;49m, request, response, code, msg, hdrs)\n\u001b[0;32m    635\u001b[0m \u001b[39mreturn\u001b[39;00m response\n",
      "File \u001b[1;32mc:\\Python39\\lib\\urllib\\request.py:561\u001b[0m, in \u001b[0;36mOpenerDirector.error\u001b[1;34m(self, proto, *args)\u001b[0m\n\u001b[0;32m    559\u001b[0m \u001b[39mif\u001b[39;00m http_err:\n\u001b[0;32m    560\u001b[0m     args \u001b[39m=\u001b[39m (\u001b[39mdict\u001b[39m, \u001b[39m'\u001b[39m\u001b[39mdefault\u001b[39m\u001b[39m'\u001b[39m, \u001b[39m'\u001b[39m\u001b[39mhttp_error_default\u001b[39m\u001b[39m'\u001b[39m) \u001b[39m+\u001b[39m orig_args\n\u001b[1;32m--> 561\u001b[0m     \u001b[39mreturn\u001b[39;00m \u001b[39mself\u001b[39;49m\u001b[39m.\u001b[39;49m_call_chain(\u001b[39m*\u001b[39;49margs)\n",
      "File \u001b[1;32mc:\\Python39\\lib\\urllib\\request.py:494\u001b[0m, in \u001b[0;36mOpenerDirector._call_chain\u001b[1;34m(self, chain, kind, meth_name, *args)\u001b[0m\n\u001b[0;32m    492\u001b[0m \u001b[39mfor\u001b[39;00m handler \u001b[39min\u001b[39;00m handlers:\n\u001b[0;32m    493\u001b[0m     func \u001b[39m=\u001b[39m \u001b[39mgetattr\u001b[39m(handler, meth_name)\n\u001b[1;32m--> 494\u001b[0m     result \u001b[39m=\u001b[39m func(\u001b[39m*\u001b[39;49margs)\n\u001b[0;32m    495\u001b[0m     \u001b[39mif\u001b[39;00m result \u001b[39mis\u001b[39;00m \u001b[39mnot\u001b[39;00m \u001b[39mNone\u001b[39;00m:\n\u001b[0;32m    496\u001b[0m         \u001b[39mreturn\u001b[39;00m result\n",
      "File \u001b[1;32mc:\\Python39\\lib\\urllib\\request.py:641\u001b[0m, in \u001b[0;36mHTTPDefaultErrorHandler.http_error_default\u001b[1;34m(self, req, fp, code, msg, hdrs)\u001b[0m\n\u001b[0;32m    640\u001b[0m \u001b[39mdef\u001b[39;00m \u001b[39mhttp_error_default\u001b[39m(\u001b[39mself\u001b[39m, req, fp, code, msg, hdrs):\n\u001b[1;32m--> 641\u001b[0m     \u001b[39mraise\u001b[39;00m HTTPError(req\u001b[39m.\u001b[39mfull_url, code, msg, hdrs, fp)\n",
      "\u001b[1;31mHTTPError\u001b[0m: HTTP Error 404: Not Found"
     ]
    }
   ],
   "source": [
    "import os\n",
    "import wget\n",
    "import gzip\n",
    "import shutil\n",
    "\n",
    "gn_vec_path = \"GoogleNews-vectors-negative300.bin\"\n",
    "if not os.path.exists(\"GoogleNews-vectors-negative300.bin\"):\n",
    "    if not os.path.exists(\"../Ch2/GoogleNews-vectors-negative300.bin\"):\n",
    "        #Downloading the reqired model\n",
    "        if not os.path.exists(\"../Ch2/GoogleNews-vectors-negative300.bin.gz\"):\n",
    "            if not os.path.exists(\"GoogleNews-vectors-negative300.bin.gz\"):\n",
    "                wget.download(\"https://s3.amazonaws.com/dl4j-distribution/GoogleNews-vectors-negative300.bin.gz\")\n",
    "            gn_vec_zip_path = \"GoogleNews-vectors-negative300.bin.gz\"\n",
    "        else:\n",
    "            gn_vec_zip_path = \"../Ch2/GoogleNews-vectors-negative300.bin.gz\"\n",
    "        #Extracting the required model\n",
    "        with gzip.open(gn_vec_zip_path, 'rb') as f_in:\n",
    "            with open(gn_vec_path, 'wb') as f_out:\n",
    "                shutil.copyfileobj(f_in, f_out)\n",
    "    else:\n",
    "        gn_vec_path = \"../Ch2/\" + gn_vec_path\n",
    "\n",
    "print(f\"Model at {gn_vec_path}\")"
   ]
  },
  {
   "cell_type": "code",
   "execution_count": 83,
   "metadata": {},
   "outputs": [],
   "source": [
    "import warnings #This module ignores the various types of warnings generated\n",
    "warnings.filterwarnings(\"ignore\") \n",
    "\n",
    "import psutil #This module helps in retrieving information on running processes and system resource utilization\n",
    "process = psutil.Process(os.getpid())\n",
    "from psutil import virtual_memory\n",
    "mem = virtual_memory()\n",
    "\n",
    "import time #This module is used to calculate the time  "
   ]
  },
  {
   "cell_type": "code",
   "execution_count": 84,
   "metadata": {},
   "outputs": [
    {
     "name": "stdout",
     "output_type": "stream",
     "text": [
      "Memory used in GB before Loading the Model: 0.15\n",
      "----------\n"
     ]
    },
    {
     "ename": "FileNotFoundError",
     "evalue": "[Errno 2] No such file or directory: 'GoogleNews-vectors-negative300.bin'",
     "output_type": "error",
     "traceback": [
      "\u001b[1;31m---------------------------------------------------------------------------\u001b[0m",
      "\u001b[1;31mFileNotFoundError\u001b[0m                         Traceback (most recent call last)",
      "\u001b[1;32mc:\\Users\\Shubham\\Documents\\GitHub\\Python_Programming\\NLP\\3 copy.ipynb Cell 68\u001b[0m in \u001b[0;36m<cell line: 12>\u001b[1;34m()\u001b[0m\n\u001b[0;32m      <a href='vscode-notebook-cell:/c%3A/Users/Shubham/Documents/GitHub/Python_Programming/NLP/3%20copy.ipynb#Y124sZmlsZQ%3D%3D?line=8'>9</a>\u001b[0m start_time \u001b[39m=\u001b[39m time\u001b[39m.\u001b[39mtime() \u001b[39m#Start the timer\u001b[39;00m\n\u001b[0;32m     <a href='vscode-notebook-cell:/c%3A/Users/Shubham/Documents/GitHub/Python_Programming/NLP/3%20copy.ipynb#Y124sZmlsZQ%3D%3D?line=9'>10</a>\u001b[0m ttl \u001b[39m=\u001b[39m mem\u001b[39m.\u001b[39mtotal \u001b[39m#Toal memory available\u001b[39;00m\n\u001b[1;32m---> <a href='vscode-notebook-cell:/c%3A/Users/Shubham/Documents/GitHub/Python_Programming/NLP/3%20copy.ipynb#Y124sZmlsZQ%3D%3D?line=11'>12</a>\u001b[0m w2v_model \u001b[39m=\u001b[39m KeyedVectors\u001b[39m.\u001b[39;49mload_word2vec_format(pretrainedpath, binary\u001b[39m=\u001b[39;49m\u001b[39mTrue\u001b[39;49;00m) \u001b[39m#load the model\u001b[39;00m\n\u001b[0;32m     <a href='vscode-notebook-cell:/c%3A/Users/Shubham/Documents/GitHub/Python_Programming/NLP/3%20copy.ipynb#Y124sZmlsZQ%3D%3D?line=12'>13</a>\u001b[0m \u001b[39mprint\u001b[39m(\u001b[39m\"\u001b[39m\u001b[39m%0.2f\u001b[39;00m\u001b[39m seconds taken to load\u001b[39m\u001b[39m\"\u001b[39m\u001b[39m%\u001b[39m\u001b[39mfloat\u001b[39m(time\u001b[39m.\u001b[39mtime() \u001b[39m-\u001b[39m start_time)) \u001b[39m#Calculate the total time elapsed since starting the timer\u001b[39;00m\n\u001b[0;32m     <a href='vscode-notebook-cell:/c%3A/Users/Shubham/Documents/GitHub/Python_Programming/NLP/3%20copy.ipynb#Y124sZmlsZQ%3D%3D?line=13'>14</a>\u001b[0m \u001b[39mprint\u001b[39m(\u001b[39m'\u001b[39m\u001b[39m-\u001b[39m\u001b[39m'\u001b[39m\u001b[39m*\u001b[39m\u001b[39m10\u001b[39m)\n",
      "File \u001b[1;32mc:\\Python39\\lib\\site-packages\\gensim\\models\\keyedvectors.py:1436\u001b[0m, in \u001b[0;36mWord2VecKeyedVectors.load_word2vec_format\u001b[1;34m(cls, fname, fvocab, binary, encoding, unicode_errors, limit, datatype)\u001b[0m\n\u001b[0;32m   1398\u001b[0m \u001b[39m\"\"\"Load the input-hidden weight matrix from the original C word2vec-tool format.\u001b[39;00m\n\u001b[0;32m   1399\u001b[0m \n\u001b[0;32m   1400\u001b[0m \u001b[39mWarnings\u001b[39;00m\n\u001b[1;32m   (...)\u001b[0m\n\u001b[0;32m   1433\u001b[0m \n\u001b[0;32m   1434\u001b[0m \u001b[39m\"\"\"\u001b[39;00m\n\u001b[0;32m   1435\u001b[0m \u001b[39m# from gensim.models.word2vec import load_word2vec_format\u001b[39;00m\n\u001b[1;32m-> 1436\u001b[0m \u001b[39mreturn\u001b[39;00m _load_word2vec_format(\n\u001b[0;32m   1437\u001b[0m     \u001b[39mcls\u001b[39;49m, fname, fvocab\u001b[39m=\u001b[39;49mfvocab, binary\u001b[39m=\u001b[39;49mbinary, encoding\u001b[39m=\u001b[39;49mencoding, unicode_errors\u001b[39m=\u001b[39;49municode_errors,\n\u001b[0;32m   1438\u001b[0m     limit\u001b[39m=\u001b[39;49mlimit, datatype\u001b[39m=\u001b[39;49mdatatype)\n",
      "File \u001b[1;32mc:\\Python39\\lib\\site-packages\\gensim\\models\\utils_any2vec.py:171\u001b[0m, in \u001b[0;36m_load_word2vec_format\u001b[1;34m(cls, fname, fvocab, binary, encoding, unicode_errors, limit, datatype)\u001b[0m\n\u001b[0;32m    168\u001b[0m             counts[word] \u001b[39m=\u001b[39m \u001b[39mint\u001b[39m(count)\n\u001b[0;32m    170\u001b[0m logger\u001b[39m.\u001b[39minfo(\u001b[39m\"\u001b[39m\u001b[39mloading projection weights from \u001b[39m\u001b[39m%s\u001b[39;00m\u001b[39m\"\u001b[39m, fname)\n\u001b[1;32m--> 171\u001b[0m \u001b[39mwith\u001b[39;00m utils\u001b[39m.\u001b[39;49msmart_open(fname) \u001b[39mas\u001b[39;00m fin:\n\u001b[0;32m    172\u001b[0m     header \u001b[39m=\u001b[39m utils\u001b[39m.\u001b[39mto_unicode(fin\u001b[39m.\u001b[39mreadline(), encoding\u001b[39m=\u001b[39mencoding)\n\u001b[0;32m    173\u001b[0m     vocab_size, vector_size \u001b[39m=\u001b[39m (\u001b[39mint\u001b[39m(x) \u001b[39mfor\u001b[39;00m x \u001b[39min\u001b[39;00m header\u001b[39m.\u001b[39msplit())  \u001b[39m# throws for invalid file format\u001b[39;00m\n",
      "File \u001b[1;32mc:\\Python39\\lib\\site-packages\\smart_open\\smart_open_lib.py:503\u001b[0m, in \u001b[0;36msmart_open\u001b[1;34m(***failed resolving arguments***)\u001b[0m\n\u001b[0;32m    501\u001b[0m     compression \u001b[39m=\u001b[39m so_compression\u001b[39m.\u001b[39mINFER_FROM_EXTENSION\n\u001b[0;32m    502\u001b[0m \u001b[39mdel\u001b[39;00m kwargs, url, message, ignore_extension\n\u001b[1;32m--> 503\u001b[0m \u001b[39mreturn\u001b[39;00m \u001b[39mopen\u001b[39m(\u001b[39m*\u001b[39m\u001b[39m*\u001b[39m\u001b[39mlocals\u001b[39m())\n",
      "File \u001b[1;32mc:\\Python39\\lib\\site-packages\\smart_open\\smart_open_lib.py:177\u001b[0m, in \u001b[0;36mopen\u001b[1;34m(uri, mode, buffering, encoding, errors, newline, closefd, opener, compression, transport_params)\u001b[0m\n\u001b[0;32m    174\u001b[0m \u001b[39mif\u001b[39;00m transport_params \u001b[39mis\u001b[39;00m \u001b[39mNone\u001b[39;00m:\n\u001b[0;32m    175\u001b[0m     transport_params \u001b[39m=\u001b[39m {}\n\u001b[1;32m--> 177\u001b[0m fobj \u001b[39m=\u001b[39m _shortcut_open(\n\u001b[0;32m    178\u001b[0m     uri,\n\u001b[0;32m    179\u001b[0m     mode,\n\u001b[0;32m    180\u001b[0m     compression\u001b[39m=\u001b[39;49mcompression,\n\u001b[0;32m    181\u001b[0m     buffering\u001b[39m=\u001b[39;49mbuffering,\n\u001b[0;32m    182\u001b[0m     encoding\u001b[39m=\u001b[39;49mencoding,\n\u001b[0;32m    183\u001b[0m     errors\u001b[39m=\u001b[39;49merrors,\n\u001b[0;32m    184\u001b[0m     newline\u001b[39m=\u001b[39;49mnewline,\n\u001b[0;32m    185\u001b[0m )\n\u001b[0;32m    186\u001b[0m \u001b[39mif\u001b[39;00m fobj \u001b[39mis\u001b[39;00m \u001b[39mnot\u001b[39;00m \u001b[39mNone\u001b[39;00m:\n\u001b[0;32m    187\u001b[0m     \u001b[39mreturn\u001b[39;00m fobj\n",
      "File \u001b[1;32mc:\\Python39\\lib\\site-packages\\smart_open\\smart_open_lib.py:363\u001b[0m, in \u001b[0;36m_shortcut_open\u001b[1;34m(uri, mode, compression, buffering, encoding, errors, newline)\u001b[0m\n\u001b[0;32m    360\u001b[0m \u001b[39mif\u001b[39;00m errors \u001b[39mand\u001b[39;00m \u001b[39m'\u001b[39m\u001b[39mb\u001b[39m\u001b[39m'\u001b[39m \u001b[39mnot\u001b[39;00m \u001b[39min\u001b[39;00m mode:\n\u001b[0;32m    361\u001b[0m     open_kwargs[\u001b[39m'\u001b[39m\u001b[39merrors\u001b[39m\u001b[39m'\u001b[39m] \u001b[39m=\u001b[39m errors\n\u001b[1;32m--> 363\u001b[0m \u001b[39mreturn\u001b[39;00m _builtin_open(local_path, mode, buffering\u001b[39m=\u001b[39mbuffering, \u001b[39m*\u001b[39m\u001b[39m*\u001b[39mopen_kwargs)\n",
      "\u001b[1;31mFileNotFoundError\u001b[0m: [Errno 2] No such file or directory: 'GoogleNews-vectors-negative300.bin'"
     ]
    }
   ],
   "source": [
    "from gensim.models import Word2Vec, KeyedVectors\n",
    "pretrainedpath = gn_vec_path\n",
    "\n",
    "#Load W2V model. This will take some time, but it is a one time effort! \n",
    "pre = process.memory_info().rss\n",
    "print(\"Memory used in GB before Loading the Model: %0.2f\"%float(pre/(10**9))) #Check memory usage before loading the model\n",
    "print('-'*10)\n",
    "\n",
    "start_time = time.time() #Start the timer\n",
    "ttl = mem.total #Toal memory available\n",
    "\n",
    "w2v_model = KeyedVectors.load_word2vec_format(pretrainedpath, binary=True) #load the model\n",
    "print(\"%0.2f seconds taken to load\"%float(time.time() - start_time)) #Calculate the total time elapsed since starting the timer\n",
    "print('-'*10)\n",
    "\n",
    "print('Finished loading Word2Vec')\n",
    "print('-'*10)\n",
    "\n",
    "post = process.memory_info().rss\n",
    "print(\"Memory used in GB after Loading the Model: {:.2f}\".format(float(post/(10**9)))) #Calculate the memory used after loading the model\n",
    "print('-'*10)\n",
    "\n",
    "print(\"Percentage increase in memory usage: {:.2f}% \".format(float((post/pre)*100))) #Percentage increase in memory after loading the model\n",
    "print('-'*10)\n",
    "\n",
    "print(\"Numver of words in vocablulary: \",len(w2v_model.vocab)) #Number of words in the vocabulary. "
   ]
  },
  {
   "cell_type": "code",
   "execution_count": null,
   "metadata": {},
   "outputs": [],
   "source": [
    "#Let us examine the model by knowing what the most similar words are, for a given word!\n",
    "w2v_model.most_similar('beautiful')"
   ]
  },
  {
   "cell_type": "code",
   "execution_count": null,
   "metadata": {},
   "outputs": [],
   "source": [
    "#Let us try with another word! \n",
    "w2v_model.most_similar('toronto')"
   ]
  },
  {
   "cell_type": "code",
   "execution_count": null,
   "metadata": {},
   "outputs": [],
   "source": [
    "#What is the vector representation for a word? \n",
    "w2v_model['computer']"
   ]
  },
  {
   "cell_type": "code",
   "execution_count": null,
   "metadata": {},
   "outputs": [],
   "source": [
    "#What if I am looking for a word that is not in this vocabulary?\n",
    "w2v_model['practicalnlp']"
   ]
  },
  {
   "cell_type": "markdown",
   "metadata": {},
   "source": [
    "#### Two things to note while using pre-trained models: \n",
    "\n",
    "\n",
    "1.   Tokens/Words are always lowercased. If a word is not in the vocabulary,   the model throws an exception.\n",
    "2.   So, it is always a good idea to encapsulate those statements in try/except blocks.\n",
    "\n",
    " "
   ]
  },
  {
   "cell_type": "markdown",
   "metadata": {},
   "source": [
    "# 2. Getting the embedding representation for full text\n",
    "\n",
    "We have seen how to get embedding vectors for single words. How do we use them to get such a representation for a full text? A simple way is to just sum or average the embeddings for individual words. We will see an example of this using Word2Vec in Chapter 4. Let us see a small example using another NLP library Spacy - which we saw earlier in Chapter 2 too.\n"
   ]
  },
  {
   "cell_type": "code",
   "execution_count": null,
   "metadata": {},
   "outputs": [],
   "source": [
    "!python -m spacy download en_core_web_md"
   ]
  },
  {
   "cell_type": "code",
   "execution_count": null,
   "metadata": {},
   "outputs": [],
   "source": [
    "import spacy\n",
    "\n",
    "%time \n",
    "nlp = spacy.load('en_core_web_md')\n",
    "# process a sentence using the model\n",
    "mydoc = nlp(\"Canada is a large country\")\n",
    "#Get a vector for individual words\n",
    "#print(doc[0].vector) #vector for 'Canada', the first word in the text \n",
    "print(mydoc.vector) #Averaged vector for the entire sentence"
   ]
  },
  {
   "cell_type": "code",
   "execution_count": null,
   "metadata": {},
   "outputs": [],
   "source": [
    "#What happens when I give a sentence with strange words (and stop words), and try to get its word vector in Spacy?\n",
    "temp = nlp('practicalnlp is a newword')\n",
    "temp[0].vector"
   ]
  },
  {
   "cell_type": "markdown",
   "metadata": {},
   "source": [
    "Well, at least, this is better than throwing an exception! :) \n",
    "\n"
   ]
  },
  {
   "cell_type": "markdown",
   "metadata": {},
   "source": []
  },
  {
   "attachments": {},
   "cell_type": "markdown",
   "metadata": {},
   "source": [
    "# 6"
   ]
  },
  {
   "cell_type": "markdown",
   "metadata": {},
   "source": []
  },
  {
   "cell_type": "markdown",
   "metadata": {},
   "source": [
    "## Training Embeddings Using Gensim\n",
    "Word embeddings are an approach to representing text in NLP. In this notebook we will demonstrate how to train embeddings using Genism. [Gensim](https://radimrehurek.com/gensim/index.html) is an open source Python library for natural language processing, with a focus on topic modeling (explained in chapter 7)."
   ]
  },
  {
   "cell_type": "code",
   "execution_count": null,
   "metadata": {},
   "outputs": [],
   "source": [
    "# To install only the requirements of this notebook, uncomment the lines below and run this cell\n",
    "\n",
    "# ===========================\n",
    "\n",
    "!pip install gensim==3.6.0\n",
    "!pip install requests==2.23.0\n",
    "\n",
    "# ==========================="
   ]
  },
  {
   "cell_type": "code",
   "execution_count": null,
   "metadata": {},
   "outputs": [],
   "source": [
    "# To install the requirements for the entire chapter, uncomment the lines below and run this cell\n",
    "\n",
    "# ===========================\n",
    "\n",
    "# try :\n",
    "#     import google.colab\n",
    "#     !curl https://raw.githubusercontent.com/practical-nlp/practical-nlp/master/Ch3/ch3-requirements.txt | xargs -n 1 -L 1 pip install\n",
    "# except ModuleNotFoundError :\n",
    "#     !pip install -r \"ch3-requirements.txt\"\n",
    "\n",
    "# ==========================="
   ]
  },
  {
   "cell_type": "code",
   "execution_count": null,
   "metadata": {},
   "outputs": [],
   "source": [
    "from gensim.models import Word2Vec\n",
    "import warnings\n",
    "warnings.filterwarnings('ignore')"
   ]
  },
  {
   "cell_type": "code",
   "execution_count": 86,
   "metadata": {},
   "outputs": [],
   "source": [
    "# define training data\n",
    "#Genism word2vec requires that a format of ‘list of lists’ be provided for training where every document contained in a list.\n",
    "#Every list contains lists of tokens of that document.\n",
    "corpus = [['dog','bites','man'], [\"man\", \"bites\" ,\"dog\"],[\"dog\",\"eats\",\"meat\"],[\"man\", \"eats\",\"food\"]]\n",
    "\n",
    "#Training the model\n",
    "model_cbow = Word2Vec(corpus, min_count=1,sg=0) #using CBOW Architecture for trainnig\n",
    "model_skipgram = Word2Vec(corpus, min_count=1,sg=1)#using skipGram Architecture for training "
   ]
  },
  {
   "cell_type": "markdown",
   "metadata": {},
   "source": [
    "## Continuous Bag of Words (CBOW) \n",
    "In CBOW, the primary task is to build a language model that correctly predicts the center word given the context words in which the center word appears."
   ]
  },
  {
   "cell_type": "code",
   "execution_count": 87,
   "metadata": {},
   "outputs": [
    {
     "name": "stdout",
     "output_type": "stream",
     "text": [
      "Word2Vec(vocab=6, size=100, alpha=0.025)\n",
      "['dog', 'bites', 'man', 'eats', 'meat', 'food']\n",
      "[ 2.7951440e-03 -1.4757011e-03  4.1906973e-03  4.2543979e-03\n",
      " -4.6921261e-03 -8.9648552e-04 -3.8607309e-03  3.5303282e-03\n",
      " -3.7730539e-03 -2.6508230e-03 -1.4293927e-03 -4.7247815e-03\n",
      "  5.9320638e-04 -4.2815115e-03 -1.6224985e-03  3.9167912e-03\n",
      "  1.0792653e-03 -3.7763817e-03  2.1328819e-03 -1.3026521e-03\n",
      " -4.1323123e-03 -3.2178448e-03 -4.6939370e-03  3.1100584e-03\n",
      "  4.5706462e-03 -3.4195879e-03 -1.7723838e-03  1.0517504e-03\n",
      "  4.2696362e-03  1.1476708e-03  2.9246812e-03 -4.1107824e-03\n",
      "  2.3855120e-03 -3.0048257e-03 -1.5206356e-03  1.5204984e-03\n",
      " -1.8056708e-03 -6.9982430e-04 -2.1253431e-03 -2.0415701e-03\n",
      " -2.3109550e-03 -1.2273348e-03 -3.6642079e-03  7.3571497e-04\n",
      "  6.0808787e-04 -3.6035397e-03  1.4821341e-03 -1.3566855e-03\n",
      "  2.2805384e-03 -3.5852490e-03  5.5954122e-04 -1.4382519e-03\n",
      " -9.5288770e-04 -3.5965850e-03 -4.4649676e-03 -5.1419297e-04\n",
      " -4.5729713e-03  1.7192846e-03  2.6845790e-03 -4.9170186e-03\n",
      " -2.0757625e-03  6.4954720e-04  4.5774407e-03  4.3029729e-03\n",
      "  6.9184788e-04 -3.3563690e-03 -4.7314321e-03 -7.3783187e-04\n",
      "  4.2747390e-03  2.5794543e-03 -2.6363761e-03 -1.0354839e-03\n",
      " -2.8350323e-03  2.5044365e-03  8.9472748e-04 -4.6422300e-03\n",
      "  2.5549580e-03 -3.1129604e-03  1.0113029e-03 -3.2377308e-03\n",
      "  1.0864785e-03  2.4259470e-03  4.0195957e-03 -4.6436242e-03\n",
      " -3.3165023e-03  1.3395494e-03  4.2789942e-03  1.4908172e-03\n",
      "  2.0482265e-03 -4.0183411e-04 -2.9768024e-04  6.7032256e-06\n",
      " -2.2630270e-03 -3.9712507e-03 -6.4873719e-04  3.1467583e-03\n",
      "  1.1650168e-03 -4.6027037e-03 -2.1575964e-03 -4.8137722e-03]\n"
     ]
    }
   ],
   "source": [
    "#Summarize the loaded model\n",
    "print(model_cbow)\n",
    "\n",
    "#Summarize vocabulary\n",
    "words = list(model_cbow.wv.vocab)\n",
    "print(words)\n",
    "\n",
    "#Acess vector for one word\n",
    "print(model_cbow['dog'])"
   ]
  },
  {
   "cell_type": "code",
   "execution_count": 88,
   "metadata": {},
   "outputs": [
    {
     "name": "stdout",
     "output_type": "stream",
     "text": [
      "Similarity between eats and bites: -0.04029682\n",
      "Similarity between eats and man: -0.11351715\n"
     ]
    }
   ],
   "source": [
    "#Compute similarity \n",
    "print(\"Similarity between eats and bites:\",model_cbow.similarity('eats', 'bites'))\n",
    "print(\"Similarity between eats and man:\",model_cbow.similarity('eats', 'man'))"
   ]
  },
  {
   "cell_type": "markdown",
   "metadata": {},
   "source": [
    "From the above similarity scores we can conclude that eats is more similar to bites than man."
   ]
  },
  {
   "cell_type": "code",
   "execution_count": 89,
   "metadata": {},
   "outputs": [
    {
     "data": {
      "text/plain": [
       "[('bites', 0.12038666009902954),\n",
       " ('man', 0.06600423157215118),\n",
       " ('dog', 0.06075691431760788),\n",
       " ('eats', 0.043233662843704224),\n",
       " ('food', -0.08051042258739471)]"
      ]
     },
     "execution_count": 89,
     "metadata": {},
     "output_type": "execute_result"
    }
   ],
   "source": [
    "#Most similarity\n",
    "model_cbow.most_similar('meat')"
   ]
  },
  {
   "cell_type": "code",
   "execution_count": 90,
   "metadata": {},
   "outputs": [
    {
     "name": "stdout",
     "output_type": "stream",
     "text": [
      "Word2Vec(vocab=6, size=100, alpha=0.025)\n"
     ]
    }
   ],
   "source": [
    "# save model\n",
    "model_cbow.save('model_cbow.bin')\n",
    "\n",
    "# load model\n",
    "new_model_cbow = Word2Vec.load('model_cbow.bin')\n",
    "print(new_model_cbow)"
   ]
  },
  {
   "cell_type": "markdown",
   "metadata": {},
   "source": [
    "## SkipGram\n",
    "In skipgram, the task is to predict the context words from the center word."
   ]
  },
  {
   "cell_type": "code",
   "execution_count": 91,
   "metadata": {},
   "outputs": [
    {
     "name": "stdout",
     "output_type": "stream",
     "text": [
      "Word2Vec(vocab=6, size=100, alpha=0.025)\n",
      "['dog', 'bites', 'man', 'eats', 'meat', 'food']\n",
      "[ 2.7951440e-03 -1.4757011e-03  4.1906973e-03  4.2543979e-03\n",
      " -4.6921261e-03 -8.9648552e-04 -3.8607309e-03  3.5303282e-03\n",
      " -3.7730539e-03 -2.6508230e-03 -1.4293927e-03 -4.7247815e-03\n",
      "  5.9320638e-04 -4.2815115e-03 -1.6224985e-03  3.9167912e-03\n",
      "  1.0792653e-03 -3.7763817e-03  2.1328819e-03 -1.3026521e-03\n",
      " -4.1323123e-03 -3.2178448e-03 -4.6939370e-03  3.1100584e-03\n",
      "  4.5706462e-03 -3.4195879e-03 -1.7723838e-03  1.0517504e-03\n",
      "  4.2696362e-03  1.1476708e-03  2.9246812e-03 -4.1107824e-03\n",
      "  2.3855120e-03 -3.0048257e-03 -1.5206356e-03  1.5204984e-03\n",
      " -1.8056708e-03 -6.9982430e-04 -2.1253431e-03 -2.0415701e-03\n",
      " -2.3109550e-03 -1.2273348e-03 -3.6642079e-03  7.3571497e-04\n",
      "  6.0808787e-04 -3.6035397e-03  1.4821341e-03 -1.3566855e-03\n",
      "  2.2805384e-03 -3.5852490e-03  5.5954122e-04 -1.4382519e-03\n",
      " -9.5288770e-04 -3.5965850e-03 -4.4649676e-03 -5.1419297e-04\n",
      " -4.5729713e-03  1.7192846e-03  2.6845790e-03 -4.9170186e-03\n",
      " -2.0757625e-03  6.4954720e-04  4.5774407e-03  4.3029729e-03\n",
      "  6.9184788e-04 -3.3563690e-03 -4.7314321e-03 -7.3783187e-04\n",
      "  4.2747390e-03  2.5794543e-03 -2.6363761e-03 -1.0354839e-03\n",
      " -2.8350323e-03  2.5044365e-03  8.9472748e-04 -4.6422300e-03\n",
      "  2.5549580e-03 -3.1129604e-03  1.0113029e-03 -3.2377308e-03\n",
      "  1.0864785e-03  2.4259470e-03  4.0195957e-03 -4.6436242e-03\n",
      " -3.3165023e-03  1.3395494e-03  4.2789942e-03  1.4908172e-03\n",
      "  2.0482265e-03 -4.0183411e-04 -2.9768024e-04  6.7032256e-06\n",
      " -2.2630270e-03 -3.9712507e-03 -6.4873719e-04  3.1467583e-03\n",
      "  1.1650168e-03 -4.6027037e-03 -2.1575964e-03 -4.8137722e-03]\n"
     ]
    }
   ],
   "source": [
    "#Summarize the loaded model\n",
    "print(model_skipgram)\n",
    "\n",
    "#Summarize vocabulary\n",
    "words = list(model_skipgram.wv.vocab)\n",
    "print(words)\n",
    "\n",
    "#Acess vector for one word\n",
    "print(model_skipgram['dog'])"
   ]
  },
  {
   "cell_type": "code",
   "execution_count": 92,
   "metadata": {},
   "outputs": [
    {
     "name": "stdout",
     "output_type": "stream",
     "text": [
      "Similarity between eats and bites: -0.04030498\n",
      "Similarity between eats and man: -0.11352188\n"
     ]
    }
   ],
   "source": [
    "#Compute similarity \n",
    "print(\"Similarity between eats and bites:\",model_skipgram.similarity('eats', 'bites'))\n",
    "print(\"Similarity between eats and man:\",model_skipgram.similarity('eats', 'man'))"
   ]
  },
  {
   "cell_type": "markdown",
   "metadata": {},
   "source": [
    "From the above similarity scores we can conclude that eats is more similar to bites than man."
   ]
  },
  {
   "cell_type": "code",
   "execution_count": 93,
   "metadata": {},
   "outputs": [
    {
     "data": {
      "text/plain": [
       "[('bites', 0.12038666009902954),\n",
       " ('man', 0.06600422412157059),\n",
       " ('dog', 0.06075693666934967),\n",
       " ('eats', 0.043166883289813995),\n",
       " ('food', -0.08051042258739471)]"
      ]
     },
     "execution_count": 93,
     "metadata": {},
     "output_type": "execute_result"
    }
   ],
   "source": [
    "#Most similarity\n",
    "model_skipgram.most_similar('meat')"
   ]
  },
  {
   "cell_type": "code",
   "execution_count": 94,
   "metadata": {},
   "outputs": [
    {
     "name": "stdout",
     "output_type": "stream",
     "text": [
      "Word2Vec(vocab=6, size=100, alpha=0.025)\n"
     ]
    }
   ],
   "source": [
    "# save model\n",
    "model_skipgram.save('model_skipgram.bin')\n",
    "\n",
    "# load model\n",
    "new_model_skipgram = Word2Vec.load('model_skipgram.bin')\n",
    "print(new_model_skipgram)"
   ]
  },
  {
   "cell_type": "markdown",
   "metadata": {},
   "source": [
    "## Training Your Embedding on Wiki Corpus\n",
    "\n",
    "##### The corpus download page : https://dumps.wikimedia.org/enwiki/20200120/\n",
    "The entire wiki corpus as of 28/04/2020 is just over 16GB in size.\n",
    "We will take a part of this corpus due to computation constraints and train our word2vec and fasttext embeddings.\n",
    "\n",
    "The file size is 294MB so it can take a while to download.\n",
    "\n",
    "Source for code which downloads files from Google Drive: https://stackoverflow.com/questions/25010369/wget-curl-large-file-from-google-drive/39225039#39225039"
   ]
  },
  {
   "cell_type": "code",
   "execution_count": 96,
   "metadata": {},
   "outputs": [
    {
     "name": "stdout",
     "output_type": "stream",
     "text": [
      "File at: data/en/enwiki-latest-pages-articles-multistream14.xml-p13159683p14324602.bz2\n"
     ]
    }
   ],
   "source": [
    "import os\n",
    "import requests\n",
    "\n",
    "os.makedirs('data/en', exist_ok= True)\n",
    "file_name = \"data/en/enwiki-latest-pages-articles-multistream14.xml-p13159683p14324602.bz2\"\n",
    "file_id = \"11804g0GcWnBIVDahjo5fQyc05nQLXGwF\"\n",
    "\n",
    "def download_file_from_google_drive(id, destination):\n",
    "    URL = \"https://docs.google.com/uc?export=download\"\n",
    "\n",
    "    session = requests.Session()\n",
    "\n",
    "    response = session.get(URL, params = { 'id' : id }, stream = True)\n",
    "    token = get_confirm_token(response)\n",
    "\n",
    "    if token:\n",
    "        params = { 'id' : id, 'confirm' : token }\n",
    "        response = session.get(URL, params = params, stream = True)\n",
    "\n",
    "    save_response_content(response, destination)    \n",
    "\n",
    "def get_confirm_token(response):\n",
    "    for key, value in response.cookies.items():\n",
    "        if key.startswith('download_warning'):\n",
    "            return value\n",
    "\n",
    "    return None\n",
    "\n",
    "def save_response_content(response, destination):\n",
    "    CHUNK_SIZE = 32768\n",
    "\n",
    "    with open(destination, \"wb\") as f:\n",
    "        for chunk in response.iter_content(CHUNK_SIZE):\n",
    "            if chunk: # filter out keep-alive new chunks\n",
    "                f.write(chunk)\n",
    "\n",
    "if not os.path.exists(file_name):\n",
    "    download_file_from_google_drive(file_id, file_name)\n",
    "else:\n",
    "    print(\"file already exists, skipping download\")\n",
    "\n",
    "print(f\"File at: {file_name}\")"
   ]
  },
  {
   "cell_type": "code",
   "execution_count": 97,
   "metadata": {},
   "outputs": [],
   "source": [
    "from gensim.corpora.wikicorpus import WikiCorpus\n",
    "from gensim.models.word2vec import Word2Vec\n",
    "from gensim.models.fasttext import FastText\n",
    "import time"
   ]
  },
  {
   "cell_type": "code",
   "execution_count": 98,
   "metadata": {},
   "outputs": [
    {
     "ename": "OSError",
     "evalue": "Invalid data stream",
     "output_type": "error",
     "traceback": [
      "\u001b[1;31m---------------------------------------------------------------------------\u001b[0m",
      "\u001b[1;31mOSError\u001b[0m                                   Traceback (most recent call last)",
      "\u001b[1;32mc:\\Users\\Shubham\\Documents\\GitHub\\Python_Programming\\NLP\\3 copy.ipynb Cell 102\u001b[0m in \u001b[0;36m<cell line: 3>\u001b[1;34m()\u001b[0m\n\u001b[0;32m      <a href='vscode-notebook-cell:/c%3A/Users/Shubham/Documents/GitHub/Python_Programming/NLP/3%20copy.ipynb#Y203sZmlsZQ%3D%3D?line=0'>1</a>\u001b[0m \u001b[39m#Preparing the Training data\u001b[39;00m\n\u001b[0;32m      <a href='vscode-notebook-cell:/c%3A/Users/Shubham/Documents/GitHub/Python_Programming/NLP/3%20copy.ipynb#Y203sZmlsZQ%3D%3D?line=1'>2</a>\u001b[0m wiki \u001b[39m=\u001b[39m WikiCorpus(file_name, lemmatize\u001b[39m=\u001b[39m\u001b[39mFalse\u001b[39;00m, dictionary\u001b[39m=\u001b[39m{})\n\u001b[1;32m----> <a href='vscode-notebook-cell:/c%3A/Users/Shubham/Documents/GitHub/Python_Programming/NLP/3%20copy.ipynb#Y203sZmlsZQ%3D%3D?line=2'>3</a>\u001b[0m sentences \u001b[39m=\u001b[39m \u001b[39mlist\u001b[39;49m(wiki\u001b[39m.\u001b[39;49mget_texts())\n",
      "File \u001b[1;32mc:\\Python39\\lib\\site-packages\\gensim\\corpora\\wikicorpus.py:675\u001b[0m, in \u001b[0;36mWikiCorpus.get_texts\u001b[1;34m(self)\u001b[0m\n\u001b[0;32m    670\u001b[0m pool \u001b[39m=\u001b[39m multiprocessing\u001b[39m.\u001b[39mPool(\u001b[39mself\u001b[39m\u001b[39m.\u001b[39mprocesses, init_to_ignore_interrupt)\n\u001b[0;32m    672\u001b[0m \u001b[39mtry\u001b[39;00m:\n\u001b[0;32m    673\u001b[0m     \u001b[39m# process the corpus in smaller chunks of docs, because multiprocessing.Pool\u001b[39;00m\n\u001b[0;32m    674\u001b[0m     \u001b[39m# is dumb and would load the entire input into RAM at once...\u001b[39;00m\n\u001b[1;32m--> 675\u001b[0m     \u001b[39mfor\u001b[39;00m group \u001b[39min\u001b[39;00m utils\u001b[39m.\u001b[39mchunkize(texts, chunksize\u001b[39m=\u001b[39m\u001b[39m10\u001b[39m \u001b[39m*\u001b[39m \u001b[39mself\u001b[39m\u001b[39m.\u001b[39mprocesses, maxsize\u001b[39m=\u001b[39m\u001b[39m1\u001b[39m):\n\u001b[0;32m    676\u001b[0m         \u001b[39mfor\u001b[39;00m tokens, title, pageid \u001b[39min\u001b[39;00m pool\u001b[39m.\u001b[39mimap(_process_article, group):\n\u001b[0;32m    677\u001b[0m             articles_all \u001b[39m+\u001b[39m\u001b[39m=\u001b[39m \u001b[39m1\u001b[39m\n",
      "File \u001b[1;32mc:\\Python39\\lib\\site-packages\\gensim\\utils.py:1234\u001b[0m, in \u001b[0;36mchunkize\u001b[1;34m(corpus, chunksize, maxsize, as_numpy)\u001b[0m\n\u001b[0;32m   1214\u001b[0m \u001b[39mdef\u001b[39;00m \u001b[39mchunkize\u001b[39m(corpus, chunksize, maxsize\u001b[39m=\u001b[39m\u001b[39m0\u001b[39m, as_numpy\u001b[39m=\u001b[39m\u001b[39mFalse\u001b[39;00m):\n\u001b[0;32m   1215\u001b[0m     \u001b[39m\"\"\"Split `corpus` into fixed-sized chunks, using :func:`~gensim.utils.chunkize_serial`.\u001b[39;00m\n\u001b[0;32m   1216\u001b[0m \n\u001b[0;32m   1217\u001b[0m \u001b[39m    Parameters\u001b[39;00m\n\u001b[1;32m   (...)\u001b[0m\n\u001b[0;32m   1232\u001b[0m \n\u001b[0;32m   1233\u001b[0m \u001b[39m    \"\"\"\u001b[39;00m\n\u001b[1;32m-> 1234\u001b[0m     \u001b[39mfor\u001b[39;00m chunk \u001b[39min\u001b[39;00m chunkize_serial(corpus, chunksize, as_numpy\u001b[39m=\u001b[39mas_numpy):\n\u001b[0;32m   1235\u001b[0m         \u001b[39myield\u001b[39;00m chunk\n",
      "File \u001b[1;32mc:\\Python39\\lib\\site-packages\\gensim\\utils.py:1149\u001b[0m, in \u001b[0;36mchunkize_serial\u001b[1;34m(iterable, chunksize, as_numpy, dtype)\u001b[0m\n\u001b[0;32m   1147\u001b[0m     wrapped_chunk \u001b[39m=\u001b[39m [[np\u001b[39m.\u001b[39marray(doc, dtype\u001b[39m=\u001b[39mdtype) \u001b[39mfor\u001b[39;00m doc \u001b[39min\u001b[39;00m itertools\u001b[39m.\u001b[39mislice(it, \u001b[39mint\u001b[39m(chunksize))]]\n\u001b[0;32m   1148\u001b[0m \u001b[39melse\u001b[39;00m:\n\u001b[1;32m-> 1149\u001b[0m     wrapped_chunk \u001b[39m=\u001b[39m [\u001b[39mlist\u001b[39;49m(itertools\u001b[39m.\u001b[39;49mislice(it, \u001b[39mint\u001b[39;49m(chunksize)))]\n\u001b[0;32m   1150\u001b[0m \u001b[39mif\u001b[39;00m \u001b[39mnot\u001b[39;00m wrapped_chunk[\u001b[39m0\u001b[39m]:\n\u001b[0;32m   1151\u001b[0m     \u001b[39mbreak\u001b[39;00m\n",
      "File \u001b[1;32mc:\\Python39\\lib\\site-packages\\gensim\\corpora\\wikicorpus.py:667\u001b[0m, in \u001b[0;36m<genexpr>\u001b[1;34m(.0)\u001b[0m\n\u001b[0;32m    663\u001b[0m positions, positions_all \u001b[39m=\u001b[39m \u001b[39m0\u001b[39m, \u001b[39m0\u001b[39m\n\u001b[0;32m    665\u001b[0m tokenization_params \u001b[39m=\u001b[39m (\u001b[39mself\u001b[39m\u001b[39m.\u001b[39mtokenizer_func, \u001b[39mself\u001b[39m\u001b[39m.\u001b[39mtoken_min_len, \u001b[39mself\u001b[39m\u001b[39m.\u001b[39mtoken_max_len, \u001b[39mself\u001b[39m\u001b[39m.\u001b[39mlower)\n\u001b[0;32m    666\u001b[0m texts \u001b[39m=\u001b[39m \\\n\u001b[1;32m--> 667\u001b[0m     ((text, \u001b[39mself\u001b[39m\u001b[39m.\u001b[39mlemmatize, title, pageid, tokenization_params)\n\u001b[0;32m    668\u001b[0m      \u001b[39mfor\u001b[39;00m title, text, pageid\n\u001b[0;32m    669\u001b[0m      \u001b[39min\u001b[39;00m extract_pages(bz2\u001b[39m.\u001b[39mBZ2File(\u001b[39mself\u001b[39m\u001b[39m.\u001b[39mfname), \u001b[39mself\u001b[39m\u001b[39m.\u001b[39mfilter_namespaces, \u001b[39mself\u001b[39m\u001b[39m.\u001b[39mfilter_articles))\n\u001b[0;32m    670\u001b[0m pool \u001b[39m=\u001b[39m multiprocessing\u001b[39m.\u001b[39mPool(\u001b[39mself\u001b[39m\u001b[39m.\u001b[39mprocesses, init_to_ignore_interrupt)\n\u001b[0;32m    672\u001b[0m \u001b[39mtry\u001b[39;00m:\n\u001b[0;32m    673\u001b[0m     \u001b[39m# process the corpus in smaller chunks of docs, because multiprocessing.Pool\u001b[39;00m\n\u001b[0;32m    674\u001b[0m     \u001b[39m# is dumb and would load the entire input into RAM at once...\u001b[39;00m\n",
      "File \u001b[1;32mc:\\Python39\\lib\\site-packages\\gensim\\corpora\\wikicorpus.py:410\u001b[0m, in \u001b[0;36mextract_pages\u001b[1;34m(f, filter_namespaces, filter_articles)\u001b[0m\n\u001b[0;32m    404\u001b[0m elems \u001b[39m=\u001b[39m (elem \u001b[39mfor\u001b[39;00m _, elem \u001b[39min\u001b[39;00m iterparse(f, events\u001b[39m=\u001b[39m(\u001b[39m\"\u001b[39m\u001b[39mend\u001b[39m\u001b[39m\"\u001b[39m,)))\n\u001b[0;32m    406\u001b[0m \u001b[39m# We can't rely on the namespace for database dumps, since it's changed\u001b[39;00m\n\u001b[0;32m    407\u001b[0m \u001b[39m# it every time a small modification to the format is made. So, determine\u001b[39;00m\n\u001b[0;32m    408\u001b[0m \u001b[39m# those from the first element we find, which will be part of the metadata,\u001b[39;00m\n\u001b[0;32m    409\u001b[0m \u001b[39m# and construct element paths.\u001b[39;00m\n\u001b[1;32m--> 410\u001b[0m elem \u001b[39m=\u001b[39m \u001b[39mnext\u001b[39;49m(elems)\n\u001b[0;32m    411\u001b[0m namespace \u001b[39m=\u001b[39m get_namespace(elem\u001b[39m.\u001b[39mtag)\n\u001b[0;32m    412\u001b[0m ns_mapping \u001b[39m=\u001b[39m {\u001b[39m\"\u001b[39m\u001b[39mns\u001b[39m\u001b[39m\"\u001b[39m: namespace}\n",
      "File \u001b[1;32mc:\\Python39\\lib\\site-packages\\gensim\\corpora\\wikicorpus.py:404\u001b[0m, in \u001b[0;36m<genexpr>\u001b[1;34m(.0)\u001b[0m\n\u001b[0;32m    388\u001b[0m \u001b[39mdef\u001b[39;00m \u001b[39mextract_pages\u001b[39m(f, filter_namespaces\u001b[39m=\u001b[39m\u001b[39mFalse\u001b[39;00m, filter_articles\u001b[39m=\u001b[39m\u001b[39mNone\u001b[39;00m):\n\u001b[0;32m    389\u001b[0m     \u001b[39m\"\"\"Extract pages from a MediaWiki database dump.\u001b[39;00m\n\u001b[0;32m    390\u001b[0m \n\u001b[0;32m    391\u001b[0m \u001b[39m    Parameters\u001b[39;00m\n\u001b[1;32m   (...)\u001b[0m\n\u001b[0;32m    402\u001b[0m \n\u001b[0;32m    403\u001b[0m \u001b[39m    \"\"\"\u001b[39;00m\n\u001b[1;32m--> 404\u001b[0m     elems \u001b[39m=\u001b[39m (elem \u001b[39mfor\u001b[39;00m _, elem \u001b[39min\u001b[39;00m iterparse(f, events\u001b[39m=\u001b[39m(\u001b[39m\"\u001b[39m\u001b[39mend\u001b[39m\u001b[39m\"\u001b[39m,)))\n\u001b[0;32m    406\u001b[0m     \u001b[39m# We can't rely on the namespace for database dumps, since it's changed\u001b[39;00m\n\u001b[0;32m    407\u001b[0m     \u001b[39m# it every time a small modification to the format is made. So, determine\u001b[39;00m\n\u001b[0;32m    408\u001b[0m     \u001b[39m# those from the first element we find, which will be part of the metadata,\u001b[39;00m\n\u001b[0;32m    409\u001b[0m     \u001b[39m# and construct element paths.\u001b[39;00m\n\u001b[0;32m    410\u001b[0m     elem \u001b[39m=\u001b[39m \u001b[39mnext\u001b[39m(elems)\n",
      "File \u001b[1;32mc:\\Python39\\lib\\xml\\etree\\ElementTree.py:1256\u001b[0m, in \u001b[0;36miterparse.<locals>.iterator\u001b[1;34m()\u001b[0m\n\u001b[0;32m   1254\u001b[0m \u001b[39myield from\u001b[39;00m pullparser\u001b[39m.\u001b[39mread_events()\n\u001b[0;32m   1255\u001b[0m \u001b[39m# load event buffer\u001b[39;00m\n\u001b[1;32m-> 1256\u001b[0m data \u001b[39m=\u001b[39m source\u001b[39m.\u001b[39;49mread(\u001b[39m16\u001b[39;49m \u001b[39m*\u001b[39;49m \u001b[39m1024\u001b[39;49m)\n\u001b[0;32m   1257\u001b[0m \u001b[39mif\u001b[39;00m \u001b[39mnot\u001b[39;00m data:\n\u001b[0;32m   1258\u001b[0m     \u001b[39mbreak\u001b[39;00m\n",
      "File \u001b[1;32mc:\\Python39\\lib\\bz2.py:171\u001b[0m, in \u001b[0;36mBZ2File.read\u001b[1;34m(self, size)\u001b[0m\n\u001b[0;32m    169\u001b[0m \u001b[39mwith\u001b[39;00m \u001b[39mself\u001b[39m\u001b[39m.\u001b[39m_lock:\n\u001b[0;32m    170\u001b[0m     \u001b[39mself\u001b[39m\u001b[39m.\u001b[39m_check_can_read()\n\u001b[1;32m--> 171\u001b[0m     \u001b[39mreturn\u001b[39;00m \u001b[39mself\u001b[39;49m\u001b[39m.\u001b[39;49m_buffer\u001b[39m.\u001b[39;49mread(size)\n",
      "File \u001b[1;32mc:\\Python39\\lib\\_compression.py:68\u001b[0m, in \u001b[0;36mDecompressReader.readinto\u001b[1;34m(self, b)\u001b[0m\n\u001b[0;32m     66\u001b[0m \u001b[39mdef\u001b[39;00m \u001b[39mreadinto\u001b[39m(\u001b[39mself\u001b[39m, b):\n\u001b[0;32m     67\u001b[0m     \u001b[39mwith\u001b[39;00m \u001b[39mmemoryview\u001b[39m(b) \u001b[39mas\u001b[39;00m view, view\u001b[39m.\u001b[39mcast(\u001b[39m\"\u001b[39m\u001b[39mB\u001b[39m\u001b[39m\"\u001b[39m) \u001b[39mas\u001b[39;00m byte_view:\n\u001b[1;32m---> 68\u001b[0m         data \u001b[39m=\u001b[39m \u001b[39mself\u001b[39;49m\u001b[39m.\u001b[39;49mread(\u001b[39mlen\u001b[39;49m(byte_view))\n\u001b[0;32m     69\u001b[0m         byte_view[:\u001b[39mlen\u001b[39m(data)] \u001b[39m=\u001b[39m data\n\u001b[0;32m     70\u001b[0m     \u001b[39mreturn\u001b[39;00m \u001b[39mlen\u001b[39m(data)\n",
      "File \u001b[1;32mc:\\Python39\\lib\\_compression.py:103\u001b[0m, in \u001b[0;36mDecompressReader.read\u001b[1;34m(self, size)\u001b[0m\n\u001b[0;32m    101\u001b[0m     \u001b[39melse\u001b[39;00m:\n\u001b[0;32m    102\u001b[0m         rawblock \u001b[39m=\u001b[39m \u001b[39mb\u001b[39m\u001b[39m\"\u001b[39m\u001b[39m\"\u001b[39m\n\u001b[1;32m--> 103\u001b[0m     data \u001b[39m=\u001b[39m \u001b[39mself\u001b[39;49m\u001b[39m.\u001b[39;49m_decompressor\u001b[39m.\u001b[39;49mdecompress(rawblock, size)\n\u001b[0;32m    104\u001b[0m \u001b[39mif\u001b[39;00m data:\n\u001b[0;32m    105\u001b[0m     \u001b[39mbreak\u001b[39;00m\n",
      "\u001b[1;31mOSError\u001b[0m: Invalid data stream"
     ]
    }
   ],
   "source": [
    "#Preparing the Training data\n",
    "wiki = WikiCorpus(file_name, lemmatize=False, dictionary={})\n",
    "sentences = list(wiki.get_texts())\n",
    "\n",
    "#if you get a memory error executing the lines above\n",
    "#comment the lines out and uncomment the lines below. \n",
    "#loading will be slower, but stable.\n",
    "# wiki = WikiCorpus(file_name, processes=4, lemmatize=False, dictionary={})\n",
    "# sentences = list(wiki.get_texts())\n",
    "\n",
    "#if you still get a memory error, try settings processes to 1 or 2 and then run it again."
   ]
  },
  {
   "cell_type": "markdown",
   "metadata": {},
   "source": [
    "### Hyperparameters\n",
    "\n",
    "\n",
    "1.   sg - Selecting the training algorithm: 1 for skip-gram else its 0 for CBOW. Default is CBOW.\n",
    "2.   min_count-  Ignores all words with total frequency lower than this.<br>\n",
    "There are many more hyperparamaeters whose list can be found in the official documentation [here.](https://radimrehurek.com/gensim/models/word2vec.html)\n"
   ]
  },
  {
   "cell_type": "code",
   "execution_count": 99,
   "metadata": {},
   "outputs": [
    {
     "ename": "NameError",
     "evalue": "name 'sentences' is not defined",
     "output_type": "error",
     "traceback": [
      "\u001b[1;31m---------------------------------------------------------------------------\u001b[0m",
      "\u001b[1;31mNameError\u001b[0m                                 Traceback (most recent call last)",
      "\u001b[1;32mc:\\Users\\Shubham\\Documents\\GitHub\\Python_Programming\\NLP\\3 copy.ipynb Cell 104\u001b[0m in \u001b[0;36m<cell line: 3>\u001b[1;34m()\u001b[0m\n\u001b[0;32m      <a href='vscode-notebook-cell:/c%3A/Users/Shubham/Documents/GitHub/Python_Programming/NLP/3%20copy.ipynb#Y205sZmlsZQ%3D%3D?line=0'>1</a>\u001b[0m \u001b[39m#CBOW\u001b[39;00m\n\u001b[0;32m      <a href='vscode-notebook-cell:/c%3A/Users/Shubham/Documents/GitHub/Python_Programming/NLP/3%20copy.ipynb#Y205sZmlsZQ%3D%3D?line=1'>2</a>\u001b[0m start \u001b[39m=\u001b[39m time\u001b[39m.\u001b[39mtime()\n\u001b[1;32m----> <a href='vscode-notebook-cell:/c%3A/Users/Shubham/Documents/GitHub/Python_Programming/NLP/3%20copy.ipynb#Y205sZmlsZQ%3D%3D?line=2'>3</a>\u001b[0m word2vec_cbow \u001b[39m=\u001b[39m Word2Vec(sentences,min_count\u001b[39m=\u001b[39m\u001b[39m10\u001b[39m, sg\u001b[39m=\u001b[39m\u001b[39m0\u001b[39m)\n\u001b[0;32m      <a href='vscode-notebook-cell:/c%3A/Users/Shubham/Documents/GitHub/Python_Programming/NLP/3%20copy.ipynb#Y205sZmlsZQ%3D%3D?line=3'>4</a>\u001b[0m end \u001b[39m=\u001b[39m time\u001b[39m.\u001b[39mtime()\n\u001b[0;32m      <a href='vscode-notebook-cell:/c%3A/Users/Shubham/Documents/GitHub/Python_Programming/NLP/3%20copy.ipynb#Y205sZmlsZQ%3D%3D?line=5'>6</a>\u001b[0m \u001b[39mprint\u001b[39m(\u001b[39m\"\u001b[39m\u001b[39mCBOW Model Training Complete.\u001b[39m\u001b[39m\\n\u001b[39;00m\u001b[39mTime taken for training is:\u001b[39m\u001b[39m{:.2f}\u001b[39;00m\u001b[39m hrs \u001b[39m\u001b[39m\"\u001b[39m\u001b[39m.\u001b[39mformat((end\u001b[39m-\u001b[39mstart)\u001b[39m/\u001b[39m\u001b[39m3600.0\u001b[39m))\n",
      "\u001b[1;31mNameError\u001b[0m: name 'sentences' is not defined"
     ]
    }
   ],
   "source": [
    "#CBOW\n",
    "start = time.time()\n",
    "word2vec_cbow = Word2Vec(sentences,min_count=10, sg=0)\n",
    "end = time.time()\n",
    "\n",
    "print(\"CBOW Model Training Complete.\\nTime taken for training is:{:.2f} hrs \".format((end-start)/3600.0))"
   ]
  },
  {
   "cell_type": "code",
   "execution_count": 100,
   "metadata": {},
   "outputs": [
    {
     "ename": "NameError",
     "evalue": "name 'word2vec_cbow' is not defined",
     "output_type": "error",
     "traceback": [
      "\u001b[1;31m---------------------------------------------------------------------------\u001b[0m",
      "\u001b[1;31mNameError\u001b[0m                                 Traceback (most recent call last)",
      "\u001b[1;32mc:\\Users\\Shubham\\Documents\\GitHub\\Python_Programming\\NLP\\3 copy.ipynb Cell 105\u001b[0m in \u001b[0;36m<cell line: 2>\u001b[1;34m()\u001b[0m\n\u001b[0;32m      <a href='vscode-notebook-cell:/c%3A/Users/Shubham/Documents/GitHub/Python_Programming/NLP/3%20copy.ipynb#Y206sZmlsZQ%3D%3D?line=0'>1</a>\u001b[0m \u001b[39m#Summarize the loaded model\u001b[39;00m\n\u001b[1;32m----> <a href='vscode-notebook-cell:/c%3A/Users/Shubham/Documents/GitHub/Python_Programming/NLP/3%20copy.ipynb#Y206sZmlsZQ%3D%3D?line=1'>2</a>\u001b[0m \u001b[39mprint\u001b[39m(word2vec_cbow)\n\u001b[0;32m      <a href='vscode-notebook-cell:/c%3A/Users/Shubham/Documents/GitHub/Python_Programming/NLP/3%20copy.ipynb#Y206sZmlsZQ%3D%3D?line=2'>3</a>\u001b[0m \u001b[39mprint\u001b[39m(\u001b[39m\"\u001b[39m\u001b[39m-\u001b[39m\u001b[39m\"\u001b[39m\u001b[39m*\u001b[39m\u001b[39m30\u001b[39m)\n\u001b[0;32m      <a href='vscode-notebook-cell:/c%3A/Users/Shubham/Documents/GitHub/Python_Programming/NLP/3%20copy.ipynb#Y206sZmlsZQ%3D%3D?line=4'>5</a>\u001b[0m \u001b[39m#Summarize vocabulary\u001b[39;00m\n",
      "\u001b[1;31mNameError\u001b[0m: name 'word2vec_cbow' is not defined"
     ]
    }
   ],
   "source": [
    "#Summarize the loaded model\n",
    "print(word2vec_cbow)\n",
    "print(\"-\"*30)\n",
    "\n",
    "#Summarize vocabulary\n",
    "words = list(word2vec_cbow.wv.vocab)\n",
    "print(f\"Length of vocabulary: {len(words)}\")\n",
    "print(\"Printing the first 30 words.\")\n",
    "print(words[:30])\n",
    "print(\"-\"*30)\n",
    "\n",
    "#Acess vector for one word\n",
    "print(f\"Length of vector: {len(word2vec_cbow['film'])}\")\n",
    "print(word2vec_cbow['film'])\n",
    "print(\"-\"*30)\n",
    "\n",
    "#Compute similarity \n",
    "print(\"Similarity between film and drama:\",word2vec_cbow.similarity('film', 'drama'))\n",
    "print(\"Similarity between film and tiger:\",word2vec_cbow.similarity('film', 'tiger'))\n",
    "print(\"-\"*30)"
   ]
  },
  {
   "cell_type": "code",
   "execution_count": null,
   "metadata": {},
   "outputs": [],
   "source": [
    "# save model\n",
    "from gensim.models import Word2Vec, KeyedVectors   \n",
    "word2vec_cbow.wv.save_word2vec_format('word2vec_cbow.bin', binary=True)\n",
    "\n",
    "# load model\n",
    "# new_modelword2vec_cbow = Word2Vec.load('word2vec_cbow.bin')\n",
    "# print(word2vec_cbow)"
   ]
  },
  {
   "cell_type": "code",
   "execution_count": 101,
   "metadata": {},
   "outputs": [
    {
     "ename": "NameError",
     "evalue": "name 'sentences' is not defined",
     "output_type": "error",
     "traceback": [
      "\u001b[1;31m---------------------------------------------------------------------------\u001b[0m",
      "\u001b[1;31mNameError\u001b[0m                                 Traceback (most recent call last)",
      "\u001b[1;32mc:\\Users\\Shubham\\Documents\\GitHub\\Python_Programming\\NLP\\3 copy.ipynb Cell 107\u001b[0m in \u001b[0;36m<cell line: 3>\u001b[1;34m()\u001b[0m\n\u001b[0;32m      <a href='vscode-notebook-cell:/c%3A/Users/Shubham/Documents/GitHub/Python_Programming/NLP/3%20copy.ipynb#Y211sZmlsZQ%3D%3D?line=0'>1</a>\u001b[0m \u001b[39m#SkipGram\u001b[39;00m\n\u001b[0;32m      <a href='vscode-notebook-cell:/c%3A/Users/Shubham/Documents/GitHub/Python_Programming/NLP/3%20copy.ipynb#Y211sZmlsZQ%3D%3D?line=1'>2</a>\u001b[0m start \u001b[39m=\u001b[39m time\u001b[39m.\u001b[39mtime()\n\u001b[1;32m----> <a href='vscode-notebook-cell:/c%3A/Users/Shubham/Documents/GitHub/Python_Programming/NLP/3%20copy.ipynb#Y211sZmlsZQ%3D%3D?line=2'>3</a>\u001b[0m word2vec_skipgram \u001b[39m=\u001b[39m Word2Vec(sentences,min_count\u001b[39m=\u001b[39m\u001b[39m10\u001b[39m, sg\u001b[39m=\u001b[39m\u001b[39m1\u001b[39m)\n\u001b[0;32m      <a href='vscode-notebook-cell:/c%3A/Users/Shubham/Documents/GitHub/Python_Programming/NLP/3%20copy.ipynb#Y211sZmlsZQ%3D%3D?line=3'>4</a>\u001b[0m end \u001b[39m=\u001b[39m time\u001b[39m.\u001b[39mtime()\n\u001b[0;32m      <a href='vscode-notebook-cell:/c%3A/Users/Shubham/Documents/GitHub/Python_Programming/NLP/3%20copy.ipynb#Y211sZmlsZQ%3D%3D?line=5'>6</a>\u001b[0m \u001b[39mprint\u001b[39m(\u001b[39m\"\u001b[39m\u001b[39mSkipGram Model Training Complete\u001b[39m\u001b[39m\\n\u001b[39;00m\u001b[39mTime taken for training is:\u001b[39m\u001b[39m{:.2f}\u001b[39;00m\u001b[39m hrs \u001b[39m\u001b[39m\"\u001b[39m\u001b[39m.\u001b[39mformat((end\u001b[39m-\u001b[39mstart)\u001b[39m/\u001b[39m\u001b[39m3600.0\u001b[39m))\n",
      "\u001b[1;31mNameError\u001b[0m: name 'sentences' is not defined"
     ]
    }
   ],
   "source": [
    "#SkipGram\n",
    "start = time.time()\n",
    "word2vec_skipgram = Word2Vec(sentences,min_count=10, sg=1)\n",
    "end = time.time()\n",
    "\n",
    "print(\"SkipGram Model Training Complete\\nTime taken for training is:{:.2f} hrs \".format((end-start)/3600.0))"
   ]
  },
  {
   "cell_type": "code",
   "execution_count": 102,
   "metadata": {},
   "outputs": [
    {
     "ename": "NameError",
     "evalue": "name 'word2vec_skipgram' is not defined",
     "output_type": "error",
     "traceback": [
      "\u001b[1;31m---------------------------------------------------------------------------\u001b[0m",
      "\u001b[1;31mNameError\u001b[0m                                 Traceback (most recent call last)",
      "\u001b[1;32mc:\\Users\\Shubham\\Documents\\GitHub\\Python_Programming\\NLP\\3 copy.ipynb Cell 108\u001b[0m in \u001b[0;36m<cell line: 2>\u001b[1;34m()\u001b[0m\n\u001b[0;32m      <a href='vscode-notebook-cell:/c%3A/Users/Shubham/Documents/GitHub/Python_Programming/NLP/3%20copy.ipynb#Y212sZmlsZQ%3D%3D?line=0'>1</a>\u001b[0m \u001b[39m#Summarize the loaded model\u001b[39;00m\n\u001b[1;32m----> <a href='vscode-notebook-cell:/c%3A/Users/Shubham/Documents/GitHub/Python_Programming/NLP/3%20copy.ipynb#Y212sZmlsZQ%3D%3D?line=1'>2</a>\u001b[0m \u001b[39mprint\u001b[39m(word2vec_skipgram)\n\u001b[0;32m      <a href='vscode-notebook-cell:/c%3A/Users/Shubham/Documents/GitHub/Python_Programming/NLP/3%20copy.ipynb#Y212sZmlsZQ%3D%3D?line=2'>3</a>\u001b[0m \u001b[39mprint\u001b[39m(\u001b[39m\"\u001b[39m\u001b[39m-\u001b[39m\u001b[39m\"\u001b[39m\u001b[39m*\u001b[39m\u001b[39m30\u001b[39m)\n\u001b[0;32m      <a href='vscode-notebook-cell:/c%3A/Users/Shubham/Documents/GitHub/Python_Programming/NLP/3%20copy.ipynb#Y212sZmlsZQ%3D%3D?line=4'>5</a>\u001b[0m \u001b[39m#Summarize vocabulary\u001b[39;00m\n",
      "\u001b[1;31mNameError\u001b[0m: name 'word2vec_skipgram' is not defined"
     ]
    }
   ],
   "source": [
    "#Summarize the loaded model\n",
    "print(word2vec_skipgram)\n",
    "print(\"-\"*30)\n",
    "\n",
    "#Summarize vocabulary\n",
    "words = list(word2vec_skipgram.wv.vocab)\n",
    "print(f\"Length of vocabulary: {len(words)}\")\n",
    "print(\"Printing the first 30 words.\")\n",
    "print(words[:30])\n",
    "print(\"-\"*30)\n",
    "\n",
    "#Acess vector for one word\n",
    "print(f\"Length of vector: {len(word2vec_skipgram['film'])}\")\n",
    "print(word2vec_skipgram['film'])\n",
    "print(\"-\"*30)\n",
    "\n",
    "#Compute similarity \n",
    "print(\"Similarity between film and drama:\",word2vec_skipgram.similarity('film', 'drama'))\n",
    "print(\"Similarity between film and tiger:\",word2vec_skipgram.similarity('film', 'tiger'))\n",
    "print(\"-\"*30)"
   ]
  },
  {
   "cell_type": "code",
   "execution_count": 103,
   "metadata": {},
   "outputs": [
    {
     "ename": "NameError",
     "evalue": "name 'word2vec_skipgram' is not defined",
     "output_type": "error",
     "traceback": [
      "\u001b[1;31m---------------------------------------------------------------------------\u001b[0m",
      "\u001b[1;31mNameError\u001b[0m                                 Traceback (most recent call last)",
      "\u001b[1;32mc:\\Users\\Shubham\\Documents\\GitHub\\Python_Programming\\NLP\\3 copy.ipynb Cell 109\u001b[0m in \u001b[0;36m<cell line: 2>\u001b[1;34m()\u001b[0m\n\u001b[0;32m      <a href='vscode-notebook-cell:/c%3A/Users/Shubham/Documents/GitHub/Python_Programming/NLP/3%20copy.ipynb#Y213sZmlsZQ%3D%3D?line=0'>1</a>\u001b[0m \u001b[39m# save model\u001b[39;00m\n\u001b[1;32m----> <a href='vscode-notebook-cell:/c%3A/Users/Shubham/Documents/GitHub/Python_Programming/NLP/3%20copy.ipynb#Y213sZmlsZQ%3D%3D?line=1'>2</a>\u001b[0m word2vec_skipgram\u001b[39m.\u001b[39mwv\u001b[39m.\u001b[39msave_word2vec_format(\u001b[39m'\u001b[39m\u001b[39mword2vec_sg.bin\u001b[39m\u001b[39m'\u001b[39m, binary\u001b[39m=\u001b[39m\u001b[39mTrue\u001b[39;00m)\n",
      "\u001b[1;31mNameError\u001b[0m: name 'word2vec_skipgram' is not defined"
     ]
    }
   ],
   "source": [
    "# save model\n",
    "word2vec_skipgram.wv.save_word2vec_format('word2vec_sg.bin', binary=True)\n",
    "\n",
    "# load model\n",
    "# new_model_skipgram = Word2Vec.load('model_skipgram.bin')\n",
    "# print(model_skipgram)"
   ]
  },
  {
   "cell_type": "markdown",
   "metadata": {},
   "source": [
    "## FastText"
   ]
  },
  {
   "cell_type": "code",
   "execution_count": 104,
   "metadata": {},
   "outputs": [
    {
     "ename": "NameError",
     "evalue": "name 'sentences' is not defined",
     "output_type": "error",
     "traceback": [
      "\u001b[1;31m---------------------------------------------------------------------------\u001b[0m",
      "\u001b[1;31mNameError\u001b[0m                                 Traceback (most recent call last)",
      "\u001b[1;32mc:\\Users\\Shubham\\Documents\\GitHub\\Python_Programming\\NLP\\3 copy.ipynb Cell 111\u001b[0m in \u001b[0;36m<cell line: 3>\u001b[1;34m()\u001b[0m\n\u001b[0;32m      <a href='vscode-notebook-cell:/c%3A/Users/Shubham/Documents/GitHub/Python_Programming/NLP/3%20copy.ipynb#Y215sZmlsZQ%3D%3D?line=0'>1</a>\u001b[0m \u001b[39m#CBOW\u001b[39;00m\n\u001b[0;32m      <a href='vscode-notebook-cell:/c%3A/Users/Shubham/Documents/GitHub/Python_Programming/NLP/3%20copy.ipynb#Y215sZmlsZQ%3D%3D?line=1'>2</a>\u001b[0m start \u001b[39m=\u001b[39m time\u001b[39m.\u001b[39mtime()\n\u001b[1;32m----> <a href='vscode-notebook-cell:/c%3A/Users/Shubham/Documents/GitHub/Python_Programming/NLP/3%20copy.ipynb#Y215sZmlsZQ%3D%3D?line=2'>3</a>\u001b[0m fasttext_cbow \u001b[39m=\u001b[39m FastText(sentences, sg\u001b[39m=\u001b[39m\u001b[39m0\u001b[39m, min_count\u001b[39m=\u001b[39m\u001b[39m10\u001b[39m)\n\u001b[0;32m      <a href='vscode-notebook-cell:/c%3A/Users/Shubham/Documents/GitHub/Python_Programming/NLP/3%20copy.ipynb#Y215sZmlsZQ%3D%3D?line=3'>4</a>\u001b[0m end \u001b[39m=\u001b[39m time\u001b[39m.\u001b[39mtime()\n\u001b[0;32m      <a href='vscode-notebook-cell:/c%3A/Users/Shubham/Documents/GitHub/Python_Programming/NLP/3%20copy.ipynb#Y215sZmlsZQ%3D%3D?line=5'>6</a>\u001b[0m \u001b[39mprint\u001b[39m(\u001b[39m\"\u001b[39m\u001b[39mFastText CBOW Model Training Complete\u001b[39m\u001b[39m\\n\u001b[39;00m\u001b[39mTime taken for training is:\u001b[39m\u001b[39m{:.2f}\u001b[39;00m\u001b[39m hrs \u001b[39m\u001b[39m\"\u001b[39m\u001b[39m.\u001b[39mformat((end\u001b[39m-\u001b[39mstart)\u001b[39m/\u001b[39m\u001b[39m3600.0\u001b[39m))\n",
      "\u001b[1;31mNameError\u001b[0m: name 'sentences' is not defined"
     ]
    }
   ],
   "source": [
    "#CBOW\n",
    "start = time.time()\n",
    "fasttext_cbow = FastText(sentences, sg=0, min_count=10)\n",
    "end = time.time()\n",
    "\n",
    "print(\"FastText CBOW Model Training Complete\\nTime taken for training is:{:.2f} hrs \".format((end-start)/3600.0))"
   ]
  },
  {
   "cell_type": "code",
   "execution_count": 105,
   "metadata": {},
   "outputs": [
    {
     "ename": "NameError",
     "evalue": "name 'fasttext_cbow' is not defined",
     "output_type": "error",
     "traceback": [
      "\u001b[1;31m---------------------------------------------------------------------------\u001b[0m",
      "\u001b[1;31mNameError\u001b[0m                                 Traceback (most recent call last)",
      "\u001b[1;32mc:\\Users\\Shubham\\Documents\\GitHub\\Python_Programming\\NLP\\3 copy.ipynb Cell 112\u001b[0m in \u001b[0;36m<cell line: 2>\u001b[1;34m()\u001b[0m\n\u001b[0;32m      <a href='vscode-notebook-cell:/c%3A/Users/Shubham/Documents/GitHub/Python_Programming/NLP/3%20copy.ipynb#Y216sZmlsZQ%3D%3D?line=0'>1</a>\u001b[0m \u001b[39m#Summarize the loaded model\u001b[39;00m\n\u001b[1;32m----> <a href='vscode-notebook-cell:/c%3A/Users/Shubham/Documents/GitHub/Python_Programming/NLP/3%20copy.ipynb#Y216sZmlsZQ%3D%3D?line=1'>2</a>\u001b[0m \u001b[39mprint\u001b[39m(fasttext_cbow)\n\u001b[0;32m      <a href='vscode-notebook-cell:/c%3A/Users/Shubham/Documents/GitHub/Python_Programming/NLP/3%20copy.ipynb#Y216sZmlsZQ%3D%3D?line=2'>3</a>\u001b[0m \u001b[39mprint\u001b[39m(\u001b[39m\"\u001b[39m\u001b[39m-\u001b[39m\u001b[39m\"\u001b[39m\u001b[39m*\u001b[39m\u001b[39m30\u001b[39m)\n\u001b[0;32m      <a href='vscode-notebook-cell:/c%3A/Users/Shubham/Documents/GitHub/Python_Programming/NLP/3%20copy.ipynb#Y216sZmlsZQ%3D%3D?line=4'>5</a>\u001b[0m \u001b[39m#Summarize vocabulary\u001b[39;00m\n",
      "\u001b[1;31mNameError\u001b[0m: name 'fasttext_cbow' is not defined"
     ]
    }
   ],
   "source": [
    "#Summarize the loaded model\n",
    "print(fasttext_cbow)\n",
    "print(\"-\"*30)\n",
    "\n",
    "#Summarize vocabulary\n",
    "words = list(fasttext_cbow.wv.vocab)\n",
    "print(f\"Length of vocabulary: {len(words)}\")\n",
    "print(\"Printing the first 30 words.\")\n",
    "print(words[:30])\n",
    "print(\"-\"*30)\n",
    "\n",
    "#Acess vector for one word\n",
    "print(f\"Length of vector: {len(fasttext_cbow['film'])}\")\n",
    "print(fasttext_cbow['film'])\n",
    "print(\"-\"*30)\n",
    "\n",
    "#Compute similarity \n",
    "print(\"Similarity between film and drama:\",fasttext_cbow.similarity('film', 'drama'))\n",
    "print(\"Similarity between film and tiger:\",fasttext_cbow.similarity('film', 'tiger'))\n",
    "print(\"-\"*30)"
   ]
  },
  {
   "cell_type": "code",
   "execution_count": 106,
   "metadata": {},
   "outputs": [
    {
     "ename": "NameError",
     "evalue": "name 'sentences' is not defined",
     "output_type": "error",
     "traceback": [
      "\u001b[1;31m---------------------------------------------------------------------------\u001b[0m",
      "\u001b[1;31mNameError\u001b[0m                                 Traceback (most recent call last)",
      "\u001b[1;32mc:\\Users\\Shubham\\Documents\\GitHub\\Python_Programming\\NLP\\3 copy.ipynb Cell 113\u001b[0m in \u001b[0;36m<cell line: 3>\u001b[1;34m()\u001b[0m\n\u001b[0;32m      <a href='vscode-notebook-cell:/c%3A/Users/Shubham/Documents/GitHub/Python_Programming/NLP/3%20copy.ipynb#Y220sZmlsZQ%3D%3D?line=0'>1</a>\u001b[0m \u001b[39m#SkipGram\u001b[39;00m\n\u001b[0;32m      <a href='vscode-notebook-cell:/c%3A/Users/Shubham/Documents/GitHub/Python_Programming/NLP/3%20copy.ipynb#Y220sZmlsZQ%3D%3D?line=1'>2</a>\u001b[0m start \u001b[39m=\u001b[39m time\u001b[39m.\u001b[39mtime()\n\u001b[1;32m----> <a href='vscode-notebook-cell:/c%3A/Users/Shubham/Documents/GitHub/Python_Programming/NLP/3%20copy.ipynb#Y220sZmlsZQ%3D%3D?line=2'>3</a>\u001b[0m fasttext_skipgram \u001b[39m=\u001b[39m FastText(sentences, sg\u001b[39m=\u001b[39m\u001b[39m1\u001b[39m, min_count\u001b[39m=\u001b[39m\u001b[39m10\u001b[39m)\n\u001b[0;32m      <a href='vscode-notebook-cell:/c%3A/Users/Shubham/Documents/GitHub/Python_Programming/NLP/3%20copy.ipynb#Y220sZmlsZQ%3D%3D?line=3'>4</a>\u001b[0m end \u001b[39m=\u001b[39m time\u001b[39m.\u001b[39mtime()\n\u001b[0;32m      <a href='vscode-notebook-cell:/c%3A/Users/Shubham/Documents/GitHub/Python_Programming/NLP/3%20copy.ipynb#Y220sZmlsZQ%3D%3D?line=5'>6</a>\u001b[0m \u001b[39mprint\u001b[39m(\u001b[39m\"\u001b[39m\u001b[39mFastText SkipGram Model Training Complete\u001b[39m\u001b[39m\\n\u001b[39;00m\u001b[39mTime taken for training is:\u001b[39m\u001b[39m{:.2f}\u001b[39;00m\u001b[39m hrs \u001b[39m\u001b[39m\"\u001b[39m\u001b[39m.\u001b[39mformat((end\u001b[39m-\u001b[39mstart)\u001b[39m/\u001b[39m\u001b[39m3600.0\u001b[39m))\n",
      "\u001b[1;31mNameError\u001b[0m: name 'sentences' is not defined"
     ]
    }
   ],
   "source": [
    "#SkipGram\n",
    "start = time.time()\n",
    "fasttext_skipgram = FastText(sentences, sg=1, min_count=10)\n",
    "end = time.time()\n",
    "\n",
    "print(\"FastText SkipGram Model Training Complete\\nTime taken for training is:{:.2f} hrs \".format((end-start)/3600.0))"
   ]
  },
  {
   "cell_type": "code",
   "execution_count": 107,
   "metadata": {},
   "outputs": [
    {
     "ename": "NameError",
     "evalue": "name 'fasttext_skipgram' is not defined",
     "output_type": "error",
     "traceback": [
      "\u001b[1;31m---------------------------------------------------------------------------\u001b[0m",
      "\u001b[1;31mNameError\u001b[0m                                 Traceback (most recent call last)",
      "\u001b[1;32mc:\\Users\\Shubham\\Documents\\GitHub\\Python_Programming\\NLP\\3 copy.ipynb Cell 114\u001b[0m in \u001b[0;36m<cell line: 2>\u001b[1;34m()\u001b[0m\n\u001b[0;32m      <a href='vscode-notebook-cell:/c%3A/Users/Shubham/Documents/GitHub/Python_Programming/NLP/3%20copy.ipynb#Y221sZmlsZQ%3D%3D?line=0'>1</a>\u001b[0m \u001b[39m#Summarize the loaded model\u001b[39;00m\n\u001b[1;32m----> <a href='vscode-notebook-cell:/c%3A/Users/Shubham/Documents/GitHub/Python_Programming/NLP/3%20copy.ipynb#Y221sZmlsZQ%3D%3D?line=1'>2</a>\u001b[0m \u001b[39mprint\u001b[39m(fasttext_skipgram)\n\u001b[0;32m      <a href='vscode-notebook-cell:/c%3A/Users/Shubham/Documents/GitHub/Python_Programming/NLP/3%20copy.ipynb#Y221sZmlsZQ%3D%3D?line=2'>3</a>\u001b[0m \u001b[39mprint\u001b[39m(\u001b[39m\"\u001b[39m\u001b[39m-\u001b[39m\u001b[39m\"\u001b[39m\u001b[39m*\u001b[39m\u001b[39m30\u001b[39m)\n\u001b[0;32m      <a href='vscode-notebook-cell:/c%3A/Users/Shubham/Documents/GitHub/Python_Programming/NLP/3%20copy.ipynb#Y221sZmlsZQ%3D%3D?line=4'>5</a>\u001b[0m \u001b[39m#Summarize vocabulary\u001b[39;00m\n",
      "\u001b[1;31mNameError\u001b[0m: name 'fasttext_skipgram' is not defined"
     ]
    }
   ],
   "source": [
    "#Summarize the loaded model\n",
    "print(fasttext_skipgram)\n",
    "print(\"-\"*30)\n",
    "\n",
    "#Summarize vocabulary\n",
    "words = list(fasttext_skipgram.wv.vocab)\n",
    "print(f\"Length of vocabulary: {len(words)}\")\n",
    "print(\"Printing the first 30 words.\")\n",
    "print(words[:30])\n",
    "print(\"-\"*30)\n",
    "\n",
    "#Acess vector for one word\n",
    "print(f\"Length of vector: {len(fasttext_skipgram['film'])}\")\n",
    "print(fasttext_skipgram['film'])\n",
    "print(\"-\"*30)\n",
    "\n",
    "#Compute similarity \n",
    "print(\"Similarity between film and drama:\",fasttext_skipgram.similarity('film', 'drama'))\n",
    "print(\"Similarity between film and tiger:\",fasttext_skipgram.similarity('film', 'tiger'))\n",
    "print(\"-\"*30)"
   ]
  },
  {
   "cell_type": "markdown",
   "metadata": {},
   "source": [
    "#### An interesting obeseravtion if you noticed is that CBOW trains faster than SkipGram in both cases.\n",
    "We will leave it to the user to figure out why. A hint would be to refer the working of CBOW and skipgram."
   ]
  },
  {
   "cell_type": "markdown",
   "metadata": {},
   "source": []
  },
  {
   "attachments": {},
   "cell_type": "markdown",
   "metadata": {},
   "source": [
    "# 7"
   ]
  },
  {
   "cell_type": "markdown",
   "metadata": {},
   "source": []
  },
  {
   "cell_type": "markdown",
   "metadata": {},
   "source": [
    "## Document Vectors\n",
    "Doc2vec allows us to directly learn the representations for texts of arbitrary lengths (phrases, sentences, paragraphs and documents), by considering the context of words in the text into account.<br><br>\n",
    "In this notebook we will create a Document Vector for using averaging via spacy. [spaCy](https://spacy.io/) is a python library for Natural Language Processing (NLP) which has a lot of built-in capabilities and features. spaCy has different types of models. The default model for the English language is '**en_core_web_sm**'."
   ]
  },
  {
   "cell_type": "code",
   "execution_count": 109,
   "metadata": {},
   "outputs": [
    {
     "name": "stdout",
     "output_type": "stream",
     "text": [
      "Collecting spacy==2.2.4\n",
      "  Using cached spacy-2.2.4.tar.gz (6.1 MB)\n",
      "  Installing build dependencies: started\n",
      "  Installing build dependencies: finished with status 'error'\n"
     ]
    },
    {
     "name": "stderr",
     "output_type": "stream",
     "text": [
      "  error: subprocess-exited-with-error\n",
      "  \n",
      "  × pip subprocess to install build dependencies did not run successfully.\n",
      "  │ exit code: 1\n",
      "  ╰─> [114 lines of output]\n",
      "      Collecting setuptools\n",
      "        Using cached setuptools-67.6.0-py3-none-any.whl (1.1 MB)\n",
      "      Collecting wheel\n",
      "        Using cached wheel-0.40.0-py3-none-any.whl (64 kB)\n",
      "      Collecting cython>=0.25\n",
      "        Using cached Cython-0.29.33-py2.py3-none-any.whl (987 kB)\n",
      "      Collecting cymem<2.1.0,>=2.0.2\n",
      "        Using cached cymem-2.0.7-cp39-cp39-win_amd64.whl (30 kB)\n",
      "      Collecting preshed<3.1.0,>=3.0.2\n",
      "        Using cached preshed-3.0.8-cp39-cp39-win_amd64.whl (96 kB)\n",
      "      Collecting murmurhash<1.1.0,>=0.28.0\n",
      "        Using cached murmurhash-1.0.9-cp39-cp39-win_amd64.whl (18 kB)\n",
      "      Collecting thinc==7.4.0\n",
      "        Using cached thinc-7.4.0-cp39-none-win_amd64.whl\n",
      "      Collecting plac<1.2.0,>=0.9.6\n",
      "        Using cached plac-1.1.3-py2.py3-none-any.whl (20 kB)\n",
      "      Collecting numpy>=1.7.0\n",
      "        Using cached numpy-1.24.2-cp39-cp39-win_amd64.whl (14.9 MB)\n",
      "      Collecting catalogue<1.1.0,>=0.0.7\n",
      "        Using cached catalogue-1.0.2-py2.py3-none-any.whl (16 kB)\n",
      "      Collecting tqdm<5.0.0,>=4.10.0\n",
      "        Using cached tqdm-4.65.0-py3-none-any.whl (77 kB)\n",
      "      Collecting srsly<1.1.0,>=0.0.6\n",
      "        Using cached srsly-1.0.6-cp39-cp39-win_amd64.whl (198 kB)\n",
      "      Collecting wasabi<1.1.0,>=0.0.9\n",
      "        Using cached wasabi-0.10.1-py3-none-any.whl (26 kB)\n",
      "      Collecting blis<0.5.0,>=0.4.0\n",
      "        Using cached blis-0.4.1.tar.gz (1.8 MB)\n",
      "        Preparing metadata (setup.py): started\n",
      "        Preparing metadata (setup.py): finished with status 'done'\n",
      "      Collecting colorama\n",
      "        Using cached colorama-0.4.6-py2.py3-none-any.whl (25 kB)\n",
      "      Building wheels for collected packages: blis\n",
      "        Building wheel for blis (setup.py): started\n",
      "        Building wheel for blis (setup.py): finished with status 'error'\n",
      "        error: subprocess-exited-with-error\n",
      "      \n",
      "        Ã— python setup.py bdist_wheel did not run successfully.\n",
      "        â”‚ exit code: 1\n",
      "        â•°â”€> [25 lines of output]\n",
      "            BLIS_COMPILER? None\n",
      "            running bdist_wheel\n",
      "            running build\n",
      "            running build_py\n",
      "            creating build\n",
      "            creating build\\lib.win-amd64-3.9\n",
      "            creating build\\lib.win-amd64-3.9\\blis\n",
      "            copying blis\\about.py -> build\\lib.win-amd64-3.9\\blis\n",
      "            copying blis\\benchmark.py -> build\\lib.win-amd64-3.9\\blis\n",
      "            copying blis\\__init__.py -> build\\lib.win-amd64-3.9\\blis\n",
      "            creating build\\lib.win-amd64-3.9\\blis\\tests\n",
      "            copying blis\\tests\\common.py -> build\\lib.win-amd64-3.9\\blis\\tests\n",
      "            copying blis\\tests\\test_dotv.py -> build\\lib.win-amd64-3.9\\blis\\tests\n",
      "            copying blis\\tests\\test_gemm.py -> build\\lib.win-amd64-3.9\\blis\\tests\n",
      "            copying blis\\tests\\__init__.py -> build\\lib.win-amd64-3.9\\blis\\tests\n",
      "            copying blis\\cy.pyx -> build\\lib.win-amd64-3.9\\blis\n",
      "            copying blis\\py.pyx -> build\\lib.win-amd64-3.9\\blis\n",
      "            copying blis\\cy.pxd -> build\\lib.win-amd64-3.9\\blis\n",
      "            copying blis\\__init__.pxd -> build\\lib.win-amd64-3.9\\blis\n",
      "            running build_ext\n",
      "            msvc\n",
      "            py_compiler msvc\n",
      "            {'APPVEYOR_REPO_COMMIT_AUTHOR': 'Matthew Honnibal', 'LIB': 'C:\\\\Program Files (x86)\\\\Microsoft Visual Studio 14.0\\\\VC\\\\LIB\\\\amd64;C:\\\\Program Files (x86)\\\\Microsoft Visual Studio 14.0\\\\VC\\\\ATLMFC\\\\LIB\\\\amd64;C:\\\\Program Files (x86)\\\\Windows Kits\\\\10\\\\lib\\\\10.0.14393.0\\\\ucrt\\\\x64;C:\\\\Program Files (x86)\\\\Windows Kits\\\\NETFXSDK\\\\4.6.1\\\\lib\\\\um\\\\x64;C:\\\\Program Files (x86)\\\\Windows Kits\\\\10\\\\lib\\\\10.0.14393.0\\\\um\\\\x64;', 'VS100COMNTOOLS': 'c:\\\\Program Files (x86)\\\\Microsoft Visual Studio 10.0\\\\Common7\\\\Tools\\\\', 'APPVEYOR_PROJECT_NAME': 'cython-blis', 'AVVM_DOWNLOAD_URL': 'https://appveyordownloads.blob.core.windows.net/avvm', 'GIT_LFS_PATH': 'C:\\\\Program Files\\\\Git LFS', 'MSYSTEM_CHOST': 'x86_64-pc-msys', 'APPVEYOR_REPO_COMMIT_AUTHOR_EMAIL': 'honnibal+gh@gmail.com', 'WINDOWSSDK_EXECUTABLEPATH_X64': 'C:\\\\Program Files (x86)\\\\Microsoft SDKs\\\\Windows\\\\v10.0A\\\\bin\\\\NETFX 4.6.1 Tools\\\\x64\\\\', 'SYSTEMROOT': 'C:\\\\windows', 'LASTEXITCODE': '0', 'CHOCOLATEYLASTPATHUPDATE': 'Sun Feb  3 19:40:40 2019', 'INFOPATH': 'C:\\\\Program Files\\\\Git\\\\usr\\\\local\\\\info;C:\\\\Program Files\\\\Git\\\\usr\\\\share\\\\info;C:\\\\Program Files\\\\Git\\\\usr\\\\info;C:\\\\Program Files\\\\Git\\\\share\\\\info', 'SHELL': 'C:\\\\Program Files\\\\Git\\\\usr\\\\bin\\\\bash.exe', 'MSYSTEM_CARCH': 'x86_64', 'MSYS2_PATH_TYPE': 'inherit', 'MANPATH': 'C:\\\\Program Files\\\\Git\\\\usr\\\\local\\\\man;C:\\\\Program Files\\\\Git\\\\usr\\\\share\\\\man;C:\\\\Program Files\\\\Git\\\\usr\\\\man;C:\\\\Program Files\\\\Git\\\\share\\\\man', 'JAVA_HOME': 'C:\\\\Progra~1\\\\Java\\\\jdk1.8.0', 'CI_WINDOWS': 'True', 'APPVEYOR_BUILD_AGENT_HYPERV_NIC_CONFIGURED': 'true', 'WINDOWSLIBPATH': 'C:\\\\Program Files (x86)\\\\Windows Kits\\\\10\\\\UnionMetadata;C:\\\\Program Files (x86)\\\\Windows Kits\\\\10\\\\References', 'COMSPEC': 'C:\\\\windows\\\\system32\\\\cmd.exe', 'WINDIR': 'C:\\\\windows', 'RANLIB': 'echo', 'APPVEYOR_REPO_COMMIT': '8bbf4b332e237459bb8f45dc9414b3049a202939', 'VS90COMNTOOLS': 'C:\\\\Program Files (x86)\\\\Microsoft Visual Studio 9.0\\\\Common7\\\\Tools\\\\', 'ENABLENUGETPACKAGERESTORE': 'true', 'SESSIONNAME': 'Console', 'CONFIG_SITE': 'C:/Program Files/Git/etc/config.site', 'HOMEDRIVE': 'C:', 'SYSTEMDRIVE': 'C:', 'HOSTNAME': 'APPVYR-WIN', 'APPVEYOR': 'True', 'FRAMEWORKVERSION64': 'v4.0.30319', 'PROCESSOR_LEVEL': '6', 'OS': 'Windows_NT', 'FSHARPINSTALLDIR': 'C:\\\\Program Files (x86)\\\\Microsoft SDKs\\\\F#\\\\4.0\\\\Framework\\\\v4.0\\\\', 'WINDOWSSDK_EXECUTABLEPATH_X86': 'C:\\\\Program Files (x86)\\\\Microsoft SDKs\\\\Windows\\\\v10.0A\\\\bin\\\\NETFX 4.6.1 Tools\\\\', 'GOROOT': 'C:\\\\go', 'APPVEYOR_BUILD_WORKER_IMAGE': 'Visual Studio 2015', 'CI_LINUX': 'False', 'UCRTVERSION': '10.0.14393.0', 'APPVEYOR_API_URL': 'http://localhost:1033/', 'TEMP': 'C:\\\\Users\\\\appveyor\\\\AppData\\\\Local\\\\Temp\\\\1', 'SHLVL': '1', 'APPVEYOR_REPO_NAME': 'explosion/cython-blis', 'COMMONPROGRAMFILES(X86)': 'C:\\\\Program Files (x86)\\\\Common Files', 'APR_ICONV_PATH': 'C:\\\\Program Files (x86)\\\\Subversion\\\\iconv', 'HOMEPATH': '\\\\Users\\\\appveyor', 'VISUALSTUDIOVERSION': '14.0', 'M2_HOME': 'C:\\\\Program Files (x86)\\\\Apache\\\\Maven', 'WINDOWSSDKDIR': 'C:\\\\Program Files (x86)\\\\Windows Kits\\\\10\\\\', 'FRAMEWORKDIR64': 'c:\\\\Windows\\\\Microsoft.NET\\\\Framework64', 'LOGONSERVER': '\\\\\\\\APPVYR-WIN', 'APPVEYOR_JOB_ID': 'wp7dj9edlg7t43xq', 'PKG_CONFIG_PATH': 'C:\\\\Program Files\\\\Git\\\\usr\\\\lib\\\\pkgconfig;C:\\\\Program Files\\\\Git\\\\usr\\\\share\\\\pkgconfig;C:\\\\Program Files\\\\Git\\\\lib\\\\pkgconfig', 'APPVEYOR_REPO_PROVIDER': 'gitHub', '_': 'C:/Python27/python', 'APPVEYOR_URL': 'https://ci.appveyor.com', 'OPENSSL_CONF': 'C:\\\\OpenSSL-Win32\\\\bin\\\\openssl.cfg', 'APPDATA': 'C:\\\\Users\\\\appveyor\\\\AppData\\\\Roaming', 'APPVEYOR_REPO_BRANCH': 'update-blis', 'APPVEYOR_BUILD_ID': '23072639', 'WIX': 'C:\\\\Program Files (x86)\\\\WiX Toolset v3.11\\\\', 'FRAMEWORKVERSION': 'v4.0.30319', 'TMP': 'C:\\\\Users\\\\appveyor\\\\AppData\\\\Local\\\\Temp\\\\1', 'COMPUTERNAME': 'APPVYR-WIN', 'VS110COMNTOOLS': 'C:\\\\Program Files (x86)\\\\Microsoft Visual Studio 11.0\\\\Common7\\\\Tools\\\\', 'WINDOWSSDKLIBVERSION': '10.0.14393.0\\\\', 'USERDOMAIN': 'APPVYR-WIN', 'VSSDK120INSTALL': 'C:\\\\Program Files (x86)\\\\Microsoft Visual Studio 12.0\\\\VSSDK\\\\', 'ORIGINAL_TMP': 'C:/Users/appveyor/AppData/Local/Temp/1', 'COMMONPROGRAMFILES': 'C:\\\\Program Files (x86)\\\\Common Files', 'VSSDK140INSTALL': 'C:\\\\Program Files (x86)\\\\Microsoft Visual Studio 14.0\\\\VSSDK\\\\', 'HOME': 'C:\\\\Users\\\\appveyor', 'LANG': 'en_US.UTF-8', 'CODECONTRACTSINSTALLDIR': 'C:\\\\Program Files (x86)\\\\Microsoft\\\\Contracts\\\\', 'FRAMEWORK40VERSION': 'v4.0', 'MSYSTEM_PREFIX': 'C:/Program Files/Git/usr', 'PROCESSOR_ARCHITECTURE': 'x86', 'CHOCOLATEYINSTALL': 'C:\\\\ProgramData\\\\chocolatey', 'ALLUSERSPROFILE': 'C:\\\\ProgramData', 'TMPDIR': 'C:\\\\Users\\\\appveyor\\\\AppData\\\\Local\\\\Temp\\\\1', 'APPVEYOR_BUILD_NUMBER': '483', 'FRAMEWORKDIR': 'c:\\\\Windows\\\\Microsoft.NET\\\\Framework64', 'PROGRAMW6432': 'C:\\\\Program Files', 'USERNAME': 'appveyor', 'CI': 'True', 'PROMPT': '$P$G', 'APPVEYOR_REPO_COMMIT_TIMESTAMP': '2019-03-14T13:33:06.0000000Z', 'CC': 'clang', 'USERDOMAIN_ROAMINGPROFILE': 'APPVYR-WIN', 'PATHEXT': '.COM;.EXE;.BAT;.CMD;.VBS;.VBE;.JS;.JSE;.WSF;.WSH;.MSC;.PY;.CPL', 'ORIGINAL_TEMP': 'C:/Users/appveyor/AppData/Local/Temp/1', 'APPVEYOR_BUILD_FOLDER': 'C:\\\\projects\\\\cython-blis-h674r', 'XUNIT20': 'C:\\\\Tools\\\\xUnit20', 'APPVEYOR_PROJECT_ID': '484208', 'NUMBER_OF_PROCESSORS': '2', 'ERLANG_HOME': 'C:\\\\Program Files\\\\erl9.2', 'PROCESSOR_ARCHITEW6432': 'AMD64', 'PUBLIC': 'C:\\\\Users\\\\Public', 'WINDOWSSDKVERSION': '10.0.14393.0\\\\', 'USERPROFILE': 'C:\\\\Users\\\\appveyor', 'PSMODULEPATH': 'C:\\\\Users\\\\appveyor\\\\Documents\\\\WindowsPowerShell\\\\Modules;C:\\\\Users\\\\appveyor\\\\Documents\\\\WindowsPowerShell\\\\Modules;C:\\\\Program Files\\\\WindowsPowerShell\\\\Modules;C:\\\\Windows\\\\system32\\\\WindowsPowerShell\\\\v1.0\\\\Modules;C:\\\\Program Files (x86)\\\\Microsoft SQL Server\\\\110\\\\Tools\\\\PowerShell\\\\Modules;C:\\\\Program Files (x86)\\\\Microsoft SQL Server\\\\120\\\\Tools\\\\PowerShell\\\\Modules;C:\\\\Program Files\\\\AppVeyor\\\\BuildAgent\\\\Modules;C:\\\\Program Files (x86)\\\\Microsoft SQL Server\\\\130\\\\Tools\\\\PowerShell\\\\Modules;C:\\\\Program Files (x86)\\\\AWS Tools\\\\PowerShell;C:\\\\Program Files (x86)\\\\Microsoft SDKs\\\\Azure\\\\PowerShell\\\\ResourceManager\\\\AzureResourceManager;C:\\\\Program Files (x86)\\\\Microsoft SDKs\\\\Azure\\\\PowerShell\\\\ServiceManagement;C:\\\\Program Files (x86)\\\\Microsoft SDKs\\\\Azure\\\\PowerShell\\\\Storage;C:\\\\Program Files (x86)\\\\Microsoft SQL Server\\\\140\\\\Tools\\\\PowerShell\\\\Modules;c:\\\\Program Files (x86)\\\\Microsoft SQL Server\\\\130\\\\Tools\\\\PowerShell\\\\Modules\\\\', 'VS140COMNTOOLS': 'C:\\\\Program Files (x86)\\\\Microsoft Visual Studio 14.0\\\\Common7\\\\Tools\\\\', 'APPVEYOR_REPO_TAG': 'false', 'APPVEYOR_PROJECT_SLUG': 'cython-blis-h674r', 'LIBPATH': 'c:\\\\Windows\\\\Microsoft.NET\\\\Framework64\\\\v4.0.30319;C:\\\\Program Files (x86)\\\\Microsoft Visual Studio 14.0\\\\VC\\\\LIB\\\\amd64;C:\\\\Program Files (x86)\\\\Microsoft Visual Studio 14.0\\\\VC\\\\ATLMFC\\\\LIB\\\\amd64;C:\\\\Program Files (x86)\\\\Windows Kits\\\\10\\\\UnionMetadata;C:\\\\Program Files (x86)\\\\Windows Kits\\\\10\\\\References;C:\\\\Program Files (x86)\\\\Microsoft SDKs\\\\Windows Kits\\\\10\\\\ExtensionSDKs\\\\Microsoft.VCLibs\\\\14.0\\\\References\\\\CommonConfiguration\\\\neutral;', 'ORIGINAL_PATH': 'C:\\\\Program Files (x86)\\\\Microsoft Visual Studio 14.0\\\\Common7\\\\IDE\\\\CommonExtensions\\\\Microsoft\\\\TestWindow;C:\\\\Program Files (x86)\\\\MSBuild\\\\14.0\\\\bin\\\\amd64;C:\\\\Program Files (x86)\\\\Microsoft Visual Studio 14.0\\\\VC\\\\BIN\\\\amd64;C:\\\\Windows\\\\Microsoft.NET\\\\Framework64\\\\v4.0.30319;C:\\\\Program Files (x86)\\\\Microsoft Visual Studio 14.0\\\\VC\\\\VCPackages;C:\\\\Program Files (x86)\\\\Microsoft Visual Studio 14.0\\\\Common7\\\\IDE;C:\\\\Program Files (x86)\\\\Microsoft Visual Studio 14.0\\\\Common7\\\\Tools;C:\\\\Program Files (x86)\\\\HTML Help Workshop;C:\\\\Program Files (x86)\\\\Microsoft Visual Studio 14.0\\\\Team Tools\\\\Performance Tools\\\\x64;C:\\\\Program Files (x86)\\\\Microsoft Visual Studio 14.0\\\\Team Tools\\\\Performance Tools;C:\\\\Program Files (x86)\\\\Windows Kits\\\\10\\\\bin\\\\x64;C:\\\\Program Files (x86)\\\\Windows Kits\\\\10\\\\bin\\\\x86;C:\\\\Program Files (x86)\\\\Microsoft SDKs\\\\Windows\\\\v10.0A\\\\bin\\\\NETFX 4.6.1 Tools\\\\x64;C:\\\\Program Files\\\\LLVM\\\\bin;C:\\\\msys64\\\\mingw64\\\\bin;C:\\\\msys64\\\\bin;C:\\\\Program Files (x86)\\\\Microsoft SDKs\\\\Azure\\\\CLI2\\\\wbin;C:\\\\Perl\\\\site\\\\bin;C:\\\\Perl\\\\bin;C:\\\\Windows\\\\system32;C:\\\\Windows;C:\\\\Windows\\\\System32\\\\Wbem;C:\\\\Windows\\\\System32\\\\WindowsPowerShell\\\\v1.0;C:\\\\Program Files\\\\7-Zip;C:\\\\Program Files\\\\Microsoft\\\\Web Platform Installer;C:\\\\Tools\\\\GitVersion;C:\\\\Tools\\\\PsTools;C:\\\\Program Files\\\\Git LFS;C:\\\\Program Files (x86)\\\\Subversion\\\\bin;C:\\\\Program Files\\\\Microsoft SQL Server\\\\120\\\\Tools\\\\Binn;C:\\\\Program Files\\\\Microsoft SQL Server\\\\Client SDK\\\\ODBC\\\\110\\\\Tools\\\\Binn;C:\\\\Program Files (x86)\\\\Microsoft SQL Server\\\\120\\\\Tools\\\\Binn;C:\\\\Program Files\\\\Microsoft SQL Server\\\\120\\\\DTS\\\\Binn;C:\\\\Program Files (x86)\\\\Microsoft SQL Server\\\\120\\\\Tools\\\\Binn\\\\ManagementStudio;C:\\\\Tools\\\\WebDriver;C:\\\\Program Files (x86)\\\\Microsoft SDKs\\\\TypeScript\\\\1.4;C:\\\\Program Files (x86)\\\\Microsoft Visual Studio 12.0\\\\Common7\\\\IDE\\\\PrivateAssemblies;C:\\\\Program Files (x86)\\\\Microsoft SDKs\\\\Azure\\\\CLI\\\\wbin;C:\\\\Ruby193\\\\bin;C:\\\\Tools\\\\NUnit\\\\bin;C:\\\\Tools\\\\xUnit;C:\\\\Tools\\\\MSpec;C:\\\\Tools\\\\Coverity\\\\bin;C:\\\\Program Files (x86)\\\\CMake\\\\bin;C:\\\\go\\\\bin;C:\\\\Program Files\\\\Java\\\\jdk1.8.0\\\\bin;C:\\\\Python27;C:\\\\Program Files\\\\nodejs;C:\\\\Program Files (x86)\\\\iojs;C:\\\\Program Files\\\\iojs;C:\\\\Program Files\\\\Microsoft SQL Server\\\\130\\\\Tools\\\\Binn;C:\\\\Program Files (x86)\\\\MSBuild\\\\14.0\\\\Bin;C:\\\\Tools\\\\NuGet;C:\\\\Program Files (x86)\\\\Microsoft Visual Studio 14.0\\\\Common7\\\\IDE\\\\CommonExtensions\\\\Microsoft\\\\TestWindow;C:\\\\Program Files\\\\Microsoft DNX\\\\Dnvm;C:\\\\Program Files\\\\Microsoft SQL Server\\\\Client SDK\\\\ODBC\\\\130\\\\Tools\\\\Binn;C:\\\\Program Files (x86)\\\\Microsoft SQL Server\\\\130\\\\Tools\\\\Binn;C:\\\\Program Files (x86)\\\\Microsoft SQL Server\\\\130\\\\DTS\\\\Binn;C:\\\\Program Files\\\\Microsoft SQL Server\\\\130\\\\DTS\\\\Binn;C:\\\\Program Files (x86)\\\\Microsoft SQL Server\\\\110\\\\DTS\\\\Binn;C:\\\\Program Files (x86)\\\\Microsoft SQL Server\\\\120\\\\DTS\\\\Binn;C:\\\\Program Files (x86)\\\\Apache\\\\Maven\\\\bin;C:\\\\Python27\\\\Scripts;C:\\\\Tools\\\\NUnit3;C:\\\\Program Files\\\\Mercurial;C:\\\\Program Files\\\\dotnet;C:\\\\Tools\\\\curl\\\\bin;C:\\\\Program Files\\\\Amazon\\\\AWSCLI;C:\\\\Program Files (x86)\\\\Microsoft SQL Server\\\\140\\\\DTS\\\\Binn;C:\\\\Program Files (x86)\\\\Microsoft Visual Studio 14.0\\\\Common7\\\\IDE\\\\Extensions\\\\Microsoft\\\\SQLDB\\\\DAC\\\\140;C:\\\\Tools\\\\vcpkg;C:\\\\Program Files (x86)\\\\Microsoft SQL Server\\\\140\\\\Tools\\\\Binn;C:\\\\Program Files\\\\Microsoft SQL Server\\\\140\\\\Tools\\\\Binn;C:\\\\Program Files\\\\Microsoft SQL Server\\\\140\\\\DTS\\\\Binn;C:\\\\Program Files\\\\erl9.2\\\\bin;C:\\\\Program Files (x86)\\\\NSIS;C:\\\\Tools\\\\Octopus;C:\\\\Program Files\\\\Git\\\\cmd;C:\\\\Program Files\\\\Git\\\\usr\\\\bin;C:\\\\Program Files\\\\Microsoft Service Fabric\\\\bin\\\\Fabric\\\\Fabric.Code;C:\\\\Program Files\\\\Microsoft SDKs\\\\Service Fabric\\\\Tools\\\\ServiceFabricLocalClusterManager;C:\\\\Program Files\\\\LLVM\\\\bin;C:\\\\Program Files (x86)\\\\Yarn\\\\bin;C:\\\\Users\\\\appveyor\\\\AppData\\\\Roaming\\\\npm;C:\\\\Program Files\\\\PowerShell\\\\6;C:\\\\Program Files (x86)\\\\nodejs;C:\\\\ProgramData\\\\chocolatey\\\\bin;C:\\\\Users\\\\appveyor\\\\.dotnet\\\\tools;C:\\\\Users\\\\appveyor\\\\AppData\\\\Local\\\\Yarn\\\\bin;C:\\\\Users\\\\appveyor\\\\AppData\\\\Roaming\\\\npm;C:\\\\Program Files\\\\AppVeyor\\\\BuildAgent;C:\\\\blis\\\\lib', 'PROCESSOR_IDENTIFIER': 'Intel64 Family 6 Model 63 Stepping 2, GenuineIntel', 'COMMANDPROMPTTYPE': 'Native', 'PROGRAMFILES': 'C:\\\\Program Files (x86)', 'PROCESSOR_REVISION': '3f02', 'MAVEN_HOME': 'C:\\\\Program Files (x86)\\\\Apache\\\\Maven', 'PATH': 'C:\\\\Users\\\\appveyor\\\\bin;C:\\\\Program Files\\\\Git\\\\usr\\\\local\\\\bin;C:\\\\Program Files\\\\Git\\\\usr\\\\bin;C:\\\\Program Files\\\\Git\\\\usr\\\\bin;C:\\\\Program Files\\\\Git\\\\opt\\\\bin;C:\\\\Program Files (x86)\\\\Microsoft Visual Studio 14.0\\\\Common7\\\\IDE\\\\CommonExtensions\\\\Microsoft\\\\TestWindow;C:\\\\Program Files (x86)\\\\MSBuild\\\\14.0\\\\bin\\\\amd64;C:\\\\Program Files (x86)\\\\Microsoft Visual Studio 14.0\\\\VC\\\\BIN\\\\amd64;C:\\\\Windows\\\\Microsoft.NET\\\\Framework64\\\\v4.0.30319;C:\\\\Program Files (x86)\\\\Microsoft Visual Studio 14.0\\\\VC\\\\VCPackages;C:\\\\Program Files (x86)\\\\Microsoft Visual Studio 14.0\\\\Common7\\\\IDE;C:\\\\Program Files (x86)\\\\Microsoft Visual Studio 14.0\\\\Common7\\\\Tools;C:\\\\Program Files (x86)\\\\HTML Help Workshop;C:\\\\Program Files (x86)\\\\Microsoft Visual Studio 14.0\\\\Team Tools\\\\Performance Tools\\\\x64;C:\\\\Program Files (x86)\\\\Microsoft Visual Studio 14.0\\\\Team Tools\\\\Performance Tools;C:\\\\Program Files (x86)\\\\Windows Kits\\\\10\\\\bin\\\\x64;C:\\\\Program Files (x86)\\\\Windows Kits\\\\10\\\\bin\\\\x86;C:\\\\Program Files (x86)\\\\Microsoft SDKs\\\\Windows\\\\v10.0A\\\\bin\\\\NETFX 4.6.1 Tools\\\\x64;C:\\\\Program Files\\\\LLVM\\\\bin;C:\\\\msys64\\\\mingw64\\\\bin;C:\\\\msys64\\\\bin;C:\\\\Program Files (x86)\\\\Microsoft SDKs\\\\Azure\\\\CLI2\\\\wbin;C:\\\\Perl\\\\site\\\\bin;C:\\\\Perl\\\\bin;C:\\\\Windows\\\\system32;C:\\\\Windows;C:\\\\Windows\\\\System32\\\\Wbem;C:\\\\Windows\\\\System32\\\\WindowsPowerShell\\\\v1.0;C:\\\\Program Files\\\\7-Zip;C:\\\\Program Files\\\\Microsoft\\\\Web Platform Installer;C:\\\\Tools\\\\GitVersion;C:\\\\Tools\\\\PsTools;C:\\\\Program Files\\\\Git LFS;C:\\\\Program Files (x86)\\\\Subversion\\\\bin;C:\\\\Program Files\\\\Microsoft SQL Server\\\\120\\\\Tools\\\\Binn;C:\\\\Program Files\\\\Microsoft SQL Server\\\\Client SDK\\\\ODBC\\\\110\\\\Tools\\\\Binn;C:\\\\Program Files (x86)\\\\Microsoft SQL Server\\\\120\\\\Tools\\\\Binn;C:\\\\Program Files\\\\Microsoft SQL Server\\\\120\\\\DTS\\\\Binn;C:\\\\Program Files (x86)\\\\Microsoft SQL Server\\\\120\\\\Tools\\\\Binn\\\\ManagementStudio;C:\\\\Tools\\\\WebDriver;C:\\\\Program Files (x86)\\\\Microsoft SDKs\\\\TypeScript\\\\1.4;C:\\\\Program Files (x86)\\\\Microsoft Visual Studio 12.0\\\\Common7\\\\IDE\\\\PrivateAssemblies;C:\\\\Program Files (x86)\\\\Microsoft SDKs\\\\Azure\\\\CLI\\\\wbin;C:\\\\Ruby193\\\\bin;C:\\\\Tools\\\\NUnit\\\\bin;C:\\\\Tools\\\\xUnit;C:\\\\Tools\\\\MSpec;C:\\\\Tools\\\\Coverity\\\\bin;C:\\\\Program Files (x86)\\\\CMake\\\\bin;C:\\\\go\\\\bin;C:\\\\Program Files\\\\Java\\\\jdk1.8.0\\\\bin;C:\\\\Python27;C:\\\\Program Files\\\\nodejs;C:\\\\Program Files (x86)\\\\iojs;C:\\\\Program Files\\\\iojs;C:\\\\Program Files\\\\Microsoft SQL Server\\\\130\\\\Tools\\\\Binn;C:\\\\Program Files (x86)\\\\MSBuild\\\\14.0\\\\Bin;C:\\\\Tools\\\\NuGet;C:\\\\Program Files (x86)\\\\Microsoft Visual Studio 14.0\\\\Common7\\\\IDE\\\\CommonExtensions\\\\Microsoft\\\\TestWindow;C:\\\\Program Files\\\\Microsoft DNX\\\\Dnvm;C:\\\\Program Files\\\\Microsoft SQL Server\\\\Client SDK\\\\ODBC\\\\130\\\\Tools\\\\Binn;C:\\\\Program Files (x86)\\\\Microsoft SQL Server\\\\130\\\\Tools\\\\Binn;C:\\\\Program Files (x86)\\\\Microsoft SQL Server\\\\130\\\\DTS\\\\Binn;C:\\\\Program Files\\\\Microsoft SQL Server\\\\130\\\\DTS\\\\Binn;C:\\\\Program Files (x86)\\\\Microsoft SQL Server\\\\110\\\\DTS\\\\Binn;C:\\\\Program Files (x86)\\\\Microsoft SQL Server\\\\120\\\\DTS\\\\Binn;C:\\\\Program Files (x86)\\\\Apache\\\\Maven\\\\bin;C:\\\\Python27\\\\Scripts;C:\\\\Tools\\\\NUnit3;C:\\\\Program Files\\\\Mercurial;C:\\\\Program Files\\\\dotnet;C:\\\\Tools\\\\curl\\\\bin;C:\\\\Program Files\\\\Amazon\\\\AWSCLI;C:\\\\Program Files (x86)\\\\Microsoft SQL Server\\\\140\\\\DTS\\\\Binn;C:\\\\Program Files (x86)\\\\Microsoft Visual Studio 14.0\\\\Common7\\\\IDE\\\\Extensions\\\\Microsoft\\\\SQLDB\\\\DAC\\\\140;C:\\\\Tools\\\\vcpkg;C:\\\\Program Files (x86)\\\\Microsoft SQL Server\\\\140\\\\Tools\\\\Binn;C:\\\\Program Files\\\\Microsoft SQL Server\\\\140\\\\Tools\\\\Binn;C:\\\\Program Files\\\\Microsoft SQL Server\\\\140\\\\DTS\\\\Binn;C:\\\\Program Files\\\\erl9.2\\\\bin;C:\\\\Program Files (x86)\\\\NSIS;C:\\\\Tools\\\\Octopus;C:\\\\Program Files\\\\Git\\\\cmd;C:\\\\Program Files\\\\Git\\\\usr\\\\bin;C:\\\\Program Files\\\\Microsoft Service Fabric\\\\bin\\\\Fabric\\\\Fabric.Code;C:\\\\Program Files\\\\Microsoft SDKs\\\\Service Fabric\\\\Tools\\\\ServiceFabricLocalClusterManager;C:\\\\Program Files\\\\LLVM\\\\bin;C:\\\\Program Files (x86)\\\\Yarn\\\\bin;C:\\\\Users\\\\appveyor\\\\AppData\\\\Roaming\\\\npm;C:\\\\Program Files\\\\PowerShell\\\\6;C:\\\\Program Files (x86)\\\\nodejs;C:\\\\ProgramData\\\\chocolatey\\\\bin;C:\\\\Users\\\\appveyor\\\\.dotnet\\\\tools;C:\\\\Users\\\\appveyor\\\\AppData\\\\Local\\\\Yarn\\\\bin;C:\\\\Users\\\\appveyor\\\\AppData\\\\Roaming\\\\npm;C:\\\\Program Files\\\\AppVeyor\\\\BuildAgent;C:\\\\blis\\\\lib;C:\\\\Program Files\\\\Git\\\\usr\\\\bin\\\\vendor_perl;C:\\\\Program Files\\\\Git\\\\usr\\\\bin\\\\core_perl', 'PROGRAMFILES(X86)': 'C:\\\\Program Files (x86)', 'TERM': 'cygwin', 'PS1': '\\\\[\\\\033]0;$TITLEPREFIX:$PWD\\\\007\\\\]\\\\n\\\\[\\\\033[32m\\\\]\\\\u@\\\\h \\\\[\\\\033[35m\\\\]$MSYSTEM \\\\[\\\\033[33m\\\\]\\\\w\\\\[\\\\033[36m\\\\]`__git_ps1`\\\\[\\\\033[0m\\\\]\\\\n$ ', 'INCLUDE': 'C:\\\\Program Files (x86)\\\\Microsoft Visual Studio 14.0\\\\VC\\\\INCLUDE;C:\\\\Program Files (x86)\\\\Microsoft Visual Studio 14.0\\\\VC\\\\ATLMFC\\\\INCLUDE;C:\\\\Program Files (x86)\\\\Windows Kits\\\\10\\\\include\\\\10.0.14393.0\\\\ucrt;C:\\\\Program Files (x86)\\\\Windows Kits\\\\NETFXSDK\\\\4.6.1\\\\include\\\\um;C:\\\\Program Files (x86)\\\\Windows Kits\\\\10\\\\include\\\\10.0.14393.0\\\\shared;C:\\\\Program Files (x86)\\\\Windows Kits\\\\10\\\\include\\\\10.0.14393.0\\\\um;C:\\\\Program Files (x86)\\\\Windows Kits\\\\10\\\\include\\\\10.0.14393.0\\\\winrt;', 'APPVEYOR_REPO_COMMIT_MESSAGE': 'Fiddle with appveyor', 'VS120COMNTOOLS': 'C:\\\\Program Files (x86)\\\\Microsoft Visual Studio 12.0\\\\Common7\\\\Tools\\\\', 'NETFXSDKDIR': 'C:\\\\Program Files (x86)\\\\Windows Kits\\\\NETFXSDK\\\\4.6.1\\\\', 'VSINSTALLDIR': 'C:\\\\Program Files (x86)\\\\Microsoft Visual Studio 14.0\\\\', 'PLATFORM': 'X64', 'LOCALAPPDATA': 'C:\\\\Users\\\\appveyor\\\\AppData\\\\Local', 'EXTENSIONSDKDIR': 'C:\\\\Program Files (x86)\\\\Microsoft SDKs\\\\Windows Kits\\\\10\\\\ExtensionSDKs', 'APPVEYOR_BUILD_VERSION': '1.0.483', 'APPVEYOR_REPO_SCM': 'git', 'MSYSTEM': 'MSYS', 'PROGRAMDATA': 'C:\\\\ProgramData', 'APPVEYOR_JOB_NUMBER': '1', 'AS': 'llvm-as', 'AR': 'llvm-ar', 'APPVEYOR_ACCOUNT_NAME': 'honnibal', 'FP_NO_HOST_CHECK': 'NO', 'COMMONPROGRAMW6432': 'C:\\\\Program Files\\\\Common Files', 'OLDPWD': 'C:/projects/cython-blis-h674r/flame-blis', 'DXSDK_DIR': 'C:\\\\Program Files (x86)\\\\Microsoft DirectX SDK (June 2010)\\\\', '7ZIP': '\"C:\\\\Program Files\\\\7-Zip\\\\7z.exe\"', 'PWD': 'C:/projects/cython-blis', 'CFLAGS': '-Wno-macro-redefined', 'UNIVERSALCRTSDKDIR': 'C:\\\\Program Files (x86)\\\\Windows Kits\\\\10\\\\', 'VCINSTALLDIR': 'C:\\\\Program Files (x86)\\\\Microsoft Visual Studio 14.0\\\\VC\\\\'}\n",
      "            clang -c C:\\Users\\Shubham\\AppData\\Local\\Temp\\pip-install-d7smmh7t\\blis_9cf45f49c567427a9b8a58dbd187010a\\blis\\_src\\config\\bulldozer\\bli_cntx_init_bulldozer.c -o C:\\Users\\Shubham\\AppData\\Local\\Temp\\tmpskk482l7\\bli_cntx_init_bulldozer.o -O3 -std=c99 -D_POSIX_C_SOURCE=200112L -DBLIS_VERSION_STRING=\"0.5.1\" -DBLIS_IS_BUILDING_LIBRARY -Iinclude\\windows-x86_64 -I.\\frame\\3\\ -I.\\frame\\ind\\ukernels\\ -I.\\frame\\1m\\ -I.\\frame\\1f\\ -I.\\frame\\1\\ -I.\\frame\\include -IC:\\Users\\Shubham\\AppData\\Local\\Temp\\pip-install-d7smmh7t\\blis_9cf45f49c567427a9b8a58dbd187010a\\blis\\_src\\include\\windows-x86_64\n",
      "            error: [WinError 2] The system cannot find the file specified\n",
      "            [end of output]\n",
      "      \n",
      "        note: This error originates from a subprocess, and is likely not a problem with pip.\n",
      "        ERROR: Failed building wheel for blis\n",
      "        Running setup.py clean for blis\n",
      "      Failed to build blis\n",
      "      Installing collected packages: wasabi, plac, cymem, wheel, srsly, setuptools, numpy, murmurhash, cython, colorama, catalogue, tqdm, preshed, blis, thinc\n",
      "        Running setup.py install for blis: started\n",
      "        Running setup.py install for blis: finished with status 'error'\n",
      "        error: subprocess-exited-with-error\n",
      "      \n",
      "        Ã— Running setup.py install for blis did not run successfully.\n",
      "        â”‚ exit code: 1\n",
      "        â•°â”€> [25 lines of output]\n",
      "            BLIS_COMPILER? None\n",
      "            running install\n",
      "            running build\n",
      "            running build_py\n",
      "            creating build\n",
      "            creating build\\lib.win-amd64-3.9\n",
      "            creating build\\lib.win-amd64-3.9\\blis\n",
      "            copying blis\\about.py -> build\\lib.win-amd64-3.9\\blis\n",
      "            copying blis\\benchmark.py -> build\\lib.win-amd64-3.9\\blis\n",
      "            copying blis\\__init__.py -> build\\lib.win-amd64-3.9\\blis\n",
      "            creating build\\lib.win-amd64-3.9\\blis\\tests\n",
      "            copying blis\\tests\\common.py -> build\\lib.win-amd64-3.9\\blis\\tests\n",
      "            copying blis\\tests\\test_dotv.py -> build\\lib.win-amd64-3.9\\blis\\tests\n",
      "            copying blis\\tests\\test_gemm.py -> build\\lib.win-amd64-3.9\\blis\\tests\n",
      "            copying blis\\tests\\__init__.py -> build\\lib.win-amd64-3.9\\blis\\tests\n",
      "            copying blis\\cy.pyx -> build\\lib.win-amd64-3.9\\blis\n",
      "            copying blis\\py.pyx -> build\\lib.win-amd64-3.9\\blis\n",
      "            copying blis\\cy.pxd -> build\\lib.win-amd64-3.9\\blis\n",
      "            copying blis\\__init__.pxd -> build\\lib.win-amd64-3.9\\blis\n",
      "            running build_ext\n",
      "            msvc\n",
      "            py_compiler msvc\n",
      "            {'APPVEYOR_REPO_COMMIT_AUTHOR': 'Matthew Honnibal', 'LIB': 'C:\\\\Program Files (x86)\\\\Microsoft Visual Studio 14.0\\\\VC\\\\LIB\\\\amd64;C:\\\\Program Files (x86)\\\\Microsoft Visual Studio 14.0\\\\VC\\\\ATLMFC\\\\LIB\\\\amd64;C:\\\\Program Files (x86)\\\\Windows Kits\\\\10\\\\lib\\\\10.0.14393.0\\\\ucrt\\\\x64;C:\\\\Program Files (x86)\\\\Windows Kits\\\\NETFXSDK\\\\4.6.1\\\\lib\\\\um\\\\x64;C:\\\\Program Files (x86)\\\\Windows Kits\\\\10\\\\lib\\\\10.0.14393.0\\\\um\\\\x64;', 'VS100COMNTOOLS': 'c:\\\\Program Files (x86)\\\\Microsoft Visual Studio 10.0\\\\Common7\\\\Tools\\\\', 'APPVEYOR_PROJECT_NAME': 'cython-blis', 'AVVM_DOWNLOAD_URL': 'https://appveyordownloads.blob.core.windows.net/avvm', 'GIT_LFS_PATH': 'C:\\\\Program Files\\\\Git LFS', 'MSYSTEM_CHOST': 'x86_64-pc-msys', 'APPVEYOR_REPO_COMMIT_AUTHOR_EMAIL': 'honnibal+gh@gmail.com', 'WINDOWSSDK_EXECUTABLEPATH_X64': 'C:\\\\Program Files (x86)\\\\Microsoft SDKs\\\\Windows\\\\v10.0A\\\\bin\\\\NETFX 4.6.1 Tools\\\\x64\\\\', 'SYSTEMROOT': 'C:\\\\windows', 'LASTEXITCODE': '0', 'CHOCOLATEYLASTPATHUPDATE': 'Sun Feb  3 19:40:40 2019', 'INFOPATH': 'C:\\\\Program Files\\\\Git\\\\usr\\\\local\\\\info;C:\\\\Program Files\\\\Git\\\\usr\\\\share\\\\info;C:\\\\Program Files\\\\Git\\\\usr\\\\info;C:\\\\Program Files\\\\Git\\\\share\\\\info', 'SHELL': 'C:\\\\Program Files\\\\Git\\\\usr\\\\bin\\\\bash.exe', 'MSYSTEM_CARCH': 'x86_64', 'MSYS2_PATH_TYPE': 'inherit', 'MANPATH': 'C:\\\\Program Files\\\\Git\\\\usr\\\\local\\\\man;C:\\\\Program Files\\\\Git\\\\usr\\\\share\\\\man;C:\\\\Program Files\\\\Git\\\\usr\\\\man;C:\\\\Program Files\\\\Git\\\\share\\\\man', 'JAVA_HOME': 'C:\\\\Progra~1\\\\Java\\\\jdk1.8.0', 'CI_WINDOWS': 'True', 'APPVEYOR_BUILD_AGENT_HYPERV_NIC_CONFIGURED': 'true', 'WINDOWSLIBPATH': 'C:\\\\Program Files (x86)\\\\Windows Kits\\\\10\\\\UnionMetadata;C:\\\\Program Files (x86)\\\\Windows Kits\\\\10\\\\References', 'COMSPEC': 'C:\\\\windows\\\\system32\\\\cmd.exe', 'WINDIR': 'C:\\\\windows', 'RANLIB': 'echo', 'APPVEYOR_REPO_COMMIT': '8bbf4b332e237459bb8f45dc9414b3049a202939', 'VS90COMNTOOLS': 'C:\\\\Program Files (x86)\\\\Microsoft Visual Studio 9.0\\\\Common7\\\\Tools\\\\', 'ENABLENUGETPACKAGERESTORE': 'true', 'SESSIONNAME': 'Console', 'CONFIG_SITE': 'C:/Program Files/Git/etc/config.site', 'HOMEDRIVE': 'C:', 'SYSTEMDRIVE': 'C:', 'HOSTNAME': 'APPVYR-WIN', 'APPVEYOR': 'True', 'FRAMEWORKVERSION64': 'v4.0.30319', 'PROCESSOR_LEVEL': '6', 'OS': 'Windows_NT', 'FSHARPINSTALLDIR': 'C:\\\\Program Files (x86)\\\\Microsoft SDKs\\\\F#\\\\4.0\\\\Framework\\\\v4.0\\\\', 'WINDOWSSDK_EXECUTABLEPATH_X86': 'C:\\\\Program Files (x86)\\\\Microsoft SDKs\\\\Windows\\\\v10.0A\\\\bin\\\\NETFX 4.6.1 Tools\\\\', 'GOROOT': 'C:\\\\go', 'APPVEYOR_BUILD_WORKER_IMAGE': 'Visual Studio 2015', 'CI_LINUX': 'False', 'UCRTVERSION': '10.0.14393.0', 'APPVEYOR_API_URL': 'http://localhost:1033/', 'TEMP': 'C:\\\\Users\\\\appveyor\\\\AppData\\\\Local\\\\Temp\\\\1', 'SHLVL': '1', 'APPVEYOR_REPO_NAME': 'explosion/cython-blis', 'COMMONPROGRAMFILES(X86)': 'C:\\\\Program Files (x86)\\\\Common Files', 'APR_ICONV_PATH': 'C:\\\\Program Files (x86)\\\\Subversion\\\\iconv', 'HOMEPATH': '\\\\Users\\\\appveyor', 'VISUALSTUDIOVERSION': '14.0', 'M2_HOME': 'C:\\\\Program Files (x86)\\\\Apache\\\\Maven', 'WINDOWSSDKDIR': 'C:\\\\Program Files (x86)\\\\Windows Kits\\\\10\\\\', 'FRAMEWORKDIR64': 'c:\\\\Windows\\\\Microsoft.NET\\\\Framework64', 'LOGONSERVER': '\\\\\\\\APPVYR-WIN', 'APPVEYOR_JOB_ID': 'wp7dj9edlg7t43xq', 'PKG_CONFIG_PATH': 'C:\\\\Program Files\\\\Git\\\\usr\\\\lib\\\\pkgconfig;C:\\\\Program Files\\\\Git\\\\usr\\\\share\\\\pkgconfig;C:\\\\Program Files\\\\Git\\\\lib\\\\pkgconfig', 'APPVEYOR_REPO_PROVIDER': 'gitHub', '_': 'C:/Python27/python', 'APPVEYOR_URL': 'https://ci.appveyor.com', 'OPENSSL_CONF': 'C:\\\\OpenSSL-Win32\\\\bin\\\\openssl.cfg', 'APPDATA': 'C:\\\\Users\\\\appveyor\\\\AppData\\\\Roaming', 'APPVEYOR_REPO_BRANCH': 'update-blis', 'APPVEYOR_BUILD_ID': '23072639', 'WIX': 'C:\\\\Program Files (x86)\\\\WiX Toolset v3.11\\\\', 'FRAMEWORKVERSION': 'v4.0.30319', 'TMP': 'C:\\\\Users\\\\appveyor\\\\AppData\\\\Local\\\\Temp\\\\1', 'COMPUTERNAME': 'APPVYR-WIN', 'VS110COMNTOOLS': 'C:\\\\Program Files (x86)\\\\Microsoft Visual Studio 11.0\\\\Common7\\\\Tools\\\\', 'WINDOWSSDKLIBVERSION': '10.0.14393.0\\\\', 'USERDOMAIN': 'APPVYR-WIN', 'VSSDK120INSTALL': 'C:\\\\Program Files (x86)\\\\Microsoft Visual Studio 12.0\\\\VSSDK\\\\', 'ORIGINAL_TMP': 'C:/Users/appveyor/AppData/Local/Temp/1', 'COMMONPROGRAMFILES': 'C:\\\\Program Files (x86)\\\\Common Files', 'VSSDK140INSTALL': 'C:\\\\Program Files (x86)\\\\Microsoft Visual Studio 14.0\\\\VSSDK\\\\', 'HOME': 'C:\\\\Users\\\\appveyor', 'LANG': 'en_US.UTF-8', 'CODECONTRACTSINSTALLDIR': 'C:\\\\Program Files (x86)\\\\Microsoft\\\\Contracts\\\\', 'FRAMEWORK40VERSION': 'v4.0', 'MSYSTEM_PREFIX': 'C:/Program Files/Git/usr', 'PROCESSOR_ARCHITECTURE': 'x86', 'CHOCOLATEYINSTALL': 'C:\\\\ProgramData\\\\chocolatey', 'ALLUSERSPROFILE': 'C:\\\\ProgramData', 'TMPDIR': 'C:\\\\Users\\\\appveyor\\\\AppData\\\\Local\\\\Temp\\\\1', 'APPVEYOR_BUILD_NUMBER': '483', 'FRAMEWORKDIR': 'c:\\\\Windows\\\\Microsoft.NET\\\\Framework64', 'PROGRAMW6432': 'C:\\\\Program Files', 'USERNAME': 'appveyor', 'CI': 'True', 'PROMPT': '$P$G', 'APPVEYOR_REPO_COMMIT_TIMESTAMP': '2019-03-14T13:33:06.0000000Z', 'CC': 'clang', 'USERDOMAIN_ROAMINGPROFILE': 'APPVYR-WIN', 'PATHEXT': '.COM;.EXE;.BAT;.CMD;.VBS;.VBE;.JS;.JSE;.WSF;.WSH;.MSC;.PY;.CPL', 'ORIGINAL_TEMP': 'C:/Users/appveyor/AppData/Local/Temp/1', 'APPVEYOR_BUILD_FOLDER': 'C:\\\\projects\\\\cython-blis-h674r', 'XUNIT20': 'C:\\\\Tools\\\\xUnit20', 'APPVEYOR_PROJECT_ID': '484208', 'NUMBER_OF_PROCESSORS': '2', 'ERLANG_HOME': 'C:\\\\Program Files\\\\erl9.2', 'PROCESSOR_ARCHITEW6432': 'AMD64', 'PUBLIC': 'C:\\\\Users\\\\Public', 'WINDOWSSDKVERSION': '10.0.14393.0\\\\', 'USERPROFILE': 'C:\\\\Users\\\\appveyor', 'PSMODULEPATH': 'C:\\\\Users\\\\appveyor\\\\Documents\\\\WindowsPowerShell\\\\Modules;C:\\\\Users\\\\appveyor\\\\Documents\\\\WindowsPowerShell\\\\Modules;C:\\\\Program Files\\\\WindowsPowerShell\\\\Modules;C:\\\\Windows\\\\system32\\\\WindowsPowerShell\\\\v1.0\\\\Modules;C:\\\\Program Files (x86)\\\\Microsoft SQL Server\\\\110\\\\Tools\\\\PowerShell\\\\Modules;C:\\\\Program Files (x86)\\\\Microsoft SQL Server\\\\120\\\\Tools\\\\PowerShell\\\\Modules;C:\\\\Program Files\\\\AppVeyor\\\\BuildAgent\\\\Modules;C:\\\\Program Files (x86)\\\\Microsoft SQL Server\\\\130\\\\Tools\\\\PowerShell\\\\Modules;C:\\\\Program Files (x86)\\\\AWS Tools\\\\PowerShell;C:\\\\Program Files (x86)\\\\Microsoft SDKs\\\\Azure\\\\PowerShell\\\\ResourceManager\\\\AzureResourceManager;C:\\\\Program Files (x86)\\\\Microsoft SDKs\\\\Azure\\\\PowerShell\\\\ServiceManagement;C:\\\\Program Files (x86)\\\\Microsoft SDKs\\\\Azure\\\\PowerShell\\\\Storage;C:\\\\Program Files (x86)\\\\Microsoft SQL Server\\\\140\\\\Tools\\\\PowerShell\\\\Modules;c:\\\\Program Files (x86)\\\\Microsoft SQL Server\\\\130\\\\Tools\\\\PowerShell\\\\Modules\\\\', 'VS140COMNTOOLS': 'C:\\\\Program Files (x86)\\\\Microsoft Visual Studio 14.0\\\\Common7\\\\Tools\\\\', 'APPVEYOR_REPO_TAG': 'false', 'APPVEYOR_PROJECT_SLUG': 'cython-blis-h674r', 'LIBPATH': 'c:\\\\Windows\\\\Microsoft.NET\\\\Framework64\\\\v4.0.30319;C:\\\\Program Files (x86)\\\\Microsoft Visual Studio 14.0\\\\VC\\\\LIB\\\\amd64;C:\\\\Program Files (x86)\\\\Microsoft Visual Studio 14.0\\\\VC\\\\ATLMFC\\\\LIB\\\\amd64;C:\\\\Program Files (x86)\\\\Windows Kits\\\\10\\\\UnionMetadata;C:\\\\Program Files (x86)\\\\Windows Kits\\\\10\\\\References;C:\\\\Program Files (x86)\\\\Microsoft SDKs\\\\Windows Kits\\\\10\\\\ExtensionSDKs\\\\Microsoft.VCLibs\\\\14.0\\\\References\\\\CommonConfiguration\\\\neutral;', 'ORIGINAL_PATH': 'C:\\\\Program Files (x86)\\\\Microsoft Visual Studio 14.0\\\\Common7\\\\IDE\\\\CommonExtensions\\\\Microsoft\\\\TestWindow;C:\\\\Program Files (x86)\\\\MSBuild\\\\14.0\\\\bin\\\\amd64;C:\\\\Program Files (x86)\\\\Microsoft Visual Studio 14.0\\\\VC\\\\BIN\\\\amd64;C:\\\\Windows\\\\Microsoft.NET\\\\Framework64\\\\v4.0.30319;C:\\\\Program Files (x86)\\\\Microsoft Visual Studio 14.0\\\\VC\\\\VCPackages;C:\\\\Program Files (x86)\\\\Microsoft Visual Studio 14.0\\\\Common7\\\\IDE;C:\\\\Program Files (x86)\\\\Microsoft Visual Studio 14.0\\\\Common7\\\\Tools;C:\\\\Program Files (x86)\\\\HTML Help Workshop;C:\\\\Program Files (x86)\\\\Microsoft Visual Studio 14.0\\\\Team Tools\\\\Performance Tools\\\\x64;C:\\\\Program Files (x86)\\\\Microsoft Visual Studio 14.0\\\\Team Tools\\\\Performance Tools;C:\\\\Program Files (x86)\\\\Windows Kits\\\\10\\\\bin\\\\x64;C:\\\\Program Files (x86)\\\\Windows Kits\\\\10\\\\bin\\\\x86;C:\\\\Program Files (x86)\\\\Microsoft SDKs\\\\Windows\\\\v10.0A\\\\bin\\\\NETFX 4.6.1 Tools\\\\x64;C:\\\\Program Files\\\\LLVM\\\\bin;C:\\\\msys64\\\\mingw64\\\\bin;C:\\\\msys64\\\\bin;C:\\\\Program Files (x86)\\\\Microsoft SDKs\\\\Azure\\\\CLI2\\\\wbin;C:\\\\Perl\\\\site\\\\bin;C:\\\\Perl\\\\bin;C:\\\\Windows\\\\system32;C:\\\\Windows;C:\\\\Windows\\\\System32\\\\Wbem;C:\\\\Windows\\\\System32\\\\WindowsPowerShell\\\\v1.0;C:\\\\Program Files\\\\7-Zip;C:\\\\Program Files\\\\Microsoft\\\\Web Platform Installer;C:\\\\Tools\\\\GitVersion;C:\\\\Tools\\\\PsTools;C:\\\\Program Files\\\\Git LFS;C:\\\\Program Files (x86)\\\\Subversion\\\\bin;C:\\\\Program Files\\\\Microsoft SQL Server\\\\120\\\\Tools\\\\Binn;C:\\\\Program Files\\\\Microsoft SQL Server\\\\Client SDK\\\\ODBC\\\\110\\\\Tools\\\\Binn;C:\\\\Program Files (x86)\\\\Microsoft SQL Server\\\\120\\\\Tools\\\\Binn;C:\\\\Program Files\\\\Microsoft SQL Server\\\\120\\\\DTS\\\\Binn;C:\\\\Program Files (x86)\\\\Microsoft SQL Server\\\\120\\\\Tools\\\\Binn\\\\ManagementStudio;C:\\\\Tools\\\\WebDriver;C:\\\\Program Files (x86)\\\\Microsoft SDKs\\\\TypeScript\\\\1.4;C:\\\\Program Files (x86)\\\\Microsoft Visual Studio 12.0\\\\Common7\\\\IDE\\\\PrivateAssemblies;C:\\\\Program Files (x86)\\\\Microsoft SDKs\\\\Azure\\\\CLI\\\\wbin;C:\\\\Ruby193\\\\bin;C:\\\\Tools\\\\NUnit\\\\bin;C:\\\\Tools\\\\xUnit;C:\\\\Tools\\\\MSpec;C:\\\\Tools\\\\Coverity\\\\bin;C:\\\\Program Files (x86)\\\\CMake\\\\bin;C:\\\\go\\\\bin;C:\\\\Program Files\\\\Java\\\\jdk1.8.0\\\\bin;C:\\\\Python27;C:\\\\Program Files\\\\nodejs;C:\\\\Program Files (x86)\\\\iojs;C:\\\\Program Files\\\\iojs;C:\\\\Program Files\\\\Microsoft SQL Server\\\\130\\\\Tools\\\\Binn;C:\\\\Program Files (x86)\\\\MSBuild\\\\14.0\\\\Bin;C:\\\\Tools\\\\NuGet;C:\\\\Program Files (x86)\\\\Microsoft Visual Studio 14.0\\\\Common7\\\\IDE\\\\CommonExtensions\\\\Microsoft\\\\TestWindow;C:\\\\Program Files\\\\Microsoft DNX\\\\Dnvm;C:\\\\Program Files\\\\Microsoft SQL Server\\\\Client SDK\\\\ODBC\\\\130\\\\Tools\\\\Binn;C:\\\\Program Files (x86)\\\\Microsoft SQL Server\\\\130\\\\Tools\\\\Binn;C:\\\\Program Files (x86)\\\\Microsoft SQL Server\\\\130\\\\DTS\\\\Binn;C:\\\\Program Files\\\\Microsoft SQL Server\\\\130\\\\DTS\\\\Binn;C:\\\\Program Files (x86)\\\\Microsoft SQL Server\\\\110\\\\DTS\\\\Binn;C:\\\\Program Files (x86)\\\\Microsoft SQL Server\\\\120\\\\DTS\\\\Binn;C:\\\\Program Files (x86)\\\\Apache\\\\Maven\\\\bin;C:\\\\Python27\\\\Scripts;C:\\\\Tools\\\\NUnit3;C:\\\\Program Files\\\\Mercurial;C:\\\\Program Files\\\\dotnet;C:\\\\Tools\\\\curl\\\\bin;C:\\\\Program Files\\\\Amazon\\\\AWSCLI;C:\\\\Program Files (x86)\\\\Microsoft SQL Server\\\\140\\\\DTS\\\\Binn;C:\\\\Program Files (x86)\\\\Microsoft Visual Studio 14.0\\\\Common7\\\\IDE\\\\Extensions\\\\Microsoft\\\\SQLDB\\\\DAC\\\\140;C:\\\\Tools\\\\vcpkg;C:\\\\Program Files (x86)\\\\Microsoft SQL Server\\\\140\\\\Tools\\\\Binn;C:\\\\Program Files\\\\Microsoft SQL Server\\\\140\\\\Tools\\\\Binn;C:\\\\Program Files\\\\Microsoft SQL Server\\\\140\\\\DTS\\\\Binn;C:\\\\Program Files\\\\erl9.2\\\\bin;C:\\\\Program Files (x86)\\\\NSIS;C:\\\\Tools\\\\Octopus;C:\\\\Program Files\\\\Git\\\\cmd;C:\\\\Program Files\\\\Git\\\\usr\\\\bin;C:\\\\Program Files\\\\Microsoft Service Fabric\\\\bin\\\\Fabric\\\\Fabric.Code;C:\\\\Program Files\\\\Microsoft SDKs\\\\Service Fabric\\\\Tools\\\\ServiceFabricLocalClusterManager;C:\\\\Program Files\\\\LLVM\\\\bin;C:\\\\Program Files (x86)\\\\Yarn\\\\bin;C:\\\\Users\\\\appveyor\\\\AppData\\\\Roaming\\\\npm;C:\\\\Program Files\\\\PowerShell\\\\6;C:\\\\Program Files (x86)\\\\nodejs;C:\\\\ProgramData\\\\chocolatey\\\\bin;C:\\\\Users\\\\appveyor\\\\.dotnet\\\\tools;C:\\\\Users\\\\appveyor\\\\AppData\\\\Local\\\\Yarn\\\\bin;C:\\\\Users\\\\appveyor\\\\AppData\\\\Roaming\\\\npm;C:\\\\Program Files\\\\AppVeyor\\\\BuildAgent;C:\\\\blis\\\\lib', 'PROCESSOR_IDENTIFIER': 'Intel64 Family 6 Model 63 Stepping 2, GenuineIntel', 'COMMANDPROMPTTYPE': 'Native', 'PROGRAMFILES': 'C:\\\\Program Files (x86)', 'PROCESSOR_REVISION': '3f02', 'MAVEN_HOME': 'C:\\\\Program Files (x86)\\\\Apache\\\\Maven', 'PATH': 'C:\\\\Users\\\\appveyor\\\\bin;C:\\\\Program Files\\\\Git\\\\usr\\\\local\\\\bin;C:\\\\Program Files\\\\Git\\\\usr\\\\bin;C:\\\\Program Files\\\\Git\\\\usr\\\\bin;C:\\\\Program Files\\\\Git\\\\opt\\\\bin;C:\\\\Program Files (x86)\\\\Microsoft Visual Studio 14.0\\\\Common7\\\\IDE\\\\CommonExtensions\\\\Microsoft\\\\TestWindow;C:\\\\Program Files (x86)\\\\MSBuild\\\\14.0\\\\bin\\\\amd64;C:\\\\Program Files (x86)\\\\Microsoft Visual Studio 14.0\\\\VC\\\\BIN\\\\amd64;C:\\\\Windows\\\\Microsoft.NET\\\\Framework64\\\\v4.0.30319;C:\\\\Program Files (x86)\\\\Microsoft Visual Studio 14.0\\\\VC\\\\VCPackages;C:\\\\Program Files (x86)\\\\Microsoft Visual Studio 14.0\\\\Common7\\\\IDE;C:\\\\Program Files (x86)\\\\Microsoft Visual Studio 14.0\\\\Common7\\\\Tools;C:\\\\Program Files (x86)\\\\HTML Help Workshop;C:\\\\Program Files (x86)\\\\Microsoft Visual Studio 14.0\\\\Team Tools\\\\Performance Tools\\\\x64;C:\\\\Program Files (x86)\\\\Microsoft Visual Studio 14.0\\\\Team Tools\\\\Performance Tools;C:\\\\Program Files (x86)\\\\Windows Kits\\\\10\\\\bin\\\\x64;C:\\\\Program Files (x86)\\\\Windows Kits\\\\10\\\\bin\\\\x86;C:\\\\Program Files (x86)\\\\Microsoft SDKs\\\\Windows\\\\v10.0A\\\\bin\\\\NETFX 4.6.1 Tools\\\\x64;C:\\\\Program Files\\\\LLVM\\\\bin;C:\\\\msys64\\\\mingw64\\\\bin;C:\\\\msys64\\\\bin;C:\\\\Program Files (x86)\\\\Microsoft SDKs\\\\Azure\\\\CLI2\\\\wbin;C:\\\\Perl\\\\site\\\\bin;C:\\\\Perl\\\\bin;C:\\\\Windows\\\\system32;C:\\\\Windows;C:\\\\Windows\\\\System32\\\\Wbem;C:\\\\Windows\\\\System32\\\\WindowsPowerShell\\\\v1.0;C:\\\\Program Files\\\\7-Zip;C:\\\\Program Files\\\\Microsoft\\\\Web Platform Installer;C:\\\\Tools\\\\GitVersion;C:\\\\Tools\\\\PsTools;C:\\\\Program Files\\\\Git LFS;C:\\\\Program Files (x86)\\\\Subversion\\\\bin;C:\\\\Program Files\\\\Microsoft SQL Server\\\\120\\\\Tools\\\\Binn;C:\\\\Program Files\\\\Microsoft SQL Server\\\\Client SDK\\\\ODBC\\\\110\\\\Tools\\\\Binn;C:\\\\Program Files (x86)\\\\Microsoft SQL Server\\\\120\\\\Tools\\\\Binn;C:\\\\Program Files\\\\Microsoft SQL Server\\\\120\\\\DTS\\\\Binn;C:\\\\Program Files (x86)\\\\Microsoft SQL Server\\\\120\\\\Tools\\\\Binn\\\\ManagementStudio;C:\\\\Tools\\\\WebDriver;C:\\\\Program Files (x86)\\\\Microsoft SDKs\\\\TypeScript\\\\1.4;C:\\\\Program Files (x86)\\\\Microsoft Visual Studio 12.0\\\\Common7\\\\IDE\\\\PrivateAssemblies;C:\\\\Program Files (x86)\\\\Microsoft SDKs\\\\Azure\\\\CLI\\\\wbin;C:\\\\Ruby193\\\\bin;C:\\\\Tools\\\\NUnit\\\\bin;C:\\\\Tools\\\\xUnit;C:\\\\Tools\\\\MSpec;C:\\\\Tools\\\\Coverity\\\\bin;C:\\\\Program Files (x86)\\\\CMake\\\\bin;C:\\\\go\\\\bin;C:\\\\Program Files\\\\Java\\\\jdk1.8.0\\\\bin;C:\\\\Python27;C:\\\\Program Files\\\\nodejs;C:\\\\Program Files (x86)\\\\iojs;C:\\\\Program Files\\\\iojs;C:\\\\Program Files\\\\Microsoft SQL Server\\\\130\\\\Tools\\\\Binn;C:\\\\Program Files (x86)\\\\MSBuild\\\\14.0\\\\Bin;C:\\\\Tools\\\\NuGet;C:\\\\Program Files (x86)\\\\Microsoft Visual Studio 14.0\\\\Common7\\\\IDE\\\\CommonExtensions\\\\Microsoft\\\\TestWindow;C:\\\\Program Files\\\\Microsoft DNX\\\\Dnvm;C:\\\\Program Files\\\\Microsoft SQL Server\\\\Client SDK\\\\ODBC\\\\130\\\\Tools\\\\Binn;C:\\\\Program Files (x86)\\\\Microsoft SQL Server\\\\130\\\\Tools\\\\Binn;C:\\\\Program Files (x86)\\\\Microsoft SQL Server\\\\130\\\\DTS\\\\Binn;C:\\\\Program Files\\\\Microsoft SQL Server\\\\130\\\\DTS\\\\Binn;C:\\\\Program Files (x86)\\\\Microsoft SQL Server\\\\110\\\\DTS\\\\Binn;C:\\\\Program Files (x86)\\\\Microsoft SQL Server\\\\120\\\\DTS\\\\Binn;C:\\\\Program Files (x86)\\\\Apache\\\\Maven\\\\bin;C:\\\\Python27\\\\Scripts;C:\\\\Tools\\\\NUnit3;C:\\\\Program Files\\\\Mercurial;C:\\\\Program Files\\\\dotnet;C:\\\\Tools\\\\curl\\\\bin;C:\\\\Program Files\\\\Amazon\\\\AWSCLI;C:\\\\Program Files (x86)\\\\Microsoft SQL Server\\\\140\\\\DTS\\\\Binn;C:\\\\Program Files (x86)\\\\Microsoft Visual Studio 14.0\\\\Common7\\\\IDE\\\\Extensions\\\\Microsoft\\\\SQLDB\\\\DAC\\\\140;C:\\\\Tools\\\\vcpkg;C:\\\\Program Files (x86)\\\\Microsoft SQL Server\\\\140\\\\Tools\\\\Binn;C:\\\\Program Files\\\\Microsoft SQL Server\\\\140\\\\Tools\\\\Binn;C:\\\\Program Files\\\\Microsoft SQL Server\\\\140\\\\DTS\\\\Binn;C:\\\\Program Files\\\\erl9.2\\\\bin;C:\\\\Program Files (x86)\\\\NSIS;C:\\\\Tools\\\\Octopus;C:\\\\Program Files\\\\Git\\\\cmd;C:\\\\Program Files\\\\Git\\\\usr\\\\bin;C:\\\\Program Files\\\\Microsoft Service Fabric\\\\bin\\\\Fabric\\\\Fabric.Code;C:\\\\Program Files\\\\Microsoft SDKs\\\\Service Fabric\\\\Tools\\\\ServiceFabricLocalClusterManager;C:\\\\Program Files\\\\LLVM\\\\bin;C:\\\\Program Files (x86)\\\\Yarn\\\\bin;C:\\\\Users\\\\appveyor\\\\AppData\\\\Roaming\\\\npm;C:\\\\Program Files\\\\PowerShell\\\\6;C:\\\\Program Files (x86)\\\\nodejs;C:\\\\ProgramData\\\\chocolatey\\\\bin;C:\\\\Users\\\\appveyor\\\\.dotnet\\\\tools;C:\\\\Users\\\\appveyor\\\\AppData\\\\Local\\\\Yarn\\\\bin;C:\\\\Users\\\\appveyor\\\\AppData\\\\Roaming\\\\npm;C:\\\\Program Files\\\\AppVeyor\\\\BuildAgent;C:\\\\blis\\\\lib;C:\\\\Program Files\\\\Git\\\\usr\\\\bin\\\\vendor_perl;C:\\\\Program Files\\\\Git\\\\usr\\\\bin\\\\core_perl', 'PROGRAMFILES(X86)': 'C:\\\\Program Files (x86)', 'TERM': 'cygwin', 'PS1': '\\\\[\\\\033]0;$TITLEPREFIX:$PWD\\\\007\\\\]\\\\n\\\\[\\\\033[32m\\\\]\\\\u@\\\\h \\\\[\\\\033[35m\\\\]$MSYSTEM \\\\[\\\\033[33m\\\\]\\\\w\\\\[\\\\033[36m\\\\]`__git_ps1`\\\\[\\\\033[0m\\\\]\\\\n$ ', 'INCLUDE': 'C:\\\\Program Files (x86)\\\\Microsoft Visual Studio 14.0\\\\VC\\\\INCLUDE;C:\\\\Program Files (x86)\\\\Microsoft Visual Studio 14.0\\\\VC\\\\ATLMFC\\\\INCLUDE;C:\\\\Program Files (x86)\\\\Windows Kits\\\\10\\\\include\\\\10.0.14393.0\\\\ucrt;C:\\\\Program Files (x86)\\\\Windows Kits\\\\NETFXSDK\\\\4.6.1\\\\include\\\\um;C:\\\\Program Files (x86)\\\\Windows Kits\\\\10\\\\include\\\\10.0.14393.0\\\\shared;C:\\\\Program Files (x86)\\\\Windows Kits\\\\10\\\\include\\\\10.0.14393.0\\\\um;C:\\\\Program Files (x86)\\\\Windows Kits\\\\10\\\\include\\\\10.0.14393.0\\\\winrt;', 'APPVEYOR_REPO_COMMIT_MESSAGE': 'Fiddle with appveyor', 'VS120COMNTOOLS': 'C:\\\\Program Files (x86)\\\\Microsoft Visual Studio 12.0\\\\Common7\\\\Tools\\\\', 'NETFXSDKDIR': 'C:\\\\Program Files (x86)\\\\Windows Kits\\\\NETFXSDK\\\\4.6.1\\\\', 'VSINSTALLDIR': 'C:\\\\Program Files (x86)\\\\Microsoft Visual Studio 14.0\\\\', 'PLATFORM': 'X64', 'LOCALAPPDATA': 'C:\\\\Users\\\\appveyor\\\\AppData\\\\Local', 'EXTENSIONSDKDIR': 'C:\\\\Program Files (x86)\\\\Microsoft SDKs\\\\Windows Kits\\\\10\\\\ExtensionSDKs', 'APPVEYOR_BUILD_VERSION': '1.0.483', 'APPVEYOR_REPO_SCM': 'git', 'MSYSTEM': 'MSYS', 'PROGRAMDATA': 'C:\\\\ProgramData', 'APPVEYOR_JOB_NUMBER': '1', 'AS': 'llvm-as', 'AR': 'llvm-ar', 'APPVEYOR_ACCOUNT_NAME': 'honnibal', 'FP_NO_HOST_CHECK': 'NO', 'COMMONPROGRAMW6432': 'C:\\\\Program Files\\\\Common Files', 'OLDPWD': 'C:/projects/cython-blis-h674r/flame-blis', 'DXSDK_DIR': 'C:\\\\Program Files (x86)\\\\Microsoft DirectX SDK (June 2010)\\\\', '7ZIP': '\"C:\\\\Program Files\\\\7-Zip\\\\7z.exe\"', 'PWD': 'C:/projects/cython-blis', 'CFLAGS': '-Wno-macro-redefined', 'UNIVERSALCRTSDKDIR': 'C:\\\\Program Files (x86)\\\\Windows Kits\\\\10\\\\', 'VCINSTALLDIR': 'C:\\\\Program Files (x86)\\\\Microsoft Visual Studio 14.0\\\\VC\\\\'}\n",
      "            clang -c C:\\Users\\Shubham\\AppData\\Local\\Temp\\pip-install-d7smmh7t\\blis_9cf45f49c567427a9b8a58dbd187010a\\blis\\_src\\config\\bulldozer\\bli_cntx_init_bulldozer.c -o C:\\Users\\Shubham\\AppData\\Local\\Temp\\tmpx1dwqo2v\\bli_cntx_init_bulldozer.o -O3 -std=c99 -D_POSIX_C_SOURCE=200112L -DBLIS_VERSION_STRING=\"0.5.1\" -DBLIS_IS_BUILDING_LIBRARY -Iinclude\\windows-x86_64 -I.\\frame\\3\\ -I.\\frame\\ind\\ukernels\\ -I.\\frame\\1m\\ -I.\\frame\\1f\\ -I.\\frame\\1\\ -I.\\frame\\include -IC:\\Users\\Shubham\\AppData\\Local\\Temp\\pip-install-d7smmh7t\\blis_9cf45f49c567427a9b8a58dbd187010a\\blis\\_src\\include\\windows-x86_64\n",
      "            error: [WinError 2] The system cannot find the file specified\n",
      "            [end of output]\n",
      "      \n",
      "        note: This error originates from a subprocess, and is likely not a problem with pip.\n",
      "      error: legacy-install-failure\n",
      "      \n",
      "      Ã— Encountered error while trying to install package.\n",
      "      â•°â”€> blis\n",
      "      \n",
      "      note: This is an issue with the package mentioned above, not pip.\n",
      "      hint: See above for output from the failure.\n",
      "      [end of output]\n",
      "  \n",
      "  note: This error originates from a subprocess, and is likely not a problem with pip.\n",
      "error: subprocess-exited-with-error\n",
      "\n",
      "× pip subprocess to install build dependencies did not run successfully.\n",
      "│ exit code: 1\n",
      "╰─> See above for output.\n",
      "\n",
      "note: This error originates from a subprocess, and is likely not a problem with pip.\n"
     ]
    }
   ],
   "source": [
    "# To install only the requirements of this notebook, uncomment the lines below and run this cell\n",
    "\n",
    "# ===========================\n",
    "\n",
    "!pip install spacy==2.2.4\n",
    "\n",
    "# ==========================="
   ]
  },
  {
   "cell_type": "code",
   "execution_count": null,
   "metadata": {},
   "outputs": [],
   "source": [
    "# To install the requirements for the entire chapter, uncomment the lines below and run this cell\n",
    "\n",
    "# ===========================\n",
    "\n",
    "# try :\n",
    "#     import google.colab\n",
    "#     !curl https://raw.githubusercontent.com/practical-nlp/practical-nlp/master/Ch3/ch3-requirements.txt | xargs -n 1 -L 1 pip install\n",
    "# except ModuleNotFoundError :\n",
    "#     !pip install -r \"ch3-requirements.txt\"\n",
    "\n",
    "# ==========================="
   ]
  },
  {
   "cell_type": "code",
   "execution_count": 110,
   "metadata": {},
   "outputs": [
    {
     "name": "stderr",
     "output_type": "stream",
     "text": [
      "c:\\Python39\\python.exe: No module named spacy\n"
     ]
    }
   ],
   "source": [
    "# downloading en_core_web_sm, assuming spacy is already installed\n",
    "!python -m spacy download en_core_web_sm"
   ]
  },
  {
   "cell_type": "code",
   "execution_count": 111,
   "metadata": {},
   "outputs": [
    {
     "ename": "ModuleNotFoundError",
     "evalue": "No module named 'spacy'",
     "output_type": "error",
     "traceback": [
      "\u001b[1;31m---------------------------------------------------------------------------\u001b[0m",
      "\u001b[1;31mModuleNotFoundError\u001b[0m                       Traceback (most recent call last)",
      "\u001b[1;32mc:\\Users\\Shubham\\Documents\\GitHub\\Python_Programming\\NLP\\3 copy.ipynb Cell 123\u001b[0m in \u001b[0;36m<cell line: 2>\u001b[1;34m()\u001b[0m\n\u001b[0;32m      <a href='vscode-notebook-cell:/c%3A/Users/Shubham/Documents/GitHub/Python_Programming/NLP/3%20copy.ipynb#Y233sZmlsZQ%3D%3D?line=0'>1</a>\u001b[0m \u001b[39m#Import spacy and load the model\u001b[39;00m\n\u001b[1;32m----> <a href='vscode-notebook-cell:/c%3A/Users/Shubham/Documents/GitHub/Python_Programming/NLP/3%20copy.ipynb#Y233sZmlsZQ%3D%3D?line=1'>2</a>\u001b[0m \u001b[39mimport\u001b[39;00m \u001b[39mspacy\u001b[39;00m\n\u001b[0;32m      <a href='vscode-notebook-cell:/c%3A/Users/Shubham/Documents/GitHub/Python_Programming/NLP/3%20copy.ipynb#Y233sZmlsZQ%3D%3D?line=2'>3</a>\u001b[0m nlp \u001b[39m=\u001b[39m spacy\u001b[39m.\u001b[39mload(\u001b[39m\"\u001b[39m\u001b[39men_core_web_sm\u001b[39m\u001b[39m\"\u001b[39m)\n",
      "\u001b[1;31mModuleNotFoundError\u001b[0m: No module named 'spacy'"
     ]
    }
   ],
   "source": [
    "#Import spacy and load the model\n",
    "import spacy\n",
    "nlp = spacy.load(\"en_core_web_sm\") #here nlp object refers to the 'en_core_web_sm' language model instance."
   ]
  },
  {
   "cell_type": "code",
   "execution_count": 112,
   "metadata": {},
   "outputs": [
    {
     "name": "stdout",
     "output_type": "stream",
     "text": [
      "Document After Pre-Processing: ['dog bites man', 'man bites dog', 'dog eats meat', 'man eats food']\n"
     ]
    },
    {
     "ename": "NameError",
     "evalue": "name 'nlp' is not defined",
     "output_type": "error",
     "traceback": [
      "\u001b[1;31m---------------------------------------------------------------------------\u001b[0m",
      "\u001b[1;31mNameError\u001b[0m                                 Traceback (most recent call last)",
      "\u001b[1;32mc:\\Users\\Shubham\\Documents\\GitHub\\Python_Programming\\NLP\\3 copy.ipynb Cell 124\u001b[0m in \u001b[0;36m<cell line: 10>\u001b[1;34m()\u001b[0m\n\u001b[0;32m      <a href='vscode-notebook-cell:/c%3A/Users/Shubham/Documents/GitHub/Python_Programming/NLP/3%20copy.ipynb#Y234sZmlsZQ%3D%3D?line=8'>9</a>\u001b[0m \u001b[39m#Iterate over each document and initiate an nlp instance.\u001b[39;00m\n\u001b[0;32m     <a href='vscode-notebook-cell:/c%3A/Users/Shubham/Documents/GitHub/Python_Programming/NLP/3%20copy.ipynb#Y234sZmlsZQ%3D%3D?line=9'>10</a>\u001b[0m \u001b[39mfor\u001b[39;00m doc \u001b[39min\u001b[39;00m processed_docs:\n\u001b[1;32m---> <a href='vscode-notebook-cell:/c%3A/Users/Shubham/Documents/GitHub/Python_Programming/NLP/3%20copy.ipynb#Y234sZmlsZQ%3D%3D?line=10'>11</a>\u001b[0m     doc_nlp \u001b[39m=\u001b[39m nlp(doc) \u001b[39m#creating a spacy \"Doc\" object which is a container for accessing linguistic annotations. \u001b[39;00m\n\u001b[0;32m     <a href='vscode-notebook-cell:/c%3A/Users/Shubham/Documents/GitHub/Python_Programming/NLP/3%20copy.ipynb#Y234sZmlsZQ%3D%3D?line=12'>13</a>\u001b[0m     \u001b[39mprint\u001b[39m(\u001b[39m\"\u001b[39m\u001b[39m-\u001b[39m\u001b[39m\"\u001b[39m\u001b[39m*\u001b[39m\u001b[39m30\u001b[39m)\n\u001b[0;32m     <a href='vscode-notebook-cell:/c%3A/Users/Shubham/Documents/GitHub/Python_Programming/NLP/3%20copy.ipynb#Y234sZmlsZQ%3D%3D?line=13'>14</a>\u001b[0m     \u001b[39mprint\u001b[39m(\u001b[39m\"\u001b[39m\u001b[39mAverage Vector of \u001b[39m\u001b[39m'\u001b[39m\u001b[39m{}\u001b[39;00m\u001b[39m'\u001b[39m\u001b[39m\\n\u001b[39;00m\u001b[39m\"\u001b[39m\u001b[39m.\u001b[39mformat(doc),doc_nlp\u001b[39m.\u001b[39mvector)\u001b[39m#this gives the average vector of each document\u001b[39;00m\n",
      "\u001b[1;31mNameError\u001b[0m: name 'nlp' is not defined"
     ]
    }
   ],
   "source": [
    "#Assume each sentence in documents corresponds to a separate document.\n",
    "documents = [\"Dog bites man.\", \"Man bites dog.\", \"Dog eats meat.\", \"Man eats food.\"]\n",
    "processed_docs = [doc.lower().replace(\".\",\"\") for doc in documents]\n",
    "processed_docs\n",
    "\n",
    "print(\"Document After Pre-Processing:\",processed_docs)\n",
    "\n",
    "\n",
    "#Iterate over each document and initiate an nlp instance.\n",
    "for doc in processed_docs:\n",
    "    doc_nlp = nlp(doc) #creating a spacy \"Doc\" object which is a container for accessing linguistic annotations. \n",
    "    \n",
    "    print(\"-\"*30)\n",
    "    print(\"Average Vector of '{}'\\n\".format(doc),doc_nlp.vector)#this gives the average vector of each document\n",
    "    for token in doc_nlp:\n",
    "        print()\n",
    "        print(token.text,token.vector)#this gives the text of each word in the doc and their respective vectors.\n",
    "        "
   ]
  },
  {
   "cell_type": "markdown",
   "metadata": {},
   "source": []
  },
  {
   "attachments": {},
   "cell_type": "markdown",
   "metadata": {},
   "source": [
    "# 8"
   ]
  },
  {
   "cell_type": "markdown",
   "metadata": {},
   "source": []
  },
  {
   "cell_type": "markdown",
   "metadata": {},
   "source": [
    "## Doc2Vec\n",
    "In this notebook we demonstrate how to train a doc2vec model on a custom corpus."
   ]
  },
  {
   "cell_type": "code",
   "execution_count": null,
   "metadata": {},
   "outputs": [],
   "source": [
    "# To install only the requirements of this notebook, uncomment the lines below and run this cell\n",
    "\n",
    "# ===========================\n",
    "\n",
    "!pip install gensim==3.6.0\n",
    "!pip install spacy==2.2.4\n",
    "!pip install nltk==3.2.5\n",
    "\n",
    "# ==========================="
   ]
  },
  {
   "cell_type": "code",
   "execution_count": null,
   "metadata": {},
   "outputs": [],
   "source": [
    "# To install the requirements for the entire chapter, uncomment the lines below and run this cell\n",
    "\n",
    "# ===========================\n",
    "\n",
    "# try :\n",
    "#     import google.colab\n",
    "#     !curl https://raw.githubusercontent.com/practical-nlp/practical-nlp/master/Ch3/ch3-requirements.txt | xargs -n 1 -L 1 pip install\n",
    "# except ModuleNotFoundError :\n",
    "#     !pip install -r \"ch3-requirements.txt\"\n",
    "\n",
    "# ==========================="
   ]
  },
  {
   "cell_type": "code",
   "execution_count": null,
   "metadata": {},
   "outputs": [],
   "source": [
    "import warnings\n",
    "warnings.filterwarnings('ignore')\n",
    "from gensim.models.doc2vec import Doc2Vec, TaggedDocument\n",
    "from nltk.tokenize import word_tokenize\n",
    "from pprint import pprint\n",
    "import nltk\n",
    "nltk.download('punkt')"
   ]
  },
  {
   "cell_type": "code",
   "execution_count": null,
   "metadata": {},
   "outputs": [],
   "source": [
    "data = [\"dog bites man\",\n",
    "        \"man bites dog\",\n",
    "        \"dog eats meat\",\n",
    "        \"man eats food\"]\n",
    "\n",
    "tagged_data = [TaggedDocument(words=word_tokenize(word.lower()), tags=[str(i)]) for i, word in enumerate(data)]\n"
   ]
  },
  {
   "cell_type": "code",
   "execution_count": null,
   "metadata": {},
   "outputs": [],
   "source": [
    "tagged_data"
   ]
  },
  {
   "cell_type": "code",
   "execution_count": null,
   "metadata": {},
   "outputs": [],
   "source": [
    "#dbow\n",
    "model_dbow = Doc2Vec(tagged_data,vector_size=20, min_count=1, epochs=2,dm=0)\n"
   ]
  },
  {
   "cell_type": "code",
   "execution_count": null,
   "metadata": {},
   "outputs": [],
   "source": [
    "print(model_dbow.infer_vector(['man','eats','food']))#feature vector of man eats food"
   ]
  },
  {
   "cell_type": "code",
   "execution_count": null,
   "metadata": {},
   "outputs": [],
   "source": [
    "model_dbow.wv.most_similar(\"man\",topn=5)#top 5 most simlar words."
   ]
  },
  {
   "cell_type": "code",
   "execution_count": null,
   "metadata": {},
   "outputs": [],
   "source": [
    " model_dbow.wv.n_similarity([\"dog\"],[\"man\"])"
   ]
  },
  {
   "cell_type": "code",
   "execution_count": null,
   "metadata": {},
   "outputs": [],
   "source": [
    "#dm\n",
    "model_dm = Doc2Vec(tagged_data, min_count=1, vector_size=20, epochs=2,dm=1)\n",
    "\n",
    "print(\"Inference Vector of man eats food\\n \",model_dm.infer_vector(['man','eats','food']))\n",
    "\n",
    "print(\"Most similar words to man in our corpus\\n\",model_dm.wv.most_similar(\"man\",topn=5))\n",
    "print(\"Similarity between man and dog: \",model_dm.wv.n_similarity([\"dog\"],[\"man\"]))"
   ]
  },
  {
   "cell_type": "markdown",
   "metadata": {},
   "source": [
    "What happens when we compare between words which are not in the vocabulary?"
   ]
  },
  {
   "cell_type": "code",
   "execution_count": null,
   "metadata": {},
   "outputs": [],
   "source": [
    "model_dm.wv.n_similarity(['covid'],['man'])"
   ]
  },
  {
   "cell_type": "markdown",
   "metadata": {},
   "source": []
  },
  {
   "attachments": {},
   "cell_type": "markdown",
   "metadata": {},
   "source": [
    "# 9"
   ]
  },
  {
   "cell_type": "markdown",
   "metadata": {},
   "source": []
  },
  {
   "cell_type": "markdown",
   "metadata": {},
   "source": [
    "## Visualizing Embeddings Using TSNE\n",
    "\n",
    "This notebook demostrates visualization of embeddings using TSNE.\n",
    "We will use the embedings we trained in the \"Training_embeddings_using_gensim.ipnb notebook. We are using the word2vec_cbow model. "
   ]
  },
  {
   "cell_type": "code",
   "execution_count": null,
   "metadata": {},
   "outputs": [],
   "source": [
    "# To install only the requirements of this notebook, uncomment the lines below and run this cell\n",
    "\n",
    "# ===========================\n",
    "\n",
    "!pip install gensim==3.6.0\n",
    "!pip install numpy==1.19.5\n",
    "!pip install matplotlib==3.2.2\n",
    "!pip install scikit-learn==0.21.3\n",
    "!pip install nltk==3.2.5\n",
    "\n",
    "# ==========================="
   ]
  },
  {
   "cell_type": "code",
   "execution_count": null,
   "metadata": {},
   "outputs": [],
   "source": [
    "# To install the requirements for the entire chapter, uncomment the lines below and run this cell\n",
    "\n",
    "# ===========================\n",
    "\n",
    "# try :\n",
    "#     import google.colab\n",
    "#     !curl https://raw.githubusercontent.com/practical-nlp/practical-nlp/master/Ch3/ch3-requirements.txt | xargs -n 1 -L 1 pip install\n",
    "# except ModuleNotFoundError :\n",
    "#     !pip install -r \"ch3-requirements.txt\"\n",
    "\n",
    "# ==========================="
   ]
  },
  {
   "cell_type": "code",
   "execution_count": null,
   "metadata": {},
   "outputs": [],
   "source": [
    "# FOR GOOGLE COLAB USERS\n",
    "# upload the \"word2vec_cbow.bin\" file from the repository which is present in the Models folder of the same chapter.\n",
    "try:\n",
    "    from google.colab import files\n",
    "    uploaded = files.upload()\n",
    "except ModuleNotFoundError:\n",
    "    print(\"Not using colab\")"
   ]
  },
  {
   "cell_type": "code",
   "execution_count": null,
   "metadata": {},
   "outputs": [],
   "source": [
    "from gensim.models import Word2Vec, KeyedVectors #To load the model\n",
    "import warnings\n",
    "warnings.filterwarnings('ignore') #ignore any generated warnings\n",
    "\n",
    "import numpy as np\n",
    "import matplotlib.pyplot as plt #to generate the t-SNE plot\n",
    "from sklearn.manifold import TSNE #scikit learn's TSNE \n",
    "\n",
    "import os\n",
    "\n",
    "import nltk\n",
    "from nltk.corpus import stopwords\n",
    "nltk.download('stopwords')"
   ]
  },
  {
   "cell_type": "code",
   "execution_count": null,
   "metadata": {},
   "outputs": [],
   "source": [
    "# load model\n",
    "try:\n",
    "    import google.colab\n",
    "    model = KeyedVectors.load_word2vec_format('word2vec_cbow.bin',binary=True)\n",
    "except ModuleNotFoundError:\n",
    "    cwd=os.getcwd() \n",
    "    model = KeyedVectors.load_word2vec_format(cwd+'\\Models\\word2vec_cbow.bin', binary=True)"
   ]
  },
  {
   "cell_type": "markdown",
   "metadata": {},
   "source": [
    "## TSNE\n",
    "t-SNE stands for t-distributed Stochastic Neighbouring Entities. Its a technique used for visualizing high dimensional data by reducing it to a 2 or 3 dimensions.\n",
    " "
   ]
  },
  {
   "cell_type": "code",
   "execution_count": null,
   "metadata": {},
   "outputs": [],
   "source": [
    "#Preprocessing our models vocabulary to make better visualizations\n",
    "\n",
    "words_vocab= list(model.wv.vocab)#all the words in the vocabulary. \n",
    "print(\"Size of Vocabulary:\",len(words_vocab))\n",
    "print(\"Few words in Vocabulary\",words_vocab[:50])\n",
    "\n",
    "#Let us remove the stop words from this it will help making the visualization cleaner\n",
    "stopwords_en = stopwords.words()\n",
    "words_vocab_without_sw = [word.lower() for word in words_vocab if not word in stopwords_en]\n",
    "print(\"Size of Vocabulary without stopwords:\",len(words_vocab_without_sw))\n",
    "print(\"Few words in Vocabulary without stopwords\",words_vocab_without_sw[:30])\n",
    "#The size didnt reduce much after removing the stop words so lets try visualizing only a selected subset of words"
   ]
  },
  {
   "cell_type": "code",
   "execution_count": null,
   "metadata": {},
   "outputs": [],
   "source": [
    "#With the increase in the amount of data, it becomes more and more difficult to visualize and interpret\n",
    "#In practice, similar words are combined into groups for further visualization.\n",
    "\n",
    "keys = ['school', 'year', 'college', 'city', 'states', 'university', 'team', 'film']\n",
    "embedding_clusters = []\n",
    "word_clusters = []\n",
    "\n",
    "for word in keys:\n",
    "    embeddings = []\n",
    "    words = []\n",
    "    for similar_word, _ in model.most_similar(word, topn=30):\n",
    "        words.append(similar_word)\n",
    "        embeddings.append(model[similar_word])\n",
    "    embedding_clusters.append(embeddings)#apending access vector of all similar words\n",
    "    word_clusters.append(words)#appending list of all smiliar words"
   ]
  },
  {
   "cell_type": "code",
   "execution_count": null,
   "metadata": {},
   "outputs": [],
   "source": [
    "print(\"Embedding clusters:\",embedding_clusters[0][0])#Access vector of the first word only\n",
    "print(\"Word Clousters:\",word_clusters[:2])"
   ]
  },
  {
   "cell_type": "code",
   "execution_count": null,
   "metadata": {},
   "outputs": [],
   "source": [
    "from sklearn.manifold import TSNE\n",
    "import numpy as np\n",
    "\n",
    "embedding_clusters = np.array(embedding_clusters)\n",
    "n, m, k = embedding_clusters.shape #geting the dimensions\n",
    "tsne_model_en_2d = TSNE(perplexity=5, n_components=2, init='pca', n_iter=1500, random_state=2020) \n",
    "embeddings_en_2d = np.array(tsne_model_en_2d.fit_transform(embedding_clusters.reshape(n * m, k))).reshape(n, m, 2) #reshaping it into 2d so we can visualize it"
   ]
  },
  {
   "cell_type": "markdown",
   "metadata": {},
   "source": [
    "### Hyperparameters of TSNE\n",
    "\n",
    "1. n_components: The number of components, i.e., the dimension of the value space\n",
    "2. perplexity: The number of effective neighbours\n",
    "3. n_iter: Maximum number of iterations for the optimization.\n",
    "4. init: Initialization of embedding.\n",
    "\n",
    "t-SNE requires good amount of hyperparameter tuning to give effective results. More details on the hyperparameters can be found in the official [docs](https://scikit-learn.org/stable/modules/generated/sklearn.manifold.TSNE.html). It is very easy to misread tsne too. This [article](https://distill.pub/2016/misread-tsne/) provides more deatils about it."
   ]
  },
  {
   "cell_type": "code",
   "execution_count": null,
   "metadata": {},
   "outputs": [],
   "source": [
    "from sklearn.manifold import TSNE\n",
    "import matplotlib.pyplot as plt\n",
    "import matplotlib.cm as cm\n",
    "import numpy as np\n",
    "%matplotlib inline  \n",
    "\n",
    "#script for constructing two-dimensional graphics using Matplotlib\n",
    "def tsne_plot_similar_words(labels, embedding_clusters, word_clusters, a=0.7):\n",
    "    plt.figure(figsize=(16, 9))\n",
    "    \n",
    "\n",
    "    for label, embeddings, words in zip(labels, embedding_clusters, word_clusters):\n",
    "        x = embeddings[:,0]\n",
    "        y = embeddings[:,1]\n",
    "        plt.scatter(x, y, alpha=a, label=label)\n",
    "        for i, word in enumerate(words):\n",
    "            plt.annotate(word, alpha=0.5, xy=(x[i], y[i]), xytext=(5, 2), \n",
    "                         textcoords='offset points', ha='right', va='bottom', size=8)\n",
    "    plt.legend(loc=4)\n",
    "    plt.grid(True)\n",
    "    plt.show()\n",
    "\n",
    "tsne_plot_similar_words(words_vocab_without_sw, embeddings_en_2d, word_clusters)"
   ]
  },
  {
   "cell_type": "code",
   "execution_count": null,
   "metadata": {},
   "outputs": [],
   "source": [
    "tsne_model_en_2d = TSNE(perplexity=25, n_components=2, init='pca', n_iter=1500, random_state=2020) \n",
    "embeddings_en_2d = np.array(tsne_model_en_2d.fit_transform(embedding_clusters.reshape(n * m, k))).reshape(n, m, 2)\n",
    "tsne_plot_similar_words(words_vocab_without_sw, embeddings_en_2d, word_clusters)"
   ]
  },
  {
   "cell_type": "code",
   "execution_count": null,
   "metadata": {},
   "outputs": [],
   "source": [
    "tsne_model_en_2d = TSNE(perplexity=5, n_components=2, init='pca', n_iter=1500, random_state=2020) \n",
    "embeddings_en_2d = np.array(tsne_model_en_2d.fit_transform(embedding_clusters.reshape(n * m, k))).reshape(n, m, 2)\n",
    "tsne_plot_similar_words(words_vocab_without_sw, embeddings_en_2d, word_clusters)"
   ]
  },
  {
   "cell_type": "markdown",
   "metadata": {},
   "source": [
    "Take a look at the above 3 graphs. We cannto say a higher or lower perplexity is good. It depends on the problem at hand. Here the plots of perplexity 5,10 are much better defined than the one with 25"
   ]
  },
  {
   "cell_type": "markdown",
   "metadata": {},
   "source": []
  },
  {
   "attachments": {},
   "cell_type": "markdown",
   "metadata": {},
   "source": [
    "# 10"
   ]
  },
  {
   "cell_type": "markdown",
   "metadata": {},
   "source": []
  },
  {
   "cell_type": "markdown",
   "metadata": {},
   "source": [
    "In this notebook we will demonstrate how you can use Tensorboard to visualize word embeddings which we created in the Training_embeddings_using_gensim.ipynb notebook"
   ]
  },
  {
   "cell_type": "code",
   "execution_count": null,
   "metadata": {},
   "outputs": [],
   "source": [
    "# To install only the requirements of this notebook, uncomment the lines below and run this cell\n",
    "\n",
    "# ===========================\n",
    "\n",
    "!pip install tensorflow==1.14.0\n",
    "!pip install gensim==3.6.0\n",
    "!pip install numpy==1.19.5\n",
    "\n",
    "# ==========================="
   ]
  },
  {
   "cell_type": "code",
   "execution_count": null,
   "metadata": {},
   "outputs": [],
   "source": [
    "# To install the requirements for the entire chapter, uncomment the lines below and run this cell\n",
    "\n",
    "# ===========================\n",
    "\n",
    "# try :\n",
    "#     import google.colab\n",
    "#     !curl https://raw.githubusercontent.com/practical-nlp/practical-nlp/master/Ch3/ch3-requirements.txt | xargs -n 1 -L 1 pip install\n",
    "# except ModuleNotFoundError :\n",
    "#     !pip install -r \"ch3-requirements.txt\"\n",
    "\n",
    "# ==========================="
   ]
  },
  {
   "cell_type": "code",
   "execution_count": null,
   "metadata": {},
   "outputs": [],
   "source": [
    "#making the required imports\n",
    "import warnings #ignoring the generated warnings\n",
    "warnings.filterwarnings('ignore')\n",
    "\n",
    "import tensorflow as tf\n",
    "from tensorflow.contrib.tensorboard.plugins import projector\n",
    "tf.logging.set_verbosity(tf.logging.ERROR)\n",
    "\n",
    "import numpy as np\n",
    "from gensim.models import KeyedVectors\n",
    "import os"
   ]
  },
  {
   "cell_type": "code",
   "execution_count": null,
   "metadata": {},
   "outputs": [],
   "source": [
    "#Loading the model\n",
    "cwd=os.getcwd() \n",
    "model = KeyedVectors.load_word2vec_format(cwd+'\\Models\\word2vec_cbow.bin', binary=True)"
   ]
  },
  {
   "cell_type": "code",
   "execution_count": null,
   "metadata": {},
   "outputs": [],
   "source": [
    "#get the model's vocabulary size\n",
    "max_size = len(model.wv.vocab)-1"
   ]
  },
  {
   "cell_type": "code",
   "execution_count": null,
   "metadata": {},
   "outputs": [],
   "source": [
    "#make a numpy array of 0s with the size of the vocabulary and dimensions of our model\n",
    "w2v = np.zeros((max_size,model.wv.vector_size))"
   ]
  },
  {
   "cell_type": "code",
   "execution_count": null,
   "metadata": {},
   "outputs": [],
   "source": [
    "#Now we create a new file called metadata.tsv where we save all the words in our model \n",
    "#we also store the embedding of each word in the w2v matrix\n",
    "if not os.path.exists('projections'):\n",
    "    os.makedirs('projections')\n",
    "    \n",
    "with open(\"projections/metadata.tsv\", 'w+',encoding=\"utf-8\") as file_metadata: #changed    added encoding=\"utf-8\"\n",
    "    \n",
    "    for i, word in enumerate(model.wv.index2word[:max_size]):\n",
    "        \n",
    "        #store the embeddings of the word\n",
    "        w2v[i] = model.wv[word]\n",
    "        \n",
    "        #write the word to a file \n",
    "        file_metadata.write(word + '\\n')"
   ]
  },
  {
   "cell_type": "code",
   "execution_count": null,
   "metadata": {},
   "outputs": [],
   "source": [
    "#initializing tf session\n",
    "sess = tf.InteractiveSession()"
   ]
  },
  {
   "cell_type": "code",
   "execution_count": null,
   "metadata": {},
   "outputs": [],
   "source": [
    "#Initialize the tensorflow variable called embeddings that holds the word embeddings:\n",
    "with tf.device(\"/cpu:0\"):\n",
    "    embedding = tf.Variable(w2v, trainable=False, name='embedding')"
   ]
  },
  {
   "cell_type": "code",
   "execution_count": null,
   "metadata": {},
   "outputs": [],
   "source": [
    "#Initialize all variables\n",
    "tf.global_variables_initializer().run()"
   ]
  },
  {
   "cell_type": "code",
   "execution_count": null,
   "metadata": {},
   "outputs": [],
   "source": [
    "#object of the saver class which is actually used for saving and restoring variables to and from our checkpoints\n",
    "saver = tf.train.Saver()"
   ]
  },
  {
   "cell_type": "code",
   "execution_count": null,
   "metadata": {},
   "outputs": [],
   "source": [
    "#with FileWriter,we save summary and events to the event file\n",
    "writer = tf.summary.FileWriter('projections', sess.graph)"
   ]
  },
  {
   "cell_type": "code",
   "execution_count": null,
   "metadata": {},
   "outputs": [],
   "source": [
    "# Initialize the projectors and add the embeddings\n",
    "config = projector.ProjectorConfig()\n",
    "embed= config.embeddings.add()"
   ]
  },
  {
   "cell_type": "code",
   "execution_count": null,
   "metadata": {},
   "outputs": [],
   "source": [
    "#specify our tensor_name as embedding and metadata_path to the metadata.tsv file\n",
    "embed.tensor_name = 'embedding'\n",
    "embed.metadata_path = 'metadata.tsv'"
   ]
  },
  {
   "cell_type": "code",
   "execution_count": null,
   "metadata": {},
   "outputs": [],
   "source": [
    "#save the model\n",
    "projector.visualize_embeddings(writer, config)\n",
    "\n",
    "saver.save(sess, 'projections/model.ckpt', global_step=max_size)"
   ]
  },
  {
   "cell_type": "markdown",
   "metadata": {},
   "source": [
    "Open a terminal window and type the following command\n",
    "\n",
    "tensorboard --logdir=projections --port=8000\n",
    "\n",
    "If the tensorboard does not work for you try providing the absolute path for projections and re-run the above command\n",
    "\n",
    "If youve done everything right until you will get a link in your terminal through which you can access the tensorboard. Click on the link or copy paste it in your browser. You should see something similar to this.\n",
    "![TensorBoard-1](Images/TensorBoard-1.png)\n",
    "<br>\n",
    "In the top right corner near \"INACTIVE\" click the dropdown arrow. And select PROJECTIONS from te dropdown menu\n",
    "![TensorBoard-2](Images/TensorBoard-2.png)\n",
    "<br>\n",
    "Wait for a few seconds for it to load. You can now see your embeddings there are a lot of setting you can play around and experiment with.\n",
    "![TensorBoard-3](Images/TensorBoard-3.png)\n",
    "<br>\n",
    "Output when we search for a specific word in this case \"human\" and isolate only those points\n",
    "![TensorBoard-4](Images/TensorBoard-4.png)"
   ]
  }
 ],
 "metadata": {
  "kernelspec": {
   "display_name": "Python 3",
   "language": "python",
   "name": "python3"
  },
  "language_info": {
   "codemirror_mode": {
    "name": "ipython",
    "version": 3
   },
   "file_extension": ".py",
   "mimetype": "text/x-python",
   "name": "python",
   "nbconvert_exporter": "python",
   "pygments_lexer": "ipython3",
   "version": "3.9.1"
  },
  "orig_nbformat": 4
 },
 "nbformat": 4,
 "nbformat_minor": 2
}
