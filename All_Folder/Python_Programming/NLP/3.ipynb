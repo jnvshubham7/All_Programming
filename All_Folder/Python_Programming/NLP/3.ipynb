{
 "cells": [
  {
   "cell_type": "code",
   "execution_count": null,
   "metadata": {
    "vscode": {
     "languageId": "plaintext"
    }
   },
   "outputs": [],
   "source": []
  },
  {
   "cell_type": "markdown",
   "metadata": {},
   "source": []
  },
  {
   "attachments": {},
   "cell_type": "markdown",
   "metadata": {},
   "source": [
    "# 1"
   ]
  },
  {
   "cell_type": "markdown",
   "metadata": {},
   "source": []
  },
  {
   "cell_type": "markdown",
   "metadata": {},
   "source": [
    "## One Hot Encoding of text\n",
    "\n",
    "This implements one hot encoding. \n",
    " \n",
    "In real world projects one mostly uses scikit -learn’s implementation of one hot encoding"
   ]
  },
  {
   "cell_type": "code",
   "execution_count": null,
   "metadata": {},
   "outputs": [
    {
     "name": "stdout",
     "output_type": "stream",
     "text": [
      "Requirement already satisfied: scikit-learn==0.21.3 in c:\\users\\kumar apurv\\anaconda3\\envs\\ch3\\lib\\site-packages (0.21.3)\n",
      "Requirement already satisfied: scipy>=0.17.0 in c:\\users\\kumar apurv\\anaconda3\\envs\\ch3\\lib\\site-packages (from scikit-learn==0.21.3) (1.5.4)\n",
      "Requirement already satisfied: joblib>=0.11 in c:\\users\\kumar apurv\\anaconda3\\envs\\ch3\\lib\\site-packages (from scikit-learn==0.21.3) (1.0.1)\n",
      "Requirement already satisfied: numpy>=1.11.0 in c:\\users\\kumar apurv\\anaconda3\\envs\\ch3\\lib\\site-packages (from scikit-learn==0.21.3) (1.19.5)\n"
     ]
    }
   ],
   "source": [
    "# To install only the requirements of this notebook, uncomment the lines below and run this cell\n",
    "\n",
    "# ===========================\n",
    "\n",
    "!pip install scikit-learn==0.21.3\n",
    "\n",
    "# ==========================="
   ]
  },
  {
   "cell_type": "code",
   "execution_count": null,
   "metadata": {},
   "outputs": [],
   "source": [
    "# To install the requirements for the entire chapter, uncomment the lines below and run this cell\n",
    "\n",
    "# ===========================\n",
    "\n",
    "# try :\n",
    "#     import google.colab\n",
    "#     !curl https://raw.githubusercontent.com/practical-nlp/practical-nlp/master/Ch3/ch3-requirements.txt | xargs -n 1 -L 1 pip install\n",
    "# except ModuleNotFoundError :\n",
    "#     !pip install -r \"ch3-requirements.txt\"\n",
    "\n",
    "# ==========================="
   ]
  },
  {
   "cell_type": "code",
   "execution_count": null,
   "metadata": {},
   "outputs": [
    {
     "data": {
      "text/plain": [
       "['dog bites man', 'man bites dog', 'dog eats meat', 'man eats food']"
      ]
     },
     "metadata": {},
     "output_type": "display_data"
    }
   ],
   "source": [
    "documents = [\"Dog bites man.\", \"Man bites dog.\", \"Dog eats meat.\", \"Man eats food.\"]\n",
    "processed_docs = [doc.lower().replace(\".\",\"\") for doc in documents]\n",
    "processed_docs"
   ]
  },
  {
   "cell_type": "code",
   "execution_count": null,
   "metadata": {},
   "outputs": [
    {
     "name": "stdout",
     "output_type": "stream",
     "text": [
      "{'dog': 1, 'bites': 2, 'man': 3, 'eats': 4, 'meat': 5, 'food': 6}\n"
     ]
    }
   ],
   "source": [
    "#Build the vocabulary\n",
    "vocab = {}\n",
    "count = 0\n",
    "for doc in processed_docs:\n",
    "    for word in doc.split():\n",
    "        if word not in vocab:\n",
    "            count = count +1\n",
    "            vocab[word] = count\n",
    "print(vocab)"
   ]
  },
  {
   "cell_type": "code",
   "execution_count": null,
   "metadata": {},
   "outputs": [],
   "source": [
    "#Get one hot representation for any string based on this vocabulary. \n",
    "#If the word exists in the vocabulary, its representation is returned. \n",
    "#If not, a list of zeroes is returned for that word. \n",
    "def get_onehot_vector(somestring):\n",
    "    onehot_encoded = []\n",
    "    for word in somestring.split():\n",
    "        temp = [0]*len(vocab)\n",
    "        if word in vocab:\n",
    "            temp[vocab[word]-1] = 1 # -1 is to take care of the fact indexing in array starts from 0 and not 1\n",
    "        onehot_encoded.append(temp)\n",
    "    return onehot_encoded"
   ]
  },
  {
   "cell_type": "code",
   "execution_count": null,
   "metadata": {},
   "outputs": [
    {
     "name": "stdout",
     "output_type": "stream",
     "text": [
      "man bites dog\n"
     ]
    },
    {
     "data": {
      "text/plain": [
       "[[0, 0, 1, 0, 0, 0], [0, 1, 0, 0, 0, 0], [1, 0, 0, 0, 0, 0]]"
      ]
     },
     "metadata": {},
     "output_type": "display_data"
    }
   ],
   "source": [
    "print(processed_docs[1])\n",
    "get_onehot_vector(processed_docs[1]) #one hot representation for a text from our corpus."
   ]
  },
  {
   "cell_type": "code",
   "execution_count": null,
   "metadata": {},
   "outputs": [
    {
     "data": {
      "text/plain": [
       "[[0, 0, 1, 0, 0, 0],\n",
       " [0, 0, 0, 0, 0, 0],\n",
       " [1, 0, 0, 0, 0, 0],\n",
       " [0, 0, 0, 0, 0, 0],\n",
       " [0, 0, 0, 0, 0, 0]]"
      ]
     },
     "metadata": {},
     "output_type": "display_data"
    }
   ],
   "source": [
    "get_onehot_vector(\"man and dog are good\") \n",
    "#one hot representation for a random text, using the above vocabulary"
   ]
  },
  {
   "cell_type": "code",
   "execution_count": null,
   "metadata": {},
   "outputs": [
    {
     "data": {
      "text/plain": [
       "[[0, 0, 1, 0, 0, 0],\n",
       " [0, 0, 0, 0, 0, 0],\n",
       " [0, 0, 1, 0, 0, 0],\n",
       " [0, 0, 0, 0, 0, 0],\n",
       " [0, 0, 0, 0, 0, 0]]"
      ]
     },
     "metadata": {},
     "output_type": "display_data"
    }
   ],
   "source": [
    "get_onehot_vector(\"man and man are good\") "
   ]
  },
  {
   "cell_type": "markdown",
   "metadata": {},
   "source": [
    "## One-hot encoding using scikit -learn\n",
    "##### We encode our corpus as a one-hot numeric array using scikit-learn's OneHotEncoder.\n",
    "##### We will demostrate:\n",
    "\n",
    "*   One Hot Encoding: In one-hot encoding, each word w in corpus vocabulary is given a unique integer id wid that is between 1 and |V|, where V is the set of corpus vocab. Each word is then represented by a V-dimensional binary vector of 0s and 1s.\n",
    "\n",
    "*   Label Encoding: In Label Encoding, each word w in our corpus is converted into a numeric value between 0 and n-1 (where n refers to number of unique words in our corpus).\n",
    "\n",
    "##### Link for the official documentation of both can be found [here](https://scikit-learn.org/stable/modules/generated/sklearn.preprocessing.OneHotEncoder.html) and [here](https://scikit-learn.org/stable/modules/generated/sklearn.preprocessing.LabelEncoder.html) respectively.\n",
    "\n",
    "\n",
    "\n",
    "\n",
    "\n",
    "\n"
   ]
  },
  {
   "cell_type": "code",
   "execution_count": null,
   "metadata": {},
   "outputs": [],
   "source": [
    "S1 = 'dog bites man'\n",
    "S2 = 'man bites dog'\n",
    "S3 = 'dog eats meat'\n",
    "S4 = 'man eats food'"
   ]
  },
  {
   "cell_type": "code",
   "execution_count": null,
   "metadata": {},
   "outputs": [
    {
     "name": "stdout",
     "output_type": "stream",
     "text": [
      "The data:  ['dog', 'bites', 'man', 'man', 'bites', 'dog', 'dog', 'eats', 'meat', 'man', 'eats', 'food']\n",
      "Label Encoded: [1 0 4 4 0 1 1 2 5 4 2 3]\n",
      "Onehot Encoded Matrix:\n",
      " [[1. 0. 1. 0. 0. 0. 1. 0.]\n",
      " [0. 1. 1. 0. 1. 0. 0. 0.]\n",
      " [1. 0. 0. 1. 0. 0. 0. 1.]\n",
      " [0. 1. 0. 1. 0. 1. 0. 0.]]\n"
     ]
    }
   ],
   "source": [
    "from sklearn.preprocessing import LabelEncoder, OneHotEncoder\n",
    "\n",
    "data = [S1.split(), S2.split(), S3.split(), S4.split()]\n",
    "values = data[0]+data[1]+data[2]+data[3]\n",
    "print(\"The data: \",values)\n",
    "\n",
    "#Label Encoding\n",
    "label_encoder = LabelEncoder()\n",
    "integer_encoded = label_encoder.fit_transform(values)\n",
    "print(\"Label Encoded:\",integer_encoded)\n",
    "\n",
    "#One-Hot Encoding\n",
    "onehot_encoder = OneHotEncoder()\n",
    "onehot_encoded = onehot_encoder.fit_transform(data).toarray()\n",
    "print(\"Onehot Encoded Matrix:\\n\",onehot_encoded)\n"
   ]
  },
  {
   "cell_type": "markdown",
   "metadata": {},
   "source": []
  },
  {
   "attachments": {},
   "cell_type": "markdown",
   "metadata": {},
   "source": [
    "# 2"
   ]
  },
  {
   "cell_type": "markdown",
   "metadata": {},
   "source": []
  },
  {
   "cell_type": "markdown",
   "metadata": {},
   "source": [
    "## Bag of Words\n",
    "\n",
    "In the last notebook, we saw how to get the one hot encoding representation for our toy corpus. In this notebook we will see how to use bag of words representation for the same data.."
   ]
  },
  {
   "cell_type": "markdown",
   "metadata": {},
   "source": [
    "## One Hot Encoding of text\n",
    "\n",
    "This implements one hot encoding. \n",
    " \n",
    "In real world projects one mostly uses scikit -learn’s implementation of one hot encoding"
   ]
  },
  {
   "cell_type": "code",
   "execution_count": null,
   "metadata": {},
   "outputs": [
    {
     "name": "stdout",
     "output_type": "stream",
     "text": [
      "Requirement already satisfied: scikit-learn==0.21.3 in c:\\users\\kumar apurv\\anaconda3\\envs\\ch3\\lib\\site-packages (0.21.3)\n",
      "Requirement already satisfied: scipy>=0.17.0 in c:\\users\\kumar apurv\\anaconda3\\envs\\ch3\\lib\\site-packages (from scikit-learn==0.21.3) (1.5.4)\n",
      "Requirement already satisfied: joblib>=0.11 in c:\\users\\kumar apurv\\anaconda3\\envs\\ch3\\lib\\site-packages (from scikit-learn==0.21.3) (1.0.1)\n",
      "Requirement already satisfied: numpy>=1.11.0 in c:\\users\\kumar apurv\\anaconda3\\envs\\ch3\\lib\\site-packages (from scikit-learn==0.21.3) (1.19.5)\n"
     ]
    }
   ],
   "source": [
    "# To install only the requirements of this notebook, uncomment the lines below and run this cell\n",
    "\n",
    "# ===========================\n",
    "\n",
    "!pip install scikit-learn==0.21.3\n",
    "\n",
    "# ==========================="
   ]
  },
  {
   "cell_type": "code",
   "execution_count": null,
   "metadata": {},
   "outputs": [],
   "source": [
    "# To install the requirements for the entire chapter, uncomment the lines below and run this cell\n",
    "\n",
    "# ===========================\n",
    "\n",
    "# try :\n",
    "#     import google.colab\n",
    "#     !curl https://raw.githubusercontent.com/practical-nlp/practical-nlp/master/Ch3/ch3-requirements.txt | xargs -n 1 -L 1 pip install\n",
    "# except ModuleNotFoundError :\n",
    "#     !pip install -r \"ch3-requirements.txt\"\n",
    "\n",
    "# ==========================="
   ]
  },
  {
   "cell_type": "code",
   "execution_count": null,
   "metadata": {},
   "outputs": [
    {
     "data": {
      "text/plain": [
       "['dog bites man', 'man bites dog', 'dog eats meat', 'man eats food']"
      ]
     },
     "metadata": {},
     "output_type": "display_data"
    }
   ],
   "source": [
    "documents = [\"Dog bites man.\", \"Man bites dog.\", \"Dog eats meat.\", \"Man eats food.\"]\n",
    "processed_docs = [doc.lower().replace(\".\",\"\") for doc in documents]\n",
    "processed_docs"
   ]
  },
  {
   "cell_type": "code",
   "execution_count": null,
   "metadata": {},
   "outputs": [
    {
     "name": "stdout",
     "output_type": "stream",
     "text": [
      "{'dog': 1, 'bites': 2, 'man': 3, 'eats': 4, 'meat': 5, 'food': 6}\n"
     ]
    }
   ],
   "source": [
    "#Build the vocabulary\n",
    "vocab = {}\n",
    "count = 0\n",
    "for doc in processed_docs:\n",
    "    for word in doc.split():\n",
    "        if word not in vocab:\n",
    "            count = count +1\n",
    "            vocab[word] = count\n",
    "print(vocab)"
   ]
  },
  {
   "cell_type": "code",
   "execution_count": null,
   "metadata": {},
   "outputs": [],
   "source": [
    "#Get one hot representation for any string based on this vocabulary. \n",
    "#If the word exists in the vocabulary, its representation is returned. \n",
    "#If not, a list of zeroes is returned for that word. \n",
    "def get_onehot_vector(somestring):\n",
    "    onehot_encoded = []\n",
    "    for word in somestring.split():\n",
    "        temp = [0]*len(vocab)\n",
    "        if word in vocab:\n",
    "            temp[vocab[word]-1] = 1 # -1 is to take care of the fact indexing in array starts from 0 and not 1\n",
    "        onehot_encoded.append(temp)\n",
    "    return onehot_encoded"
   ]
  },
  {
   "cell_type": "code",
   "execution_count": null,
   "metadata": {},
   "outputs": [
    {
     "name": "stdout",
     "output_type": "stream",
     "text": [
      "man bites dog\n"
     ]
    },
    {
     "data": {
      "text/plain": [
       "[[0, 0, 1, 0, 0, 0], [0, 1, 0, 0, 0, 0], [1, 0, 0, 0, 0, 0]]"
      ]
     },
     "metadata": {},
     "output_type": "display_data"
    }
   ],
   "source": [
    "print(processed_docs[1])\n",
    "get_onehot_vector(processed_docs[1]) #one hot representation for a text from our corpus."
   ]
  },
  {
   "cell_type": "code",
   "execution_count": null,
   "metadata": {},
   "outputs": [
    {
     "data": {
      "text/plain": [
       "[[0, 0, 1, 0, 0, 0],\n",
       " [0, 0, 0, 0, 0, 0],\n",
       " [1, 0, 0, 0, 0, 0],\n",
       " [0, 0, 0, 0, 0, 0],\n",
       " [0, 0, 0, 0, 0, 0]]"
      ]
     },
     "metadata": {},
     "output_type": "display_data"
    }
   ],
   "source": [
    "get_onehot_vector(\"man and dog are good\") \n",
    "#one hot representation for a random text, using the above vocabulary"
   ]
  },
  {
   "cell_type": "code",
   "execution_count": null,
   "metadata": {},
   "outputs": [
    {
     "data": {
      "text/plain": [
       "[[0, 0, 1, 0, 0, 0],\n",
       " [0, 0, 0, 0, 0, 0],\n",
       " [0, 0, 1, 0, 0, 0],\n",
       " [0, 0, 0, 0, 0, 0],\n",
       " [0, 0, 0, 0, 0, 0]]"
      ]
     },
     "metadata": {},
     "output_type": "display_data"
    }
   ],
   "source": [
    "get_onehot_vector(\"man and man are good\") "
   ]
  },
  {
   "cell_type": "markdown",
   "metadata": {},
   "source": [
    "## One-hot encoding using scikit -learn\n",
    "##### We encode our corpus as a one-hot numeric array using scikit-learn's OneHotEncoder.\n",
    "##### We will demostrate:\n",
    "\n",
    "*   One Hot Encoding: In one-hot encoding, each word w in corpus vocabulary is given a unique integer id wid that is between 1 and |V|, where V is the set of corpus vocab. Each word is then represented by a V-dimensional binary vector of 0s and 1s.\n",
    "\n",
    "*   Label Encoding: In Label Encoding, each word w in our corpus is converted into a numeric value between 0 and n-1 (where n refers to number of unique words in our corpus).\n",
    "\n",
    "##### Link for the official documentation of both can be found [here](https://scikit-learn.org/stable/modules/generated/sklearn.preprocessing.OneHotEncoder.html) and [here](https://scikit-learn.org/stable/modules/generated/sklearn.preprocessing.LabelEncoder.html) respectively.\n",
    "\n",
    "\n",
    "\n",
    "\n",
    "\n",
    "\n"
   ]
  },
  {
   "cell_type": "code",
   "execution_count": null,
   "metadata": {},
   "outputs": [],
   "source": [
    "S1 = 'dog bites man'\n",
    "S2 = 'man bites dog'\n",
    "S3 = 'dog eats meat'\n",
    "S4 = 'man eats food'"
   ]
  },
  {
   "cell_type": "code",
   "execution_count": null,
   "metadata": {},
   "outputs": [
    {
     "name": "stdout",
     "output_type": "stream",
     "text": [
      "The data:  ['dog', 'bites', 'man', 'man', 'bites', 'dog', 'dog', 'eats', 'meat', 'man', 'eats', 'food']\n",
      "Label Encoded: [1 0 4 4 0 1 1 2 5 4 2 3]\n",
      "Onehot Encoded Matrix:\n",
      " [[1. 0. 1. 0. 0. 0. 1. 0.]\n",
      " [0. 1. 1. 0. 1. 0. 0. 0.]\n",
      " [1. 0. 0. 1. 0. 0. 0. 1.]\n",
      " [0. 1. 0. 1. 0. 1. 0. 0.]]\n"
     ]
    }
   ],
   "source": [
    "from sklearn.preprocessing import LabelEncoder, OneHotEncoder\n",
    "\n",
    "data = [S1.split(), S2.split(), S3.split(), S4.split()]\n",
    "values = data[0]+data[1]+data[2]+data[3]\n",
    "print(\"The data: \",values)\n",
    "\n",
    "#Label Encoding\n",
    "label_encoder = LabelEncoder()\n",
    "integer_encoded = label_encoder.fit_transform(values)\n",
    "print(\"Label Encoded:\",integer_encoded)\n",
    "\n",
    "#One-Hot Encoding\n",
    "onehot_encoder = OneHotEncoder()\n",
    "onehot_encoded = onehot_encoder.fit_transform(data).toarray()\n",
    "print(\"Onehot Encoded Matrix:\\n\",onehot_encoded)\n"
   ]
  },
  {
   "cell_type": "code",
   "execution_count": null,
   "metadata": {},
   "outputs": [
    {
     "name": "stdout",
     "output_type": "stream",
     "text": [
      "Collecting scikit-learn==0.21.3\n",
      "  Using cached scikit_learn-0.21.3-cp36-cp36m-win_amd64.whl (5.9 MB)\n",
      "Collecting scipy>=0.17.0\n",
      "  Using cached scipy-1.5.4-cp36-cp36m-win_amd64.whl (31.2 MB)\n",
      "Collecting joblib>=0.11\n",
      "  Using cached joblib-1.0.1-py3-none-any.whl (303 kB)\n",
      "Collecting numpy>=1.11.0\n",
      "  Using cached numpy-1.19.5-cp36-cp36m-win_amd64.whl (13.2 MB)\n",
      "Installing collected packages: numpy, scipy, joblib, scikit-learn\n",
      "Successfully installed joblib-1.0.1 numpy-1.19.5 scikit-learn-0.21.3 scipy-1.5.4\n"
     ]
    }
   ],
   "source": [
    "# To install only the requirements of this notebook, uncomment the lines below and run this cell\n",
    "\n",
    "# ===========================\n",
    "\n",
    "!pip install scikit-learn==0.21.3\n",
    "\n",
    "# ==========================="
   ]
  },
  {
   "cell_type": "code",
   "execution_count": null,
   "metadata": {},
   "outputs": [],
   "source": [
    "# To install the requirements for the entire chapter, uncomment the lines below and run this cell\n",
    "\n",
    "# ===========================\n",
    "\n",
    "# try :\n",
    "#     import google.colab\n",
    "#     !curl https://raw.githubusercontent.com/practical-nlp/practical-nlp/master/Ch3/ch3-requirements.txt | xargs -n 1 -L 1 pip install\n",
    "# except ModuleNotFoundError :\n",
    "#     !pip install -r \"ch3-requirements.txt\"\n",
    "\n",
    "# ==========================="
   ]
  },
  {
   "cell_type": "code",
   "execution_count": null,
   "metadata": {},
   "outputs": [
    {
     "data": {
      "text/plain": [
       "['dog bites man', 'man bites dog', 'dog eats meat', 'man eats food']"
      ]
     },
     "metadata": {},
     "output_type": "display_data"
    }
   ],
   "source": [
    "documents = [\"Dog bites man.\", \"Man bites dog.\", \"Dog eats meat.\", \"Man eats food.\"] #Same as the earlier notebook\n",
    "processed_docs = [doc.lower().replace(\".\",\"\") for doc in documents]\n",
    "processed_docs"
   ]
  },
  {
   "cell_type": "markdown",
   "metadata": {},
   "source": [
    "Now, let's do the main task of finding bag of words representation. We will use CountVectorizer from sklearn. "
   ]
  },
  {
   "cell_type": "code",
   "execution_count": null,
   "metadata": {},
   "outputs": [
    {
     "name": "stdout",
     "output_type": "stream",
     "text": [
      "Our corpus:  ['dog bites man', 'man bites dog', 'dog eats meat', 'man eats food']\n",
      "Our vocabulary:  {'dog': 1, 'bites': 0, 'man': 4, 'eats': 2, 'meat': 5, 'food': 3}\n",
      "BoW representation for 'dog bites man':  [[1 1 0 0 1 0]]\n",
      "BoW representation for 'man bites dog:  [[1 1 0 0 1 0]]\n",
      "Bow representation for 'dog and dog are friends': [[0 2 0 0 0 0]]\n"
     ]
    }
   ],
   "source": [
    "from sklearn.feature_extraction.text import CountVectorizer\n",
    "\n",
    "#look at the documents list\n",
    "print(\"Our corpus: \", processed_docs)\n",
    "\n",
    "count_vect = CountVectorizer()\n",
    "#Build a BOW representation for the corpus\n",
    "bow_rep = count_vect.fit_transform(processed_docs)\n",
    "\n",
    "#Look at the vocabulary mapping\n",
    "print(\"Our vocabulary: \", count_vect.vocabulary_)\n",
    "\n",
    "#see the BOW rep for first 2 documents\n",
    "print(\"BoW representation for 'dog bites man': \", bow_rep[0].toarray())\n",
    "print(\"BoW representation for 'man bites dog: \",bow_rep[1].toarray())\n",
    "\n",
    "#Get the representation using this vocabulary, for a new text\n",
    "temp = count_vect.transform([\"dog and dog are friends\"])\n",
    "print(\"Bow representation for 'dog and dog are friends':\", temp.toarray())"
   ]
  },
  {
   "cell_type": "markdown",
   "metadata": {},
   "source": [
    "In the above code, we represented the text considering the frequency of words into account. However, sometimes, we don't care about frequency much, but only want to know whether a word appeared in a text or not. That is, each document is represented as a vector of 0s and 1s. We will use the option binary=True in CountVectorizer for this purpose. "
   ]
  },
  {
   "cell_type": "code",
   "execution_count": null,
   "metadata": {},
   "outputs": [
    {
     "name": "stdout",
     "output_type": "stream",
     "text": [
      "Bow representation for 'dog and dog are friends': [[0 1 0 0 0 0]]\n"
     ]
    }
   ],
   "source": [
    "#BoW with binary vectors\n",
    "count_vect = CountVectorizer(binary=True)\n",
    "count_vect.fit(processed_docs)\n",
    "temp = count_vect.transform([\"dog and dog are friends\"])\n",
    "print(\"Bow representation for 'dog and dog are friends':\", temp.toarray())"
   ]
  },
  {
   "cell_type": "markdown",
   "metadata": {},
   "source": [
    "We will see how we can use BoW representation for Text Classification later in Chapter 4. "
   ]
  },
  {
   "cell_type": "markdown",
   "metadata": {},
   "source": []
  },
  {
   "attachments": {},
   "cell_type": "markdown",
   "metadata": {},
   "source": [
    "# 3"
   ]
  },
  {
   "cell_type": "markdown",
   "metadata": {},
   "source": []
  },
  {
   "cell_type": "markdown",
   "metadata": {},
   "source": [
    "## Bag of N-Grams\n",
    "\n",
    "##### One hot encoding, BoW and TF-IDF treat words as independent units. There is no notion of phrases or word ordering. Bag of Ngrams (BoN) approach tries to remedy this. It does so by breaking text into chunks of n countigous words/tokens. This can help us capture some context, which earlier approaches could not do. Let us see how it works using the same toy corpus we used in earlier examples. "
   ]
  },
  {
   "cell_type": "code",
   "execution_count": null,
   "metadata": {},
   "outputs": [
    {
     "name": "stdout",
     "output_type": "stream",
     "text": [
      "Collecting scikit-learn==0.21.3\n",
      "  Using cached scikit_learn-0.21.3-cp36-cp36m-win_amd64.whl (5.9 MB)\n",
      "Collecting joblib>=0.11\n",
      "  Using cached joblib-1.0.1-py3-none-any.whl (303 kB)\n",
      "Collecting numpy>=1.11.0\n",
      "  Using cached numpy-1.19.5-cp36-cp36m-win_amd64.whl (13.2 MB)\n",
      "Collecting scipy>=0.17.0\n",
      "  Using cached scipy-1.5.4-cp36-cp36m-win_amd64.whl (31.2 MB)\n",
      "Installing collected packages: numpy, scipy, joblib, scikit-learn\n",
      "Successfully installed joblib-1.0.1 numpy-1.19.5 scikit-learn-0.21.3 scipy-1.5.4\n"
     ]
    }
   ],
   "source": [
    "# To install only the requirements of this notebook, uncomment the lines below and run this cell\n",
    "\n",
    "# ===========================\n",
    "\n",
    "!pip install scikit-learn==0.21.3\n",
    "\n",
    "# ==========================="
   ]
  },
  {
   "cell_type": "code",
   "execution_count": null,
   "metadata": {},
   "outputs": [],
   "source": [
    "# To install the requirements for the entire chapter, uncomment the lines below and run this cell\n",
    "\n",
    "# ===========================\n",
    "\n",
    "# try :\n",
    "#     import google.colab\n",
    "#     !curl https://raw.githubusercontent.com/practical-nlp/practical-nlp/master/Ch3/ch3-requirements.txt | xargs -n 1 -L 1 pip install\n",
    "# except ModuleNotFoundError :\n",
    "#     !pip install -r \"ch3-requirements.txt\"\n",
    "\n",
    "# ==========================="
   ]
  },
  {
   "cell_type": "code",
   "execution_count": null,
   "metadata": {},
   "outputs": [
    {
     "data": {
      "text/plain": [
       "['dog bites man', 'man bites dog', 'dog eats meat', 'man eats food']"
      ]
     },
     "metadata": {},
     "output_type": "display_data"
    }
   ],
   "source": [
    "#our corpus\n",
    "documents = [\"Dog bites man.\", \"Man bites dog.\", \"Dog eats meat.\", \"Man eats food.\"]\n",
    "\n",
    "processed_docs = [doc.lower().replace(\".\",\"\") for doc in documents]\n",
    "processed_docs"
   ]
  },
  {
   "cell_type": "markdown",
   "metadata": {},
   "source": [
    "##### CountVectorizer, which we used for BoW, can be used for getting a Bag of N-grams representation as well, using its ngram_range argument. The code snippet below shows how: "
   ]
  },
  {
   "cell_type": "code",
   "execution_count": null,
   "metadata": {},
   "outputs": [
    {
     "name": "stdout",
     "output_type": "stream",
     "text": [
      "Our vocabulary:  {'dog': 3, 'bites': 0, 'man': 12, 'dog bites': 4, 'bites man': 2, 'dog bites man': 5, 'man bites': 13, 'bites dog': 1, 'man bites dog': 14, 'eats': 8, 'meat': 17, 'dog eats': 6, 'eats meat': 10, 'dog eats meat': 7, 'food': 11, 'man eats': 15, 'eats food': 9, 'man eats food': 16}\n",
      "BoW representation for 'dog bites man':  [[1 0 1 1 1 1 0 0 0 0 0 0 1 0 0 0 0 0]]\n",
      "BoW representation for 'man bites dog:  [[1 1 0 1 0 0 0 0 0 0 0 0 1 1 1 0 0 0]]\n",
      "Bow representation for 'dog and dog are friends': [[0 0 0 2 0 0 0 0 0 0 0 0 0 0 0 0 0 0]]\n"
     ]
    }
   ],
   "source": [
    "from sklearn.feature_extraction.text import CountVectorizer\n",
    "\n",
    "#Ngram vectorization example with count vectorizer and uni, bi, trigrams\n",
    "count_vect = CountVectorizer(ngram_range=(1,3))\n",
    "\n",
    "#Build a BOW representation for the corpus\n",
    "bow_rep = count_vect.fit_transform(processed_docs)\n",
    "\n",
    "#Look at the vocabulary mapping\n",
    "print(\"Our vocabulary: \", count_vect.vocabulary_)\n",
    "\n",
    "#see the BOW rep for first 2 documents\n",
    "print(\"BoW representation for 'dog bites man': \", bow_rep[0].toarray())\n",
    "print(\"BoW representation for 'man bites dog: \",bow_rep[1].toarray())\n",
    "\n",
    "#Get the representation using this vocabulary, for a new text\n",
    "temp = count_vect.transform([\"dog and dog are friends\"])\n",
    "\n",
    "print(\"Bow representation for 'dog and dog are friends':\", temp.toarray())"
   ]
  },
  {
   "cell_type": "markdown",
   "metadata": {},
   "source": [
    "##### Note that the number of features (and hence the size of the feature vector) increased a lot for the same data, compared to the ther single word based representations!!"
   ]
  },
  {
   "cell_type": "markdown",
   "metadata": {},
   "source": []
  },
  {
   "attachments": {},
   "cell_type": "markdown",
   "metadata": {},
   "source": [
    "# 4"
   ]
  },
  {
   "cell_type": "markdown",
   "metadata": {},
   "source": []
  },
  {
   "cell_type": "markdown",
   "metadata": {},
   "source": [
    "## TF-IDF\n",
    "\n",
    "In all the other approaches we saw so far, all the words in the text are treated equally important. There is no notion of some words in the document being more important than others. TF-IDF addresses this issue. It aims to quantify the importance of a given word relative to other words in the document and in the corpus. It was commonly used representation scheme for information retrieval systems, for extracting relevant documents from a corpus for given text query. \n",
    "\n",
    "This notebook shows a simple example of how to get the TF-IDF representation of a document using sklearn's TfidfVectorizer. "
   ]
  },
  {
   "cell_type": "code",
   "execution_count": null,
   "metadata": {},
   "outputs": [
    {
     "name": "stdout",
     "output_type": "stream",
     "text": [
      "Requirement already satisfied: scikit-learn==0.21.3 in c:\\users\\kumar apurv\\anaconda3\\envs\\ch3\\lib\\site-packages (0.21.3)\n",
      "Requirement already satisfied: numpy>=1.11.0 in c:\\users\\kumar apurv\\anaconda3\\envs\\ch3\\lib\\site-packages (from scikit-learn==0.21.3) (1.19.5)\n",
      "Requirement already satisfied: scipy>=0.17.0 in c:\\users\\kumar apurv\\anaconda3\\envs\\ch3\\lib\\site-packages (from scikit-learn==0.21.3) (1.5.4)\n",
      "Requirement already satisfied: joblib>=0.11 in c:\\users\\kumar apurv\\anaconda3\\envs\\ch3\\lib\\site-packages (from scikit-learn==0.21.3) (1.0.1)\n"
     ]
    }
   ],
   "source": [
    "# To install only the requirements of this notebook, uncomment the lines below and run this cell\n",
    "\n",
    "# ===========================\n",
    "\n",
    "!pip install scikit-learn==0.21.3\n",
    "\n",
    "# ==========================="
   ]
  },
  {
   "cell_type": "code",
   "execution_count": null,
   "metadata": {},
   "outputs": [],
   "source": [
    "# To install the requirements for the entire chapter, uncomment the lines below and run this cell\n",
    "\n",
    "# ===========================\n",
    "\n",
    "# try :\n",
    "#     import google.colab\n",
    "#     !curl https://raw.githubusercontent.com/practical-nlp/practical-nlp/master/Ch3/ch3-requirements.txt | xargs -n 1 -L 1 pip install\n",
    "# except ModuleNotFoundError :\n",
    "#     !pip install -r \"ch3-requirements.txt\"\n",
    "\n",
    "# ==========================="
   ]
  },
  {
   "cell_type": "code",
   "execution_count": null,
   "metadata": {},
   "outputs": [
    {
     "data": {
      "text/plain": [
       "['dog bites man', 'man bites dog', 'dog eats meat', 'man eats food']"
      ]
     },
     "metadata": {},
     "output_type": "display_data"
    }
   ],
   "source": [
    "documents = [\"Dog bites man.\", \"Man bites dog.\", \"Dog eats meat.\", \"Man eats food.\"]\n",
    "processed_docs = [doc.lower().replace(\".\",\"\") for doc in documents]\n",
    "processed_docs"
   ]
  },
  {
   "cell_type": "code",
   "execution_count": null,
   "metadata": {},
   "outputs": [
    {
     "name": "stdout",
     "output_type": "stream",
     "text": [
      "IDF for all words in the vocabulary [1.51082562 1.22314355 1.51082562 1.91629073 1.22314355 1.91629073]\n",
      "----------\n",
      "All words in the vocabulary ['bites', 'dog', 'eats', 'food', 'man', 'meat']\n",
      "----------\n",
      "TFIDF representation for all documents in our corpus\n",
      " [[0.65782931 0.53256952 0.         0.         0.53256952 0.        ]\n",
      " [0.65782931 0.53256952 0.         0.         0.53256952 0.        ]\n",
      " [0.         0.44809973 0.55349232 0.         0.         0.70203482]\n",
      " [0.         0.         0.55349232 0.70203482 0.44809973 0.        ]]\n",
      "----------\n",
      "Tfidf representation for 'dog and man are friends':\n",
      " [[0.         0.70710678 0.         0.         0.70710678 0.        ]]\n"
     ]
    }
   ],
   "source": [
    "from sklearn.feature_extraction.text import TfidfVectorizer\n",
    "\n",
    "tfidf = TfidfVectorizer()\n",
    "bow_rep_tfidf = tfidf.fit_transform(processed_docs)\n",
    "\n",
    "#IDF for all words in the vocabulary\n",
    "print(\"IDF for all words in the vocabulary\",tfidf.idf_)\n",
    "print(\"-\"*10)\n",
    "#All words in the vocabulary.\n",
    "print(\"All words in the vocabulary\",tfidf.get_feature_names())\n",
    "print(\"-\"*10)\n",
    "\n",
    "#TFIDF representation for all documents in our corpus \n",
    "print(\"TFIDF representation for all documents in our corpus\\n\",bow_rep_tfidf.toarray()) \n",
    "print(\"-\"*10)\n",
    "\n",
    "temp = tfidf.transform([\"dog and man are friends\"])\n",
    "print(\"Tfidf representation for 'dog and man are friends':\\n\", temp.toarray())"
   ]
  },
  {
   "cell_type": "markdown",
   "metadata": {},
   "source": [
    "We will see how this representation can be used for text classification later in chapter 4! "
   ]
  },
  {
   "cell_type": "markdown",
   "metadata": {},
   "source": []
  },
  {
   "attachments": {},
   "cell_type": "markdown",
   "metadata": {},
   "source": [
    "# 5"
   ]
  },
  {
   "cell_type": "markdown",
   "metadata": {},
   "source": []
  },
  {
   "cell_type": "markdown",
   "metadata": {},
   "source": [
    "In this notebook, let us see how we can represent text using pre-trained word embedding models. \n",
    "\n",
    "# 1. Using a pre-trained word2vec model\n",
    "\n",
    "Let us take an example of a pre-trained word2vec model, and how we can use it to look for most similar words. We will use the Google News vectors embeddings.\n",
    "https://drive.google.com/file/d/0B7XkCwpI5KDYNlNUTTlSS21pQmM\n",
    "\n",
    "A few other pre-trained word embedding models, and details on the means to access them through gensim can be found in:\n",
    "https://github.com/RaRe-Technologies/gensim-data"
   ]
  },
  {
   "cell_type": "code",
   "execution_count": null,
   "metadata": {},
   "outputs": [
    {
     "name": "stdout",
     "output_type": "stream",
     "text": [
      "Requirement already satisfied: scikit-learn==0.21.3 in /usr/local/lib/python3.7/dist-packages (0.21.3)\n",
      "Requirement already satisfied: joblib>=0.11 in /usr/local/lib/python3.7/dist-packages (from scikit-learn==0.21.3) (1.0.1)\n",
      "Requirement already satisfied: numpy>=1.11.0 in /usr/local/lib/python3.7/dist-packages (from scikit-learn==0.21.3) (1.19.5)\n",
      "Requirement already satisfied: scipy>=0.17.0 in /usr/local/lib/python3.7/dist-packages (from scikit-learn==0.21.3) (1.4.1)\n",
      "Requirement already satisfied: wget==3.2 in /usr/local/lib/python3.7/dist-packages (3.2)\n",
      "Requirement already satisfied: gensim==3.6.0 in /usr/local/lib/python3.7/dist-packages (3.6.0)\n",
      "Requirement already satisfied: scipy>=0.18.1 in /usr/local/lib/python3.7/dist-packages (from gensim==3.6.0) (1.4.1)\n",
      "Requirement already satisfied: numpy>=1.11.3 in /usr/local/lib/python3.7/dist-packages (from gensim==3.6.0) (1.19.5)\n",
      "Requirement already satisfied: six>=1.5.0 in /usr/local/lib/python3.7/dist-packages (from gensim==3.6.0) (1.15.0)\n",
      "Requirement already satisfied: smart-open>=1.2.1 in /usr/local/lib/python3.7/dist-packages (from gensim==3.6.0) (5.1.0)\n",
      "Requirement already satisfied: psutil==5.4.8 in /usr/local/lib/python3.7/dist-packages (5.4.8)\n",
      "Requirement already satisfied: spacy==2.2.4 in /usr/local/lib/python3.7/dist-packages (2.2.4)\n",
      "Requirement already satisfied: preshed<3.1.0,>=3.0.2 in /usr/local/lib/python3.7/dist-packages (from spacy==2.2.4) (3.0.5)\n",
      "Requirement already satisfied: setuptools in /usr/local/lib/python3.7/dist-packages (from spacy==2.2.4) (57.2.0)\n",
      "Requirement already satisfied: murmurhash<1.1.0,>=0.28.0 in /usr/local/lib/python3.7/dist-packages (from spacy==2.2.4) (1.0.5)\n",
      "Requirement already satisfied: srsly<1.1.0,>=1.0.2 in /usr/local/lib/python3.7/dist-packages (from spacy==2.2.4) (1.0.5)\n",
      "Requirement already satisfied: cymem<2.1.0,>=2.0.2 in /usr/local/lib/python3.7/dist-packages (from spacy==2.2.4) (2.0.5)\n",
      "Requirement already satisfied: wasabi<1.1.0,>=0.4.0 in /usr/local/lib/python3.7/dist-packages (from spacy==2.2.4) (0.8.2)\n",
      "Requirement already satisfied: catalogue<1.1.0,>=0.0.7 in /usr/local/lib/python3.7/dist-packages (from spacy==2.2.4) (1.0.0)\n",
      "Requirement already satisfied: tqdm<5.0.0,>=4.38.0 in /usr/local/lib/python3.7/dist-packages (from spacy==2.2.4) (4.41.1)\n",
      "Requirement already satisfied: numpy>=1.15.0 in /usr/local/lib/python3.7/dist-packages (from spacy==2.2.4) (1.19.5)\n",
      "Requirement already satisfied: thinc==7.4.0 in /usr/local/lib/python3.7/dist-packages (from spacy==2.2.4) (7.4.0)\n",
      "Requirement already satisfied: requests<3.0.0,>=2.13.0 in /usr/local/lib/python3.7/dist-packages (from spacy==2.2.4) (2.23.0)\n",
      "Requirement already satisfied: plac<1.2.0,>=0.9.6 in /usr/local/lib/python3.7/dist-packages (from spacy==2.2.4) (1.1.3)\n",
      "Requirement already satisfied: blis<0.5.0,>=0.4.0 in /usr/local/lib/python3.7/dist-packages (from spacy==2.2.4) (0.4.1)\n",
      "Requirement already satisfied: importlib-metadata>=0.20; python_version < \"3.8\" in /usr/local/lib/python3.7/dist-packages (from catalogue<1.1.0,>=0.0.7->spacy==2.2.4) (4.6.1)\n",
      "Requirement already satisfied: certifi>=2017.4.17 in /usr/local/lib/python3.7/dist-packages (from requests<3.0.0,>=2.13.0->spacy==2.2.4) (2021.5.30)\n",
      "Requirement already satisfied: urllib3!=1.25.0,!=1.25.1,<1.26,>=1.21.1 in /usr/local/lib/python3.7/dist-packages (from requests<3.0.0,>=2.13.0->spacy==2.2.4) (1.24.3)\n",
      "Requirement already satisfied: idna<3,>=2.5 in /usr/local/lib/python3.7/dist-packages (from requests<3.0.0,>=2.13.0->spacy==2.2.4) (2.10)\n",
      "Requirement already satisfied: chardet<4,>=3.0.2 in /usr/local/lib/python3.7/dist-packages (from requests<3.0.0,>=2.13.0->spacy==2.2.4) (3.0.4)\n",
      "Requirement already satisfied: typing-extensions>=3.6.4; python_version < \"3.8\" in /usr/local/lib/python3.7/dist-packages (from importlib-metadata>=0.20; python_version < \"3.8\"->catalogue<1.1.0,>=0.0.7->spacy==2.2.4) (3.7.4.3)\n",
      "Requirement already satisfied: zipp>=0.5 in /usr/local/lib/python3.7/dist-packages (from importlib-metadata>=0.20; python_version < \"3.8\"->catalogue<1.1.0,>=0.0.7->spacy==2.2.4) (3.5.0)\n"
     ]
    }
   ],
   "source": [
    "# To install only the requirements of this notebook, uncomment the lines below and run this cell\n",
    "\n",
    "# ===========================\n",
    "\n",
    "!pip install scikit-learn==0.21.3\n",
    "!pip install wget==3.2\n",
    "!pip install gensim==3.6.0\n",
    "!pip install psutil==5.4.8\n",
    "!pip install spacy==2.2.4\n",
    "\n",
    "# ==========================="
   ]
  },
  {
   "cell_type": "code",
   "execution_count": null,
   "metadata": {},
   "outputs": [],
   "source": [
    "# To install the requirements for the entire chapter, uncomment the lines below and run this cell\n",
    "\n",
    "# ===========================\n",
    "\n",
    "# try :\n",
    "#     import google.colab\n",
    "#     !curl https://raw.githubusercontent.com/practical-nlp/practical-nlp/master/Ch3/ch3-requirements.txt | xargs -n 1 -L 1 pip install\n",
    "# except ModuleNotFoundError :\n",
    "#     !pip install -r \"ch3-requirements.txt\"\n",
    "\n",
    "# ==========================="
   ]
  },
  {
   "cell_type": "code",
   "execution_count": null,
   "metadata": {},
   "outputs": [
    {
     "name": "stdout",
     "output_type": "stream",
     "text": [
      "Model at GoogleNews-vectors-negative300.bin\n"
     ]
    }
   ],
   "source": [
    "import os\n",
    "import wget\n",
    "import gzip\n",
    "import shutil\n",
    "\n",
    "gn_vec_path = \"GoogleNews-vectors-negative300.bin\"\n",
    "if not os.path.exists(\"GoogleNews-vectors-negative300.bin\"):\n",
    "    if not os.path.exists(\"../Ch2/GoogleNews-vectors-negative300.bin\"):\n",
    "        #Downloading the reqired model\n",
    "        if not os.path.exists(\"../Ch2/GoogleNews-vectors-negative300.bin.gz\"):\n",
    "            if not os.path.exists(\"GoogleNews-vectors-negative300.bin.gz\"):\n",
    "                wget.download(\"https://s3.amazonaws.com/dl4j-distribution/GoogleNews-vectors-negative300.bin.gz\")\n",
    "            gn_vec_zip_path = \"GoogleNews-vectors-negative300.bin.gz\"\n",
    "        else:\n",
    "            gn_vec_zip_path = \"../Ch2/GoogleNews-vectors-negative300.bin.gz\"\n",
    "        #Extracting the required model\n",
    "        with gzip.open(gn_vec_zip_path, 'rb') as f_in:\n",
    "            with open(gn_vec_path, 'wb') as f_out:\n",
    "                shutil.copyfileobj(f_in, f_out)\n",
    "    else:\n",
    "        gn_vec_path = \"../Ch2/\" + gn_vec_path\n",
    "\n",
    "print(f\"Model at {gn_vec_path}\")"
   ]
  },
  {
   "cell_type": "code",
   "execution_count": null,
   "metadata": {},
   "outputs": [],
   "source": [
    "import warnings #This module ignores the various types of warnings generated\n",
    "warnings.filterwarnings(\"ignore\") \n",
    "\n",
    "import psutil #This module helps in retrieving information on running processes and system resource utilization\n",
    "process = psutil.Process(os.getpid())\n",
    "from psutil import virtual_memory\n",
    "mem = virtual_memory()\n",
    "\n",
    "import time #This module is used to calculate the time  "
   ]
  },
  {
   "cell_type": "code",
   "execution_count": null,
   "metadata": {},
   "outputs": [
    {
     "name": "stdout",
     "output_type": "stream",
     "text": [
      "Memory used in GB before Loading the Model: 0.17\n",
      "----------\n",
      "46.47 seconds taken to load\n",
      "----------\n",
      "Finished loading Word2Vec\n",
      "----------\n",
      "Memory used in GB after Loading the Model: 5.06\n",
      "----------\n",
      "Percentage increase in memory usage: 3030.65% \n",
      "----------\n",
      "Numver of words in vocablulary:  3000000\n"
     ]
    }
   ],
   "source": [
    "from gensim.models import Word2Vec, KeyedVectors\n",
    "pretrainedpath = gn_vec_path\n",
    "\n",
    "#Load W2V model. This will take some time, but it is a one time effort! \n",
    "pre = process.memory_info().rss\n",
    "print(\"Memory used in GB before Loading the Model: %0.2f\"%float(pre/(10**9))) #Check memory usage before loading the model\n",
    "print('-'*10)\n",
    "\n",
    "start_time = time.time() #Start the timer\n",
    "ttl = mem.total #Toal memory available\n",
    "\n",
    "w2v_model = KeyedVectors.load_word2vec_format(pretrainedpath, binary=True) #load the model\n",
    "print(\"%0.2f seconds taken to load\"%float(time.time() - start_time)) #Calculate the total time elapsed since starting the timer\n",
    "print('-'*10)\n",
    "\n",
    "print('Finished loading Word2Vec')\n",
    "print('-'*10)\n",
    "\n",
    "post = process.memory_info().rss\n",
    "print(\"Memory used in GB after Loading the Model: {:.2f}\".format(float(post/(10**9)))) #Calculate the memory used after loading the model\n",
    "print('-'*10)\n",
    "\n",
    "print(\"Percentage increase in memory usage: {:.2f}% \".format(float((post/pre)*100))) #Percentage increase in memory after loading the model\n",
    "print('-'*10)\n",
    "\n",
    "print(\"Numver of words in vocablulary: \",len(w2v_model.vocab)) #Number of words in the vocabulary. "
   ]
  },
  {
   "cell_type": "code",
   "execution_count": null,
   "metadata": {},
   "outputs": [
    {
     "data": {
      "text/plain": [
       "[('gorgeous', 0.8353004455566406),\n",
       " ('lovely', 0.810693621635437),\n",
       " ('stunningly_beautiful', 0.7329413890838623),\n",
       " ('breathtakingly_beautiful', 0.7231341004371643),\n",
       " ('wonderful', 0.6854087114334106),\n",
       " ('fabulous', 0.6700063943862915),\n",
       " ('loveliest', 0.6612576246261597),\n",
       " ('prettiest', 0.6595001816749573),\n",
       " ('beatiful', 0.6593326330184937),\n",
       " ('magnificent', 0.6591402292251587)]"
      ]
     },
     "metadata": {},
     "output_type": "display_data"
    }
   ],
   "source": [
    "#Let us examine the model by knowing what the most similar words are, for a given word!\n",
    "w2v_model.most_similar('beautiful')"
   ]
  },
  {
   "cell_type": "code",
   "execution_count": null,
   "metadata": {},
   "outputs": [
    {
     "data": {
      "text/plain": [
       "[('montreal', 0.698411226272583),\n",
       " ('vancouver', 0.6587257385253906),\n",
       " ('nyc', 0.6248831748962402),\n",
       " ('alberta', 0.6179691553115845),\n",
       " ('boston', 0.611499547958374),\n",
       " ('calgary', 0.61032634973526),\n",
       " ('edmonton', 0.6100261211395264),\n",
       " ('canadian', 0.5944076776504517),\n",
       " ('chicago', 0.5911980271339417),\n",
       " ('springfield', 0.5888351202011108)]"
      ]
     },
     "metadata": {},
     "output_type": "display_data"
    }
   ],
   "source": [
    "#Let us try with another word! \n",
    "w2v_model.most_similar('toronto')"
   ]
  },
  {
   "cell_type": "code",
   "execution_count": null,
   "metadata": {},
   "outputs": [
    {
     "data": {
      "text/plain": [
       "array([ 1.07421875e-01, -2.01171875e-01,  1.23046875e-01,  2.11914062e-01,\n",
       "       -9.13085938e-02,  2.16796875e-01, -1.31835938e-01,  8.30078125e-02,\n",
       "        2.02148438e-01,  4.78515625e-02,  3.66210938e-02, -2.45361328e-02,\n",
       "        2.39257812e-02, -1.60156250e-01, -2.61230469e-02,  9.71679688e-02,\n",
       "       -6.34765625e-02,  1.84570312e-01,  1.70898438e-01, -1.63085938e-01,\n",
       "       -1.09375000e-01,  1.49414062e-01, -4.65393066e-04,  9.61914062e-02,\n",
       "        1.68945312e-01,  2.60925293e-03,  8.93554688e-02,  6.49414062e-02,\n",
       "        3.56445312e-02, -6.93359375e-02, -1.46484375e-01, -1.21093750e-01,\n",
       "       -2.27539062e-01,  2.45361328e-02, -1.24511719e-01, -3.18359375e-01,\n",
       "       -2.20703125e-01,  1.30859375e-01,  3.66210938e-02, -3.63769531e-02,\n",
       "       -1.13281250e-01,  1.95312500e-01,  9.76562500e-02,  1.26953125e-01,\n",
       "        6.59179688e-02,  6.93359375e-02,  1.02539062e-02,  1.75781250e-01,\n",
       "       -1.68945312e-01,  1.21307373e-03, -2.98828125e-01, -1.15234375e-01,\n",
       "        5.66406250e-02, -1.77734375e-01, -2.08984375e-01,  1.76757812e-01,\n",
       "        2.38037109e-02, -2.57812500e-01, -4.46777344e-02,  1.88476562e-01,\n",
       "        5.51757812e-02,  5.02929688e-02, -1.06933594e-01,  1.89453125e-01,\n",
       "       -1.16210938e-01,  8.49609375e-02, -1.71875000e-01,  2.45117188e-01,\n",
       "       -1.73828125e-01, -8.30078125e-03,  4.56542969e-02, -1.61132812e-02,\n",
       "        1.86523438e-01, -6.05468750e-02, -4.17480469e-02,  1.82617188e-01,\n",
       "        2.20703125e-01, -1.22558594e-01, -2.55126953e-02, -3.08593750e-01,\n",
       "        9.13085938e-02,  1.60156250e-01,  1.70898438e-01,  1.19628906e-01,\n",
       "        7.08007812e-02, -2.64892578e-02, -3.08837891e-02,  4.06250000e-01,\n",
       "       -1.01562500e-01,  5.71289062e-02, -7.26318359e-03, -9.17968750e-02,\n",
       "       -1.50390625e-01, -2.55859375e-01,  2.16796875e-01, -3.63769531e-02,\n",
       "        2.24609375e-01,  8.00781250e-02,  1.56250000e-01,  5.27343750e-02,\n",
       "        1.50390625e-01, -1.14746094e-01, -8.64257812e-02,  1.19140625e-01,\n",
       "       -7.17773438e-02,  2.73437500e-01, -1.64062500e-01,  7.29370117e-03,\n",
       "        4.21875000e-01, -1.12792969e-01, -1.35742188e-01, -1.31835938e-01,\n",
       "       -1.37695312e-01, -7.66601562e-02,  6.25000000e-02,  4.98046875e-02,\n",
       "       -1.91406250e-01, -6.03027344e-02,  2.27539062e-01,  5.88378906e-02,\n",
       "       -3.24218750e-01,  5.41992188e-02, -1.35742188e-01,  8.17871094e-03,\n",
       "       -5.24902344e-02, -1.74713135e-03, -9.81445312e-02, -2.86865234e-02,\n",
       "        3.61328125e-02,  2.15820312e-01,  5.98144531e-02, -3.08593750e-01,\n",
       "       -2.27539062e-01,  2.61718750e-01,  9.86328125e-02, -5.07812500e-02,\n",
       "        1.78222656e-02,  1.31835938e-01, -5.35156250e-01, -1.81640625e-01,\n",
       "        1.38671875e-01, -3.10546875e-01, -9.71679688e-02,  1.31835938e-01,\n",
       "       -1.16210938e-01,  7.03125000e-02,  2.85156250e-01,  3.51562500e-02,\n",
       "       -1.01562500e-01, -3.75976562e-02,  1.41601562e-01,  1.42578125e-01,\n",
       "       -5.68847656e-02,  2.65625000e-01, -2.09960938e-01,  9.64355469e-03,\n",
       "       -6.68945312e-02, -4.83398438e-02, -6.10351562e-02,  2.45117188e-01,\n",
       "       -9.66796875e-02,  1.78222656e-02, -1.27929688e-01, -4.78515625e-02,\n",
       "       -7.26318359e-03,  1.79687500e-01,  2.78320312e-02, -2.10937500e-01,\n",
       "       -1.43554688e-01, -1.27929688e-01,  1.73339844e-02, -3.60107422e-03,\n",
       "       -2.04101562e-01,  3.63159180e-03, -1.19628906e-01, -6.15234375e-02,\n",
       "        5.93261719e-02, -3.23486328e-03, -1.70898438e-01, -3.14941406e-02,\n",
       "       -8.88671875e-02, -2.89062500e-01,  3.44238281e-02, -1.87500000e-01,\n",
       "        2.94921875e-01,  1.58203125e-01, -1.19628906e-01,  7.61718750e-02,\n",
       "        6.39648438e-02, -4.68750000e-02, -6.83593750e-02,  1.21459961e-02,\n",
       "       -1.44531250e-01,  4.54101562e-02,  3.68652344e-02,  3.88671875e-01,\n",
       "        1.45507812e-01, -2.55859375e-01, -4.46777344e-02, -1.33789062e-01,\n",
       "       -1.38671875e-01,  6.59179688e-02,  1.37695312e-01,  1.14746094e-01,\n",
       "        2.03125000e-01, -4.78515625e-02,  1.80664062e-02, -8.54492188e-02,\n",
       "       -2.48046875e-01, -3.39843750e-01, -2.83203125e-02,  1.05468750e-01,\n",
       "       -2.14843750e-01, -8.74023438e-02,  7.12890625e-02,  1.87500000e-01,\n",
       "       -1.12304688e-01,  2.73437500e-01, -3.26171875e-01, -1.77734375e-01,\n",
       "       -4.24804688e-02, -2.69531250e-01,  6.64062500e-02, -6.88476562e-02,\n",
       "       -1.99218750e-01, -7.03125000e-02, -2.43164062e-01, -3.66210938e-02,\n",
       "       -7.37304688e-02, -1.77734375e-01,  9.17968750e-02, -1.25000000e-01,\n",
       "       -1.65039062e-01, -3.57421875e-01, -2.85156250e-01, -1.66992188e-01,\n",
       "        1.97265625e-01, -1.53320312e-01,  2.31933594e-02,  2.06054688e-01,\n",
       "        1.80664062e-01, -2.74658203e-02, -1.92382812e-01, -9.61914062e-02,\n",
       "       -1.06811523e-02, -4.73632812e-02,  6.54296875e-02, -1.25732422e-02,\n",
       "        1.78222656e-02, -8.00781250e-02, -2.59765625e-01,  9.37500000e-02,\n",
       "       -7.81250000e-02,  4.68750000e-02, -2.22167969e-02,  1.86767578e-02,\n",
       "        3.11279297e-02,  1.04980469e-02, -1.69921875e-01,  2.58789062e-02,\n",
       "       -3.41796875e-02, -1.44042969e-02, -5.46875000e-02, -8.78906250e-02,\n",
       "        1.96838379e-03,  2.23632812e-01, -1.36718750e-01,  1.75781250e-01,\n",
       "       -1.63085938e-01,  1.87500000e-01,  3.44238281e-02, -5.63964844e-02,\n",
       "       -2.27689743e-05,  4.27246094e-02,  5.81054688e-02, -1.07910156e-01,\n",
       "       -3.88183594e-02, -2.69531250e-01,  3.34472656e-02,  9.81445312e-02,\n",
       "        5.63964844e-02,  2.23632812e-01, -5.49316406e-02,  1.46484375e-01,\n",
       "        5.93261719e-02, -2.19726562e-01,  6.39648438e-02,  1.66015625e-02,\n",
       "        4.56542969e-02,  3.26171875e-01, -3.80859375e-01,  1.70898438e-01,\n",
       "        5.66406250e-02, -1.04492188e-01,  1.38671875e-01, -1.57226562e-01,\n",
       "        3.23486328e-03, -4.80957031e-02, -2.48046875e-01, -6.20117188e-02],\n",
       "      dtype=float32)"
      ]
     },
     "metadata": {},
     "output_type": "display_data"
    }
   ],
   "source": [
    "#What is the vector representation for a word? \n",
    "w2v_model['computer']"
   ]
  },
  {
   "cell_type": "code",
   "execution_count": null,
   "metadata": {},
   "outputs": [
    {
     "ename": "KeyError",
     "evalue": "ignored",
     "output_type": "error",
     "traceback": [
      "\u001b[0;31m---------------------------------------------------------------------------\u001b[0m\n",
      "\u001b[0;31mKeyError\u001b[0m                                  Traceback (most recent call last)\n",
      "\u001b[0;32m<ipython-input-9-354849ef77a2>\u001b[0m in \u001b[0;36m<module>\u001b[0;34m()\u001b[0m\n",
      "\u001b[1;32m      1\u001b[0m \u001b[0;31m#What if I am looking for a word that is not in this vocabulary?\u001b[0m\u001b[0;34m\u001b[0m\u001b[0;34m\u001b[0m\u001b[0;34m\u001b[0m\u001b[0m\n",
      "\u001b[0;32m----> 2\u001b[0;31m \u001b[0mw2v_model\u001b[0m\u001b[0;34m[\u001b[0m\u001b[0;34m'practicalnlp'\u001b[0m\u001b[0;34m]\u001b[0m\u001b[0;34m\u001b[0m\u001b[0;34m\u001b[0m\u001b[0m\n",
      "\u001b[0m\n",
      "\u001b[0;32m/usr/local/lib/python3.7/dist-packages/gensim/models/keyedvectors.py\u001b[0m in \u001b[0;36m__getitem__\u001b[0;34m(self, entities)\u001b[0m\n",
      "\u001b[1;32m    335\u001b[0m         \u001b[0;32mif\u001b[0m \u001b[0misinstance\u001b[0m\u001b[0;34m(\u001b[0m\u001b[0mentities\u001b[0m\u001b[0;34m,\u001b[0m \u001b[0mstring_types\u001b[0m\u001b[0;34m)\u001b[0m\u001b[0;34m:\u001b[0m\u001b[0;34m\u001b[0m\u001b[0;34m\u001b[0m\u001b[0m\n",
      "\u001b[1;32m    336\u001b[0m             \u001b[0;31m# allow calls like trained_model['office'], as a shorthand for trained_model[['office']]\u001b[0m\u001b[0;34m\u001b[0m\u001b[0;34m\u001b[0m\u001b[0;34m\u001b[0m\u001b[0m\n",
      "\u001b[0;32m--> 337\u001b[0;31m             \u001b[0;32mreturn\u001b[0m \u001b[0mself\u001b[0m\u001b[0;34m.\u001b[0m\u001b[0mget_vector\u001b[0m\u001b[0;34m(\u001b[0m\u001b[0mentities\u001b[0m\u001b[0;34m)\u001b[0m\u001b[0;34m\u001b[0m\u001b[0;34m\u001b[0m\u001b[0m\n",
      "\u001b[0m\u001b[1;32m    338\u001b[0m \u001b[0;34m\u001b[0m\u001b[0m\n",
      "\u001b[1;32m    339\u001b[0m         \u001b[0;32mreturn\u001b[0m \u001b[0mvstack\u001b[0m\u001b[0;34m(\u001b[0m\u001b[0;34m[\u001b[0m\u001b[0mself\u001b[0m\u001b[0;34m.\u001b[0m\u001b[0mget_vector\u001b[0m\u001b[0;34m(\u001b[0m\u001b[0mentity\u001b[0m\u001b[0;34m)\u001b[0m \u001b[0;32mfor\u001b[0m \u001b[0mentity\u001b[0m \u001b[0;32min\u001b[0m \u001b[0mentities\u001b[0m\u001b[0;34m]\u001b[0m\u001b[0;34m)\u001b[0m\u001b[0;34m\u001b[0m\u001b[0;34m\u001b[0m\u001b[0m\n",
      "\n",
      "\u001b[0;32m/usr/local/lib/python3.7/dist-packages/gensim/models/keyedvectors.py\u001b[0m in \u001b[0;36mget_vector\u001b[0;34m(self, word)\u001b[0m\n",
      "\u001b[1;32m    453\u001b[0m \u001b[0;34m\u001b[0m\u001b[0m\n",
      "\u001b[1;32m    454\u001b[0m     \u001b[0;32mdef\u001b[0m \u001b[0mget_vector\u001b[0m\u001b[0;34m(\u001b[0m\u001b[0mself\u001b[0m\u001b[0;34m,\u001b[0m \u001b[0mword\u001b[0m\u001b[0;34m)\u001b[0m\u001b[0;34m:\u001b[0m\u001b[0;34m\u001b[0m\u001b[0;34m\u001b[0m\u001b[0m\n",
      "\u001b[0;32m--> 455\u001b[0;31m         \u001b[0;32mreturn\u001b[0m \u001b[0mself\u001b[0m\u001b[0;34m.\u001b[0m\u001b[0mword_vec\u001b[0m\u001b[0;34m(\u001b[0m\u001b[0mword\u001b[0m\u001b[0;34m)\u001b[0m\u001b[0;34m\u001b[0m\u001b[0;34m\u001b[0m\u001b[0m\n",
      "\u001b[0m\u001b[1;32m    456\u001b[0m \u001b[0;34m\u001b[0m\u001b[0m\n",
      "\u001b[1;32m    457\u001b[0m     \u001b[0;32mdef\u001b[0m \u001b[0mwords_closer_than\u001b[0m\u001b[0;34m(\u001b[0m\u001b[0mself\u001b[0m\u001b[0;34m,\u001b[0m \u001b[0mw1\u001b[0m\u001b[0;34m,\u001b[0m \u001b[0mw2\u001b[0m\u001b[0;34m)\u001b[0m\u001b[0;34m:\u001b[0m\u001b[0;34m\u001b[0m\u001b[0;34m\u001b[0m\u001b[0m\n",
      "\n",
      "\u001b[0;32m/usr/local/lib/python3.7/dist-packages/gensim/models/keyedvectors.py\u001b[0m in \u001b[0;36mword_vec\u001b[0;34m(self, word, use_norm)\u001b[0m\n",
      "\u001b[1;32m    450\u001b[0m             \u001b[0;32mreturn\u001b[0m \u001b[0mresult\u001b[0m\u001b[0;34m\u001b[0m\u001b[0;34m\u001b[0m\u001b[0m\n",
      "\u001b[1;32m    451\u001b[0m         \u001b[0;32melse\u001b[0m\u001b[0;34m:\u001b[0m\u001b[0;34m\u001b[0m\u001b[0;34m\u001b[0m\u001b[0m\n",
      "\u001b[0;32m--> 452\u001b[0;31m             \u001b[0;32mraise\u001b[0m \u001b[0mKeyError\u001b[0m\u001b[0;34m(\u001b[0m\u001b[0;34m\"word '%s' not in vocabulary\"\u001b[0m \u001b[0;34m%\u001b[0m \u001b[0mword\u001b[0m\u001b[0;34m)\u001b[0m\u001b[0;34m\u001b[0m\u001b[0;34m\u001b[0m\u001b[0m\n",
      "\u001b[0m\u001b[1;32m    453\u001b[0m \u001b[0;34m\u001b[0m\u001b[0m\n",
      "\u001b[1;32m    454\u001b[0m     \u001b[0;32mdef\u001b[0m \u001b[0mget_vector\u001b[0m\u001b[0;34m(\u001b[0m\u001b[0mself\u001b[0m\u001b[0;34m,\u001b[0m \u001b[0mword\u001b[0m\u001b[0;34m)\u001b[0m\u001b[0;34m:\u001b[0m\u001b[0;34m\u001b[0m\u001b[0;34m\u001b[0m\u001b[0m\n",
      "\n",
      "\u001b[0;31mKeyError\u001b[0m: \"word 'practicalnlp' not in vocabulary\""
     ]
    }
   ],
   "source": [
    "#What if I am looking for a word that is not in this vocabulary?\n",
    "w2v_model['practicalnlp']"
   ]
  },
  {
   "cell_type": "markdown",
   "metadata": {},
   "source": [
    "#### Two things to note while using pre-trained models: \n",
    "\n",
    "\n",
    "1.   Tokens/Words are always lowercased. If a word is not in the vocabulary,   the model throws an exception.\n",
    "2.   So, it is always a good idea to encapsulate those statements in try/except blocks.\n",
    "\n",
    " "
   ]
  },
  {
   "cell_type": "markdown",
   "metadata": {},
   "source": [
    "# 2. Getting the embedding representation for full text\n",
    "\n",
    "We have seen how to get embedding vectors for single words. How do we use them to get such a representation for a full text? A simple way is to just sum or average the embeddings for individual words. We will see an example of this using Word2Vec in Chapter 4. Let us see a small example using another NLP library Spacy - which we saw earlier in Chapter 2 too.\n"
   ]
  },
  {
   "cell_type": "code",
   "execution_count": null,
   "metadata": {},
   "outputs": [
    {
     "name": "stdout",
     "output_type": "stream",
     "text": [
      "Requirement already satisfied: en_core_web_md==2.2.5 from https://github.com/explosion/spacy-models/releases/download/en_core_web_md-2.2.5/en_core_web_md-2.2.5.tar.gz#egg=en_core_web_md==2.2.5 in /usr/local/lib/python3.7/dist-packages (2.2.5)\n",
      "Requirement already satisfied: spacy>=2.2.2 in /usr/local/lib/python3.7/dist-packages (from en_core_web_md==2.2.5) (2.2.4)\n",
      "Requirement already satisfied: thinc==7.4.0 in /usr/local/lib/python3.7/dist-packages (from spacy>=2.2.2->en_core_web_md==2.2.5) (7.4.0)\n",
      "Requirement already satisfied: catalogue<1.1.0,>=0.0.7 in /usr/local/lib/python3.7/dist-packages (from spacy>=2.2.2->en_core_web_md==2.2.5) (1.0.0)\n",
      "Requirement already satisfied: requests<3.0.0,>=2.13.0 in /usr/local/lib/python3.7/dist-packages (from spacy>=2.2.2->en_core_web_md==2.2.5) (2.23.0)\n",
      "Requirement already satisfied: srsly<1.1.0,>=1.0.2 in /usr/local/lib/python3.7/dist-packages (from spacy>=2.2.2->en_core_web_md==2.2.5) (1.0.5)\n",
      "Requirement already satisfied: wasabi<1.1.0,>=0.4.0 in /usr/local/lib/python3.7/dist-packages (from spacy>=2.2.2->en_core_web_md==2.2.5) (0.8.2)\n",
      "Requirement already satisfied: murmurhash<1.1.0,>=0.28.0 in /usr/local/lib/python3.7/dist-packages (from spacy>=2.2.2->en_core_web_md==2.2.5) (1.0.5)\n",
      "Requirement already satisfied: plac<1.2.0,>=0.9.6 in /usr/local/lib/python3.7/dist-packages (from spacy>=2.2.2->en_core_web_md==2.2.5) (1.1.3)\n",
      "Requirement already satisfied: blis<0.5.0,>=0.4.0 in /usr/local/lib/python3.7/dist-packages (from spacy>=2.2.2->en_core_web_md==2.2.5) (0.4.1)\n",
      "Requirement already satisfied: cymem<2.1.0,>=2.0.2 in /usr/local/lib/python3.7/dist-packages (from spacy>=2.2.2->en_core_web_md==2.2.5) (2.0.5)\n",
      "Requirement already satisfied: setuptools in /usr/local/lib/python3.7/dist-packages (from spacy>=2.2.2->en_core_web_md==2.2.5) (57.2.0)\n",
      "Requirement already satisfied: preshed<3.1.0,>=3.0.2 in /usr/local/lib/python3.7/dist-packages (from spacy>=2.2.2->en_core_web_md==2.2.5) (3.0.5)\n",
      "Requirement already satisfied: numpy>=1.15.0 in /usr/local/lib/python3.7/dist-packages (from spacy>=2.2.2->en_core_web_md==2.2.5) (1.19.5)\n",
      "Requirement already satisfied: tqdm<5.0.0,>=4.38.0 in /usr/local/lib/python3.7/dist-packages (from spacy>=2.2.2->en_core_web_md==2.2.5) (4.41.1)\n",
      "Requirement already satisfied: importlib-metadata>=0.20; python_version < \"3.8\" in /usr/local/lib/python3.7/dist-packages (from catalogue<1.1.0,>=0.0.7->spacy>=2.2.2->en_core_web_md==2.2.5) (4.6.1)\n",
      "Requirement already satisfied: idna<3,>=2.5 in /usr/local/lib/python3.7/dist-packages (from requests<3.0.0,>=2.13.0->spacy>=2.2.2->en_core_web_md==2.2.5) (2.10)\n",
      "Requirement already satisfied: certifi>=2017.4.17 in /usr/local/lib/python3.7/dist-packages (from requests<3.0.0,>=2.13.0->spacy>=2.2.2->en_core_web_md==2.2.5) (2021.5.30)\n",
      "Requirement already satisfied: chardet<4,>=3.0.2 in /usr/local/lib/python3.7/dist-packages (from requests<3.0.0,>=2.13.0->spacy>=2.2.2->en_core_web_md==2.2.5) (3.0.4)\n",
      "Requirement already satisfied: urllib3!=1.25.0,!=1.25.1,<1.26,>=1.21.1 in /usr/local/lib/python3.7/dist-packages (from requests<3.0.0,>=2.13.0->spacy>=2.2.2->en_core_web_md==2.2.5) (1.24.3)\n",
      "Requirement already satisfied: typing-extensions>=3.6.4; python_version < \"3.8\" in /usr/local/lib/python3.7/dist-packages (from importlib-metadata>=0.20; python_version < \"3.8\"->catalogue<1.1.0,>=0.0.7->spacy>=2.2.2->en_core_web_md==2.2.5) (3.7.4.3)\n",
      "Requirement already satisfied: zipp>=0.5 in /usr/local/lib/python3.7/dist-packages (from importlib-metadata>=0.20; python_version < \"3.8\"->catalogue<1.1.0,>=0.0.7->spacy>=2.2.2->en_core_web_md==2.2.5) (3.5.0)\n",
      "\u001b[38;5;2m✔ Download and installation successful\u001b[0m\n",
      "You can now load the model via spacy.load('en_core_web_md')\n"
     ]
    }
   ],
   "source": [
    "!python -m spacy download en_core_web_md"
   ]
  },
  {
   "cell_type": "code",
   "execution_count": null,
   "metadata": {},
   "outputs": [
    {
     "name": "stdout",
     "output_type": "stream",
     "text": [
      "CPU times: user 3 µs, sys: 1 µs, total: 4 µs\n",
      "Wall time: 6.91 µs\n",
      "[-1.12055197e-01  2.26087615e-01 -5.15111461e-02 -1.21812008e-01\n",
      "  4.13958639e-01 -8.56475979e-02 -2.84600933e-03 -2.26096585e-01\n",
      "  6.98113963e-02  2.27946019e+00 -4.49774921e-01 -6.39050007e-02\n",
      " -1.80326015e-01 -8.79765972e-02  9.93399299e-04 -1.57384202e-01\n",
      " -1.23817801e-01  1.54990411e+00  2.00794004e-02  1.38399601e-01\n",
      " -1.48897991e-01 -2.23025799e-01 -1.48171991e-01  4.68924567e-02\n",
      " -3.17026004e-02  1.19096041e-02 -6.10985979e-02  9.57068056e-02\n",
      "  9.37099904e-02  1.70955807e-01 -9.29740071e-03  7.88536817e-02\n",
      "  1.74508005e-01 -1.04450598e-01  1.04872189e-01 -1.16961405e-01\n",
      "  6.23028055e-02 -2.23016590e-01 -1.44107476e-01 -2.03423887e-01\n",
      "  2.61404991e-01  2.43404001e-01  1.51980996e-01 -1.12484001e-01\n",
      "  1.18055798e-01 -9.51323956e-02  8.66319984e-02 -2.54322797e-01\n",
      "  3.84932049e-02  1.18278004e-01 -3.21602583e-01  3.73764008e-01\n",
      "  1.13018408e-01 -8.05834010e-02  1.84921592e-01  9.38879885e-03\n",
      "  1.22166201e-01 -3.24288011e-02  1.01590000e-01 -1.56877995e-01\n",
      " -2.57006437e-02  1.63392588e-01  1.06118001e-01  2.25193188e-01\n",
      "  8.06204006e-02 -1.21081993e-01 -1.52107209e-01  8.25726017e-02\n",
      " -6.09899946e-02  1.44145802e-01  2.01554038e-02  2.54258011e-02\n",
      "  1.06071997e-02  6.37948066e-02  1.10551611e-01 -6.40176088e-02\n",
      " -6.36451989e-02 -9.99798030e-02 -7.01020136e-02  3.09334368e-01\n",
      "  5.68300001e-02  3.63879651e-03 -1.65255398e-01  2.98442870e-01\n",
      "  4.01660334e-03 -1.73631594e-01  5.15965708e-02  1.61811799e-01\n",
      "  2.20304996e-01 -8.29614028e-02 -2.64678001e-01  2.44114012e-01\n",
      "  3.48895532e-03 -1.57521993e-01  1.67974800e-01  1.05541132e-01\n",
      " -1.31224409e-01  7.17941970e-02  1.39708191e-01 -1.95359858e-03\n",
      " -8.55428055e-02  1.20119795e-01 -6.84404075e-02  5.14601183e-04\n",
      " -2.86250003e-02 -1.10662603e+00  2.02491835e-01 -1.50410801e-01\n",
      "  6.51507173e-03 -3.30360234e-03  1.21523812e-01 -1.61614027e-02\n",
      " -1.43233404e-01 -9.88139957e-02 -2.17486005e-02  1.81988999e-01\n",
      "  8.85506049e-02  2.72242010e-01 -7.73219988e-02  1.43622067e-02\n",
      " -1.57062009e-01  4.01146002e-02  3.90305184e-02 -1.42812401e-01\n",
      " -2.08329991e-01  9.64459926e-02  1.42821997e-01 -1.94155991e-01\n",
      "  5.37982993e-02 -1.00471973e-02  1.94714032e-02 -9.83514041e-02\n",
      " -4.17162031e-02  1.23069003e-01  1.68428212e-01 -1.17991492e-01\n",
      " -2.56704390e-01 -1.89464003e-01  9.22677964e-02 -1.72503412e-01\n",
      " -1.11929202e+00  6.42500073e-03  3.51435989e-01  8.19059983e-02\n",
      "  4.92408946e-02 -1.80243999e-01  1.82863399e-01  8.92240033e-02\n",
      "  2.47399211e-01  2.74492018e-02 -2.49322020e-02  2.35055804e-01\n",
      "  8.12319964e-02 -1.86482631e-02 -1.06439434e-01  5.28851971e-02\n",
      " -1.02569997e-01  1.35777995e-01 -2.32603997e-01  9.24602076e-02\n",
      "  1.92440599e-01  1.48551196e-01  5.57186007e-02  3.97088043e-02\n",
      " -6.74048066e-03  9.73687991e-02  2.62231939e-02 -8.26509967e-02\n",
      "  1.30085424e-01 -1.38572007e-01 -4.11808006e-02 -4.13070023e-02\n",
      " -3.41880023e-02  1.28202796e-01 -6.66912049e-02 -7.41944537e-02\n",
      " -5.87003939e-02  1.36300415e-01  1.67494014e-01  1.71119809e-01\n",
      "  1.18692197e-01  2.30142009e-02 -2.06086040e-02 -3.85930002e-01\n",
      " -1.17673976e-02 -7.34595209e-02 -3.43096368e-02 -7.80718103e-02\n",
      " -2.81003956e-02 -7.30765983e-02 -2.21649408e-01 -1.02057599e-01\n",
      "  5.11020012e-02 -9.07440037e-02 -4.69896048e-02 -2.10200553e-03\n",
      "  1.05816983e-01  4.79107983e-02  1.03080198e-01 -8.96641985e-02\n",
      "  8.85651931e-02 -9.09178331e-02 -5.16167991e-02  1.50742605e-01\n",
      "  3.07500213e-01 -4.05239780e-03  1.04269005e-01  3.55780013e-02\n",
      "  1.16165996e-01 -2.97939777e-03 -1.42966792e-01  5.00957891e-02\n",
      " -1.08308598e-01  1.68199837e-03  1.36314392e-01  1.48694202e-01\n",
      " -3.17817986e-01  1.21000603e-01 -1.59556001e-01  7.51644000e-02\n",
      " -1.03386201e-01  1.10754207e-01  8.20529982e-02 -6.02059904e-03\n",
      "  1.35578603e-01 -4.08943966e-02  6.05328009e-02  1.03734590e-01\n",
      " -6.22724071e-02  2.30276197e-01  1.30762011e-01  1.51950002e-01\n",
      "  7.40183964e-02 -1.84507206e-01 -1.33174613e-01 -1.49338007e-01\n",
      "  1.19309977e-01 -2.41554022e-01 -1.00904807e-01  1.54562384e-01\n",
      " -7.63845369e-02  1.66379198e-01  2.20374197e-01  1.58361979e-02\n",
      "  1.80677801e-01 -1.77342609e-01  2.22857997e-01 -2.99477577e-01\n",
      " -1.53620601e-01 -2.67919600e-01  1.56353399e-01 -1.74718007e-01\n",
      "  1.83644608e-01  1.28259212e-01 -6.30084053e-02  2.68236816e-01\n",
      "  2.10368007e-01 -4.73994762e-02 -1.09680817e-01  1.62620202e-01\n",
      "  8.96113962e-02  1.50361210e-01 -1.55037967e-02  1.50141995e-02\n",
      "  1.76618043e-02 -2.28057191e-01  7.85290003e-02 -4.59632799e-02\n",
      "  1.98103897e-02 -1.71379801e-02 -1.45676598e-01 -3.32076550e-02\n",
      " -2.09102005e-01 -2.48584002e-01 -8.51256028e-02  4.25900035e-02\n",
      " -1.33966401e-01  2.89979968e-02  2.10713193e-01 -1.86206046e-02\n",
      "  1.71603993e-01  2.21868396e-01 -2.10479975e-01  1.49794608e-01\n",
      " -1.10692397e-01 -4.47340589e-03  5.13652042e-02 -7.27116019e-02\n",
      "  6.07413948e-02 -8.13369974e-02 -1.94639400e-01 -5.06809242e-02\n",
      "  6.40980080e-02 -2.20814198e-01  2.96969917e-02  1.53438210e-01\n",
      " -2.18270030e-02 -1.93358198e-01 -2.26220220e-01  1.84093148e-01]\n"
     ]
    }
   ],
   "source": [
    "import spacy\n",
    "\n",
    "%time \n",
    "nlp = spacy.load('en_core_web_md')\n",
    "# process a sentence using the model\n",
    "mydoc = nlp(\"Canada is a large country\")\n",
    "#Get a vector for individual words\n",
    "#print(doc[0].vector) #vector for 'Canada', the first word in the text \n",
    "print(mydoc.vector) #Averaged vector for the entire sentence"
   ]
  },
  {
   "cell_type": "code",
   "execution_count": null,
   "metadata": {},
   "outputs": [
    {
     "data": {
      "text/plain": [
       "array([0., 0., 0., 0., 0., 0., 0., 0., 0., 0., 0., 0., 0., 0., 0., 0., 0.,\n",
       "       0., 0., 0., 0., 0., 0., 0., 0., 0., 0., 0., 0., 0., 0., 0., 0., 0.,\n",
       "       0., 0., 0., 0., 0., 0., 0., 0., 0., 0., 0., 0., 0., 0., 0., 0., 0.,\n",
       "       0., 0., 0., 0., 0., 0., 0., 0., 0., 0., 0., 0., 0., 0., 0., 0., 0.,\n",
       "       0., 0., 0., 0., 0., 0., 0., 0., 0., 0., 0., 0., 0., 0., 0., 0., 0.,\n",
       "       0., 0., 0., 0., 0., 0., 0., 0., 0., 0., 0., 0., 0., 0., 0., 0., 0.,\n",
       "       0., 0., 0., 0., 0., 0., 0., 0., 0., 0., 0., 0., 0., 0., 0., 0., 0.,\n",
       "       0., 0., 0., 0., 0., 0., 0., 0., 0., 0., 0., 0., 0., 0., 0., 0., 0.,\n",
       "       0., 0., 0., 0., 0., 0., 0., 0., 0., 0., 0., 0., 0., 0., 0., 0., 0.,\n",
       "       0., 0., 0., 0., 0., 0., 0., 0., 0., 0., 0., 0., 0., 0., 0., 0., 0.,\n",
       "       0., 0., 0., 0., 0., 0., 0., 0., 0., 0., 0., 0., 0., 0., 0., 0., 0.,\n",
       "       0., 0., 0., 0., 0., 0., 0., 0., 0., 0., 0., 0., 0., 0., 0., 0., 0.,\n",
       "       0., 0., 0., 0., 0., 0., 0., 0., 0., 0., 0., 0., 0., 0., 0., 0., 0.,\n",
       "       0., 0., 0., 0., 0., 0., 0., 0., 0., 0., 0., 0., 0., 0., 0., 0., 0.,\n",
       "       0., 0., 0., 0., 0., 0., 0., 0., 0., 0., 0., 0., 0., 0., 0., 0., 0.,\n",
       "       0., 0., 0., 0., 0., 0., 0., 0., 0., 0., 0., 0., 0., 0., 0., 0., 0.,\n",
       "       0., 0., 0., 0., 0., 0., 0., 0., 0., 0., 0., 0., 0., 0., 0., 0., 0.,\n",
       "       0., 0., 0., 0., 0., 0., 0., 0., 0., 0., 0.], dtype=float32)"
      ]
     },
     "metadata": {},
     "output_type": "display_data"
    }
   ],
   "source": [
    "#What happens when I give a sentence with strange words (and stop words), and try to get its word vector in Spacy?\n",
    "temp = nlp('practicalnlp is a newword')\n",
    "temp[0].vector"
   ]
  },
  {
   "cell_type": "markdown",
   "metadata": {},
   "source": [
    "Well, at least, this is better than throwing an exception! :) \n",
    "\n"
   ]
  },
  {
   "cell_type": "markdown",
   "metadata": {},
   "source": []
  },
  {
   "attachments": {},
   "cell_type": "markdown",
   "metadata": {},
   "source": [
    "# 6"
   ]
  },
  {
   "cell_type": "markdown",
   "metadata": {},
   "source": []
  },
  {
   "cell_type": "markdown",
   "metadata": {},
   "source": [
    "## Training Embeddings Using Gensim\n",
    "Word embeddings are an approach to representing text in NLP. In this notebook we will demonstrate how to train embeddings using Genism. [Gensim](https://radimrehurek.com/gensim/index.html) is an open source Python library for natural language processing, with a focus on topic modeling (explained in chapter 7)."
   ]
  },
  {
   "cell_type": "code",
   "execution_count": null,
   "metadata": {},
   "outputs": [
    {
     "name": "stdout",
     "output_type": "stream",
     "text": [
      "Requirement already satisfied: gensim==3.6.0 in /usr/local/lib/python3.7/dist-packages (3.6.0)\n",
      "Requirement already satisfied: smart-open>=1.2.1 in /usr/local/lib/python3.7/dist-packages (from gensim==3.6.0) (5.1.0)\n",
      "Requirement already satisfied: six>=1.5.0 in /usr/local/lib/python3.7/dist-packages (from gensim==3.6.0) (1.15.0)\n",
      "Requirement already satisfied: scipy>=0.18.1 in /usr/local/lib/python3.7/dist-packages (from gensim==3.6.0) (1.4.1)\n",
      "Requirement already satisfied: numpy>=1.11.3 in /usr/local/lib/python3.7/dist-packages (from gensim==3.6.0) (1.19.5)\n",
      "Requirement already satisfied: requests==2.23.0 in /usr/local/lib/python3.7/dist-packages (2.23.0)\n",
      "Requirement already satisfied: urllib3!=1.25.0,!=1.25.1,<1.26,>=1.21.1 in /usr/local/lib/python3.7/dist-packages (from requests==2.23.0) (1.24.3)\n",
      "Requirement already satisfied: certifi>=2017.4.17 in /usr/local/lib/python3.7/dist-packages (from requests==2.23.0) (2021.5.30)\n",
      "Requirement already satisfied: idna<3,>=2.5 in /usr/local/lib/python3.7/dist-packages (from requests==2.23.0) (2.10)\n",
      "Requirement already satisfied: chardet<4,>=3.0.2 in /usr/local/lib/python3.7/dist-packages (from requests==2.23.0) (3.0.4)\n"
     ]
    }
   ],
   "source": [
    "# To install only the requirements of this notebook, uncomment the lines below and run this cell\n",
    "\n",
    "# ===========================\n",
    "\n",
    "!pip install gensim==3.6.0\n",
    "!pip install requests==2.23.0\n",
    "\n",
    "# ==========================="
   ]
  },
  {
   "cell_type": "code",
   "execution_count": null,
   "metadata": {},
   "outputs": [],
   "source": [
    "# To install the requirements for the entire chapter, uncomment the lines below and run this cell\n",
    "\n",
    "# ===========================\n",
    "\n",
    "# try :\n",
    "#     import google.colab\n",
    "#     !curl https://raw.githubusercontent.com/practical-nlp/practical-nlp/master/Ch3/ch3-requirements.txt | xargs -n 1 -L 1 pip install\n",
    "# except ModuleNotFoundError :\n",
    "#     !pip install -r \"ch3-requirements.txt\"\n",
    "\n",
    "# ==========================="
   ]
  },
  {
   "cell_type": "code",
   "execution_count": null,
   "metadata": {},
   "outputs": [],
   "source": [
    "from gensim.models import Word2Vec\n",
    "import warnings\n",
    "warnings.filterwarnings('ignore')"
   ]
  },
  {
   "cell_type": "code",
   "execution_count": null,
   "metadata": {},
   "outputs": [],
   "source": [
    "# define training data\n",
    "#Genism word2vec requires that a format of ‘list of lists’ be provided for training where every document contained in a list.\n",
    "#Every list contains lists of tokens of that document.\n",
    "corpus = [['dog','bites','man'], [\"man\", \"bites\" ,\"dog\"],[\"dog\",\"eats\",\"meat\"],[\"man\", \"eats\",\"food\"]]\n",
    "\n",
    "#Training the model\n",
    "model_cbow = Word2Vec(corpus, min_count=1,sg=0) #using CBOW Architecture for trainnig\n",
    "model_skipgram = Word2Vec(corpus, min_count=1,sg=1)#using skipGram Architecture for training "
   ]
  },
  {
   "cell_type": "markdown",
   "metadata": {},
   "source": [
    "## Continuous Bag of Words (CBOW) \n",
    "In CBOW, the primary task is to build a language model that correctly predicts the center word given the context words in which the center word appears."
   ]
  },
  {
   "cell_type": "code",
   "execution_count": null,
   "metadata": {},
   "outputs": [
    {
     "name": "stdout",
     "output_type": "stream",
     "text": [
      "Word2Vec(vocab=6, size=100, alpha=0.025)\n",
      "['dog', 'bites', 'man', 'eats', 'meat', 'food']\n",
      "[ 2.5211656e-03 -4.7110780e-03  2.8306653e-03  1.2988835e-03\n",
      " -2.8097455e-03  3.5701145e-03 -1.0838461e-03 -2.7250070e-03\n",
      " -8.1295683e-04  1.5667123e-03  2.4118358e-03 -4.7246739e-03\n",
      "  4.0631713e-03 -2.5763465e-03 -1.6118506e-04 -1.7885152e-03\n",
      " -4.3171244e-03 -2.2182211e-03 -7.9603918e-04 -2.0051922e-03\n",
      " -4.0520830e-03  3.5601703e-03 -4.8916014e-03  8.3168899e-04\n",
      "  1.8691848e-03 -7.2068983e-04  1.7822703e-03  4.8909439e-03\n",
      "  1.4495224e-04  7.1767234e-04  4.7240019e-04 -4.7488464e-03\n",
      "  3.2012935e-03 -2.2545501e-03  5.5779086e-04 -8.5462094e-04\n",
      " -2.0693108e-03 -3.2387851e-03 -4.7898539e-03  2.9532199e-03\n",
      " -2.6267513e-03  4.3456843e-03 -3.6019234e-03 -3.1687848e-03\n",
      " -4.4510062e-03  3.2532150e-03 -5.6775135e-04  4.9478044e-03\n",
      "  3.7174521e-03 -1.2643889e-03  4.7942945e-03  4.2697912e-04\n",
      "  3.9527160e-03  1.0574544e-06 -4.1726064e-03 -4.9871374e-03\n",
      "  4.4140723e-03 -3.0756535e-03 -6.5692631e-04  1.4224187e-03\n",
      " -3.3482790e-03 -7.5503299e-04  2.6607935e-03  4.2536319e-04\n",
      " -2.6803287e-03 -2.8118992e-04  4.6384442e-03 -1.1165573e-03\n",
      " -7.5188163e-04  8.7776553e-04 -2.2422627e-03 -3.6135935e-03\n",
      " -1.5384768e-03  1.3317144e-03 -1.4385344e-03  2.2318382e-03\n",
      " -2.6432027e-03 -2.7398622e-04 -1.9744197e-03 -2.2871925e-03\n",
      "  5.5917882e-04 -6.1914866e-04 -7.2595594e-04  4.9666516e-03\n",
      " -2.7891367e-03  5.4704654e-04 -3.7604810e-03  1.7327523e-03\n",
      "  1.5019998e-03 -1.9850212e-03 -2.5780164e-03  1.5672717e-03\n",
      "  4.8756734e-03 -3.2661748e-03  1.0153219e-03  1.7714992e-03\n",
      "  1.8529573e-03 -4.1100634e-03  4.3286928e-03 -1.6125903e-03]\n"
     ]
    }
   ],
   "source": [
    "#Summarize the loaded model\n",
    "print(model_cbow)\n",
    "\n",
    "#Summarize vocabulary\n",
    "words = list(model_cbow.wv.vocab)\n",
    "print(words)\n",
    "\n",
    "#Acess vector for one word\n",
    "print(model_cbow['dog'])"
   ]
  },
  {
   "cell_type": "code",
   "execution_count": null,
   "metadata": {},
   "outputs": [
    {
     "name": "stdout",
     "output_type": "stream",
     "text": [
      "Similarity between eats and bites: -0.17754136\n",
      "Similarity between eats and man: 0.15367655\n"
     ]
    }
   ],
   "source": [
    "#Compute similarity \n",
    "print(\"Similarity between eats and bites:\",model_cbow.similarity('eats', 'bites'))\n",
    "print(\"Similarity between eats and man:\",model_cbow.similarity('eats', 'man'))"
   ]
  },
  {
   "cell_type": "markdown",
   "metadata": {},
   "source": [
    "From the above similarity scores we can conclude that eats is more similar to bites than man."
   ]
  },
  {
   "cell_type": "code",
   "execution_count": null,
   "metadata": {},
   "outputs": [
    {
     "data": {
      "text/plain": [
       "[('bites', 0.07873993366956711),\n",
       " ('dog', 0.07166969776153564),\n",
       " ('food', 0.015941759571433067),\n",
       " ('man', -0.06099303811788559),\n",
       " ('eats', -0.12372516840696335)]"
      ]
     },
     "metadata": {},
     "output_type": "display_data"
    }
   ],
   "source": [
    "#Most similarity\n",
    "model_cbow.most_similar('meat')"
   ]
  },
  {
   "cell_type": "code",
   "execution_count": null,
   "metadata": {},
   "outputs": [
    {
     "name": "stdout",
     "output_type": "stream",
     "text": [
      "Word2Vec(vocab=6, size=100, alpha=0.025)\n"
     ]
    }
   ],
   "source": [
    "# save model\n",
    "model_cbow.save('model_cbow.bin')\n",
    "\n",
    "# load model\n",
    "new_model_cbow = Word2Vec.load('model_cbow.bin')\n",
    "print(new_model_cbow)"
   ]
  },
  {
   "cell_type": "markdown",
   "metadata": {},
   "source": [
    "## SkipGram\n",
    "In skipgram, the task is to predict the context words from the center word."
   ]
  },
  {
   "cell_type": "code",
   "execution_count": null,
   "metadata": {},
   "outputs": [
    {
     "name": "stdout",
     "output_type": "stream",
     "text": [
      "Word2Vec(vocab=6, size=100, alpha=0.025)\n",
      "['dog', 'bites', 'man', 'eats', 'meat', 'food']\n",
      "[ 2.5211656e-03 -4.7110780e-03  2.8306653e-03  1.2988835e-03\n",
      " -2.8097455e-03  3.5701145e-03 -1.0838461e-03 -2.7250070e-03\n",
      " -8.1295683e-04  1.5667123e-03  2.4118358e-03 -4.7246739e-03\n",
      "  4.0631713e-03 -2.5763465e-03 -1.6118506e-04 -1.7885152e-03\n",
      " -4.3171244e-03 -2.2182211e-03 -7.9603918e-04 -2.0051922e-03\n",
      " -4.0520830e-03  3.5601703e-03 -4.8916014e-03  8.3168899e-04\n",
      "  1.8691848e-03 -7.2068983e-04  1.7822703e-03  4.8909439e-03\n",
      "  1.4495224e-04  7.1767234e-04  4.7240019e-04 -4.7488464e-03\n",
      "  3.2012935e-03 -2.2545501e-03  5.5779086e-04 -8.5462094e-04\n",
      " -2.0693108e-03 -3.2387851e-03 -4.7898539e-03  2.9532199e-03\n",
      " -2.6267513e-03  4.3456843e-03 -3.6019234e-03 -3.1687848e-03\n",
      " -4.4510062e-03  3.2532150e-03 -5.6775135e-04  4.9478044e-03\n",
      "  3.7174521e-03 -1.2643889e-03  4.7942945e-03  4.2697912e-04\n",
      "  3.9527160e-03  1.0574544e-06 -4.1726064e-03 -4.9871374e-03\n",
      "  4.4140723e-03 -3.0756535e-03 -6.5692631e-04  1.4224187e-03\n",
      " -3.3482790e-03 -7.5503299e-04  2.6607935e-03  4.2536319e-04\n",
      " -2.6803287e-03 -2.8118992e-04  4.6384442e-03 -1.1165573e-03\n",
      " -7.5188163e-04  8.7776553e-04 -2.2422627e-03 -3.6135935e-03\n",
      " -1.5384768e-03  1.3317144e-03 -1.4385344e-03  2.2318382e-03\n",
      " -2.6432027e-03 -2.7398622e-04 -1.9744197e-03 -2.2871925e-03\n",
      "  5.5917882e-04 -6.1914866e-04 -7.2595594e-04  4.9666516e-03\n",
      " -2.7891367e-03  5.4704654e-04 -3.7604810e-03  1.7327523e-03\n",
      "  1.5019998e-03 -1.9850212e-03 -2.5780164e-03  1.5672717e-03\n",
      "  4.8756734e-03 -3.2661748e-03  1.0153219e-03  1.7714992e-03\n",
      "  1.8529573e-03 -4.1100634e-03  4.3286928e-03 -1.6125903e-03]\n"
     ]
    }
   ],
   "source": [
    "#Summarize the loaded model\n",
    "print(model_skipgram)\n",
    "\n",
    "#Summarize vocabulary\n",
    "words = list(model_skipgram.wv.vocab)\n",
    "print(words)\n",
    "\n",
    "#Acess vector for one word\n",
    "print(model_skipgram['dog'])"
   ]
  },
  {
   "cell_type": "code",
   "execution_count": null,
   "metadata": {},
   "outputs": [
    {
     "name": "stdout",
     "output_type": "stream",
     "text": [
      "Similarity between eats and bites: -0.17754517\n",
      "Similarity between eats and man: 0.15367937\n"
     ]
    }
   ],
   "source": [
    "#Compute similarity \n",
    "print(\"Similarity between eats and bites:\",model_skipgram.similarity('eats', 'bites'))\n",
    "print(\"Similarity between eats and man:\",model_skipgram.similarity('eats', 'man'))"
   ]
  },
  {
   "cell_type": "markdown",
   "metadata": {},
   "source": [
    "From the above similarity scores we can conclude that eats is more similar to bites than man."
   ]
  },
  {
   "cell_type": "code",
   "execution_count": null,
   "metadata": {},
   "outputs": [
    {
     "data": {
      "text/plain": [
       "[('bites', 0.0787399411201477),\n",
       " ('dog', 0.07166968286037445),\n",
       " ('food', 0.01594177447259426),\n",
       " ('man', -0.060993026942014694),\n",
       " ('eats', -0.12379160523414612)]"
      ]
     },
     "metadata": {},
     "output_type": "display_data"
    }
   ],
   "source": [
    "#Most similarity\n",
    "model_skipgram.most_similar('meat')"
   ]
  },
  {
   "cell_type": "code",
   "execution_count": null,
   "metadata": {},
   "outputs": [
    {
     "name": "stdout",
     "output_type": "stream",
     "text": [
      "Word2Vec(vocab=6, size=100, alpha=0.025)\n"
     ]
    }
   ],
   "source": [
    "# save model\n",
    "model_skipgram.save('model_skipgram.bin')\n",
    "\n",
    "# load model\n",
    "new_model_skipgram = Word2Vec.load('model_skipgram.bin')\n",
    "print(new_model_skipgram)"
   ]
  },
  {
   "cell_type": "markdown",
   "metadata": {},
   "source": [
    "## Training Your Embedding on Wiki Corpus\n",
    "\n",
    "##### The corpus download page : https://dumps.wikimedia.org/enwiki/20200120/\n",
    "The entire wiki corpus as of 28/04/2020 is just over 16GB in size.\n",
    "We will take a part of this corpus due to computation constraints and train our word2vec and fasttext embeddings.\n",
    "\n",
    "The file size is 294MB so it can take a while to download.\n",
    "\n",
    "Source for code which downloads files from Google Drive: https://stackoverflow.com/questions/25010369/wget-curl-large-file-from-google-drive/39225039#39225039"
   ]
  },
  {
   "cell_type": "code",
   "execution_count": null,
   "metadata": {},
   "outputs": [
    {
     "name": "stdout",
     "output_type": "stream",
     "text": [
      "File at: data/en/enwiki-latest-pages-articles-multistream14.xml-p13159683p14324602.bz2\n"
     ]
    }
   ],
   "source": [
    "import os\n",
    "import requests\n",
    "\n",
    "os.makedirs('data/en', exist_ok= True)\n",
    "file_name = \"data/en/enwiki-latest-pages-articles-multistream14.xml-p13159683p14324602.bz2\"\n",
    "file_id = \"11804g0GcWnBIVDahjo5fQyc05nQLXGwF\"\n",
    "\n",
    "def download_file_from_google_drive(id, destination):\n",
    "    URL = \"https://docs.google.com/uc?export=download\"\n",
    "\n",
    "    session = requests.Session()\n",
    "\n",
    "    response = session.get(URL, params = { 'id' : id }, stream = True)\n",
    "    token = get_confirm_token(response)\n",
    "\n",
    "    if token:\n",
    "        params = { 'id' : id, 'confirm' : token }\n",
    "        response = session.get(URL, params = params, stream = True)\n",
    "\n",
    "    save_response_content(response, destination)    \n",
    "\n",
    "def get_confirm_token(response):\n",
    "    for key, value in response.cookies.items():\n",
    "        if key.startswith('download_warning'):\n",
    "            return value\n",
    "\n",
    "    return None\n",
    "\n",
    "def save_response_content(response, destination):\n",
    "    CHUNK_SIZE = 32768\n",
    "\n",
    "    with open(destination, \"wb\") as f:\n",
    "        for chunk in response.iter_content(CHUNK_SIZE):\n",
    "            if chunk: # filter out keep-alive new chunks\n",
    "                f.write(chunk)\n",
    "\n",
    "if not os.path.exists(file_name):\n",
    "    download_file_from_google_drive(file_id, file_name)\n",
    "else:\n",
    "    print(\"file already exists, skipping download\")\n",
    "\n",
    "print(f\"File at: {file_name}\")"
   ]
  },
  {
   "cell_type": "code",
   "execution_count": null,
   "metadata": {},
   "outputs": [],
   "source": [
    "from gensim.corpora.wikicorpus import WikiCorpus\n",
    "from gensim.models.word2vec import Word2Vec\n",
    "from gensim.models.fasttext import FastText\n",
    "import time"
   ]
  },
  {
   "cell_type": "code",
   "execution_count": null,
   "metadata": {},
   "outputs": [],
   "source": [
    "#Preparing the Training data\n",
    "wiki = WikiCorpus(file_name, lemmatize=False, dictionary={})\n",
    "sentences = list(wiki.get_texts())\n",
    "\n",
    "#if you get a memory error executing the lines above\n",
    "#comment the lines out and uncomment the lines below. \n",
    "#loading will be slower, but stable.\n",
    "# wiki = WikiCorpus(file_name, processes=4, lemmatize=False, dictionary={})\n",
    "# sentences = list(wiki.get_texts())\n",
    "\n",
    "#if you still get a memory error, try settings processes to 1 or 2 and then run it again."
   ]
  },
  {
   "cell_type": "markdown",
   "metadata": {},
   "source": [
    "### Hyperparameters\n",
    "\n",
    "\n",
    "1.   sg - Selecting the training algorithm: 1 for skip-gram else its 0 for CBOW. Default is CBOW.\n",
    "2.   min_count-  Ignores all words with total frequency lower than this.<br>\n",
    "There are many more hyperparamaeters whose list can be found in the official documentation [here.](https://radimrehurek.com/gensim/models/word2vec.html)\n"
   ]
  },
  {
   "cell_type": "code",
   "execution_count": null,
   "metadata": {},
   "outputs": [
    {
     "name": "stdout",
     "output_type": "stream",
     "text": [
      "CBOW Model Training Complete.\n",
      "Time taken for training is:0.07 hrs \n"
     ]
    }
   ],
   "source": [
    "#CBOW\n",
    "start = time.time()\n",
    "word2vec_cbow = Word2Vec(sentences,min_count=10, sg=0)\n",
    "end = time.time()\n",
    "\n",
    "print(\"CBOW Model Training Complete.\\nTime taken for training is:{:.2f} hrs \".format((end-start)/3600.0))"
   ]
  },
  {
   "cell_type": "code",
   "execution_count": null,
   "metadata": {},
   "outputs": [
    {
     "name": "stdout",
     "output_type": "stream",
     "text": [
      "Word2Vec(vocab=111150, size=100, alpha=0.025)\n",
      "------------------------------\n",
      "Length of vocabulary: 111150\n",
      "Printing the first 30 words.\n",
      "['the', 'roses', 'registered', 'as', 'is', 'brisbane', 'racing', 'club', 'group', 'thoroughbred', 'horse', 'race', 'for', 'three', 'year', 'old', 'filles', 'run', 'under', 'set', 'weights', 'conditions', 'over', 'distance', 'of', 'metres', 'at', 'racecourse', 'australia', 'during']\n",
      "------------------------------\n",
      "Length of vector: 100\n",
      "[ 2.99669266e-01 -2.30107337e-01 -2.83332348e+00  1.79103506e+00\n",
      " -2.36173677e+00  1.72570646e+00  1.64380169e+00 -1.66164470e+00\n",
      " -3.12124300e+00  3.81150126e-01  1.35081375e+00 -2.21470922e-01\n",
      "  1.52899250e-01  1.70926428e+00  1.81681314e-03 -9.03216541e-01\n",
      " -4.65534389e-01  2.37153435e+00  3.28944230e+00 -4.95558918e-01\n",
      " -5.94740689e-01 -1.57181859e+00  4.11749452e-01  1.24216557e+00\n",
      " -4.07071066e+00 -2.27307582e+00 -1.66209900e+00 -2.24222684e+00\n",
      " -1.05932796e+00  1.05019844e+00 -1.72928619e+00 -4.00999689e+00\n",
      "  1.46719182e+00 -2.24276233e+00  1.24641347e+00 -4.21524572e+00\n",
      "  9.76656258e-01  1.79963934e+00  1.48509622e+00 -4.56236362e-01\n",
      " -5.58120251e-01 -1.45934904e+00  2.32831573e+00  1.03190398e+00\n",
      "  6.54682994e-01  2.95263624e+00 -8.23639572e-01 -4.16845202e-01\n",
      "  1.64990544e+00 -8.86838377e-01 -2.78195834e+00 -5.65565884e-01\n",
      " -9.37131822e-01 -1.84206712e+00 -2.54025197e+00 -2.59079266e+00\n",
      "  3.04947972e+00  2.50614357e+00 -1.34396338e+00 -1.10412195e-01\n",
      "  1.44633248e-01  1.49436712e+00 -2.54006624e+00  8.65549624e-01\n",
      "  2.23652887e+00  1.53001559e+00  2.01494312e+00  3.58992107e-02\n",
      "  6.22256696e-01  1.00823784e+00 -1.38142657e+00 -2.27997160e+00\n",
      " -3.88184333e+00 -1.71323574e+00  2.19179511e+00 -1.16301203e+00\n",
      "  2.01094699e+00  2.23023248e+00 -2.47916889e+00 -2.68365979e+00\n",
      "  1.86766863e+00  1.41087270e+00  1.65393925e+00  1.78987586e+00\n",
      " -3.02522612e+00 -7.62253821e-01  1.23129368e+00 -2.54643726e+00\n",
      "  1.98462141e+00  4.09366941e+00 -5.82411528e-01 -6.60197318e-01\n",
      "  1.68045485e+00 -2.45697308e+00 -3.63437384e-01  1.38892472e+00\n",
      "  6.35629117e-01 -1.44658887e+00  1.53073406e+00 -1.64472818e+00]\n",
      "------------------------------\n",
      "Similarity between film and drama: 0.49768686\n",
      "Similarity between film and tiger: 0.17885588\n",
      "------------------------------\n"
     ]
    }
   ],
   "source": [
    "#Summarize the loaded model\n",
    "print(word2vec_cbow)\n",
    "print(\"-\"*30)\n",
    "\n",
    "#Summarize vocabulary\n",
    "words = list(word2vec_cbow.wv.vocab)\n",
    "print(f\"Length of vocabulary: {len(words)}\")\n",
    "print(\"Printing the first 30 words.\")\n",
    "print(words[:30])\n",
    "print(\"-\"*30)\n",
    "\n",
    "#Acess vector for one word\n",
    "print(f\"Length of vector: {len(word2vec_cbow['film'])}\")\n",
    "print(word2vec_cbow['film'])\n",
    "print(\"-\"*30)\n",
    "\n",
    "#Compute similarity \n",
    "print(\"Similarity between film and drama:\",word2vec_cbow.similarity('film', 'drama'))\n",
    "print(\"Similarity between film and tiger:\",word2vec_cbow.similarity('film', 'tiger'))\n",
    "print(\"-\"*30)"
   ]
  },
  {
   "cell_type": "code",
   "execution_count": null,
   "metadata": {},
   "outputs": [],
   "source": [
    "# save model\n",
    "from gensim.models import Word2Vec, KeyedVectors   \n",
    "word2vec_cbow.wv.save_word2vec_format('word2vec_cbow.bin', binary=True)\n",
    "\n",
    "# load model\n",
    "# new_modelword2vec_cbow = Word2Vec.load('word2vec_cbow.bin')\n",
    "# print(word2vec_cbow)"
   ]
  },
  {
   "cell_type": "code",
   "execution_count": null,
   "metadata": {},
   "outputs": [
    {
     "name": "stdout",
     "output_type": "stream",
     "text": [
      "SkipGram Model Training Complete\n",
      "Time taken for training is:0.20 hrs \n"
     ]
    }
   ],
   "source": [
    "#SkipGram\n",
    "start = time.time()\n",
    "word2vec_skipgram = Word2Vec(sentences,min_count=10, sg=1)\n",
    "end = time.time()\n",
    "\n",
    "print(\"SkipGram Model Training Complete\\nTime taken for training is:{:.2f} hrs \".format((end-start)/3600.0))"
   ]
  },
  {
   "cell_type": "code",
   "execution_count": null,
   "metadata": {},
   "outputs": [
    {
     "name": "stdout",
     "output_type": "stream",
     "text": [
      "Word2Vec(vocab=111150, size=100, alpha=0.025)\n",
      "------------------------------\n",
      "Length of vocabulary: 111150\n",
      "Printing the first 30 words.\n",
      "['the', 'roses', 'registered', 'as', 'is', 'brisbane', 'racing', 'club', 'group', 'thoroughbred', 'horse', 'race', 'for', 'three', 'year', 'old', 'filles', 'run', 'under', 'set', 'weights', 'conditions', 'over', 'distance', 'of', 'metres', 'at', 'racecourse', 'australia', 'during']\n",
      "------------------------------\n",
      "Length of vector: 100\n",
      "[-0.4237168  -0.27985552 -0.25927952  0.3400125  -0.6667841   0.5012484\n",
      " -0.05727514  0.04838533  0.29251036 -0.4952073  -0.11132739 -0.06375849\n",
      " -0.10024641 -0.42574143  0.41230604  0.24994987 -0.1766596   0.2103304\n",
      " -0.36034128 -0.07717225  0.3511364  -0.3076286  -0.3552336  -0.15659297\n",
      " -0.1312314  -0.05537846  0.02508126 -0.66197944  0.02561701 -0.49367282\n",
      "  0.36917788 -0.5463784  -0.01422684 -0.03367303 -0.1291493  -0.07956319\n",
      " -0.6713077   0.46974298  0.02238307 -0.29419112 -0.18262397  0.01855985\n",
      "  0.37098563  0.15520486  0.6158194   0.14578134 -0.0547451  -0.08172174\n",
      "  0.6428707   0.69385684 -0.44253206  0.22313416 -0.602879    0.28839922\n",
      "  0.12988937 -0.07168498  0.10405575  0.0210879   0.0764401   0.52331465\n",
      " -0.09891954  0.83509344  0.24751136  0.7138662   0.22889751 -0.0279275\n",
      " -0.16131927 -0.16907     0.62423456  0.07625601 -0.6266109   0.07464166\n",
      " -0.647908    0.01609853  0.615516   -0.37575197  0.18886834  0.47542006\n",
      " -0.32108703  0.11722455  0.07091893 -0.18740237 -0.0066558  -0.3284618\n",
      " -0.40218323  0.18022484 -0.12150235  0.12267566  0.04140777  0.32418764\n",
      " -0.46062672  0.16411439  0.14221986 -0.36627144 -0.39216483 -0.12107299\n",
      " -0.34011865  0.17285857  0.29473382  0.24891974]\n",
      "------------------------------\n",
      "Similarity between film and drama: 0.6375442\n",
      "Similarity between film and tiger: 0.27470022\n",
      "------------------------------\n"
     ]
    }
   ],
   "source": [
    "#Summarize the loaded model\n",
    "print(word2vec_skipgram)\n",
    "print(\"-\"*30)\n",
    "\n",
    "#Summarize vocabulary\n",
    "words = list(word2vec_skipgram.wv.vocab)\n",
    "print(f\"Length of vocabulary: {len(words)}\")\n",
    "print(\"Printing the first 30 words.\")\n",
    "print(words[:30])\n",
    "print(\"-\"*30)\n",
    "\n",
    "#Acess vector for one word\n",
    "print(f\"Length of vector: {len(word2vec_skipgram['film'])}\")\n",
    "print(word2vec_skipgram['film'])\n",
    "print(\"-\"*30)\n",
    "\n",
    "#Compute similarity \n",
    "print(\"Similarity between film and drama:\",word2vec_skipgram.similarity('film', 'drama'))\n",
    "print(\"Similarity between film and tiger:\",word2vec_skipgram.similarity('film', 'tiger'))\n",
    "print(\"-\"*30)"
   ]
  },
  {
   "cell_type": "code",
   "execution_count": null,
   "metadata": {},
   "outputs": [],
   "source": [
    "# save model\n",
    "word2vec_skipgram.wv.save_word2vec_format('word2vec_sg.bin', binary=True)\n",
    "\n",
    "# load model\n",
    "# new_model_skipgram = Word2Vec.load('model_skipgram.bin')\n",
    "# print(model_skipgram)"
   ]
  },
  {
   "cell_type": "markdown",
   "metadata": {},
   "source": [
    "## FastText"
   ]
  },
  {
   "cell_type": "code",
   "execution_count": null,
   "metadata": {},
   "outputs": [
    {
     "name": "stdout",
     "output_type": "stream",
     "text": [
      "FastText CBOW Model Training Complete\n",
      "Time taken for training is:0.23 hrs \n"
     ]
    }
   ],
   "source": [
    "#CBOW\n",
    "start = time.time()\n",
    "fasttext_cbow = FastText(sentences, sg=0, min_count=10)\n",
    "end = time.time()\n",
    "\n",
    "print(\"FastText CBOW Model Training Complete\\nTime taken for training is:{:.2f} hrs \".format((end-start)/3600.0))"
   ]
  },
  {
   "cell_type": "code",
   "execution_count": null,
   "metadata": {},
   "outputs": [
    {
     "name": "stdout",
     "output_type": "stream",
     "text": [
      "FastText(vocab=111150, size=100, alpha=0.025)\n",
      "------------------------------\n",
      "Length of vocabulary: 111150\n",
      "Printing the first 30 words.\n",
      "['the', 'roses', 'registered', 'as', 'is', 'brisbane', 'racing', 'club', 'group', 'thoroughbred', 'horse', 'race', 'for', 'three', 'year', 'old', 'filles', 'run', 'under', 'set', 'weights', 'conditions', 'over', 'distance', 'of', 'metres', 'at', 'racecourse', 'australia', 'during']\n",
      "------------------------------\n",
      "Length of vector: 100\n",
      "[-0.7463835   0.19996189 -0.9979853   4.532985    0.9235125   2.189045\n",
      " -0.31808636  3.3484747   2.8904202   5.01124     0.67354566 -5.330121\n",
      "  1.8081079  -0.06147059 -2.9210417   0.6564837   6.27072    -2.7427194\n",
      "  3.8220415  -2.6083946  -0.57947993  1.2608125   3.7221222   3.707661\n",
      " -1.8702508  -2.0417852  -2.6469572  -1.7629712  -6.2687297  -0.79994273\n",
      " -2.7692544  -0.12231357 -0.887583    1.3647972  -0.46990368  2.2163184\n",
      "  1.366861    4.930337   -3.1075075  -1.6002316   3.0699844   1.11122\n",
      " -6.8713775   1.8483716   0.41645643 -0.31872118  3.0096054  -5.532156\n",
      "  1.6102395   3.6963217   3.663656   -6.4579606  -3.445696    1.0995266\n",
      " -0.17502166 -3.2351615  -1.7987081   0.7715877  -6.5901     -4.052606\n",
      "  0.5506413   1.1240537  -0.9817307  -0.31660768  0.8579029  -4.9299016\n",
      " -0.46215907  0.5550937  -1.6686828  -3.7654505  -1.6888901  -3.583499\n",
      "  0.53538233  1.8650341   1.4992528  -2.3350844  -0.72052157  0.29675376\n",
      "  0.83089775  4.7392993   3.6813757  -4.458476   -1.6399952   1.5136546\n",
      "  6.0058446  -3.4515505  -1.1562546  -1.0320979   4.9725256  -2.6820443\n",
      "  2.3510482   0.08649306 -1.3958253  -1.3848797   2.1836684  -0.8967892\n",
      " -1.0972841  -1.391695   -0.34907514  2.9456055 ]\n",
      "------------------------------\n",
      "Similarity between film and drama: 0.5775347\n",
      "Similarity between film and tiger: 0.23721316\n",
      "------------------------------\n"
     ]
    }
   ],
   "source": [
    "#Summarize the loaded model\n",
    "print(fasttext_cbow)\n",
    "print(\"-\"*30)\n",
    "\n",
    "#Summarize vocabulary\n",
    "words = list(fasttext_cbow.wv.vocab)\n",
    "print(f\"Length of vocabulary: {len(words)}\")\n",
    "print(\"Printing the first 30 words.\")\n",
    "print(words[:30])\n",
    "print(\"-\"*30)\n",
    "\n",
    "#Acess vector for one word\n",
    "print(f\"Length of vector: {len(fasttext_cbow['film'])}\")\n",
    "print(fasttext_cbow['film'])\n",
    "print(\"-\"*30)\n",
    "\n",
    "#Compute similarity \n",
    "print(\"Similarity between film and drama:\",fasttext_cbow.similarity('film', 'drama'))\n",
    "print(\"Similarity between film and tiger:\",fasttext_cbow.similarity('film', 'tiger'))\n",
    "print(\"-\"*30)"
   ]
  },
  {
   "cell_type": "code",
   "execution_count": null,
   "metadata": {},
   "outputs": [
    {
     "name": "stdout",
     "output_type": "stream",
     "text": [
      "FastText SkipGram Model Training Complete\n",
      "Time taken for training is:0.34 hrs \n"
     ]
    }
   ],
   "source": [
    "#SkipGram\n",
    "start = time.time()\n",
    "fasttext_skipgram = FastText(sentences, sg=1, min_count=10)\n",
    "end = time.time()\n",
    "\n",
    "print(\"FastText SkipGram Model Training Complete\\nTime taken for training is:{:.2f} hrs \".format((end-start)/3600.0))"
   ]
  },
  {
   "cell_type": "code",
   "execution_count": null,
   "metadata": {},
   "outputs": [
    {
     "name": "stdout",
     "output_type": "stream",
     "text": [
      "FastText(vocab=111150, size=100, alpha=0.025)\n",
      "------------------------------\n",
      "Length of vocabulary: 111150\n",
      "Printing the first 30 words.\n",
      "['the', 'roses', 'registered', 'as', 'is', 'brisbane', 'racing', 'club', 'group', 'thoroughbred', 'horse', 'race', 'for', 'three', 'year', 'old', 'filles', 'run', 'under', 'set', 'weights', 'conditions', 'over', 'distance', 'of', 'metres', 'at', 'racecourse', 'australia', 'during']\n",
      "------------------------------\n",
      "Length of vector: 100\n",
      "[-0.34062257  0.20034881 -0.32438838  0.4757775   0.09694169  0.44387358\n",
      "  0.374473    0.07984764  0.12626715  0.14559336  0.17070621 -0.1242009\n",
      " -0.02354645  0.2784064   0.01321098  0.10675827  0.5270286   0.18560082\n",
      "  0.1947721  -0.09488335 -0.70429     0.03798589  0.36020663  0.4540548\n",
      "  0.82588804 -0.03594406 -0.7010492   0.08276882 -0.3600402  -0.09103949\n",
      " -0.20812891 -0.0266632   0.18376034 -0.03438908  0.18739544 -0.54230857\n",
      "  0.11515257 -0.76714796 -0.38413116  0.20995826  0.26379701 -0.14478317\n",
      " -0.2507331  -0.23866925 -0.08976771 -0.04520001  0.29641178 -0.01864165\n",
      " -0.3423282   0.13574615 -0.51550657  0.06460916 -0.20277704  0.63167423\n",
      "  0.11858363 -0.37470454  0.16942851 -0.2089076  -0.02568607 -0.34627503\n",
      "  0.2632271   0.22352041 -0.7899547   0.64767504  0.13887273 -0.38190958\n",
      " -0.18631777 -0.18322898 -0.31751177 -0.08308626  0.06825356  0.5401109\n",
      "  0.03384253  0.30849797  0.1353884  -0.00637501 -0.25858733 -0.10995787\n",
      " -0.36130926 -0.26093003 -0.18051757 -0.9410778  -0.3630112  -0.21754144\n",
      "  0.40985683 -0.07011902 -0.13193497 -0.04322884 -0.01041945  0.57367086\n",
      " -0.01106291 -0.02348732  0.84524894 -0.02717869 -0.0918304   0.43145362\n",
      " -0.17965347  0.39955035 -0.25133947 -0.20945397]\n",
      "------------------------------\n",
      "Similarity between film and drama: 0.64032143\n",
      "Similarity between film and tiger: 0.3475386\n",
      "------------------------------\n"
     ]
    }
   ],
   "source": [
    "#Summarize the loaded model\n",
    "print(fasttext_skipgram)\n",
    "print(\"-\"*30)\n",
    "\n",
    "#Summarize vocabulary\n",
    "words = list(fasttext_skipgram.wv.vocab)\n",
    "print(f\"Length of vocabulary: {len(words)}\")\n",
    "print(\"Printing the first 30 words.\")\n",
    "print(words[:30])\n",
    "print(\"-\"*30)\n",
    "\n",
    "#Acess vector for one word\n",
    "print(f\"Length of vector: {len(fasttext_skipgram['film'])}\")\n",
    "print(fasttext_skipgram['film'])\n",
    "print(\"-\"*30)\n",
    "\n",
    "#Compute similarity \n",
    "print(\"Similarity between film and drama:\",fasttext_skipgram.similarity('film', 'drama'))\n",
    "print(\"Similarity between film and tiger:\",fasttext_skipgram.similarity('film', 'tiger'))\n",
    "print(\"-\"*30)"
   ]
  },
  {
   "cell_type": "markdown",
   "metadata": {},
   "source": [
    "#### An interesting obeseravtion if you noticed is that CBOW trains faster than SkipGram in both cases.\n",
    "We will leave it to the user to figure out why. A hint would be to refer the working of CBOW and skipgram."
   ]
  },
  {
   "cell_type": "markdown",
   "metadata": {},
   "source": []
  },
  {
   "attachments": {},
   "cell_type": "markdown",
   "metadata": {},
   "source": [
    "# 7"
   ]
  },
  {
   "cell_type": "markdown",
   "metadata": {},
   "source": []
  },
  {
   "cell_type": "markdown",
   "metadata": {},
   "source": [
    "## Document Vectors\n",
    "Doc2vec allows us to directly learn the representations for texts of arbitrary lengths (phrases, sentences, paragraphs and documents), by considering the context of words in the text into account.<br><br>\n",
    "In this notebook we will create a Document Vector for using averaging via spacy. [spaCy](https://spacy.io/) is a python library for Natural Language Processing (NLP) which has a lot of built-in capabilities and features. spaCy has different types of models. The default model for the English language is '**en_core_web_sm**'."
   ]
  },
  {
   "cell_type": "code",
   "execution_count": null,
   "metadata": {},
   "outputs": [
    {
     "name": "stdout",
     "output_type": "stream",
     "text": [
      "Requirement already satisfied: spacy==2.2.4 in c:\\users\\kumar apurv\\anaconda3\\envs\\ch3\\lib\\site-packages (2.2.4)\n",
      "Requirement already satisfied: thinc==7.4.0 in c:\\users\\kumar apurv\\anaconda3\\envs\\ch3\\lib\\site-packages (from spacy==2.2.4) (7.4.0)\n",
      "Requirement already satisfied: murmurhash<1.1.0,>=0.28.0 in c:\\users\\kumar apurv\\anaconda3\\envs\\ch3\\lib\\site-packages (from spacy==2.2.4) (1.0.5)\n",
      "Requirement already satisfied: srsly<1.1.0,>=1.0.2 in c:\\users\\kumar apurv\\anaconda3\\envs\\ch3\\lib\\site-packages (from spacy==2.2.4) (1.0.5)\n",
      "Requirement already satisfied: requests<3.0.0,>=2.13.0 in c:\\users\\kumar apurv\\anaconda3\\envs\\ch3\\lib\\site-packages (from spacy==2.2.4) (2.26.0)\n",
      "Requirement already satisfied: wasabi<1.1.0,>=0.4.0 in c:\\users\\kumar apurv\\anaconda3\\envs\\ch3\\lib\\site-packages (from spacy==2.2.4) (0.8.2)\n",
      "Requirement already satisfied: cymem<2.1.0,>=2.0.2 in c:\\users\\kumar apurv\\anaconda3\\envs\\ch3\\lib\\site-packages (from spacy==2.2.4) (2.0.5)\n",
      "Requirement already satisfied: tqdm<5.0.0,>=4.38.0 in c:\\users\\kumar apurv\\anaconda3\\envs\\ch3\\lib\\site-packages (from spacy==2.2.4) (4.61.2)\n",
      "Requirement already satisfied: numpy>=1.15.0 in c:\\users\\kumar apurv\\anaconda3\\envs\\ch3\\lib\\site-packages (from spacy==2.2.4) (1.19.5)\n",
      "Requirement already satisfied: plac<1.2.0,>=0.9.6 in c:\\users\\kumar apurv\\anaconda3\\envs\\ch3\\lib\\site-packages (from spacy==2.2.4) (1.1.3)\n",
      "Requirement already satisfied: blis<0.5.0,>=0.4.0 in c:\\users\\kumar apurv\\anaconda3\\envs\\ch3\\lib\\site-packages (from spacy==2.2.4) (0.4.1)\n",
      "Requirement already satisfied: catalogue<1.1.0,>=0.0.7 in c:\\users\\kumar apurv\\anaconda3\\envs\\ch3\\lib\\site-packages (from spacy==2.2.4) (1.0.0)\n",
      "Requirement already satisfied: setuptools in c:\\users\\kumar apurv\\anaconda3\\envs\\ch3\\lib\\site-packages (from spacy==2.2.4) (52.0.0.post20210125)\n",
      "Requirement already satisfied: preshed<3.1.0,>=3.0.2 in c:\\users\\kumar apurv\\anaconda3\\envs\\ch3\\lib\\site-packages (from spacy==2.2.4) (3.0.5)\n",
      "Requirement already satisfied: importlib-metadata>=0.20 in c:\\users\\kumar apurv\\anaconda3\\envs\\ch3\\lib\\site-packages (from catalogue<1.1.0,>=0.0.7->spacy==2.2.4) (4.6.1)\n",
      "Requirement already satisfied: typing-extensions>=3.6.4 in c:\\users\\kumar apurv\\anaconda3\\envs\\ch3\\lib\\site-packages (from importlib-metadata>=0.20->catalogue<1.1.0,>=0.0.7->spacy==2.2.4) (3.10.0.0)\n",
      "Requirement already satisfied: zipp>=0.5 in c:\\users\\kumar apurv\\anaconda3\\envs\\ch3\\lib\\site-packages (from importlib-metadata>=0.20->catalogue<1.1.0,>=0.0.7->spacy==2.2.4) (3.5.0)\n",
      "Requirement already satisfied: charset-normalizer~=2.0.0 in c:\\users\\kumar apurv\\anaconda3\\envs\\ch3\\lib\\site-packages (from requests<3.0.0,>=2.13.0->spacy==2.2.4) (2.0.3)\n",
      "Requirement already satisfied: certifi>=2017.4.17 in c:\\users\\kumar apurv\\anaconda3\\envs\\ch3\\lib\\site-packages (from requests<3.0.0,>=2.13.0->spacy==2.2.4) (2021.5.30)\n",
      "Requirement already satisfied: idna<4,>=2.5 in c:\\users\\kumar apurv\\anaconda3\\envs\\ch3\\lib\\site-packages (from requests<3.0.0,>=2.13.0->spacy==2.2.4) (3.2)\n",
      "Requirement already satisfied: urllib3<1.27,>=1.21.1 in c:\\users\\kumar apurv\\anaconda3\\envs\\ch3\\lib\\site-packages (from requests<3.0.0,>=2.13.0->spacy==2.2.4) (1.26.6)\n",
      "Requirement already satisfied: colorama in c:\\users\\kumar apurv\\anaconda3\\envs\\ch3\\lib\\site-packages (from tqdm<5.0.0,>=4.38.0->spacy==2.2.4) (0.4.4)\n"
     ]
    }
   ],
   "source": [
    "# To install only the requirements of this notebook, uncomment the lines below and run this cell\n",
    "\n",
    "# ===========================\n",
    "\n",
    "!pip install spacy==2.2.4\n",
    "\n",
    "# ==========================="
   ]
  },
  {
   "cell_type": "code",
   "execution_count": null,
   "metadata": {},
   "outputs": [],
   "source": [
    "# To install the requirements for the entire chapter, uncomment the lines below and run this cell\n",
    "\n",
    "# ===========================\n",
    "\n",
    "# try :\n",
    "#     import google.colab\n",
    "#     !curl https://raw.githubusercontent.com/practical-nlp/practical-nlp/master/Ch3/ch3-requirements.txt | xargs -n 1 -L 1 pip install\n",
    "# except ModuleNotFoundError :\n",
    "#     !pip install -r \"ch3-requirements.txt\"\n",
    "\n",
    "# ==========================="
   ]
  },
  {
   "cell_type": "code",
   "execution_count": null,
   "metadata": {},
   "outputs": [
    {
     "name": "stdout",
     "output_type": "stream",
     "text": [
      "Collecting en_core_web_sm==2.2.5\n",
      "  Downloading https://github.com/explosion/spacy-models/releases/download/en_core_web_sm-2.2.5/en_core_web_sm-2.2.5.tar.gz (12.0 MB)\n",
      "Requirement already satisfied: spacy>=2.2.2 in c:\\users\\kumar apurv\\anaconda3\\envs\\ch3\\lib\\site-packages (from en_core_web_sm==2.2.5) (2.2.4)\n",
      "Requirement already satisfied: catalogue<1.1.0,>=0.0.7 in c:\\users\\kumar apurv\\anaconda3\\envs\\ch3\\lib\\site-packages (from spacy>=2.2.2->en_core_web_sm==2.2.5) (1.0.0)\n",
      "Requirement already satisfied: requests<3.0.0,>=2.13.0 in c:\\users\\kumar apurv\\anaconda3\\envs\\ch3\\lib\\site-packages (from spacy>=2.2.2->en_core_web_sm==2.2.5) (2.26.0)\n",
      "Requirement already satisfied: murmurhash<1.1.0,>=0.28.0 in c:\\users\\kumar apurv\\anaconda3\\envs\\ch3\\lib\\site-packages (from spacy>=2.2.2->en_core_web_sm==2.2.5) (1.0.5)\n",
      "Requirement already satisfied: srsly<1.1.0,>=1.0.2 in c:\\users\\kumar apurv\\anaconda3\\envs\\ch3\\lib\\site-packages (from spacy>=2.2.2->en_core_web_sm==2.2.5) (1.0.5)\n",
      "Requirement already satisfied: cymem<2.1.0,>=2.0.2 in c:\\users\\kumar apurv\\anaconda3\\envs\\ch3\\lib\\site-packages (from spacy>=2.2.2->en_core_web_sm==2.2.5) (2.0.5)\n",
      "Requirement already satisfied: blis<0.5.0,>=0.4.0 in c:\\users\\kumar apurv\\anaconda3\\envs\\ch3\\lib\\site-packages (from spacy>=2.2.2->en_core_web_sm==2.2.5) (0.4.1)\n",
      "Requirement already satisfied: tqdm<5.0.0,>=4.38.0 in c:\\users\\kumar apurv\\anaconda3\\envs\\ch3\\lib\\site-packages (from spacy>=2.2.2->en_core_web_sm==2.2.5) (4.61.2)\n",
      "Requirement already satisfied: numpy>=1.15.0 in c:\\users\\kumar apurv\\anaconda3\\envs\\ch3\\lib\\site-packages (from spacy>=2.2.2->en_core_web_sm==2.2.5) (1.19.5)\n",
      "Requirement already satisfied: plac<1.2.0,>=0.9.6 in c:\\users\\kumar apurv\\anaconda3\\envs\\ch3\\lib\\site-packages (from spacy>=2.2.2->en_core_web_sm==2.2.5) (1.1.3)\n",
      "Requirement already satisfied: setuptools in c:\\users\\kumar apurv\\anaconda3\\envs\\ch3\\lib\\site-packages (from spacy>=2.2.2->en_core_web_sm==2.2.5) (52.0.0.post20210125)\n",
      "Requirement already satisfied: wasabi<1.1.0,>=0.4.0 in c:\\users\\kumar apurv\\anaconda3\\envs\\ch3\\lib\\site-packages (from spacy>=2.2.2->en_core_web_sm==2.2.5) (0.8.2)\n",
      "Requirement already satisfied: preshed<3.1.0,>=3.0.2 in c:\\users\\kumar apurv\\anaconda3\\envs\\ch3\\lib\\site-packages (from spacy>=2.2.2->en_core_web_sm==2.2.5) (3.0.5)\n",
      "Requirement already satisfied: thinc==7.4.0 in c:\\users\\kumar apurv\\anaconda3\\envs\\ch3\\lib\\site-packages (from spacy>=2.2.2->en_core_web_sm==2.2.5) (7.4.0)\n",
      "Requirement already satisfied: importlib-metadata>=0.20 in c:\\users\\kumar apurv\\anaconda3\\envs\\ch3\\lib\\site-packages (from catalogue<1.1.0,>=0.0.7->spacy>=2.2.2->en_core_web_sm==2.2.5) (4.6.1)\n",
      "Requirement already satisfied: typing-extensions>=3.6.4 in c:\\users\\kumar apurv\\anaconda3\\envs\\ch3\\lib\\site-packages (from importlib-metadata>=0.20->catalogue<1.1.0,>=0.0.7->spacy>=2.2.2->en_core_web_sm==2.2.5) (3.10.0.0)\n",
      "Requirement already satisfied: zipp>=0.5 in c:\\users\\kumar apurv\\anaconda3\\envs\\ch3\\lib\\site-packages (from importlib-metadata>=0.20->catalogue<1.1.0,>=0.0.7->spacy>=2.2.2->en_core_web_sm==2.2.5) (3.5.0)\n",
      "Requirement already satisfied: urllib3<1.27,>=1.21.1 in c:\\users\\kumar apurv\\anaconda3\\envs\\ch3\\lib\\site-packages (from requests<3.0.0,>=2.13.0->spacy>=2.2.2->en_core_web_sm==2.2.5) (1.26.6)\n",
      "Requirement already satisfied: certifi>=2017.4.17 in c:\\users\\kumar apurv\\anaconda3\\envs\\ch3\\lib\\site-packages (from requests<3.0.0,>=2.13.0->spacy>=2.2.2->en_core_web_sm==2.2.5) (2021.5.30)\n",
      "Requirement already satisfied: charset-normalizer~=2.0.0 in c:\\users\\kumar apurv\\anaconda3\\envs\\ch3\\lib\\site-packages (from requests<3.0.0,>=2.13.0->spacy>=2.2.2->en_core_web_sm==2.2.5) (2.0.3)\n",
      "Requirement already satisfied: idna<4,>=2.5 in c:\\users\\kumar apurv\\anaconda3\\envs\\ch3\\lib\\site-packages (from requests<3.0.0,>=2.13.0->spacy>=2.2.2->en_core_web_sm==2.2.5) (3.2)\n",
      "Requirement already satisfied: colorama in c:\\users\\kumar apurv\\anaconda3\\envs\\ch3\\lib\\site-packages (from tqdm<5.0.0,>=4.38.0->spacy>=2.2.2->en_core_web_sm==2.2.5) (0.4.4)\n",
      "Building wheels for collected packages: en-core-web-sm\n",
      "  Building wheel for en-core-web-sm (setup.py): started\n",
      "  Building wheel for en-core-web-sm (setup.py): finished with status 'done'\n",
      "  Created wheel for en-core-web-sm: filename=en_core_web_sm-2.2.5-py3-none-any.whl size=12011738 sha256=569c5173b5d308181f71764b1747fa5c0792b8e61b9d2fb23b154c63a1fe8ef5\n",
      "  Stored in directory: C:\\Users\\KUMARA~1\\AppData\\Local\\Temp\\pip-ephem-wheel-cache-ajhpjg8a\\wheels\\b5\\94\\56\\596daa677d7e91038cbddfcf32b591d0c915a1b3a3e3d3c79d\n",
      "Successfully built en-core-web-sm\n",
      "Installing collected packages: en-core-web-sm\n",
      "Successfully installed en-core-web-sm-2.2.5\n",
      "[+] Download and installation successful\n",
      "You can now load the model via spacy.load('en_core_web_sm')\n"
     ]
    }
   ],
   "source": [
    "# downloading en_core_web_sm, assuming spacy is already installed\n",
    "!python -m spacy download en_core_web_sm"
   ]
  },
  {
   "cell_type": "code",
   "execution_count": null,
   "metadata": {},
   "outputs": [],
   "source": [
    "#Import spacy and load the model\n",
    "import spacy\n",
    "nlp = spacy.load(\"en_core_web_sm\") #here nlp object refers to the 'en_core_web_sm' language model instance."
   ]
  },
  {
   "cell_type": "code",
   "execution_count": null,
   "metadata": {},
   "outputs": [
    {
     "name": "stdout",
     "output_type": "stream",
     "text": [
      "Document After Pre-Processing: ['dog bites man', 'man bites dog', 'dog eats meat', 'man eats food']\n",
      "------------------------------\n",
      "Average Vector of 'dog bites man'\n",
      " [ 1.581809    0.01234585 -1.7686375   0.09192207  0.7099541   0.78623253\n",
      " -0.22294267  0.6251769   3.3184946   2.151605    1.2572327   0.80755144\n",
      "  2.5496542   1.0309687  -1.1097575  -1.3333966   0.17883821  0.0732042\n",
      " -1.652985   -2.0776246  -1.1226162  -1.1873754  -0.32874927 -0.9920702\n",
      "  0.53296596 -0.8248777  -0.1621434  -1.3841887   1.7683312  -0.60252315\n",
      "  2.2155359  -0.05637012 -0.42379442 -0.8782012  -1.7660996  -0.8552634\n",
      "  2.000716   -0.6098452  -3.9005392   0.8609192   4.002558    2.4361043\n",
      "  0.33687058 -1.50351     0.17922412 -0.37065843 -0.84056693 -1.1102012\n",
      " -0.7800233   0.47405422 -1.460539   -1.7216535  -0.5347146  -0.94166833\n",
      " -1.2782294  -0.00511471  2.1441052  -1.0279812  -2.0211596  -0.2488722\n",
      " -0.06398487  1.988259    0.01575983 -0.17211278  1.9156709   1.4806844\n",
      "  0.6663373  -1.2645482  -2.3974214   0.03462499 -1.4589311   0.42709967\n",
      " -0.49991903  2.1690304  -2.5342414  -0.78809947 -1.701548   -1.1911267\n",
      " -0.1980304   0.91156197  0.39184204 -0.4635253  -1.4210111   0.06364288\n",
      "  0.6030229   2.8360527   0.6827371  -0.10401622  0.31757173 -0.36097524\n",
      " -0.9750369   2.1055853  -0.7507766   1.6359663   0.6668022   3.0937674 ]\n",
      "\n",
      "dog [ 1.91941047e+00 -9.85911846e-01 -1.27942407e+00 -1.14421546e+00\n",
      "  1.43229246e+00 -8.80053222e-01 -1.09747672e+00  7.21595168e-01\n",
      "  2.44990873e+00  2.91721630e+00  4.64994287e+00  2.98618340e+00\n",
      "  3.77544284e+00 -7.92122722e-01 -4.97682095e-01 -1.77960849e+00\n",
      " -8.52171421e-01  2.09922647e+00 -2.43797159e+00 -3.56699729e+00\n",
      " -2.06929612e+00 -5.84487259e-01 -1.27857530e+00 -5.24895728e-01\n",
      "  5.96585989e-01 -1.11221814e+00 -5.57519197e-01 -3.13567591e+00\n",
      "  2.45222092e+00 -6.95058644e-01  5.21145868e+00 -1.52752805e+00\n",
      "  1.71462417e+00 -1.59104490e+00 -1.12313199e+00 -5.21127224e-01\n",
      "  1.87160277e+00  3.26025546e-01 -2.57721138e+00  6.14066660e-01\n",
      "  3.19818997e+00  2.61671638e+00  8.70276809e-01 -1.36841798e+00\n",
      " -7.08141744e-01  1.85532546e+00 -1.51074374e+00 -1.93607807e-03\n",
      " -1.36703479e+00  8.96698594e-01 -7.39807606e-01 -1.78732085e+00\n",
      " -1.83793247e+00 -1.68872523e+00 -2.32823610e+00  2.22032118e+00\n",
      "  4.67480326e+00 -1.64622879e+00  2.28443205e-01 -1.63649273e+00\n",
      " -7.51743615e-02  3.44763458e-01 -4.46224451e-01  1.47298121e+00\n",
      "  1.62680995e+00  6.43189788e-01  8.67201090e-02 -8.45406175e-01\n",
      " -2.34528613e+00  4.36903179e-01 -2.32005453e+00 -1.37756503e+00\n",
      "  2.10573196e+00  3.40651798e+00 -3.18727922e+00 -1.72612810e+00\n",
      " -2.79121637e+00  1.74305737e-01 -2.29703093e+00  8.10718298e-01\n",
      "  1.88502884e+00 -2.74781775e+00 -1.98476827e+00 -2.49837577e-01\n",
      "  1.02837324e-01  4.89412785e+00 -2.23543501e+00 -8.99279773e-01\n",
      "  6.71694279e-01 -1.59718370e+00 -3.29685974e+00  1.72054911e+00\n",
      " -6.65885806e-01  2.88729572e+00  2.57701874e+00  2.57356691e+00]\n",
      "\n",
      "bites [ 2.2891631e+00  6.9909734e-01 -3.6597207e+00  5.9012455e-01\n",
      "  2.8848612e-01  2.6344304e+00  6.5052485e-01 -2.5569630e-01\n",
      "  4.1872373e+00  1.0220106e+00 -1.4831681e+00  4.7727907e-01\n",
      " -1.1430612e+00  2.0813129e+00 -2.9697056e+00 -2.1433415e+00\n",
      " -2.7380013e-01 -3.4205973e-02 -1.1503913e+00 -2.1321077e+00\n",
      "  4.8856896e-01 -1.4739058e+00 -1.5901238e-01 -1.6181784e+00\n",
      "  2.6807506e+00 -2.2585037e-01 -1.3693209e+00 -8.5717607e-01\n",
      " -9.1407597e-02 -2.1552706e+00 -2.0508304e+00  1.4469879e+00\n",
      " -2.7253437e+00 -9.3841219e-01 -3.5988092e+00  8.2679147e-01\n",
      "  2.0665250e+00 -3.8812518e-02 -3.7789817e+00  2.9782567e+00\n",
      "  4.6672869e+00  3.1001039e+00  7.2593123e-01 -5.1259041e-02\n",
      "  6.9979954e-01 -3.6006408e+00  2.7546096e-01 -2.0513704e+00\n",
      "  1.4891988e+00  1.9538239e+00 -2.9934611e+00 -1.1935629e+00\n",
      " -4.8216283e-03 -9.5482630e-01 -1.2745976e+00 -4.0996695e-01\n",
      "  1.2745302e+00  6.2289035e-01 -3.9751892e+00 -1.5957201e+00\n",
      " -1.8297102e+00  3.7905822e+00  3.6283469e-01  1.4279008e+00\n",
      "  2.5030928e+00  3.0996156e+00  7.0012379e-01 -1.7861184e+00\n",
      " -2.2127132e+00  3.7044382e-01  4.9324754e-01  3.1495407e-01\n",
      " -2.8027997e+00  1.2167886e-02 -2.4487588e+00 -8.9480877e-01\n",
      " -1.9265089e+00 -2.6903887e+00  2.2252502e+00  8.9562541e-01\n",
      "  5.0473142e-01  3.4874098e+00 -2.6960936e+00  4.3370289e-01\n",
      "  4.7849458e-01  2.2811088e-01  1.0538528e+00  1.9736307e+00\n",
      " -1.3628168e+00  1.6518754e+00  5.8267772e-02  1.1169801e+00\n",
      "  1.1504505e+00 -9.7246760e-01 -7.6805931e-01  6.8656521e+00]\n",
      "\n",
      "man [ 0.53685385  0.32385206 -0.36676776  0.8298571   0.40908372  0.6043205\n",
      " -0.22187617  1.4096318   3.3183377   2.515588    0.60492337 -1.040808\n",
      "  5.0165815   1.8037158   0.13811481 -0.07723951  1.6624862  -1.845408\n",
      " -1.3705921  -0.53376883 -1.7871213  -1.5037332   0.4513399  -0.8331367\n",
      " -1.6784387  -1.1365645   1.4404099  -0.1597142   2.94418     1.0427597\n",
      "  3.485979   -0.08857018 -0.26066375 -0.10514653 -0.5763577  -2.8714545\n",
      "  2.0640204  -2.1167488  -5.345424   -1.0095658   4.142198    1.5914928\n",
      " -0.58559626 -3.090853    0.54601455  0.63334    -1.2864181  -1.277297\n",
      " -2.4622338  -1.4283599  -0.64834815 -2.1840768   0.23861039 -0.18145347\n",
      " -0.23185444 -1.8256984   0.48298237 -2.060605   -2.316733    2.4855962\n",
      "  1.71293     1.8294315   0.13066924 -3.4172204   1.6171098   0.6992478\n",
      "  1.212168   -1.1621199  -2.6342645  -0.703472   -2.5499864   2.34391\n",
      " -0.8026893   3.0884056  -1.9666861   0.2566385  -0.38691866 -1.0572971\n",
      " -0.5223105   1.0283424  -1.2142341  -2.130168    0.41782868  0.00706333\n",
      "  1.2277368   3.3859189   3.2297935  -1.3863995   1.6438377  -1.1376173\n",
      "  0.31348115  3.4792268  -2.7368944   2.9930706   0.19144717 -0.15791643]\n",
      "------------------------------\n",
      "Average Vector of 'man bites dog'\n",
      " [ 0.8905986  -0.27452406 -0.5949109   0.2936966   0.8109725   1.5406946\n",
      " -0.6211217   1.4518808   2.388418    2.8323803   1.8362583   0.1119115\n",
      "  2.3256416   1.3707987  -1.1090884  -0.91295415  0.78416103  1.282396\n",
      " -1.6692494  -2.016407    0.10908246 -1.5515393  -0.3864065  -1.1337863\n",
      "  0.2659106  -0.5242886  -0.22002883 -1.4812603   2.2347033  -0.5346037\n",
      "  2.4154797  -0.42605057 -0.6888227  -1.1443968  -2.003623   -0.609145\n",
      "  1.7229339  -0.353757   -3.6830838   0.8961949   3.821148    2.0756388\n",
      "  0.46287456 -1.7169987  -0.17327374 -0.50144416 -0.84939057 -0.8699689\n",
      " -0.5230022   0.6381754  -1.1474385  -2.0188677  -0.7996528  -0.81853724\n",
      " -1.5277091   0.8281295   1.7162651  -0.75300956 -1.4389514   0.17117071\n",
      " -0.2776324   1.4784497   0.21179853 -0.2627615   1.669926    1.7660456\n",
      "  0.8556203  -1.8035239  -1.4735044  -0.13579811 -1.4338516   0.88079864\n",
      " -0.08186468  1.789373   -1.9932103  -0.72242165 -1.9366676  -1.6879386\n",
      " -0.15568681 -0.2332558   0.06518809 -0.04645785 -2.9444816  -0.59111965\n",
      "  0.25978744  3.6795216   0.35412169 -0.47244322 -0.02117594 -0.5545446\n",
      " -1.214193    2.262353   -0.9832942   1.7396374   0.18152653  3.0911624 ]\n",
      "\n",
      "man [ 0.7888863   1.083919   -0.35323167 -0.73987913 -0.49030042  1.6419284\n",
      " -1.6619375   2.3852751   1.9981184   4.7937684   4.720047    0.3387185\n",
      "  4.4454274   1.5730257  -0.06160116 -1.9620255  -0.06666401  0.45019686\n",
      " -3.878724   -0.82186854  0.22669673 -1.3878722  -1.6847411  -0.17864001\n",
      " -1.4496999  -1.5109959  -0.59488606 -1.6589926   3.590187    0.06973836\n",
      "  3.9115858  -0.06349781 -1.488812   -1.9933238   1.2208314   1.7076309\n",
      "  2.6056023  -0.80645776 -2.992334    0.47299546  2.0808764   2.3067095\n",
      " -1.5104551   0.5040869  -2.0285635  -1.1253445  -1.2346911  -1.9630895\n",
      " -1.6281708   1.2157714  -2.6033337  -2.233292   -0.07722911  0.6127262\n",
      " -1.2152244   1.0336426   1.1331751  -1.3354261  -0.15778536 -1.2085104\n",
      " -0.0685907   1.3864028  -0.3398047  -0.09460545  0.53525954  2.3085182\n",
      "  1.9992309  -3.4277897  -1.5862743  -0.13316533 -2.0165217   0.13316745\n",
      " -0.9387411   3.0318418  -3.0551827  -0.96272266 -2.0183272  -0.46942502\n",
      " -1.9278139  -0.02909783  2.0964017  -2.6075346  -0.3167987  -0.15686905\n",
      "  0.82376957  4.693938   -1.271749   -0.95877516  2.2401345  -0.6824265\n",
      " -3.0635698   2.0776386  -2.8204172   3.432457    2.457738    1.5380919 ]\n",
      "\n",
      "bites [ 1.3747169   0.75951576 -2.0386875   0.47162795  0.9765426   1.9823077\n",
      "  0.06130332  2.01786     3.3743708   2.4298263  -0.01698858 -2.1178517\n",
      " -0.39338487  2.5798664  -2.022553   -1.3160868  -0.20072114  2.8978395\n",
      " -2.0718148  -2.1307726   1.0209869  -2.253436    0.6923156  -2.2661219\n",
      "  2.311895    0.6920155  -1.945776   -0.18749845  0.4149741  -2.6658444\n",
      " -0.6569654   0.4516012  -3.118997   -1.3340917  -3.6860292   0.41037425\n",
      "  1.9872112   0.2655378  -4.1270113   3.7116709   4.948203    2.4899755\n",
      "  0.7336448  -1.9907414   0.9756649  -1.5211312   0.00798804 -1.1256539\n",
      "  2.0131736   1.1410819  -1.9279115  -2.0005517  -0.23423731 -1.1558846\n",
      " -2.0686967  -0.01214457  0.9060559   1.0421203  -2.4333885  -1.1881351\n",
      " -2.2899802   3.0198185   0.83513886  1.7519441   2.4819424   2.7640438\n",
      " -0.83651996 -3.0509243  -0.5107962  -0.74011713 -0.16474906  1.2582803\n",
      " -1.1004856  -0.73728853 -0.9559965  -1.0966125  -2.4221303  -4.1997433\n",
      "  1.5180151  -1.398406   -0.33450198  4.0062895  -4.2474494   0.37666464\n",
      " -0.5151194   2.788715    0.19553685  1.2461331  -1.3887466   1.4032775\n",
      "  0.35989153  2.2794697   1.6711353  -1.4850378  -1.3835645   6.0287056 ]\n",
      "\n",
      "dog [ 0.50819266 -2.667007    0.60718644  1.149341    1.9466753   0.9978473\n",
      " -0.26273108 -0.04749316  1.792765    1.2735462   0.80571634  2.1148677\n",
      "  2.9248827  -0.04049584 -1.2431111   0.5392498   2.6198683   0.49915183\n",
      "  0.9427904  -3.0965803  -0.92043626 -1.0133096  -0.16679388 -0.95659745\n",
      " -0.0644632  -0.7538854   1.8805755  -2.59729     2.6989484   0.9922949\n",
      "  3.9918182  -1.6662551   2.541341   -0.10577476 -3.5456715  -3.94544\n",
      "  0.57598835 -0.52035105 -3.9299068  -1.4960816   4.434364    1.4302311\n",
      "  2.1654341  -3.6643417   0.5330774   1.1421432  -1.3214686   0.4788366\n",
      " -1.9540094  -0.4423272   1.0889297  -1.8227599  -2.087492   -1.9124533\n",
      " -1.2992061   1.4628903   3.1095638  -1.9657229  -1.72568     2.9101577\n",
      "  1.5256736   0.02912751  0.14006144 -2.4456232   1.992576    0.22557473\n",
      "  1.40415     1.0681424  -2.3234427   0.46588808 -2.120284    1.2509482\n",
      "  1.7936325   3.0735662  -1.968452   -0.10792968 -1.3695453  -0.39464706\n",
      " -0.05726171  0.7277364  -1.5663354  -1.5381284  -4.2691965  -1.9931545\n",
      "  0.4707121   3.5559118   2.1385772  -1.7046876  -0.9149157  -2.3844848\n",
      " -0.938901    2.4299505  -1.8006006   3.271493   -0.5295939   1.7066903 ]\n",
      "------------------------------\n",
      "Average Vector of 'dog eats meat'\n",
      " [ 0.9497717  -1.2301239  -1.6570965   0.02600932  1.6257883   2.3463233\n",
      " -0.03341264  0.5535993   2.5307076   2.3061898   3.0019693   0.12173756\n",
      " -0.3264576  -0.7983653  -1.9861808  -2.0981724  -0.71657175  0.78360796\n",
      " -1.8515993  -1.2827045   0.57357043 -0.20684583 -1.2003565  -0.49678817\n",
      "  0.13457048 -0.82746583 -0.76940554 -0.3606576   2.259192   -0.49417353\n",
      "  1.7030007   0.3846264   0.25939012  0.03669227 -1.8298146  -1.4203895\n",
      "  1.455389   -0.18114482 -2.4791121   1.3381492   3.715636    3.19703\n",
      "  1.2951443  -2.1459877   0.6676965   0.9667112  -0.5272677  -0.29487208\n",
      " -0.7119071   0.14675708 -0.5572761  -1.9488708  -0.6397939  -0.96744186\n",
      " -1.8528724   0.3465296   2.1199124  -0.76715153 -0.43884563  0.07532104\n",
      "  1.2809316   0.7471805   0.19491099 -0.04342728  1.0493482  -0.72073746\n",
      "  0.69119817 -0.44258884 -2.7460454  -0.8677985  -1.9026061   0.49226943\n",
      "  0.5637548   2.6199849  -1.3158027  -0.48333564 -1.1912802  -0.02735262\n",
      " -0.67210627  0.11429998  0.24690242  0.08279117 -2.7274878  -0.34686494\n",
      "  1.063767    3.196689    0.6230406  -1.143238   -1.0164955  -1.3060706\n",
      " -0.48383832  1.2241701  -0.95453763  1.250492    0.34123     1.7032119 ]\n",
      "\n",
      "dog [ 1.1878153  -0.26170456  0.03419253 -0.5098145   2.2524698  -0.14316672\n",
      " -0.9741871   0.9987432   3.3585162   3.098389    3.9458573   3.153195\n",
      "  2.474797    0.28299487 -1.0718518  -1.2719603  -0.9346882   0.6980716\n",
      " -1.7807717  -3.778508   -0.7800435   0.856657   -0.16256608 -1.1889228\n",
      "  0.14485419 -1.9348825  -0.6589819  -4.140472    3.1796694  -1.0029719\n",
      "  6.03379    -0.7439264   0.7298713  -0.33960485 -0.50823545 -0.27505162\n",
      "  1.4645944   0.05909663 -2.02593    -0.07870805  3.7751808   3.8910067\n",
      "  0.93147826 -1.4408367   0.23482867  1.5038861  -1.6044441   0.86290354\n",
      " -2.3903039  -0.5329412   0.72840124 -2.3201046  -2.763682   -1.7391096\n",
      " -2.5468462   1.630208    3.9861825  -1.1560813  -0.16007495 -1.2812638\n",
      "  1.0757833  -0.34596324  0.12258975 -0.1409623   1.0506115  -0.3939129\n",
      "  0.72289705 -0.11757469 -2.8201733  -0.41023016 -2.7297587   0.24024476\n",
      "  1.5475457   4.6176043  -3.0510297  -2.0189776  -3.2474117  -0.3285729\n",
      " -2.0773463   0.12776823  0.3675652  -1.3721904  -2.56865    -1.5797273\n",
      "  0.55347294  4.8819714  -1.1988775  -0.95212567  0.12909323 -1.8111378\n",
      " -2.3643622   0.32793254 -0.7840178   4.060226    1.358352    1.5559675 ]\n",
      "\n",
      "eats [-0.47655314 -0.887504   -3.3885355  -0.40814278 -0.23221523  8.091818\n",
      "  0.5198322   0.8531424   4.7039433   1.8867078   2.428679   -1.8267653\n",
      " -3.6248026   0.781947   -2.8044906  -1.8048921  -2.8840442   0.54410243\n",
      " -1.5859952  -0.8147486   2.621002   -0.56582713 -3.1238108  -1.0869386\n",
      "  1.2806193  -0.62084794 -0.41871095  0.35869947  1.7905439   0.24119776\n",
      " -0.23247066  0.15588203 -2.8230116   0.31940773 -2.8698652  -1.8306046\n",
      "  1.1420581  -0.07288504 -4.425796    2.8891995   4.5341854   2.66613\n",
      "  2.2523046  -1.910728   -1.3054113  -0.17172056 -0.25334305 -1.3717226\n",
      " -0.57009274  0.7400309  -1.5993974  -1.581954    1.7183993  -0.30978245\n",
      " -2.3206043   0.02712953  1.4552921  -1.1711987  -2.003884   -1.0205673\n",
      "  0.06380576  5.6872478   0.7931988  -0.11952353  3.0262659   0.30001533\n",
      "  0.43619615 -0.04385164 -1.5230343  -1.263225   -1.0696131   0.25260383\n",
      " -2.4857993  -0.13119471 -0.16439424  0.09343493 -1.9477481   0.72152287\n",
      " -0.80629015 -1.1293207   2.190932    2.7421567  -3.0568235  -0.84169805\n",
      "  4.044013   -0.59416664  1.2623303   0.34135234 -1.2421702  -0.37756807\n",
      "  1.4536979   2.1429076   0.40599105 -1.2975076  -2.0072887   3.8580472 ]\n",
      "\n",
      "meat [ 2.138053   -2.541163   -1.6169465   0.99598527  2.8571105  -0.9096813\n",
      "  0.35411698 -0.1910876  -0.47033745  1.9334728   2.6313715  -0.9612169\n",
      "  0.17063287 -3.4600377  -2.0822     -3.2176647   1.6690171   1.10865\n",
      " -2.1880314   0.7451431  -0.12024727 -0.9113674  -0.3146925   0.7854967\n",
      " -1.021762    0.07333279 -1.2305236   2.6997995   1.8073626  -0.7207465\n",
      " -0.6923174   1.7419236   2.8713107   0.13027394 -2.1113434  -2.155512\n",
      "  1.7595143  -0.52964604 -0.9856106   1.2039561   2.837541    3.033954\n",
      "  0.70165014 -3.0863986   3.073672    1.5679681   0.275984   -0.3757972\n",
      "  0.82467526  0.23318158 -0.8008322  -1.9445537  -0.874099   -0.8534336\n",
      " -0.6911663  -0.61774874  0.9182625   0.02582562  0.84742206  2.5277944\n",
      "  2.7032058  -3.0997431  -0.33105564  0.13020399 -0.928833   -2.0683148\n",
      "  0.9145014  -1.1663402  -3.8949287  -0.9299402  -1.9084469   0.9839597\n",
      "  2.629518    3.3735454  -0.7319842   0.47553572  1.6213193  -0.47500783\n",
      "  0.8673178   1.3444524  -1.8177899  -1.1215929  -2.5569901   1.3808305\n",
      " -1.4061852   5.3022623   1.805669   -2.8189406  -1.9364095  -1.7295058\n",
      " -0.5408506   1.2016699  -2.4855862   0.9887575   1.6726267  -0.304379  ]\n",
      "------------------------------\n",
      "Average Vector of 'man eats food'\n",
      " [-0.01888488  0.24636357 -1.1846992  -0.03036076  0.20029216  2.5316527\n",
      "  1.0111613   1.8503652   2.867821    4.068196    3.0024052  -1.5583652\n",
      " -0.51625425  0.13764803 -2.5880563  -2.6367261   0.51212007 -0.97560495\n",
      " -2.29093     0.4139812   2.0073164   0.08546352 -1.0925761  -0.7507916\n",
      " -1.3654298  -1.8170868  -0.5804129   0.08977842  2.285678   -0.10043623\n",
      "  1.6908598   0.312726   -0.6171694  -0.30944318 -1.1299864  -1.5947791\n",
      "  1.50427     0.03392437 -3.511301    1.9776081   4.1385956   2.958882\n",
      " -0.4647298  -1.4719462   0.87080735 -0.21344845 -0.9633123  -0.86678123\n",
      " -1.8861523   0.39675653  0.06777167 -2.835789    1.0900896   0.12179059\n",
      " -1.1235121   1.7366911   0.6220197  -1.1413636  -0.26947233 -0.30537304\n",
      "  0.31323096  0.9285738   0.7949112   0.0662303   1.6250023  -0.5656178\n",
      "  0.53837126 -2.7741454  -0.9776167  -0.46865782 -2.067732   -0.1014179\n",
      " -1.2516727   2.1744754  -0.5207297   0.89804155 -0.78852755 -0.59933203\n",
      " -0.50479466 -0.31491697  0.5226949   0.43031967 -1.9485286  -1.296661\n",
      "  1.18143     2.5934575   1.331779   -1.5355598   0.30261996 -0.1909941\n",
      " -1.2021204   1.7314535  -1.9927431   1.9262277   0.1092929   1.366396  ]\n",
      "\n",
      "man [ 0.52389205  1.5652239  -0.04750337  0.3047545  -0.08478642  1.6677048\n",
      " -0.618326    2.8580084   3.3072426   4.910988    4.430622   -0.89721835\n",
      "  2.7919784   1.9583353  -0.27794886 -1.4141033  -0.4280256  -0.81272227\n",
      " -3.4777741  -0.65262485  1.5562562  -1.2966298  -0.6721474  -1.2479438\n",
      " -1.6569079  -2.2275739  -0.07252926 -2.4424021   4.1824937  -0.18493074\n",
      "  4.3238254   0.22241122 -1.6786616  -0.55612457  2.0346923   0.40100402\n",
      "  2.5539172  -0.39336064 -2.583725   -0.37986255  2.7086127   3.5384498\n",
      " -1.7465255   0.696826   -0.87424815 -1.0220783  -0.7737946  -1.4038389\n",
      " -2.6686094   0.11081302 -0.16799808 -1.9404501  -0.13648355  1.2400486\n",
      " -1.5815971   0.7862677   0.32222164 -1.7648649  -0.3421955  -1.5199637\n",
      "  0.09515956  0.5408838   0.18814006 -0.9631245   0.09222977  0.85028267\n",
      "  4.1756663  -3.2499475  -2.2830732  -0.4174441  -2.7026453   0.03638396\n",
      " -1.0914427   4.579353   -2.796823   -0.98650265 -1.6295836  -1.3913723\n",
      " -2.197145    0.2371495   1.36781    -2.2192519  -0.3003249  -1.7600602\n",
      "  0.9031153   4.4606066  -0.72957647 -0.7701424   1.6933117  -0.7388307\n",
      " -2.544035    0.76758516 -3.1120014   4.1439514   1.5054498   0.35547572]\n",
      "\n",
      "eats [-1.3092378e+00 -8.6047465e-01 -3.2190249e+00 -4.4768196e-01\n",
      " -2.8020874e-02  6.4026423e+00 -2.2878736e-01  2.6748505e+00\n",
      "  4.9811215e+00  2.8140156e+00  2.5498390e+00 -2.7002344e+00\n",
      " -3.4247236e+00  1.5574431e+00 -2.1884162e+00 -2.1857004e+00\n",
      " -2.3307033e+00 -1.6605252e-01 -1.6718901e+00 -1.2166021e+00\n",
      "  3.6533082e+00  2.1984850e-01 -3.2604895e+00  1.3748842e-01\n",
      " -1.6829664e-01 -2.6968803e+00  6.8282926e-01  1.3026061e+00\n",
      "  6.8358308e-01 -7.0311296e-01 -2.9204535e-01  2.0198764e-01\n",
      " -2.7918777e+00  4.4713789e-01 -3.4799085e+00 -1.7759440e+00\n",
      "  9.7510737e-01  6.7892790e-01 -4.7331920e+00  3.8798397e+00\n",
      "  4.3553877e+00  3.3594851e+00  1.1228745e+00 -1.5380020e+00\n",
      " -3.2728779e-01 -9.0554619e-01 -6.5745354e-01 -5.2136183e-01\n",
      " -1.2597066e+00 -1.9782155e+00 -6.1217833e-01 -3.0532677e+00\n",
      "  3.4866471e+00 -1.0184374e+00 -2.2840528e+00  7.0840657e-01\n",
      "  4.4512683e-01 -8.7002206e-01  2.1135509e-01 -6.2738830e-01\n",
      " -3.1756163e-03  3.9169440e+00  1.8180964e+00  8.1682199e-01\n",
      "  5.1382465e+00  1.4008083e+00 -3.5379043e+00 -3.9664543e-01\n",
      "  9.7356522e-01 -2.6710024e+00 -1.0991514e+00  7.8807414e-01\n",
      " -2.7467117e+00  2.2486269e-01  1.8629702e+00 -2.2459069e-01\n",
      " -1.0668359e+00  2.0133030e-01 -1.2597678e+00 -9.8697454e-01\n",
      "  1.1697617e+00  2.7907655e+00 -2.5036402e+00 -2.1559534e+00\n",
      "  3.7731147e+00 -5.8993244e-01  2.0965610e+00 -9.4858849e-01\n",
      " -6.8825746e-01  5.8568168e-01  9.1899210e-01  3.2966912e+00\n",
      " -4.6160230e-01 -1.5817548e+00 -2.5806928e+00  4.4743700e+00]\n",
      "\n",
      "food [ 0.72869116  0.03434137 -0.28756914  0.05184519  0.7136837  -0.4753884\n",
      "  3.8805974   0.01823676  0.31509843  4.4795837   2.0267544  -1.0776429\n",
      " -0.9160175  -3.1028345  -5.297804   -4.3103743   4.2950892  -1.94804\n",
      " -1.7231253   3.1111705   0.8123846   1.3331718   0.65490824 -1.1419196\n",
      " -2.2710845  -0.52680653 -2.351539    1.4091313   1.9909565   0.586735\n",
      "  1.0407989   0.51377916  2.619031   -0.81934285 -1.9447429  -3.4093976\n",
      "  0.9837853  -0.18379414 -3.216986    2.432847    5.3517866   1.9787108\n",
      " -0.77053833 -3.5746627   3.813958    1.2872791  -1.4586889  -0.67514306\n",
      " -1.7301406   3.057672    0.9834914  -3.5136495  -0.07989472  0.14376049\n",
      "  0.49511337  3.715399    1.0987105  -0.78920376 -0.67757654  1.2312329\n",
      "  0.84770894 -1.6721063   0.3784972   0.3449934  -0.35546967 -3.9479444\n",
      "  0.9773516  -4.6758432  -1.6233422   1.6824732  -2.4013994  -1.1287118\n",
      "  0.08313614  1.7192109  -0.6283364   3.9052181   0.3308367  -0.6079541\n",
      "  1.9425287  -0.1949259  -0.9694871   0.71944535 -3.0416207   0.02603044\n",
      " -1.1319399   3.9096982   2.6283524  -2.8879485  -0.09719437 -0.4198333\n",
      " -1.9813186   1.1300844  -2.4046257   3.2164865   1.4031217  -0.73065805]\n"
     ]
    }
   ],
   "source": [
    "#Assume each sentence in documents corresponds to a separate document.\n",
    "documents = [\"Dog bites man.\", \"Man bites dog.\", \"Dog eats meat.\", \"Man eats food.\"]\n",
    "processed_docs = [doc.lower().replace(\".\",\"\") for doc in documents]\n",
    "processed_docs\n",
    "\n",
    "print(\"Document After Pre-Processing:\",processed_docs)\n",
    "\n",
    "\n",
    "#Iterate over each document and initiate an nlp instance.\n",
    "for doc in processed_docs:\n",
    "    doc_nlp = nlp(doc) #creating a spacy \"Doc\" object which is a container for accessing linguistic annotations. \n",
    "    \n",
    "    print(\"-\"*30)\n",
    "    print(\"Average Vector of '{}'\\n\".format(doc),doc_nlp.vector)#this gives the average vector of each document\n",
    "    for token in doc_nlp:\n",
    "        print()\n",
    "        print(token.text,token.vector)#this gives the text of each word in the doc and their respective vectors.\n",
    "        "
   ]
  },
  {
   "cell_type": "markdown",
   "metadata": {},
   "source": []
  },
  {
   "attachments": {},
   "cell_type": "markdown",
   "metadata": {},
   "source": [
    "# 8"
   ]
  },
  {
   "cell_type": "markdown",
   "metadata": {},
   "source": []
  },
  {
   "cell_type": "markdown",
   "metadata": {},
   "source": [
    "## Doc2Vec\n",
    "In this notebook we demonstrate how to train a doc2vec model on a custom corpus."
   ]
  },
  {
   "cell_type": "code",
   "execution_count": null,
   "metadata": {},
   "outputs": [
    {
     "name": "stdout",
     "output_type": "stream",
     "text": [
      "Requirement already satisfied: gensim==3.6.0 in /usr/local/lib/python3.7/dist-packages (3.6.0)\n",
      "Requirement already satisfied: smart-open>=1.2.1 in /usr/local/lib/python3.7/dist-packages (from gensim==3.6.0) (5.1.0)\n",
      "Requirement already satisfied: six>=1.5.0 in /usr/local/lib/python3.7/dist-packages (from gensim==3.6.0) (1.15.0)\n",
      "Requirement already satisfied: scipy>=0.18.1 in /usr/local/lib/python3.7/dist-packages (from gensim==3.6.0) (1.4.1)\n",
      "Requirement already satisfied: numpy>=1.11.3 in /usr/local/lib/python3.7/dist-packages (from gensim==3.6.0) (1.19.5)\n",
      "Requirement already satisfied: spacy==2.2.4 in /usr/local/lib/python3.7/dist-packages (2.2.4)\n",
      "Requirement already satisfied: thinc==7.4.0 in /usr/local/lib/python3.7/dist-packages (from spacy==2.2.4) (7.4.0)\n",
      "Requirement already satisfied: requests<3.0.0,>=2.13.0 in /usr/local/lib/python3.7/dist-packages (from spacy==2.2.4) (2.23.0)\n",
      "Requirement already satisfied: preshed<3.1.0,>=3.0.2 in /usr/local/lib/python3.7/dist-packages (from spacy==2.2.4) (3.0.5)\n",
      "Requirement already satisfied: tqdm<5.0.0,>=4.38.0 in /usr/local/lib/python3.7/dist-packages (from spacy==2.2.4) (4.41.1)\n",
      "Requirement already satisfied: cymem<2.1.0,>=2.0.2 in /usr/local/lib/python3.7/dist-packages (from spacy==2.2.4) (2.0.5)\n",
      "Requirement already satisfied: plac<1.2.0,>=0.9.6 in /usr/local/lib/python3.7/dist-packages (from spacy==2.2.4) (1.1.3)\n",
      "Requirement already satisfied: catalogue<1.1.0,>=0.0.7 in /usr/local/lib/python3.7/dist-packages (from spacy==2.2.4) (1.0.0)\n",
      "Requirement already satisfied: setuptools in /usr/local/lib/python3.7/dist-packages (from spacy==2.2.4) (57.2.0)\n",
      "Requirement already satisfied: srsly<1.1.0,>=1.0.2 in /usr/local/lib/python3.7/dist-packages (from spacy==2.2.4) (1.0.5)\n",
      "Requirement already satisfied: murmurhash<1.1.0,>=0.28.0 in /usr/local/lib/python3.7/dist-packages (from spacy==2.2.4) (1.0.5)\n",
      "Requirement already satisfied: numpy>=1.15.0 in /usr/local/lib/python3.7/dist-packages (from spacy==2.2.4) (1.19.5)\n",
      "Requirement already satisfied: blis<0.5.0,>=0.4.0 in /usr/local/lib/python3.7/dist-packages (from spacy==2.2.4) (0.4.1)\n",
      "Requirement already satisfied: wasabi<1.1.0,>=0.4.0 in /usr/local/lib/python3.7/dist-packages (from spacy==2.2.4) (0.8.2)\n",
      "Requirement already satisfied: importlib-metadata>=0.20 in /usr/local/lib/python3.7/dist-packages (from catalogue<1.1.0,>=0.0.7->spacy==2.2.4) (4.6.1)\n",
      "Requirement already satisfied: zipp>=0.5 in /usr/local/lib/python3.7/dist-packages (from importlib-metadata>=0.20->catalogue<1.1.0,>=0.0.7->spacy==2.2.4) (3.5.0)\n",
      "Requirement already satisfied: typing-extensions>=3.6.4 in /usr/local/lib/python3.7/dist-packages (from importlib-metadata>=0.20->catalogue<1.1.0,>=0.0.7->spacy==2.2.4) (3.7.4.3)\n",
      "Requirement already satisfied: urllib3!=1.25.0,!=1.25.1,<1.26,>=1.21.1 in /usr/local/lib/python3.7/dist-packages (from requests<3.0.0,>=2.13.0->spacy==2.2.4) (1.24.3)\n",
      "Requirement already satisfied: chardet<4,>=3.0.2 in /usr/local/lib/python3.7/dist-packages (from requests<3.0.0,>=2.13.0->spacy==2.2.4) (3.0.4)\n",
      "Requirement already satisfied: idna<3,>=2.5 in /usr/local/lib/python3.7/dist-packages (from requests<3.0.0,>=2.13.0->spacy==2.2.4) (2.10)\n",
      "Requirement already satisfied: certifi>=2017.4.17 in /usr/local/lib/python3.7/dist-packages (from requests<3.0.0,>=2.13.0->spacy==2.2.4) (2021.5.30)\n",
      "Requirement already satisfied: nltk==3.2.5 in /usr/local/lib/python3.7/dist-packages (3.2.5)\n",
      "Requirement already satisfied: six in /usr/local/lib/python3.7/dist-packages (from nltk==3.2.5) (1.15.0)\n"
     ]
    }
   ],
   "source": [
    "# To install only the requirements of this notebook, uncomment the lines below and run this cell\n",
    "\n",
    "# ===========================\n",
    "\n",
    "!pip install gensim==3.6.0\n",
    "!pip install spacy==2.2.4\n",
    "!pip install nltk==3.2.5\n",
    "\n",
    "# ==========================="
   ]
  },
  {
   "cell_type": "code",
   "execution_count": null,
   "metadata": {},
   "outputs": [],
   "source": [
    "# To install the requirements for the entire chapter, uncomment the lines below and run this cell\n",
    "\n",
    "# ===========================\n",
    "\n",
    "# try :\n",
    "#     import google.colab\n",
    "#     !curl https://raw.githubusercontent.com/practical-nlp/practical-nlp/master/Ch3/ch3-requirements.txt | xargs -n 1 -L 1 pip install\n",
    "# except ModuleNotFoundError :\n",
    "#     !pip install -r \"ch3-requirements.txt\"\n",
    "\n",
    "# ==========================="
   ]
  },
  {
   "cell_type": "code",
   "execution_count": null,
   "metadata": {},
   "outputs": [
    {
     "name": "stdout",
     "output_type": "stream",
     "text": [
      "[nltk_data] Downloading package punkt to /root/nltk_data...\n",
      "[nltk_data]   Unzipping tokenizers/punkt.zip.\n"
     ]
    },
    {
     "data": {
      "text/plain": [
       "True"
      ]
     },
     "metadata": {},
     "output_type": "display_data"
    }
   ],
   "source": [
    "import warnings\n",
    "warnings.filterwarnings('ignore')\n",
    "from gensim.models.doc2vec import Doc2Vec, TaggedDocument\n",
    "from nltk.tokenize import word_tokenize\n",
    "from pprint import pprint\n",
    "import nltk\n",
    "nltk.download('punkt')"
   ]
  },
  {
   "cell_type": "code",
   "execution_count": null,
   "metadata": {},
   "outputs": [],
   "source": [
    "data = [\"dog bites man\",\n",
    "        \"man bites dog\",\n",
    "        \"dog eats meat\",\n",
    "        \"man eats food\"]\n",
    "\n",
    "tagged_data = [TaggedDocument(words=word_tokenize(word.lower()), tags=[str(i)]) for i, word in enumerate(data)]\n"
   ]
  },
  {
   "cell_type": "code",
   "execution_count": null,
   "metadata": {},
   "outputs": [
    {
     "data": {
      "text/plain": [
       "[TaggedDocument(words=['dog', 'bites', 'man'], tags=['0']),\n",
       " TaggedDocument(words=['man', 'bites', 'dog'], tags=['1']),\n",
       " TaggedDocument(words=['dog', 'eats', 'meat'], tags=['2']),\n",
       " TaggedDocument(words=['man', 'eats', 'food'], tags=['3'])]"
      ]
     },
     "metadata": {},
     "output_type": "display_data"
    }
   ],
   "source": [
    "tagged_data"
   ]
  },
  {
   "cell_type": "code",
   "execution_count": null,
   "metadata": {},
   "outputs": [],
   "source": [
    "#dbow\n",
    "model_dbow = Doc2Vec(tagged_data,vector_size=20, min_count=1, epochs=2,dm=0)\n"
   ]
  },
  {
   "cell_type": "code",
   "execution_count": null,
   "metadata": {},
   "outputs": [
    {
     "name": "stdout",
     "output_type": "stream",
     "text": [
      "[-1.0145655e-02 -5.4906374e-03 -2.1160658e-02 -1.1651787e-02\n",
      "  3.5484456e-03 -7.0642815e-03 -9.2761237e-03 -2.8323701e-03\n",
      "  2.3504248e-02 -9.2086571e-05  2.2652479e-02 -8.9776609e-03\n",
      "  1.1970512e-02 -1.1935705e-02  1.3459495e-02 -2.2505892e-02\n",
      "  1.8962136e-02 -1.0934918e-02  1.7853366e-02 -1.4978001e-02]\n"
     ]
    }
   ],
   "source": [
    "print(model_dbow.infer_vector(['man','eats','food']))#feature vector of man eats food"
   ]
  },
  {
   "cell_type": "code",
   "execution_count": null,
   "metadata": {},
   "outputs": [
    {
     "data": {
      "text/plain": [
       "[('dog', 0.2630311846733093),\n",
       " ('eats', 0.23952406644821167),\n",
       " ('food', -0.11896046996116638),\n",
       " ('meat', -0.2617309093475342),\n",
       " ('bites', -0.306953489780426)]"
      ]
     },
     "metadata": {},
     "output_type": "display_data"
    }
   ],
   "source": [
    "model_dbow.wv.most_similar(\"man\",topn=5)#top 5 most simlar words."
   ]
  },
  {
   "cell_type": "code",
   "execution_count": null,
   "metadata": {},
   "outputs": [
    {
     "data": {
      "text/plain": [
       "0.26303118"
      ]
     },
     "metadata": {},
     "output_type": "display_data"
    }
   ],
   "source": [
    " model_dbow.wv.n_similarity([\"dog\"],[\"man\"])"
   ]
  },
  {
   "cell_type": "code",
   "execution_count": null,
   "metadata": {},
   "outputs": [
    {
     "name": "stdout",
     "output_type": "stream",
     "text": [
      "Inference Vector of man eats food\n",
      "  [-1.01456400e-02 -5.49062993e-03 -2.11605523e-02 -1.16518466e-02\n",
      "  3.54836439e-03 -7.06422143e-03 -9.27604642e-03 -2.83227302e-03\n",
      "  2.35041156e-02 -9.20040839e-05  2.26525515e-02 -8.97767674e-03\n",
      "  1.19706187e-02 -1.19358245e-02  1.34595484e-02 -2.25058738e-02\n",
      "  1.89621784e-02 -1.09350523e-02  1.78532843e-02 -1.49779590e-02]\n",
      "Most similar words to man in our corpus\n",
      " [('dog', 0.2630311846733093), ('eats', 0.23952406644821167), ('food', -0.11896046996116638), ('meat', -0.2617309093475342), ('bites', -0.306953489780426)]\n",
      "Similarity between man and dog:  0.26303118\n"
     ]
    }
   ],
   "source": [
    "#dm\n",
    "model_dm = Doc2Vec(tagged_data, min_count=1, vector_size=20, epochs=2,dm=1)\n",
    "\n",
    "print(\"Inference Vector of man eats food\\n \",model_dm.infer_vector(['man','eats','food']))\n",
    "\n",
    "print(\"Most similar words to man in our corpus\\n\",model_dm.wv.most_similar(\"man\",topn=5))\n",
    "print(\"Similarity between man and dog: \",model_dm.wv.n_similarity([\"dog\"],[\"man\"]))"
   ]
  },
  {
   "cell_type": "markdown",
   "metadata": {},
   "source": [
    "What happens when we compare between words which are not in the vocabulary?"
   ]
  },
  {
   "cell_type": "code",
   "execution_count": null,
   "metadata": {},
   "outputs": [
    {
     "ename": "KeyError",
     "evalue": "ignored",
     "output_type": "error",
     "traceback": [
      "\u001b[0;31m---------------------------------------------------------------------------\u001b[0m\n",
      "\u001b[0;31mKeyError\u001b[0m                                  Traceback (most recent call last)\n",
      "\u001b[0;32m<ipython-input-11-21897cb372b8>\u001b[0m in \u001b[0;36m<module>\u001b[0;34m()\u001b[0m\n",
      "\u001b[0;32m----> 1\u001b[0;31m \u001b[0mmodel_dm\u001b[0m\u001b[0;34m.\u001b[0m\u001b[0mwv\u001b[0m\u001b[0;34m.\u001b[0m\u001b[0mn_similarity\u001b[0m\u001b[0;34m(\u001b[0m\u001b[0;34m[\u001b[0m\u001b[0;34m'covid'\u001b[0m\u001b[0;34m]\u001b[0m\u001b[0;34m,\u001b[0m\u001b[0;34m[\u001b[0m\u001b[0;34m'man'\u001b[0m\u001b[0;34m]\u001b[0m\u001b[0;34m)\u001b[0m\u001b[0;34m\u001b[0m\u001b[0;34m\u001b[0m\u001b[0m\n",
      "\u001b[0m\n",
      "\u001b[0;32m/usr/local/lib/python3.7/dist-packages/gensim/models/keyedvectors.py\u001b[0m in \u001b[0;36mn_similarity\u001b[0;34m(self, ws1, ws2)\u001b[0m\n",
      "\u001b[1;32m   1010\u001b[0m         \u001b[0;32mif\u001b[0m \u001b[0;32mnot\u001b[0m\u001b[0;34m(\u001b[0m\u001b[0mlen\u001b[0m\u001b[0;34m(\u001b[0m\u001b[0mws1\u001b[0m\u001b[0;34m)\u001b[0m \u001b[0;32mand\u001b[0m \u001b[0mlen\u001b[0m\u001b[0;34m(\u001b[0m\u001b[0mws2\u001b[0m\u001b[0;34m)\u001b[0m\u001b[0;34m)\u001b[0m\u001b[0;34m:\u001b[0m\u001b[0;34m\u001b[0m\u001b[0;34m\u001b[0m\u001b[0m\n",
      "\u001b[1;32m   1011\u001b[0m             \u001b[0;32mraise\u001b[0m \u001b[0mZeroDivisionError\u001b[0m\u001b[0;34m(\u001b[0m\u001b[0;34m'At least one of the passed list is empty.'\u001b[0m\u001b[0;34m)\u001b[0m\u001b[0;34m\u001b[0m\u001b[0;34m\u001b[0m\u001b[0m\n",
      "\u001b[0;32m-> 1012\u001b[0;31m         \u001b[0mv1\u001b[0m \u001b[0;34m=\u001b[0m \u001b[0;34m[\u001b[0m\u001b[0mself\u001b[0m\u001b[0;34m[\u001b[0m\u001b[0mword\u001b[0m\u001b[0;34m]\u001b[0m \u001b[0;32mfor\u001b[0m \u001b[0mword\u001b[0m \u001b[0;32min\u001b[0m \u001b[0mws1\u001b[0m\u001b[0;34m]\u001b[0m\u001b[0;34m\u001b[0m\u001b[0;34m\u001b[0m\u001b[0m\n",
      "\u001b[0m\u001b[1;32m   1013\u001b[0m         \u001b[0mv2\u001b[0m \u001b[0;34m=\u001b[0m \u001b[0;34m[\u001b[0m\u001b[0mself\u001b[0m\u001b[0;34m[\u001b[0m\u001b[0mword\u001b[0m\u001b[0;34m]\u001b[0m \u001b[0;32mfor\u001b[0m \u001b[0mword\u001b[0m \u001b[0;32min\u001b[0m \u001b[0mws2\u001b[0m\u001b[0;34m]\u001b[0m\u001b[0;34m\u001b[0m\u001b[0;34m\u001b[0m\u001b[0m\n",
      "\u001b[1;32m   1014\u001b[0m         \u001b[0;32mreturn\u001b[0m \u001b[0mdot\u001b[0m\u001b[0;34m(\u001b[0m\u001b[0mmatutils\u001b[0m\u001b[0;34m.\u001b[0m\u001b[0munitvec\u001b[0m\u001b[0;34m(\u001b[0m\u001b[0marray\u001b[0m\u001b[0;34m(\u001b[0m\u001b[0mv1\u001b[0m\u001b[0;34m)\u001b[0m\u001b[0;34m.\u001b[0m\u001b[0mmean\u001b[0m\u001b[0;34m(\u001b[0m\u001b[0maxis\u001b[0m\u001b[0;34m=\u001b[0m\u001b[0;36m0\u001b[0m\u001b[0;34m)\u001b[0m\u001b[0;34m)\u001b[0m\u001b[0;34m,\u001b[0m \u001b[0mmatutils\u001b[0m\u001b[0;34m.\u001b[0m\u001b[0munitvec\u001b[0m\u001b[0;34m(\u001b[0m\u001b[0marray\u001b[0m\u001b[0;34m(\u001b[0m\u001b[0mv2\u001b[0m\u001b[0;34m)\u001b[0m\u001b[0;34m.\u001b[0m\u001b[0mmean\u001b[0m\u001b[0;34m(\u001b[0m\u001b[0maxis\u001b[0m\u001b[0;34m=\u001b[0m\u001b[0;36m0\u001b[0m\u001b[0;34m)\u001b[0m\u001b[0;34m)\u001b[0m\u001b[0;34m)\u001b[0m\u001b[0;34m\u001b[0m\u001b[0;34m\u001b[0m\u001b[0m\n",
      "\n",
      "\u001b[0;32m/usr/local/lib/python3.7/dist-packages/gensim/models/keyedvectors.py\u001b[0m in \u001b[0;36m<listcomp>\u001b[0;34m(.0)\u001b[0m\n",
      "\u001b[1;32m   1010\u001b[0m         \u001b[0;32mif\u001b[0m \u001b[0;32mnot\u001b[0m\u001b[0;34m(\u001b[0m\u001b[0mlen\u001b[0m\u001b[0;34m(\u001b[0m\u001b[0mws1\u001b[0m\u001b[0;34m)\u001b[0m \u001b[0;32mand\u001b[0m \u001b[0mlen\u001b[0m\u001b[0;34m(\u001b[0m\u001b[0mws2\u001b[0m\u001b[0;34m)\u001b[0m\u001b[0;34m)\u001b[0m\u001b[0;34m:\u001b[0m\u001b[0;34m\u001b[0m\u001b[0;34m\u001b[0m\u001b[0m\n",
      "\u001b[1;32m   1011\u001b[0m             \u001b[0;32mraise\u001b[0m \u001b[0mZeroDivisionError\u001b[0m\u001b[0;34m(\u001b[0m\u001b[0;34m'At least one of the passed list is empty.'\u001b[0m\u001b[0;34m)\u001b[0m\u001b[0;34m\u001b[0m\u001b[0;34m\u001b[0m\u001b[0m\n",
      "\u001b[0;32m-> 1012\u001b[0;31m         \u001b[0mv1\u001b[0m \u001b[0;34m=\u001b[0m \u001b[0;34m[\u001b[0m\u001b[0mself\u001b[0m\u001b[0;34m[\u001b[0m\u001b[0mword\u001b[0m\u001b[0;34m]\u001b[0m \u001b[0;32mfor\u001b[0m \u001b[0mword\u001b[0m \u001b[0;32min\u001b[0m \u001b[0mws1\u001b[0m\u001b[0;34m]\u001b[0m\u001b[0;34m\u001b[0m\u001b[0;34m\u001b[0m\u001b[0m\n",
      "\u001b[0m\u001b[1;32m   1013\u001b[0m         \u001b[0mv2\u001b[0m \u001b[0;34m=\u001b[0m \u001b[0;34m[\u001b[0m\u001b[0mself\u001b[0m\u001b[0;34m[\u001b[0m\u001b[0mword\u001b[0m\u001b[0;34m]\u001b[0m \u001b[0;32mfor\u001b[0m \u001b[0mword\u001b[0m \u001b[0;32min\u001b[0m \u001b[0mws2\u001b[0m\u001b[0;34m]\u001b[0m\u001b[0;34m\u001b[0m\u001b[0;34m\u001b[0m\u001b[0m\n",
      "\u001b[1;32m   1014\u001b[0m         \u001b[0;32mreturn\u001b[0m \u001b[0mdot\u001b[0m\u001b[0;34m(\u001b[0m\u001b[0mmatutils\u001b[0m\u001b[0;34m.\u001b[0m\u001b[0munitvec\u001b[0m\u001b[0;34m(\u001b[0m\u001b[0marray\u001b[0m\u001b[0;34m(\u001b[0m\u001b[0mv1\u001b[0m\u001b[0;34m)\u001b[0m\u001b[0;34m.\u001b[0m\u001b[0mmean\u001b[0m\u001b[0;34m(\u001b[0m\u001b[0maxis\u001b[0m\u001b[0;34m=\u001b[0m\u001b[0;36m0\u001b[0m\u001b[0;34m)\u001b[0m\u001b[0;34m)\u001b[0m\u001b[0;34m,\u001b[0m \u001b[0mmatutils\u001b[0m\u001b[0;34m.\u001b[0m\u001b[0munitvec\u001b[0m\u001b[0;34m(\u001b[0m\u001b[0marray\u001b[0m\u001b[0;34m(\u001b[0m\u001b[0mv2\u001b[0m\u001b[0;34m)\u001b[0m\u001b[0;34m.\u001b[0m\u001b[0mmean\u001b[0m\u001b[0;34m(\u001b[0m\u001b[0maxis\u001b[0m\u001b[0;34m=\u001b[0m\u001b[0;36m0\u001b[0m\u001b[0;34m)\u001b[0m\u001b[0;34m)\u001b[0m\u001b[0;34m)\u001b[0m\u001b[0;34m\u001b[0m\u001b[0;34m\u001b[0m\u001b[0m\n",
      "\n",
      "\u001b[0;32m/usr/local/lib/python3.7/dist-packages/gensim/models/keyedvectors.py\u001b[0m in \u001b[0;36m__getitem__\u001b[0;34m(self, entities)\u001b[0m\n",
      "\u001b[1;32m    335\u001b[0m         \u001b[0;32mif\u001b[0m \u001b[0misinstance\u001b[0m\u001b[0;34m(\u001b[0m\u001b[0mentities\u001b[0m\u001b[0;34m,\u001b[0m \u001b[0mstring_types\u001b[0m\u001b[0;34m)\u001b[0m\u001b[0;34m:\u001b[0m\u001b[0;34m\u001b[0m\u001b[0;34m\u001b[0m\u001b[0m\n",
      "\u001b[1;32m    336\u001b[0m             \u001b[0;31m# allow calls like trained_model['office'], as a shorthand for trained_model[['office']]\u001b[0m\u001b[0;34m\u001b[0m\u001b[0;34m\u001b[0m\u001b[0;34m\u001b[0m\u001b[0m\n",
      "\u001b[0;32m--> 337\u001b[0;31m             \u001b[0;32mreturn\u001b[0m \u001b[0mself\u001b[0m\u001b[0;34m.\u001b[0m\u001b[0mget_vector\u001b[0m\u001b[0;34m(\u001b[0m\u001b[0mentities\u001b[0m\u001b[0;34m)\u001b[0m\u001b[0;34m\u001b[0m\u001b[0;34m\u001b[0m\u001b[0m\n",
      "\u001b[0m\u001b[1;32m    338\u001b[0m \u001b[0;34m\u001b[0m\u001b[0m\n",
      "\u001b[1;32m    339\u001b[0m         \u001b[0;32mreturn\u001b[0m \u001b[0mvstack\u001b[0m\u001b[0;34m(\u001b[0m\u001b[0;34m[\u001b[0m\u001b[0mself\u001b[0m\u001b[0;34m.\u001b[0m\u001b[0mget_vector\u001b[0m\u001b[0;34m(\u001b[0m\u001b[0mentity\u001b[0m\u001b[0;34m)\u001b[0m \u001b[0;32mfor\u001b[0m \u001b[0mentity\u001b[0m \u001b[0;32min\u001b[0m \u001b[0mentities\u001b[0m\u001b[0;34m]\u001b[0m\u001b[0;34m)\u001b[0m\u001b[0;34m\u001b[0m\u001b[0;34m\u001b[0m\u001b[0m\n",
      "\n",
      "\u001b[0;32m/usr/local/lib/python3.7/dist-packages/gensim/models/keyedvectors.py\u001b[0m in \u001b[0;36mget_vector\u001b[0;34m(self, word)\u001b[0m\n",
      "\u001b[1;32m    453\u001b[0m \u001b[0;34m\u001b[0m\u001b[0m\n",
      "\u001b[1;32m    454\u001b[0m     \u001b[0;32mdef\u001b[0m \u001b[0mget_vector\u001b[0m\u001b[0;34m(\u001b[0m\u001b[0mself\u001b[0m\u001b[0;34m,\u001b[0m \u001b[0mword\u001b[0m\u001b[0;34m)\u001b[0m\u001b[0;34m:\u001b[0m\u001b[0;34m\u001b[0m\u001b[0;34m\u001b[0m\u001b[0m\n",
      "\u001b[0;32m--> 455\u001b[0;31m         \u001b[0;32mreturn\u001b[0m \u001b[0mself\u001b[0m\u001b[0;34m.\u001b[0m\u001b[0mword_vec\u001b[0m\u001b[0;34m(\u001b[0m\u001b[0mword\u001b[0m\u001b[0;34m)\u001b[0m\u001b[0;34m\u001b[0m\u001b[0;34m\u001b[0m\u001b[0m\n",
      "\u001b[0m\u001b[1;32m    456\u001b[0m \u001b[0;34m\u001b[0m\u001b[0m\n",
      "\u001b[1;32m    457\u001b[0m     \u001b[0;32mdef\u001b[0m \u001b[0mwords_closer_than\u001b[0m\u001b[0;34m(\u001b[0m\u001b[0mself\u001b[0m\u001b[0;34m,\u001b[0m \u001b[0mw1\u001b[0m\u001b[0;34m,\u001b[0m \u001b[0mw2\u001b[0m\u001b[0;34m)\u001b[0m\u001b[0;34m:\u001b[0m\u001b[0;34m\u001b[0m\u001b[0;34m\u001b[0m\u001b[0m\n",
      "\n",
      "\u001b[0;32m/usr/local/lib/python3.7/dist-packages/gensim/models/keyedvectors.py\u001b[0m in \u001b[0;36mword_vec\u001b[0;34m(self, word, use_norm)\u001b[0m\n",
      "\u001b[1;32m    450\u001b[0m             \u001b[0;32mreturn\u001b[0m \u001b[0mresult\u001b[0m\u001b[0;34m\u001b[0m\u001b[0;34m\u001b[0m\u001b[0m\n",
      "\u001b[1;32m    451\u001b[0m         \u001b[0;32melse\u001b[0m\u001b[0;34m:\u001b[0m\u001b[0;34m\u001b[0m\u001b[0;34m\u001b[0m\u001b[0m\n",
      "\u001b[0;32m--> 452\u001b[0;31m             \u001b[0;32mraise\u001b[0m \u001b[0mKeyError\u001b[0m\u001b[0;34m(\u001b[0m\u001b[0;34m\"word '%s' not in vocabulary\"\u001b[0m \u001b[0;34m%\u001b[0m \u001b[0mword\u001b[0m\u001b[0;34m)\u001b[0m\u001b[0;34m\u001b[0m\u001b[0;34m\u001b[0m\u001b[0m\n",
      "\u001b[0m\u001b[1;32m    453\u001b[0m \u001b[0;34m\u001b[0m\u001b[0m\n",
      "\u001b[1;32m    454\u001b[0m     \u001b[0;32mdef\u001b[0m \u001b[0mget_vector\u001b[0m\u001b[0;34m(\u001b[0m\u001b[0mself\u001b[0m\u001b[0;34m,\u001b[0m \u001b[0mword\u001b[0m\u001b[0;34m)\u001b[0m\u001b[0;34m:\u001b[0m\u001b[0;34m\u001b[0m\u001b[0;34m\u001b[0m\u001b[0m\n",
      "\n",
      "\u001b[0;31mKeyError\u001b[0m: \"word 'covid' not in vocabulary\""
     ]
    }
   ],
   "source": [
    "model_dm.wv.n_similarity(['covid'],['man'])"
   ]
  },
  {
   "cell_type": "markdown",
   "metadata": {},
   "source": []
  },
  {
   "attachments": {},
   "cell_type": "markdown",
   "metadata": {},
   "source": [
    "# 9"
   ]
  },
  {
   "cell_type": "markdown",
   "metadata": {},
   "source": []
  },
  {
   "cell_type": "markdown",
   "metadata": {},
   "source": [
    "## Visualizing Embeddings Using TSNE\n",
    "\n",
    "This notebook demostrates visualization of embeddings using TSNE.\n",
    "We will use the embedings we trained in the \"Training_embeddings_using_gensim.ipnb notebook. We are using the word2vec_cbow model. "
   ]
  },
  {
   "cell_type": "code",
   "execution_count": null,
   "metadata": {},
   "outputs": [
    {
     "name": "stdout",
     "output_type": "stream",
     "text": [
      "Requirement already satisfied: gensim==3.6.0 in c:\\users\\kumar apurv\\anaconda3\\envs\\ch3\\lib\\site-packages (3.6.0)\n",
      "Requirement already satisfied: scipy>=0.18.1 in c:\\users\\kumar apurv\\anaconda3\\envs\\ch3\\lib\\site-packages (from gensim==3.6.0) (1.5.4)\n",
      "Requirement already satisfied: numpy>=1.11.3 in c:\\users\\kumar apurv\\anaconda3\\envs\\ch3\\lib\\site-packages (from gensim==3.6.0) (1.19.5)\n",
      "Requirement already satisfied: smart-open>=1.2.1 in c:\\users\\kumar apurv\\anaconda3\\envs\\ch3\\lib\\site-packages (from gensim==3.6.0) (5.1.0)\n",
      "Requirement already satisfied: six>=1.5.0 in c:\\users\\kumar apurv\\anaconda3\\envs\\ch3\\lib\\site-packages (from gensim==3.6.0) (1.16.0)\n",
      "Requirement already satisfied: numpy==1.19.5 in c:\\users\\kumar apurv\\anaconda3\\envs\\ch3\\lib\\site-packages (1.19.5)\n",
      "Collecting matplotlib==3.2.2\n",
      "  Using cached matplotlib-3.2.2-cp36-cp36m-win_amd64.whl (9.2 MB)\n",
      "Requirement already satisfied: numpy>=1.11 in c:\\users\\kumar apurv\\anaconda3\\envs\\ch3\\lib\\site-packages (from matplotlib==3.2.2) (1.19.5)\n",
      "Collecting kiwisolver>=1.0.1\n",
      "  Using cached kiwisolver-1.3.1-cp36-cp36m-win_amd64.whl (51 kB)\n",
      "Collecting cycler>=0.10\n",
      "  Using cached cycler-0.10.0-py2.py3-none-any.whl (6.5 kB)\n",
      "Requirement already satisfied: python-dateutil>=2.1 in c:\\users\\kumar apurv\\anaconda3\\envs\\ch3\\lib\\site-packages (from matplotlib==3.2.2) (2.8.2)\n",
      "Requirement already satisfied: pyparsing!=2.0.4,!=2.1.2,!=2.1.6,>=2.0.1 in c:\\users\\kumar apurv\\anaconda3\\envs\\ch3\\lib\\site-packages (from matplotlib==3.2.2) (2.4.7)\n",
      "Requirement already satisfied: six in c:\\users\\kumar apurv\\anaconda3\\envs\\ch3\\lib\\site-packages (from cycler>=0.10->matplotlib==3.2.2) (1.16.0)\n",
      "Installing collected packages: kiwisolver, cycler, matplotlib\n",
      "Successfully installed cycler-0.10.0 kiwisolver-1.3.1 matplotlib-3.2.2\n",
      "Collecting scikit-learn==0.21.3\n",
      "  Using cached scikit_learn-0.21.3-cp36-cp36m-win_amd64.whl (5.9 MB)\n",
      "Collecting joblib>=0.11\n",
      "  Using cached joblib-1.0.1-py3-none-any.whl (303 kB)\n",
      "Requirement already satisfied: scipy>=0.17.0 in c:\\users\\kumar apurv\\anaconda3\\envs\\ch3\\lib\\site-packages (from scikit-learn==0.21.3) (1.5.4)\n",
      "Requirement already satisfied: numpy>=1.11.0 in c:\\users\\kumar apurv\\anaconda3\\envs\\ch3\\lib\\site-packages (from scikit-learn==0.21.3) (1.19.5)\n",
      "Installing collected packages: joblib, scikit-learn\n",
      "Successfully installed joblib-1.0.1 scikit-learn-0.21.3\n",
      "Collecting nltk==3.2.5\n",
      "  Using cached nltk-3.2.5-py3-none-any.whl\n",
      "Requirement already satisfied: six in c:\\users\\kumar apurv\\anaconda3\\envs\\ch3\\lib\\site-packages (from nltk==3.2.5) (1.16.0)\n",
      "Installing collected packages: nltk\n",
      "Successfully installed nltk-3.2.5\n"
     ]
    }
   ],
   "source": [
    "# To install only the requirements of this notebook, uncomment the lines below and run this cell\n",
    "\n",
    "# ===========================\n",
    "\n",
    "!pip install gensim==3.6.0\n",
    "!pip install numpy==1.19.5\n",
    "!pip install matplotlib==3.2.2\n",
    "!pip install scikit-learn==0.21.3\n",
    "!pip install nltk==3.2.5\n",
    "\n",
    "# ==========================="
   ]
  },
  {
   "cell_type": "code",
   "execution_count": null,
   "metadata": {},
   "outputs": [],
   "source": [
    "# To install the requirements for the entire chapter, uncomment the lines below and run this cell\n",
    "\n",
    "# ===========================\n",
    "\n",
    "# try :\n",
    "#     import google.colab\n",
    "#     !curl https://raw.githubusercontent.com/practical-nlp/practical-nlp/master/Ch3/ch3-requirements.txt | xargs -n 1 -L 1 pip install\n",
    "# except ModuleNotFoundError :\n",
    "#     !pip install -r \"ch3-requirements.txt\"\n",
    "\n",
    "# ==========================="
   ]
  },
  {
   "cell_type": "code",
   "execution_count": null,
   "metadata": {},
   "outputs": [
    {
     "name": "stdout",
     "output_type": "stream",
     "text": [
      "Not using colab\n"
     ]
    }
   ],
   "source": [
    "# FOR GOOGLE COLAB USERS\n",
    "# upload the \"word2vec_cbow.bin\" file from the repository which is present in the Models folder of the same chapter.\n",
    "try:\n",
    "    from google.colab import files\n",
    "    uploaded = files.upload()\n",
    "except ModuleNotFoundError:\n",
    "    print(\"Not using colab\")"
   ]
  },
  {
   "cell_type": "code",
   "execution_count": null,
   "metadata": {},
   "outputs": [
    {
     "name": "stderr",
     "output_type": "stream",
     "text": [
      "c:\\users\\kumar apurv\\anaconda3\\envs\\ch3\\lib\\site-packages\\gensim\\utils.py:1212: UserWarning: detected Windows; aliasing chunkize to chunkize_serial\n",
      "  warnings.warn(\"detected Windows; aliasing chunkize to chunkize_serial\")\n"
     ]
    },
    {
     "name": "stdout",
     "output_type": "stream",
     "text": [
      "[nltk_data] Downloading package stopwords to C:\\Users\\KUMAR\n",
      "[nltk_data]     APURV\\AppData\\Roaming\\nltk_data...\n",
      "[nltk_data]   Package stopwords is already up-to-date!\n"
     ]
    },
    {
     "data": {
      "text/plain": [
       "True"
      ]
     },
     "metadata": {},
     "output_type": "display_data"
    }
   ],
   "source": [
    "from gensim.models import Word2Vec, KeyedVectors #To load the model\n",
    "import warnings\n",
    "warnings.filterwarnings('ignore') #ignore any generated warnings\n",
    "\n",
    "import numpy as np\n",
    "import matplotlib.pyplot as plt #to generate the t-SNE plot\n",
    "from sklearn.manifold import TSNE #scikit learn's TSNE \n",
    "\n",
    "import os\n",
    "\n",
    "import nltk\n",
    "from nltk.corpus import stopwords\n",
    "nltk.download('stopwords')"
   ]
  },
  {
   "cell_type": "code",
   "execution_count": null,
   "metadata": {},
   "outputs": [],
   "source": [
    "# load model\n",
    "try:\n",
    "    import google.colab\n",
    "    model = KeyedVectors.load_word2vec_format('word2vec_cbow.bin',binary=True)\n",
    "except ModuleNotFoundError:\n",
    "    cwd=os.getcwd() \n",
    "    model = KeyedVectors.load_word2vec_format(cwd+'\\Models\\word2vec_cbow.bin', binary=True)"
   ]
  },
  {
   "cell_type": "markdown",
   "metadata": {},
   "source": [
    "## TSNE\n",
    "t-SNE stands for t-distributed Stochastic Neighbouring Entities. Its a technique used for visualizing high dimensional data by reducing it to a 2 or 3 dimensions.\n",
    " "
   ]
  },
  {
   "cell_type": "code",
   "execution_count": null,
   "metadata": {},
   "outputs": [
    {
     "name": "stdout",
     "output_type": "stream",
     "text": [
      "Size of Vocabulary: 161018\n",
      "Few words in Vocabulary ['the', 'of', 'and', 'in', 'to', 'was', 'is', 'for', 'on', 'as', 'by', 'with', 'he', 'at', 'from', 'that', 'his', 'it', 'an', 'were', 'are', 'also', 'which', 'or', 'this', 'first', 'new', 'be', 'has', 'one', 'had', 'after', 'who', 'their', 'not', 'its', 'but', 'two', 'her', 'they', 'th', 'she', 'school', 'references', 'time', 'have', 'all', 'other', 'when', 'been']\n",
      "Size of Vocabulary without stopwords: 159749\n",
      "Few words in Vocabulary without stopwords ['first', 'new', 'two', 'th', 'school', 'references', 'time', 'year', 'bar', 'links', 'external', 'world', 'city', 'state', 'may', 'years', 'national', 'university', 'united', 'team', 'three', 'later', 'american', 'text', 'st', 'born', 'season', 'film', 'would', 'used']\n"
     ]
    }
   ],
   "source": [
    "#Preprocessing our models vocabulary to make better visualizations\n",
    "\n",
    "words_vocab= list(model.wv.vocab)#all the words in the vocabulary. \n",
    "print(\"Size of Vocabulary:\",len(words_vocab))\n",
    "print(\"Few words in Vocabulary\",words_vocab[:50])\n",
    "\n",
    "#Let us remove the stop words from this it will help making the visualization cleaner\n",
    "stopwords_en = stopwords.words()\n",
    "words_vocab_without_sw = [word.lower() for word in words_vocab if not word in stopwords_en]\n",
    "print(\"Size of Vocabulary without stopwords:\",len(words_vocab_without_sw))\n",
    "print(\"Few words in Vocabulary without stopwords\",words_vocab_without_sw[:30])\n",
    "#The size didnt reduce much after removing the stop words so lets try visualizing only a selected subset of words"
   ]
  },
  {
   "cell_type": "code",
   "execution_count": null,
   "metadata": {},
   "outputs": [],
   "source": [
    "#With the increase in the amount of data, it becomes more and more difficult to visualize and interpret\n",
    "#In practice, similar words are combined into groups for further visualization.\n",
    "\n",
    "keys = ['school', 'year', 'college', 'city', 'states', 'university', 'team', 'film']\n",
    "embedding_clusters = []\n",
    "word_clusters = []\n",
    "\n",
    "for word in keys:\n",
    "    embeddings = []\n",
    "    words = []\n",
    "    for similar_word, _ in model.most_similar(word, topn=30):\n",
    "        words.append(similar_word)\n",
    "        embeddings.append(model[similar_word])\n",
    "    embedding_clusters.append(embeddings)#apending access vector of all similar words\n",
    "    word_clusters.append(words)#appending list of all smiliar words"
   ]
  },
  {
   "cell_type": "code",
   "execution_count": null,
   "metadata": {},
   "outputs": [
    {
     "name": "stdout",
     "output_type": "stream",
     "text": [
      "Embedding clusters: [-2.0008528  -1.3943557   1.4382704   0.8446866  -2.6626322   4.434941\n",
      " -2.874781    0.07160501  2.7645476   1.3397316  -1.5362843   1.9484733\n",
      " -1.538581    2.8054123  -0.1651442  -2.2072346  -1.2407984  -0.37212235\n",
      "  1.7854097   1.51354     0.4680834  -6.1942625   2.0242858  -3.7782066\n",
      "  0.57537895 -3.029885   -2.5517325  -2.4161081  -0.49409848  3.473683\n",
      "  0.17055503 -3.9063861   3.884543    1.5628031  -2.2993872   2.1060982\n",
      " -3.3538942  -2.4706185   1.1629843  -0.9444056   1.4299889   0.32925856\n",
      "  3.2923906  -0.6086113  -0.42672086  1.1591744  -3.224612    0.6084651\n",
      "  2.366192    2.6875043   1.3349053  -3.0747583  -2.503866    1.5077431\n",
      " -1.024039    1.5941241   0.7730264  -0.42380166 -0.56361014  1.6036558\n",
      "  1.9689867  -2.8361151   0.25759864 -5.638323    1.436891   -0.14189413\n",
      " -4.712218   -2.0199313  -0.9636327   3.3833733  -1.5988349   0.37275377\n",
      " -2.4628592  -1.6039482   0.21491958 -1.4248031  -1.4473001  -3.5625575\n",
      " -0.19743128  1.3642663   1.2659378  -2.6111853   5.19429    -1.3198048\n",
      " -0.4231049  -0.57498074 -0.90098554 -6.050104   -2.8057501  -1.8466668\n",
      "  1.584604    1.6404747   2.133108    0.93110204  1.5240821  -3.7583413\n",
      " -3.3158727  -0.7141999   0.9956154   1.0240186 ]\n",
      "Word Clousters: [['schools', 'college', 'isd', 'schoolers', 'holsey', 'academy', 'fhs', 'education', 'preschool', 'schooler', 'curriculum', 'students', 'grades', 'campus', 'colleges', 'collegiate', 'gymnasium', 'student', 'fairhills', 'prep', 'coeducational', 'seminary', 'classes', 'institution', 'academies', 'hospital', 'academics', 'tdsb', 'baccalaureate', 'junior'], ['month', 'week', 'decade', 'years', 'day', 'season', 'months', 'seasons', 'fortnight', 'days', 'weeks', 'weekend', 'time', 'decades', 'semester', 'summer', 'evening', 'hour', 'rounds', 'offseason', 'night', 'morning', 'hours', 'period', 'trafford', 'cent', 'minutes', 'lifetime', 'timeframe', 'game']]\n"
     ]
    }
   ],
   "source": [
    "print(\"Embedding clusters:\",embedding_clusters[0][0])#Access vector of the first word only\n",
    "print(\"Word Clousters:\",word_clusters[:2])"
   ]
  },
  {
   "cell_type": "code",
   "execution_count": null,
   "metadata": {},
   "outputs": [],
   "source": [
    "from sklearn.manifold import TSNE\n",
    "import numpy as np\n",
    "\n",
    "embedding_clusters = np.array(embedding_clusters)\n",
    "n, m, k = embedding_clusters.shape #geting the dimensions\n",
    "tsne_model_en_2d = TSNE(perplexity=5, n_components=2, init='pca', n_iter=1500, random_state=2020) \n",
    "embeddings_en_2d = np.array(tsne_model_en_2d.fit_transform(embedding_clusters.reshape(n * m, k))).reshape(n, m, 2) #reshaping it into 2d so we can visualize it"
   ]
  },
  {
   "cell_type": "markdown",
   "metadata": {},
   "source": [
    "### Hyperparameters of TSNE\n",
    "\n",
    "1. n_components: The number of components, i.e., the dimension of the value space\n",
    "2. perplexity: The number of effective neighbours\n",
    "3. n_iter: Maximum number of iterations for the optimization.\n",
    "4. init: Initialization of embedding.\n",
    "\n",
    "t-SNE requires good amount of hyperparameter tuning to give effective results. More details on the hyperparameters can be found in the official [docs](https://scikit-learn.org/stable/modules/generated/sklearn.manifold.TSNE.html). It is very easy to misread tsne too. This [article](https://distill.pub/2016/misread-tsne/) provides more deatils about it."
   ]
  },
  {
   "cell_type": "code",
   "execution_count": null,
   "metadata": {},
   "outputs": [
    {
     "data": {
      "image/png": "[encoded data removed]",
      "text/plain": [
       "<Figure size 1152x648 with 1 Axes>"
      ]
     },
     "metadata": {},
     "output_type": "display_data"
    }
   ],
   "source": [
    "from sklearn.manifold import TSNE\n",
    "import matplotlib.pyplot as plt\n",
    "import matplotlib.cm as cm\n",
    "import numpy as np\n",
    "%matplotlib inline  \n",
    "\n",
    "#script for constructing two-dimensional graphics using Matplotlib\n",
    "def tsne_plot_similar_words(labels, embedding_clusters, word_clusters, a=0.7):\n",
    "    plt.figure(figsize=(16, 9))\n",
    "    \n",
    "\n",
    "    for label, embeddings, words in zip(labels, embedding_clusters, word_clusters):\n",
    "        x = embeddings[:,0]\n",
    "        y = embeddings[:,1]\n",
    "        plt.scatter(x, y, alpha=a, label=label)\n",
    "        for i, word in enumerate(words):\n",
    "            plt.annotate(word, alpha=0.5, xy=(x[i], y[i]), xytext=(5, 2), \n",
    "                         textcoords='offset points', ha='right', va='bottom', size=8)\n",
    "    plt.legend(loc=4)\n",
    "    plt.grid(True)\n",
    "    plt.show()\n",
    "\n",
    "tsne_plot_similar_words(words_vocab_without_sw, embeddings_en_2d, word_clusters)"
   ]
  },
  {
   "cell_type": "code",
   "execution_count": null,
   "metadata": {},
   "outputs": [
    {
     "data": {
      "image/png": "[encoded data removed]",
      "text/plain": [
       "<Figure size 1152x648 with 1 Axes>"
      ]
     },
     "metadata": {},
     "output_type": "display_data"
    }
   ],
   "source": [
    "tsne_model_en_2d = TSNE(perplexity=25, n_components=2, init='pca', n_iter=1500, random_state=2020) \n",
    "embeddings_en_2d = np.array(tsne_model_en_2d.fit_transform(embedding_clusters.reshape(n * m, k))).reshape(n, m, 2)\n",
    "tsne_plot_similar_words(words_vocab_without_sw, embeddings_en_2d, word_clusters)"
   ]
  },
  {
   "cell_type": "code",
   "execution_count": null,
   "metadata": {},
   "outputs": [
    {
     "data": {
      "image/png": "[encoded data removed]",
      "text/plain": [
       "<Figure size 1152x648 with 1 Axes>"
      ]
     },
     "metadata": {},
     "output_type": "display_data"
    }
   ],
   "source": [
    "tsne_model_en_2d = TSNE(perplexity=5, n_components=2, init='pca', n_iter=1500, random_state=2020) \n",
    "embeddings_en_2d = np.array(tsne_model_en_2d.fit_transform(embedding_clusters.reshape(n * m, k))).reshape(n, m, 2)\n",
    "tsne_plot_similar_words(words_vocab_without_sw, embeddings_en_2d, word_clusters)"
   ]
  },
  {
   "cell_type": "markdown",
   "metadata": {},
   "source": [
    "Take a look at the above 3 graphs. We cannto say a higher or lower perplexity is good. It depends on the problem at hand. Here the plots of perplexity 5,10 are much better defined than the one with 25"
   ]
  },
  {
   "cell_type": "markdown",
   "metadata": {},
   "source": []
  },
  {
   "attachments": {},
   "cell_type": "markdown",
   "metadata": {},
   "source": [
    "# 10"
   ]
  },
  {
   "cell_type": "markdown",
   "metadata": {},
   "source": []
  },
  {
   "cell_type": "markdown",
   "metadata": {},
   "source": [
    "In this notebook we will demonstrate how you can use Tensorboard to visualize word embeddings which we created in the Training_embeddings_using_gensim.ipynb notebook"
   ]
  },
  {
   "cell_type": "code",
   "execution_count": null,
   "metadata": {},
   "outputs": [
    {
     "name": "stdout",
     "output_type": "stream",
     "text": [
      "Collecting tensorflow==1.14.0\n",
      "  Using cached tensorflow-1.14.0-cp36-cp36m-win_amd64.whl (68.3 MB)\n",
      "Collecting keras-preprocessing>=1.0.5\n",
      "  Using cached Keras_Preprocessing-1.1.2-py2.py3-none-any.whl (42 kB)\n",
      "Requirement already satisfied: wheel>=0.26 in c:\\users\\kumar apurv\\anaconda3\\envs\\ch3\\lib\\site-packages (from tensorflow==1.14.0) (0.36.2)\n",
      "Collecting google-pasta>=0.1.6\n",
      "  Using cached google_pasta-0.2.0-py3-none-any.whl (57 kB)\n",
      "Collecting gast>=0.2.0\n",
      "  Using cached gast-0.5.0-py3-none-any.whl (10 kB)\n",
      "Collecting tensorflow-estimator<1.15.0rc0,>=1.14.0rc0\n",
      "  Using cached tensorflow_estimator-1.14.0-py2.py3-none-any.whl (488 kB)\n",
      "Collecting keras-applications>=1.0.6\n",
      "  Using cached Keras_Applications-1.0.8-py3-none-any.whl (50 kB)\n",
      "Collecting grpcio>=1.8.6\n",
      "  Using cached grpcio-1.39.0-cp36-cp36m-win_amd64.whl (3.2 MB)\n",
      "Collecting tensorboard<1.15.0,>=1.14.0\n",
      "  Using cached tensorboard-1.14.0-py3-none-any.whl (3.1 MB)\n",
      "Collecting numpy<2.0,>=1.14.5\n",
      "  Using cached numpy-1.19.5-cp36-cp36m-win_amd64.whl (13.2 MB)\n",
      "Collecting termcolor>=1.1.0\n",
      "  Using cached termcolor-1.1.0-py3-none-any.whl\n",
      "Collecting wrapt>=1.11.1\n",
      "  Using cached wrapt-1.12.1-cp36-cp36m-win_amd64.whl\n",
      "Requirement already satisfied: six>=1.10.0 in c:\\users\\kumar apurv\\anaconda3\\envs\\ch3\\lib\\site-packages (from tensorflow==1.14.0) (1.16.0)\n",
      "Collecting absl-py>=0.7.0\n",
      "  Using cached absl_py-0.13.0-py3-none-any.whl (132 kB)\n",
      "Collecting protobuf>=3.6.1\n",
      "  Using cached protobuf-3.17.3-cp36-cp36m-win_amd64.whl (910 kB)\n",
      "Collecting astor>=0.6.0\n",
      "  Using cached astor-0.8.1-py2.py3-none-any.whl (27 kB)\n",
      "Collecting h5py\n",
      "  Using cached h5py-3.1.0-cp36-cp36m-win_amd64.whl (2.7 MB)\n",
      "Collecting markdown>=2.6.8\n",
      "  Using cached Markdown-3.3.4-py3-none-any.whl (97 kB)\n",
      "Requirement already satisfied: setuptools>=41.0.0 in c:\\users\\kumar apurv\\anaconda3\\envs\\ch3\\lib\\site-packages (from tensorboard<1.15.0,>=1.14.0->tensorflow==1.14.0) (52.0.0.post20210125)\n",
      "Collecting werkzeug>=0.11.15\n",
      "  Using cached Werkzeug-2.0.1-py3-none-any.whl (288 kB)\n",
      "Requirement already satisfied: importlib-metadata in c:\\users\\kumar apurv\\anaconda3\\envs\\ch3\\lib\\site-packages (from markdown>=2.6.8->tensorboard<1.15.0,>=1.14.0->tensorflow==1.14.0) (4.6.1)\n",
      "Collecting dataclasses\n",
      "  Using cached dataclasses-0.8-py3-none-any.whl (19 kB)\n",
      "Collecting cached-property\n",
      "  Using cached cached_property-1.5.2-py2.py3-none-any.whl (7.6 kB)\n",
      "Requirement already satisfied: typing-extensions>=3.6.4 in c:\\users\\kumar apurv\\anaconda3\\envs\\ch3\\lib\\site-packages (from importlib-metadata->markdown>=2.6.8->tensorboard<1.15.0,>=1.14.0->tensorflow==1.14.0) (3.10.0.0)\n",
      "Requirement already satisfied: zipp>=0.5 in c:\\users\\kumar apurv\\anaconda3\\envs\\ch3\\lib\\site-packages (from importlib-metadata->markdown>=2.6.8->tensorboard<1.15.0,>=1.14.0->tensorflow==1.14.0) (3.5.0)\n",
      "Installing collected packages: numpy, dataclasses, cached-property, werkzeug, protobuf, markdown, h5py, grpcio, absl-py, wrapt, termcolor, tensorflow-estimator, tensorboard, keras-preprocessing, keras-applications, google-pasta, gast, astor, tensorflow\n",
      "Successfully installed absl-py-0.13.0 astor-0.8.1 cached-property-1.5.2 dataclasses-0.8 gast-0.5.0 google-pasta-0.2.0 grpcio-1.39.0 h5py-3.1.0 keras-applications-1.0.8 keras-preprocessing-1.1.2 markdown-3.3.4 numpy-1.19.5 protobuf-3.17.3 tensorboard-1.14.0 tensorflow-1.14.0 tensorflow-estimator-1.14.0 termcolor-1.1.0 werkzeug-2.0.1 wrapt-1.12.1\n",
      "Collecting gensim==3.6.0\n",
      "  Using cached gensim-3.6.0-cp36-cp36m-win_amd64.whl (23.6 MB)\n",
      "Requirement already satisfied: six>=1.5.0 in c:\\users\\kumar apurv\\anaconda3\\envs\\ch3\\lib\\site-packages (from gensim==3.6.0) (1.16.0)\n",
      "Collecting scipy>=0.18.1\n",
      "  Using cached scipy-1.5.4-cp36-cp36m-win_amd64.whl (31.2 MB)\n",
      "Collecting smart-open>=1.2.1\n",
      "  Using cached smart_open-5.1.0-py3-none-any.whl (57 kB)\n",
      "Requirement already satisfied: numpy>=1.11.3 in c:\\users\\kumar apurv\\anaconda3\\envs\\ch3\\lib\\site-packages (from gensim==3.6.0) (1.19.5)\n",
      "Installing collected packages: smart-open, scipy, gensim\n",
      "Successfully installed gensim-3.6.0 scipy-1.5.4 smart-open-5.1.0\n",
      "Requirement already satisfied: numpy==1.19.5 in c:\\users\\kumar apurv\\anaconda3\\envs\\ch3\\lib\\site-packages (1.19.5)\n"
     ]
    }
   ],
   "source": [
    "# To install only the requirements of this notebook, uncomment the lines below and run this cell\n",
    "\n",
    "# ===========================\n",
    "\n",
    "!pip install tensorflow==1.14.0\n",
    "!pip install gensim==3.6.0\n",
    "!pip install numpy==1.19.5\n",
    "\n",
    "# ==========================="
   ]
  },
  {
   "cell_type": "code",
   "execution_count": null,
   "metadata": {},
   "outputs": [],
   "source": [
    "# To install the requirements for the entire chapter, uncomment the lines below and run this cell\n",
    "\n",
    "# ===========================\n",
    "\n",
    "# try :\n",
    "#     import google.colab\n",
    "#     !curl https://raw.githubusercontent.com/practical-nlp/practical-nlp/master/Ch3/ch3-requirements.txt | xargs -n 1 -L 1 pip install\n",
    "# except ModuleNotFoundError :\n",
    "#     !pip install -r \"ch3-requirements.txt\"\n",
    "\n",
    "# ==========================="
   ]
  },
  {
   "cell_type": "code",
   "execution_count": null,
   "metadata": {},
   "outputs": [],
   "source": [
    "#making the required imports\n",
    "import warnings #ignoring the generated warnings\n",
    "warnings.filterwarnings('ignore')\n",
    "\n",
    "import tensorflow as tf\n",
    "from tensorflow.contrib.tensorboard.plugins import projector\n",
    "tf.logging.set_verbosity(tf.logging.ERROR)\n",
    "\n",
    "import numpy as np\n",
    "from gensim.models import KeyedVectors\n",
    "import os"
   ]
  },
  {
   "cell_type": "code",
   "execution_count": null,
   "metadata": {},
   "outputs": [],
   "source": [
    "#Loading the model\n",
    "cwd=os.getcwd() \n",
    "model = KeyedVectors.load_word2vec_format(cwd+'\\Models\\word2vec_cbow.bin', binary=True)"
   ]
  },
  {
   "cell_type": "code",
   "execution_count": null,
   "metadata": {},
   "outputs": [],
   "source": [
    "#get the model's vocabulary size\n",
    "max_size = len(model.wv.vocab)-1"
   ]
  },
  {
   "cell_type": "code",
   "execution_count": null,
   "metadata": {},
   "outputs": [],
   "source": [
    "#make a numpy array of 0s with the size of the vocabulary and dimensions of our model\n",
    "w2v = np.zeros((max_size,model.wv.vector_size))"
   ]
  },
  {
   "cell_type": "code",
   "execution_count": null,
   "metadata": {},
   "outputs": [],
   "source": [
    "#Now we create a new file called metadata.tsv where we save all the words in our model \n",
    "#we also store the embedding of each word in the w2v matrix\n",
    "if not os.path.exists('projections'):\n",
    "    os.makedirs('projections')\n",
    "    \n",
    "with open(\"projections/metadata.tsv\", 'w+',encoding=\"utf-8\") as file_metadata: #changed    added encoding=\"utf-8\"\n",
    "    \n",
    "    for i, word in enumerate(model.wv.index2word[:max_size]):\n",
    "        \n",
    "        #store the embeddings of the word\n",
    "        w2v[i] = model.wv[word]\n",
    "        \n",
    "        #write the word to a file \n",
    "        file_metadata.write(word + '\\n')"
   ]
  },
  {
   "cell_type": "code",
   "execution_count": null,
   "metadata": {},
   "outputs": [],
   "source": [
    "#initializing tf session\n",
    "sess = tf.InteractiveSession()"
   ]
  },
  {
   "cell_type": "code",
   "execution_count": null,
   "metadata": {},
   "outputs": [],
   "source": [
    "#Initialize the tensorflow variable called embeddings that holds the word embeddings:\n",
    "with tf.device(\"/cpu:0\"):\n",
    "    embedding = tf.Variable(w2v, trainable=False, name='embedding')"
   ]
  },
  {
   "cell_type": "code",
   "execution_count": null,
   "metadata": {},
   "outputs": [],
   "source": [
    "#Initialize all variables\n",
    "tf.global_variables_initializer().run()"
   ]
  },
  {
   "cell_type": "code",
   "execution_count": null,
   "metadata": {},
   "outputs": [],
   "source": [
    "#object of the saver class which is actually used for saving and restoring variables to and from our checkpoints\n",
    "saver = tf.train.Saver()"
   ]
  },
  {
   "cell_type": "code",
   "execution_count": null,
   "metadata": {},
   "outputs": [],
   "source": [
    "#with FileWriter,we save summary and events to the event file\n",
    "writer = tf.summary.FileWriter('projections', sess.graph)"
   ]
  },
  {
   "cell_type": "code",
   "execution_count": null,
   "metadata": {},
   "outputs": [],
   "source": [
    "# Initialize the projectors and add the embeddings\n",
    "config = projector.ProjectorConfig()\n",
    "embed= config.embeddings.add()"
   ]
  },
  {
   "cell_type": "code",
   "execution_count": null,
   "metadata": {},
   "outputs": [],
   "source": [
    "#specify our tensor_name as embedding and metadata_path to the metadata.tsv file\n",
    "embed.tensor_name = 'embedding'\n",
    "embed.metadata_path = 'metadata.tsv'"
   ]
  },
  {
   "cell_type": "code",
   "execution_count": null,
   "metadata": {},
   "outputs": [
    {
     "data": {
      "text/plain": [
       "'projections/model.ckpt-161017'"
      ]
     },
     "metadata": {},
     "output_type": "display_data"
    }
   ],
   "source": [
    "#save the model\n",
    "projector.visualize_embeddings(writer, config)\n",
    "\n",
    "saver.save(sess, 'projections/model.ckpt', global_step=max_size)"
   ]
  },
  {
   "cell_type": "markdown",
   "metadata": {},
   "source": [
    "Open a terminal window and type the following command\n",
    "\n",
    "tensorboard --logdir=projections --port=8000\n",
    "\n",
    "If the tensorboard does not work for you try providing the absolute path for projections and re-run the above command\n",
    "\n",
    "If youve done everything right until you will get a link in your terminal through which you can access the tensorboard. Click on the link or copy paste it in your browser. You should see something similar to this.\n",
    "![TensorBoard-1](Images/TensorBoard-1.png)\n",
    "<br>\n",
    "In the top right corner near \"INACTIVE\" click the dropdown arrow. And select PROJECTIONS from te dropdown menu\n",
    "![TensorBoard-2](Images/TensorBoard-2.png)\n",
    "<br>\n",
    "Wait for a few seconds for it to load. You can now see your embeddings there are a lot of setting you can play around and experiment with.\n",
    "![TensorBoard-3](Images/TensorBoard-3.png)\n",
    "<br>\n",
    "Output when we search for a specific word in this case \"human\" and isolate only those points\n",
    "![TensorBoard-4](Images/TensorBoard-4.png)"
   ]
  },
  {
   "cell_type": "markdown",
   "metadata": {},
   "source": []
  },
  {
   "cell_type": "markdown",
   "metadata": {},
   "source": []
  },
  {
   "cell_type": "markdown",
   "metadata": {},
   "source": []
  },
  {
   "attachments": {},
   "cell_type": "markdown",
   "metadata": {},
   "source": [
    "Using Word2vec, prepare word embedding for all the words from webpage: \"https://medium.datadriveninvestor.com/convolutional-neural-networks-explained-7fafea4de9c9&quot;\n",
    "Use  \"Beautiful Soup\" to extract the data.\n",
    "Perform all preprocessing steps on this text (Tokenization, stemming, lemmatization) \n",
    "As per your word2vec model, find out the most similar words for every word of this article.\n",
    "Check out what happens for OOV problem.  \n",
    "Encapsulate the relevant statements in try/except blocks to make sure your code does not throw any exception."
   ]
  },
  {
   "cell_type": "code",
   "execution_count": null,
   "metadata": {},
   "outputs": [],
   "source": [
    "import requests\n",
    "from bs4 import BeautifulSoup\n",
    "import nltk\n",
    "from nltk.tokenize import word_tokenize\n",
    "from nltk.stem import PorterStemmer, WordNetLemmatizer\n",
    "from gensim.models import Word2Vec\n",
    "\n",
    "# Step 1: Extract text from webpage using Beautiful Soup\n",
    "url = \"https://medium.datadriveninvestor.com/convolutional-neural-networks-explained-7fafea4de9c9\"\n",
    "response = requests.get(url)\n",
    "soup = BeautifulSoup(response.content, 'html.parser')\n",
    "text = soup.get_text()\n",
    "\n",
    "# Step 2: Perform text preprocessing\n",
    "tokens = word_tokenize(text.lower())\n",
    "stemmer = PorterStemmer()\n",
    "lemmatizer = WordNetLemmatizer()\n",
    "tokens = [lemmatizer.lemmatize(stemmer.stem(token)) for token in tokens if token.isalnum()]\n",
    "\n",
    "# Step 3: Train Word2Vec model\n",
    "model = Word2Vec([tokens], min_count=1)\n",
    "\n",
    "# Step 4: Find most similar words for every word\n",
    "for token in tokens:\n",
    "    try:\n",
    "        similar_words = model.wv.most_similar(token)\n",
    "        print(f\"Most similar words for '{token}': {similar_words}\")\n",
    "    except KeyError:\n",
    "        print(f\"No embedding found for '{token}'\")\n"
   ]
  }
 ],
 "metadata": {
  "language_info": {
   "name": "python"
  },
  "orig_nbformat": 4
 },
 "nbformat": 4,
 "nbformat_minor": 2
}
