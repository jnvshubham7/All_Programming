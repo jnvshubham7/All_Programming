{
 "cells": [
  {
   "cell_type": "code",
   "execution_count": null,
   "metadata": {},
   "outputs": [],
   "source": [
    "from pyspark.ml.regression import RandomForestRegressor\n",
    "from pyspark.ml import Pipeline\n",
    "from pyspark.ml.classification import RandomForestClassificationModel\n",
    "from pyspark.ml.feature import VectorAssembler\n",
    "from pyspark.sql import SparkSession\n",
    "from sklearn.ensemble import RandomForestClassifier\n",
    "from sklearn.datasets import load_iris\n",
    "from sklearn.model_selection import train_test_split\n",
    "from joblib import load\n",
    "\n",
    "\n",
    "# Create a Spark session\n",
    "spark = SparkSession.builder.appName(\"RandomForestRegressionExample\").getOrCreate()\n",
    "\n",
    "# Load the preprocessed data from CSV\n",
    "data = spark.read.csv(\"/content/drive/MyDrive/datasets/preprocessed2.csv\", header=True, inferSchema=True)\n",
    "\n",
    "# Select relevant features and target variables\n",
    "input_features = [\"Date\", \"Time\"]\n",
    "output_features = [col for col in data.columns if col not in [\"_c0\", \"Date\", \"Time\", \"features\"]]\n",
    "\n",
    "\n",
    "\n",
    "# Assemble features into a single vector column\n",
    "assembler = VectorAssembler(inputCols=input_features, outputCol=\"features\")\n",
    "data1 = assembler.transform(data)\n",
    "\n",
    "\n",
    "\n",
    "\n",
    "# Assemble features into a single vector column\n",
    "assembler = VectorAssembler(inputCols=input_features, outputCol=\"features\")\n",
    "data1 = assembler.transform(data)\n",
    "\n",
    "\n",
    "# print(data1.head())\n",
    "# columns_to_keep = [col for col  in [\"features\"]]\n",
    "# data = data1.select(*(columns_to_drop))\n",
    "# print(type(data))\n",
    "\n",
    "\n",
    "print(data1.show())\n",
    "\n",
    "\n",
    "# output_features = [col for col in data.columns if col not in [\"_c0\", \"Date\", \"Time\", \"features\"]]\n",
    "\n",
    "\n",
    "# assembler1 = VectorAssembler(inputCols=output_features, outputCol=\"labels\")\n",
    "# data1 = assembler1.transform(data1)\n",
    "\n",
    "\n",
    "# print(data1.show())\n",
    "\n",
    "\n",
    "\n",
    "\n",
    "# Create a Random Forest Regressor\n",
    "rf = RandomForestRegressor(labelCol='Global_active_power', featuresCol=\"features\", numTrees=100)\n",
    "# pipeline = Pipeline(stages=[assembler, rf])\n",
    "(trainingData, testData) = data1.randomSplit([0.8, 0.2])\n",
    "\n",
    "\n",
    "\"\"\"\n",
    "# Create a pipeline with the assembler and the regressor\n",
    "# Split the data into training and testing sets\n",
    "\"\"\"\n",
    "\n",
    "\n",
    "\n",
    "\n",
    "print(trainingData.show())\n",
    "\n",
    "\n",
    "\n",
    "\n",
    "# print(trainingData.head())\n",
    "# df.write.csv(\"./preprocessed2.csv\", header=True, mode=\"overwrite\")\n",
    "\n",
    "model = rf.fit(trainingData)\n",
    "\n",
    "# Make predictions on the test set\n",
    "predictions = model.transform(testData)\n",
    "\n",
    "# Show predictions\n",
    "predictions.select(\"Date\", \"Time\", \"prediction\").show()\n",
    "\n",
    "\n",
    "predictions = model.transform(testData)\n",
    "\n",
    "\n",
    "print(predictions.show())"
   ]
  },
  {
   "cell_type": "code",
   "execution_count": null,
   "metadata": {},
   "outputs": [],
   "source": []
  },
  {
   "cell_type": "code",
   "execution_count": null,
   "metadata": {},
   "outputs": [],
   "source": []
  },
  {
   "cell_type": "code",
   "execution_count": null,
   "metadata": {},
   "outputs": [],
   "source": []
  },
  {
   "cell_type": "code",
   "execution_count": null,
   "metadata": {},
   "outputs": [],
   "source": []
  },
  {
   "cell_type": "code",
   "execution_count": null,
   "metadata": {},
   "outputs": [],
   "source": []
  },
  {
   "cell_type": "code",
   "execution_count": null,
   "metadata": {},
   "outputs": [],
   "source": []
  },
  {
   "cell_type": "code",
   "execution_count": null,
   "metadata": {},
   "outputs": [],
   "source": []
  },
  {
   "cell_type": "code",
   "execution_count": null,
   "metadata": {},
   "outputs": [],
   "source": []
  },
  {
   "cell_type": "code",
   "execution_count": null,
   "metadata": {},
   "outputs": [],
   "source": []
  },
  {
   "cell_type": "code",
   "execution_count": null,
   "metadata": {},
   "outputs": [],
   "source": []
  },
  {
   "cell_type": "code",
   "execution_count": null,
   "metadata": {},
   "outputs": [],
   "source": []
  },
  {
   "cell_type": "code",
   "execution_count": null,
   "metadata": {},
   "outputs": [],
   "source": []
  },
  {
   "cell_type": "code",
   "execution_count": null,
   "metadata": {},
   "outputs": [],
   "source": []
  },
  {
   "cell_type": "code",
   "execution_count": null,
   "metadata": {},
   "outputs": [],
   "source": []
  },
  {
   "cell_type": "code",
   "execution_count": null,
   "metadata": {},
   "outputs": [],
   "source": []
  },
  {
   "cell_type": "code",
   "execution_count": null,
   "metadata": {},
   "outputs": [],
   "source": []
  },
  {
   "cell_type": "code",
   "execution_count": null,
   "metadata": {},
   "outputs": [],
   "source": []
  },
  {
   "cell_type": "code",
   "execution_count": null,
   "metadata": {},
   "outputs": [],
   "source": []
  },
  {
   "cell_type": "code",
   "execution_count": null,
   "metadata": {},
   "outputs": [],
   "source": []
  }
 ],
 "metadata": {
  "language_info": {
   "name": "python"
  }
 },
 "nbformat": 4,
 "nbformat_minor": 2
}
